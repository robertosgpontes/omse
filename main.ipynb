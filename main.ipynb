{
  "nbformat": 4,
  "nbformat_minor": 5,
  "metadata": {
    "kernelspec": {
      "display_name": "Python 3",
      "language": "python",
      "name": "python3"
    },
    "language_info": {
      "codemirror_mode": {
        "name": "ipython",
        "version": 3
      },
      "file_extension": ".py",
      "mimetype": "text/x-python",
      "name": "python",
      "nbconvert_exporter": "python",
      "pygments_lexer": "ipython3",
      "version": "3.8.10"
    },
    "colab": {
      "name": "main.ipynb",
      "provenance": [],
      "toc_visible": true,
      "include_colab_link": true
    }
  },
  "cells": [
    {
      "cell_type": "markdown",
      "metadata": {
        "id": "view-in-github",
        "colab_type": "text"
      },
      "source": [
        "<a href=\"https://colab.research.google.com/github/robertosgpontes/osem/blob/main/main.ipynb\" target=\"_parent\"><img src=\"https://colab.research.google.com/assets/colab-badge.svg\" alt=\"Open In Colab\"/></a>"
      ]
    },
    {
      "cell_type": "markdown",
      "metadata": {
        "id": "SwfdVvoBgXnR"
      },
      "source": [
        "## Formulação Geral do Problema\n",
        "\n",
        "O problema apresentado pode ser formulado através de uma\n",
        "\n",
        "\\begin{equation}\n",
        "\t\\max  \\sum_{i=1}^{n}{[A_{i}^1-(A_{i}^2-A_{i}^3)]X_i} = \\max \\sum_{i=1}^{n}{C_{i}^1X_i}\n",
        "\\end{equation}\n",
        "e\n",
        "\\begin{equation}\n",
        "\\min \\sum_{i=1}^{n}{C_{i}^2X_i}\n",
        "\\end{equation}\n",
        "\n",
        "\n",
        "Sujeito a\n",
        "\\begin{equation}\n",
        "x_1 \\leq b_1\n",
        "\\end{equation}\n",
        "\\begin{equation}\n",
        "x_2 \\leq b_2\n",
        "\\end{equation}\n",
        "\\begin{equation}\n",
        "x_3 \\leq b_3\n",
        "\\end{equation}\n",
        "\\begin{equation}\n",
        "x_1 + x_3 \\leq b_4\n",
        "\\end{equation}\n",
        "\\begin{equation}\n",
        "x_1 + x_2 + x_3 + x_4 = b_5\n",
        "\\end{equation}\n",
        "\\begin{equation}\n",
        "x_1 \\geq b_6\n",
        "\\end{equation}\n",
        "\\begin{equation}\n",
        "x_2 \\geq b_7\n",
        "\\end{equation}\n",
        "\\begin{equation}\n",
        "x_1, x_2, x_3, x_4 \\geq 0\n",
        "\\end{equation}\n"
      ],
      "id": "SwfdVvoBgXnR"
    },
    {
      "cell_type": "markdown",
      "metadata": {
        "id": "O3ieye0TUg-q"
      },
      "source": [
        "# Methodology\n",
        "\n",
        "https://www.supplychaindataanalytics.com/multi-objective-linear-optimization-with-pulp-in-python/\n",
        "\n",
        "https://pythonhealthcare.org/tag/pareto-front/\n",
        "\n"
      ],
      "id": "O3ieye0TUg-q"
    },
    {
      "cell_type": "markdown",
      "metadata": {
        "id": "MTEiywG7TKzI"
      },
      "source": [
        "### Approach 1: Solution with Hierarchical Methodology\n",
        "\n",
        "Maximizing for one objective, then adding it as a constraint and solving for the other objective"
      ],
      "id": "MTEiywG7TKzI"
    },
    {
      "cell_type": "markdown",
      "metadata": {
        "id": "ICk-oqY2TMAu"
      },
      "source": [
        "#### 1.1. First Step\n",
        "\n",
        "\\begin{equation}\n",
        "S_1 = \\max \\sum_{i=1}^{n}{C_{i}^1X_i}\n",
        "\\end{equation}\n",
        "\n",
        "Sujeito a\n",
        "\\begin{equation}\n",
        "x_1 \\leq b_1\n",
        "\\end{equation}\n",
        "\\begin{equation}\n",
        "x_2 \\leq b_2\n",
        "\\end{equation}\n",
        "\\begin{equation}\n",
        "x_3 \\leq b_3\n",
        "\\end{equation}\n",
        "\\begin{equation}\n",
        "x_1 + x_3 \\leq b_4\n",
        "\\end{equation}\n",
        "\\begin{equation}\n",
        "x_1 + x_2 + x_3 + x_4 = b_5\n",
        "\\end{equation}\n",
        "\\begin{equation}\n",
        "x_1 \\geq b_6\n",
        "\\end{equation}\n",
        "\\begin{equation}\n",
        "x_2 \\geq b_7\n",
        "\\end{equation}\n",
        "\\begin{equation}\n",
        "x_1, x_2, x_3, x_4 \\geq 0\n",
        "\\end{equation}"
      ],
      "id": "ICk-oqY2TMAu"
    },
    {
      "cell_type": "markdown",
      "metadata": {
        "id": "pt2FqgzrTSjB"
      },
      "source": [
        "#### 1.2. Second Step\n",
        "\n",
        "\n",
        "\\begin{equation}\n",
        "\\min \\sum_{i=1}^{n}{C_{i}^2X_i}\n",
        "\\end{equation}\n",
        "Sujeito a\n",
        "\\begin{equation}\n",
        "x_1 \\leq b_1\n",
        "\\end{equation}\n",
        "\\begin{equation}\n",
        "x_2 \\leq b_2\n",
        "\\end{equation}\n",
        "\\begin{equation}\n",
        "x_3 \\leq b_3\n",
        "\\end{equation}\n",
        "\\begin{equation}\n",
        "x_1 + x_3 \\leq b_4\n",
        "\\end{equation}\n",
        "\\begin{equation}\n",
        "x_1 + x_2 + x_3 + x_4 = b_5\n",
        "\\end{equation}\n",
        "\\begin{equation}\n",
        "x_1 \\geq b_6\n",
        "\\end{equation}\n",
        "\\begin{equation}\n",
        "x_2 \\geq b_7\n",
        "\\end{equation}\n",
        "\\begin{equation}\n",
        "\\max \\sum_{i=1}^{n}{C_{i}^1X_i} \\geq S_1\n",
        "\\end{equation}\n",
        "\\begin{equation}\n",
        "x_1, x_2, x_3, x_4 \\geq 0\n",
        "\\end{equation}\n"
      ],
      "id": "pt2FqgzrTSjB"
    },
    {
      "cell_type": "markdown",
      "metadata": {
        "id": "GUWOxpl4Uyb8"
      },
      "source": [
        "## Approach 2: Solution with ...\n",
        "\n",
        "\\begin{equation}\n",
        "\t\\max  \\alpha\\sum_{i=1}^{n}{[A_{i}^1-(A_{i}^2-A_{i}^3)]X_i} - (1-\\alpha)\\sum_{i=1}^{n}{C_iX_i}\n",
        "\\end{equation}\n",
        "\n",
        "Sujeito a\n",
        "\\begin{equation}\n",
        "x_1 \\leq b_1\n",
        "\\end{equation}\n",
        "\\begin{equation}\n",
        "x_2 \\leq b_2\n",
        "\\end{equation}\n",
        "\\begin{equation}\n",
        "x_3 \\leq b_3\n",
        "\\end{equation}\n",
        "\\begin{equation}\n",
        "x_1 + x_3 \\leq b_4\n",
        "\\end{equation}\n",
        "\\begin{equation}\n",
        "x_1 + x_2 + x_3 + x_4 = b_5\n",
        "\\end{equation}\n",
        "\\begin{equation}\n",
        "x_1 \\geq b_6\n",
        "\\end{equation}\n",
        "\\begin{equation}\n",
        "x_2 \\geq b_7\n",
        "\\end{equation}\n",
        "\\begin{equation}\n",
        "x_1, x_2, x_3, x_4 \\geq 0\n",
        "\\end{equation}"
      ],
      "id": "GUWOxpl4Uyb8"
    },
    {
      "cell_type": "markdown",
      "metadata": {
        "id": "tHrKFoBocp3L"
      },
      "source": [
        "# General Definitions"
      ],
      "id": "tHrKFoBocp3L"
    },
    {
      "cell_type": "markdown",
      "metadata": {
        "id": "hV6ZcjFpc2Wm"
      },
      "source": [
        "## Language"
      ],
      "id": "hV6ZcjFpc2Wm"
    },
    {
      "cell_type": "code",
      "metadata": {
        "colab": {
          "base_uri": "https://localhost:8080/",
          "height": 253
        },
        "id": "CqmQ7bFqgZCE",
        "collapsed": true,
        "outputId": "0f48975a-c4ae-43a3-c33b-0ebf59331f43"
      },
      "source": [
        "% pip install pulp\n",
        "!rm /content/utils.py\n",
        "!wget https://raw.githubusercontent.com/robertosgpontes/osem/main/utils.py\n",
        "%run /content/utils.py"
      ],
      "id": "CqmQ7bFqgZCE",
      "execution_count": 35,
      "outputs": [
        {
          "output_type": "stream",
          "text": [
            "Requirement already satisfied: pulp in /usr/local/lib/python3.7/dist-packages (2.5.0)\n",
            "--2021-08-21 19:39:28--  https://raw.githubusercontent.com/robertosgpontes/osem/main/utils.py\n",
            "Resolving raw.githubusercontent.com (raw.githubusercontent.com)... 185.199.110.133, 185.199.108.133, 185.199.109.133, ...\n",
            "Connecting to raw.githubusercontent.com (raw.githubusercontent.com)|185.199.110.133|:443... connected.\n",
            "HTTP request sent, awaiting response... 200 OK\n",
            "Length: 2120 (2.1K) [text/plain]\n",
            "Saving to: ‘utils.py’\n",
            "\n",
            "utils.py            100%[===================>]   2.07K  --.-KB/s    in 0s      \n",
            "\n",
            "2021-08-21 19:39:28 (34.8 MB/s) - ‘utils.py’ saved [2120/2120]\n",
            "\n"
          ],
          "name": "stdout"
        },
        {
          "output_type": "display_data",
          "data": {
            "text/plain": [
              "<Figure size 432x288 with 0 Axes>"
            ]
          },
          "metadata": {}
        }
      ]
    },
    {
      "cell_type": "code",
      "metadata": {
        "id": "c8680221-9de1-4566-8831-1e860e611979"
      },
      "source": [
        "# Python libraries used to solve the problem Linear Programing\n",
        "import pulp\n",
        "import numpy as np\n",
        "import pandas as pd\n",
        "from matplotlib import pyplot as plt"
      ],
      "id": "c8680221-9de1-4566-8831-1e860e611979",
      "execution_count": 36,
      "outputs": []
    },
    {
      "cell_type": "markdown",
      "metadata": {
        "id": "GtijB4JmdNl4"
      },
      "source": [
        "## Problem Solution"
      ],
      "id": "GtijB4JmdNl4"
    },
    {
      "cell_type": "code",
      "metadata": {
        "id": "awb3FUwOH-xY"
      },
      "source": [
        "NUM_ITER = 1000"
      ],
      "id": "awb3FUwOH-xY",
      "execution_count": 37,
      "outputs": []
    },
    {
      "cell_type": "markdown",
      "metadata": {
        "id": "IO5KWRQqVI56"
      },
      "source": [
        "# Solution"
      ],
      "id": "IO5KWRQqVI56"
    },
    {
      "cell_type": "markdown",
      "metadata": {
        "id": "q8AKIfxtRwu_"
      },
      "source": [
        "##Paper 1 (P1): Optimizing the Management of Soil Erosion\n",
        "\n",
        "Nikkami, Davood & Elektorowicz, Maria & MEHUYS, GUY. (2002). Optimizing the Management of Soil Erosion. Water Quality Research Journal in Canada. 37. 10.2166/wqrj.2002.038. "
      ],
      "id": "q8AKIfxtRwu_"
    },
    {
      "cell_type": "markdown",
      "metadata": {
        "id": "2HTfv_nodwDN"
      },
      "source": [
        "### Model Parameter"
      ],
      "id": "2HTfv_nodwDN"
    },
    {
      "cell_type": "code",
      "metadata": {
        "id": "aJbTEtDOfofb"
      },
      "source": [
        "# Variáveis do modelo\n",
        "\n",
        "C = np.array([[10.54394,  0.0469 ,  0.59679,  0.02194],\n",
        "              [1.41, 4.99, 2.41, 6.24]])\n",
        "\n",
        "A = np.array([  [1, 0, 0, 0],\n",
        "                [0, 0, 1, 0],\n",
        "                [0, 0, 0, 1],\n",
        "                [1, 0, 1, 0],\n",
        "                [1, 1, 1, 1],\n",
        "                [1, 0, 0, 0],\n",
        "                [0, 1, 0, 0]])\n",
        "\n",
        "b = np.array([[557],[1143],[1577],[1700],[10310],[160],[6990]])"
      ],
      "id": "aJbTEtDOfofb",
      "execution_count": 38,
      "outputs": []
    },
    {
      "cell_type": "markdown",
      "metadata": {
        "id": "HjiahxEMQm6z"
      },
      "source": [
        "### Solution\n"
      ],
      "id": "HjiahxEMQm6z"
    },
    {
      "cell_type": "markdown",
      "metadata": {
        "id": "Jol5aqu5eK1F"
      },
      "source": [
        "#### Approach 1"
      ],
      "id": "Jol5aqu5eK1F"
    },
    {
      "cell_type": "markdown",
      "metadata": {
        "id": "4mB_c4qce2Kj"
      },
      "source": [
        "##### Step 1"
      ],
      "id": "4mB_c4qce2Kj"
    },
    {
      "cell_type": "code",
      "metadata": {
        "id": "Ha1XAKg3gxaN"
      },
      "source": [
        "linearProblem = pulp.LpProblem(\"First_Objective_Max\",pulp.LpMaximize)\n",
        "\n",
        "X = create_x_variables()\n",
        "\n",
        "linearProblem += f(C[0], X)\n",
        "\n",
        "linearProblem = load_model(linearProblem, A, X, b)\n",
        "\n",
        "solution = linearProblem.solve()"
      ],
      "id": "Ha1XAKg3gxaN",
      "execution_count": 39,
      "outputs": []
    },
    {
      "cell_type": "code",
      "metadata": {
        "id": "r24fmiFWijwA",
        "colab": {
          "base_uri": "https://localhost:8080/"
        },
        "outputId": "f20fb10a-fb42-40fb-d604-0a5490757740"
      },
      "source": [
        "print_solution(solution, linearProblem, X)"
      ],
      "id": "r24fmiFWijwA",
      "execution_count": 40,
      "outputs": [
        {
          "output_type": "stream",
          "text": [
            "\n",
            "Status = Optimal\n",
            "Value = 6958.9145499999995\n",
            "x1 = 557.0\n",
            "x2 = 8610.0\n",
            "x3 = 1143.0\n",
            "x4 = 0.0\n"
          ],
          "name": "stdout"
        }
      ]
    },
    {
      "cell_type": "code",
      "metadata": {
        "id": "mr84N1d6a5nK"
      },
      "source": [
        "f1_max = pulp.value(linearProblem.objective)"
      ],
      "id": "mr84N1d6a5nK",
      "execution_count": 41,
      "outputs": []
    },
    {
      "cell_type": "markdown",
      "metadata": {
        "id": "pFsPCeMrQvVK"
      },
      "source": [
        "##### Step 2"
      ],
      "id": "pFsPCeMrQvVK"
    },
    {
      "cell_type": "code",
      "metadata": {
        "id": "8d262c1f-7998-445e-be74-d0bf4f2c37b8"
      },
      "source": [
        "linearProblem = pulp.LpProblem(\"Second_Objective_Min\",pulp.LpMinimize)\n",
        "\n",
        "X = create_x_variables()\n",
        "\n",
        "linearProblem += f(C[1], X)\n",
        "\n",
        "linearProblem = load_model(linearProblem, A, X, b)\n",
        "\n",
        "linearProblem += f(C[0], X) >= f1_max\n",
        "\n",
        "solution = linearProblem.solve()"
      ],
      "id": "8d262c1f-7998-445e-be74-d0bf4f2c37b8",
      "execution_count": 42,
      "outputs": []
    },
    {
      "cell_type": "code",
      "metadata": {
        "id": "lgVS_xLviseC",
        "colab": {
          "base_uri": "https://localhost:8080/"
        },
        "outputId": "c1498309-636a-4d92-fe46-124552684368"
      },
      "source": [
        "print_solution(solution, linearProblem, X)"
      ],
      "id": "lgVS_xLviseC",
      "execution_count": 43,
      "outputs": [
        {
          "output_type": "stream",
          "text": [
            "\n",
            "Status = Optimal\n",
            "Value = 46503.9\n",
            "x1 = 557.0\n",
            "x2 = 8610.0\n",
            "x3 = 1143.0\n",
            "x4 = 0.0\n"
          ],
          "name": "stdout"
        }
      ]
    },
    {
      "cell_type": "markdown",
      "metadata": {
        "id": "qiIr__kgQ1DJ"
      },
      "source": [
        "#### Approach 2"
      ],
      "id": "qiIr__kgQ1DJ"
    },
    {
      "cell_type": "code",
      "metadata": {
        "id": "Aj8z0LIAjroh"
      },
      "source": [
        "CMinMax = MinMax(C)\n",
        "CStandardization = Standardization(C)"
      ],
      "id": "Aj8z0LIAjroh",
      "execution_count": 44,
      "outputs": []
    },
    {
      "cell_type": "code",
      "metadata": {
        "id": "cDqBdiew90H-"
      },
      "source": [
        "alpha_lin = np.linspace(0, 1, NUM_ITER)"
      ],
      "id": "cDqBdiew90H-",
      "execution_count": 45,
      "outputs": []
    },
    {
      "cell_type": "code",
      "metadata": {
        "id": "aO4bLcyzFEFz",
        "colab": {
          "base_uri": "https://localhost:8080/",
          "height": 283
        },
        "outputId": "daa18eb6-770e-45df-8a3c-b9baf5d6a8f4"
      },
      "source": [
        "plt.plot(np.linspace(0, NUM_ITER, NUM_ITER), alpha_lin)"
      ],
      "id": "aO4bLcyzFEFz",
      "execution_count": 46,
      "outputs": [
        {
          "output_type": "execute_result",
          "data": {
            "text/plain": [
              "[<matplotlib.lines.Line2D at 0x7fdbcf4a0c90>]"
            ]
          },
          "metadata": {},
          "execution_count": 46
        },
        {
          "output_type": "display_data",
          "data": {
            "image/png": "[encoded data removed]",
            "text/plain": [
              "<Figure size 432x288 with 1 Axes>"
            ]
          },
          "metadata": {
            "needs_background": "light"
          }
        }
      ]
    },
    {
      "cell_type": "code",
      "metadata": {
        "id": "XS704S70FL2J"
      },
      "source": [
        "df_solution_lin = run_models(alpha_lin, C, A, b)"
      ],
      "id": "XS704S70FL2J",
      "execution_count": 47,
      "outputs": []
    },
    {
      "cell_type": "code",
      "metadata": {
        "colab": {
          "base_uri": "https://localhost:8080/",
          "height": 424
        },
        "id": "IWpsM8zUR1Ak",
        "outputId": "34c206ff-f89b-48a8-d0d8-362ca5b86ce7"
      },
      "source": [
        "df_solution_lin"
      ],
      "id": "IWpsM8zUR1Ak",
      "execution_count": 48,
      "outputs": [
        {
          "output_type": "execute_result",
          "data": {
            "text/html": [
              "<div>\n",
              "<style scoped>\n",
              "    .dataframe tbody tr th:only-of-type {\n",
              "        vertical-align: middle;\n",
              "    }\n",
              "\n",
              "    .dataframe tbody tr th {\n",
              "        vertical-align: top;\n",
              "    }\n",
              "\n",
              "    .dataframe thead th {\n",
              "        text-align: right;\n",
              "    }\n",
              "</style>\n",
              "<table border=\"1\" class=\"dataframe\">\n",
              "  <thead>\n",
              "    <tr style=\"text-align: right;\">\n",
              "      <th></th>\n",
              "      <th>iter</th>\n",
              "      <th>alpha</th>\n",
              "      <th>status</th>\n",
              "      <th>x1</th>\n",
              "      <th>x2</th>\n",
              "      <th>x3</th>\n",
              "      <th>x4</th>\n",
              "      <th>obj_value</th>\n",
              "      <th>f1</th>\n",
              "      <th>f2</th>\n",
              "    </tr>\n",
              "  </thead>\n",
              "  <tbody>\n",
              "    <tr>\n",
              "      <th>0</th>\n",
              "      <td>0</td>\n",
              "      <td>0.000000</td>\n",
              "      <td>Optimal</td>\n",
              "      <td>557.0</td>\n",
              "      <td>8610.0</td>\n",
              "      <td>1143.0</td>\n",
              "      <td>0.0</td>\n",
              "      <td>-46503.900000</td>\n",
              "      <td>6958.91455</td>\n",
              "      <td>-46503.9</td>\n",
              "    </tr>\n",
              "    <tr>\n",
              "      <th>1</th>\n",
              "      <td>1</td>\n",
              "      <td>0.001001</td>\n",
              "      <td>Optimal</td>\n",
              "      <td>557.0</td>\n",
              "      <td>8610.0</td>\n",
              "      <td>1143.0</td>\n",
              "      <td>0.0</td>\n",
              "      <td>-46450.383669</td>\n",
              "      <td>6958.91455</td>\n",
              "      <td>-46503.9</td>\n",
              "    </tr>\n",
              "    <tr>\n",
              "      <th>2</th>\n",
              "      <td>2</td>\n",
              "      <td>0.002002</td>\n",
              "      <td>Optimal</td>\n",
              "      <td>557.0</td>\n",
              "      <td>8610.0</td>\n",
              "      <td>1143.0</td>\n",
              "      <td>0.0</td>\n",
              "      <td>-46396.867338</td>\n",
              "      <td>6958.91455</td>\n",
              "      <td>-46503.9</td>\n",
              "    </tr>\n",
              "    <tr>\n",
              "      <th>3</th>\n",
              "      <td>3</td>\n",
              "      <td>0.003003</td>\n",
              "      <td>Optimal</td>\n",
              "      <td>557.0</td>\n",
              "      <td>8610.0</td>\n",
              "      <td>1143.0</td>\n",
              "      <td>0.0</td>\n",
              "      <td>-46343.351007</td>\n",
              "      <td>6958.91455</td>\n",
              "      <td>-46503.9</td>\n",
              "    </tr>\n",
              "    <tr>\n",
              "      <th>4</th>\n",
              "      <td>4</td>\n",
              "      <td>0.004004</td>\n",
              "      <td>Optimal</td>\n",
              "      <td>557.0</td>\n",
              "      <td>8610.0</td>\n",
              "      <td>1143.0</td>\n",
              "      <td>0.0</td>\n",
              "      <td>-46289.834676</td>\n",
              "      <td>6958.91455</td>\n",
              "      <td>-46503.9</td>\n",
              "    </tr>\n",
              "    <tr>\n",
              "      <th>...</th>\n",
              "      <td>...</td>\n",
              "      <td>...</td>\n",
              "      <td>...</td>\n",
              "      <td>...</td>\n",
              "      <td>...</td>\n",
              "      <td>...</td>\n",
              "      <td>...</td>\n",
              "      <td>...</td>\n",
              "      <td>...</td>\n",
              "      <td>...</td>\n",
              "    </tr>\n",
              "    <tr>\n",
              "      <th>995</th>\n",
              "      <td>995</td>\n",
              "      <td>0.995996</td>\n",
              "      <td>Optimal</td>\n",
              "      <td>557.0</td>\n",
              "      <td>8610.0</td>\n",
              "      <td>1143.0</td>\n",
              "      <td>0.0</td>\n",
              "      <td>6744.849226</td>\n",
              "      <td>6958.91455</td>\n",
              "      <td>-46503.9</td>\n",
              "    </tr>\n",
              "    <tr>\n",
              "      <th>996</th>\n",
              "      <td>996</td>\n",
              "      <td>0.996997</td>\n",
              "      <td>Optimal</td>\n",
              "      <td>557.0</td>\n",
              "      <td>8610.0</td>\n",
              "      <td>1143.0</td>\n",
              "      <td>0.0</td>\n",
              "      <td>6798.365557</td>\n",
              "      <td>6958.91455</td>\n",
              "      <td>-46503.9</td>\n",
              "    </tr>\n",
              "    <tr>\n",
              "      <th>997</th>\n",
              "      <td>997</td>\n",
              "      <td>0.997998</td>\n",
              "      <td>Optimal</td>\n",
              "      <td>557.0</td>\n",
              "      <td>8610.0</td>\n",
              "      <td>1143.0</td>\n",
              "      <td>0.0</td>\n",
              "      <td>6851.881888</td>\n",
              "      <td>6958.91455</td>\n",
              "      <td>-46503.9</td>\n",
              "    </tr>\n",
              "    <tr>\n",
              "      <th>998</th>\n",
              "      <td>998</td>\n",
              "      <td>0.998999</td>\n",
              "      <td>Optimal</td>\n",
              "      <td>557.0</td>\n",
              "      <td>8610.0</td>\n",
              "      <td>1143.0</td>\n",
              "      <td>0.0</td>\n",
              "      <td>6905.398219</td>\n",
              "      <td>6958.91455</td>\n",
              "      <td>-46503.9</td>\n",
              "    </tr>\n",
              "    <tr>\n",
              "      <th>999</th>\n",
              "      <td>999</td>\n",
              "      <td>1.000000</td>\n",
              "      <td>Optimal</td>\n",
              "      <td>557.0</td>\n",
              "      <td>8610.0</td>\n",
              "      <td>1143.0</td>\n",
              "      <td>0.0</td>\n",
              "      <td>6958.914550</td>\n",
              "      <td>6958.91455</td>\n",
              "      <td>-46503.9</td>\n",
              "    </tr>\n",
              "  </tbody>\n",
              "</table>\n",
              "<p>1000 rows × 10 columns</p>\n",
              "</div>"
            ],
            "text/plain": [
              "     iter     alpha   status     x1  ...   x4     obj_value          f1       f2\n",
              "0       0  0.000000  Optimal  557.0  ...  0.0 -46503.900000  6958.91455 -46503.9\n",
              "1       1  0.001001  Optimal  557.0  ...  0.0 -46450.383669  6958.91455 -46503.9\n",
              "2       2  0.002002  Optimal  557.0  ...  0.0 -46396.867338  6958.91455 -46503.9\n",
              "3       3  0.003003  Optimal  557.0  ...  0.0 -46343.351007  6958.91455 -46503.9\n",
              "4       4  0.004004  Optimal  557.0  ...  0.0 -46289.834676  6958.91455 -46503.9\n",
              "..    ...       ...      ...    ...  ...  ...           ...         ...      ...\n",
              "995   995  0.995996  Optimal  557.0  ...  0.0   6744.849226  6958.91455 -46503.9\n",
              "996   996  0.996997  Optimal  557.0  ...  0.0   6798.365557  6958.91455 -46503.9\n",
              "997   997  0.997998  Optimal  557.0  ...  0.0   6851.881888  6958.91455 -46503.9\n",
              "998   998  0.998999  Optimal  557.0  ...  0.0   6905.398219  6958.91455 -46503.9\n",
              "999   999  1.000000  Optimal  557.0  ...  0.0   6958.914550  6958.91455 -46503.9\n",
              "\n",
              "[1000 rows x 10 columns]"
            ]
          },
          "metadata": {},
          "execution_count": 48
        }
      ]
    },
    {
      "cell_type": "code",
      "metadata": {
        "id": "H57Hqgu9ElLS"
      },
      "source": [
        "alpha_sig_004 = sig(-0.004, NUM_ITER)"
      ],
      "id": "H57Hqgu9ElLS",
      "execution_count": 49,
      "outputs": []
    },
    {
      "cell_type": "code",
      "metadata": {
        "id": "HS-kXgLYEyqH",
        "colab": {
          "base_uri": "https://localhost:8080/",
          "height": 283
        },
        "outputId": "ca9de709-3dd3-4d8e-86ae-d8b50a959584"
      },
      "source": [
        "plt.plot(np.linspace(0, NUM_ITER, NUM_ITER), alpha_sig_004)"
      ],
      "id": "HS-kXgLYEyqH",
      "execution_count": 50,
      "outputs": [
        {
          "output_type": "execute_result",
          "data": {
            "text/plain": [
              "[<matplotlib.lines.Line2D at 0x7fdbcf42aa90>]"
            ]
          },
          "metadata": {},
          "execution_count": 50
        },
        {
          "output_type": "display_data",
          "data": {
            "image/png": "[encoded data removed]",
            "text/plain": [
              "<Figure size 432x288 with 1 Axes>"
            ]
          },
          "metadata": {
            "needs_background": "light"
          }
        }
      ]
    },
    {
      "cell_type": "code",
      "metadata": {
        "id": "otq00yCQGhjL"
      },
      "source": [
        "df_solution_sig_004 = run_models(alpha_sig_004, C, A, b)"
      ],
      "id": "otq00yCQGhjL",
      "execution_count": 51,
      "outputs": []
    },
    {
      "cell_type": "code",
      "metadata": {
        "colab": {
          "base_uri": "https://localhost:8080/",
          "height": 424
        },
        "id": "mFi-X_ZjRrBt",
        "outputId": "3ac7a0bb-eb05-4609-b03b-834f70ae2bf6"
      },
      "source": [
        "df_solution_sig_004"
      ],
      "id": "mFi-X_ZjRrBt",
      "execution_count": 52,
      "outputs": [
        {
          "output_type": "execute_result",
          "data": {
            "text/html": [
              "<div>\n",
              "<style scoped>\n",
              "    .dataframe tbody tr th:only-of-type {\n",
              "        vertical-align: middle;\n",
              "    }\n",
              "\n",
              "    .dataframe tbody tr th {\n",
              "        vertical-align: top;\n",
              "    }\n",
              "\n",
              "    .dataframe thead th {\n",
              "        text-align: right;\n",
              "    }\n",
              "</style>\n",
              "<table border=\"1\" class=\"dataframe\">\n",
              "  <thead>\n",
              "    <tr style=\"text-align: right;\">\n",
              "      <th></th>\n",
              "      <th>iter</th>\n",
              "      <th>alpha</th>\n",
              "      <th>status</th>\n",
              "      <th>x1</th>\n",
              "      <th>x2</th>\n",
              "      <th>x3</th>\n",
              "      <th>x4</th>\n",
              "      <th>obj_value</th>\n",
              "      <th>f1</th>\n",
              "      <th>f2</th>\n",
              "    </tr>\n",
              "  </thead>\n",
              "  <tbody>\n",
              "    <tr>\n",
              "      <th>0</th>\n",
              "      <td>0</td>\n",
              "      <td>0.119203</td>\n",
              "      <td>Optimal</td>\n",
              "      <td>557.0</td>\n",
              "      <td>8610.0</td>\n",
              "      <td>1143.0</td>\n",
              "      <td>0.0</td>\n",
              "      <td>-40130.976286</td>\n",
              "      <td>6958.91455</td>\n",
              "      <td>-46503.9</td>\n",
              "    </tr>\n",
              "    <tr>\n",
              "      <th>1</th>\n",
              "      <td>1</td>\n",
              "      <td>0.119624</td>\n",
              "      <td>Optimal</td>\n",
              "      <td>557.0</td>\n",
              "      <td>8610.0</td>\n",
              "      <td>1143.0</td>\n",
              "      <td>0.0</td>\n",
              "      <td>-40108.466509</td>\n",
              "      <td>6958.91455</td>\n",
              "      <td>-46503.9</td>\n",
              "    </tr>\n",
              "    <tr>\n",
              "      <th>2</th>\n",
              "      <td>2</td>\n",
              "      <td>0.120046</td>\n",
              "      <td>Optimal</td>\n",
              "      <td>557.0</td>\n",
              "      <td>8610.0</td>\n",
              "      <td>1143.0</td>\n",
              "      <td>0.0</td>\n",
              "      <td>-40085.888062</td>\n",
              "      <td>6958.91455</td>\n",
              "      <td>-46503.9</td>\n",
              "    </tr>\n",
              "    <tr>\n",
              "      <th>3</th>\n",
              "      <td>3</td>\n",
              "      <td>0.120470</td>\n",
              "      <td>Optimal</td>\n",
              "      <td>557.0</td>\n",
              "      <td>8610.0</td>\n",
              "      <td>1143.0</td>\n",
              "      <td>0.0</td>\n",
              "      <td>-40063.240812</td>\n",
              "      <td>6958.91455</td>\n",
              "      <td>-46503.9</td>\n",
              "    </tr>\n",
              "    <tr>\n",
              "      <th>4</th>\n",
              "      <td>4</td>\n",
              "      <td>0.120895</td>\n",
              "      <td>Optimal</td>\n",
              "      <td>557.0</td>\n",
              "      <td>8610.0</td>\n",
              "      <td>1143.0</td>\n",
              "      <td>0.0</td>\n",
              "      <td>-40040.524625</td>\n",
              "      <td>6958.91455</td>\n",
              "      <td>-46503.9</td>\n",
              "    </tr>\n",
              "    <tr>\n",
              "      <th>...</th>\n",
              "      <td>...</td>\n",
              "      <td>...</td>\n",
              "      <td>...</td>\n",
              "      <td>...</td>\n",
              "      <td>...</td>\n",
              "      <td>...</td>\n",
              "      <td>...</td>\n",
              "      <td>...</td>\n",
              "      <td>...</td>\n",
              "      <td>...</td>\n",
              "    </tr>\n",
              "    <tr>\n",
              "      <th>995</th>\n",
              "      <td>995</td>\n",
              "      <td>0.879105</td>\n",
              "      <td>Optimal</td>\n",
              "      <td>557.0</td>\n",
              "      <td>8610.0</td>\n",
              "      <td>1143.0</td>\n",
              "      <td>0.0</td>\n",
              "      <td>495.539175</td>\n",
              "      <td>6958.91455</td>\n",
              "      <td>-46503.9</td>\n",
              "    </tr>\n",
              "    <tr>\n",
              "      <th>996</th>\n",
              "      <td>996</td>\n",
              "      <td>0.879530</td>\n",
              "      <td>Optimal</td>\n",
              "      <td>557.0</td>\n",
              "      <td>8610.0</td>\n",
              "      <td>1143.0</td>\n",
              "      <td>0.0</td>\n",
              "      <td>518.255362</td>\n",
              "      <td>6958.91455</td>\n",
              "      <td>-46503.9</td>\n",
              "    </tr>\n",
              "    <tr>\n",
              "      <th>997</th>\n",
              "      <td>997</td>\n",
              "      <td>0.879954</td>\n",
              "      <td>Optimal</td>\n",
              "      <td>557.0</td>\n",
              "      <td>8610.0</td>\n",
              "      <td>1143.0</td>\n",
              "      <td>0.0</td>\n",
              "      <td>540.902612</td>\n",
              "      <td>6958.91455</td>\n",
              "      <td>-46503.9</td>\n",
              "    </tr>\n",
              "    <tr>\n",
              "      <th>998</th>\n",
              "      <td>998</td>\n",
              "      <td>0.880376</td>\n",
              "      <td>Optimal</td>\n",
              "      <td>557.0</td>\n",
              "      <td>8610.0</td>\n",
              "      <td>1143.0</td>\n",
              "      <td>0.0</td>\n",
              "      <td>563.481059</td>\n",
              "      <td>6958.91455</td>\n",
              "      <td>-46503.9</td>\n",
              "    </tr>\n",
              "    <tr>\n",
              "      <th>999</th>\n",
              "      <td>999</td>\n",
              "      <td>0.880797</td>\n",
              "      <td>Optimal</td>\n",
              "      <td>557.0</td>\n",
              "      <td>8610.0</td>\n",
              "      <td>1143.0</td>\n",
              "      <td>0.0</td>\n",
              "      <td>585.990836</td>\n",
              "      <td>6958.91455</td>\n",
              "      <td>-46503.9</td>\n",
              "    </tr>\n",
              "  </tbody>\n",
              "</table>\n",
              "<p>1000 rows × 10 columns</p>\n",
              "</div>"
            ],
            "text/plain": [
              "     iter     alpha   status     x1  ...   x4     obj_value          f1       f2\n",
              "0       0  0.119203  Optimal  557.0  ...  0.0 -40130.976286  6958.91455 -46503.9\n",
              "1       1  0.119624  Optimal  557.0  ...  0.0 -40108.466509  6958.91455 -46503.9\n",
              "2       2  0.120046  Optimal  557.0  ...  0.0 -40085.888062  6958.91455 -46503.9\n",
              "3       3  0.120470  Optimal  557.0  ...  0.0 -40063.240812  6958.91455 -46503.9\n",
              "4       4  0.120895  Optimal  557.0  ...  0.0 -40040.524625  6958.91455 -46503.9\n",
              "..    ...       ...      ...    ...  ...  ...           ...         ...      ...\n",
              "995   995  0.879105  Optimal  557.0  ...  0.0    495.539175  6958.91455 -46503.9\n",
              "996   996  0.879530  Optimal  557.0  ...  0.0    518.255362  6958.91455 -46503.9\n",
              "997   997  0.879954  Optimal  557.0  ...  0.0    540.902612  6958.91455 -46503.9\n",
              "998   998  0.880376  Optimal  557.0  ...  0.0    563.481059  6958.91455 -46503.9\n",
              "999   999  0.880797  Optimal  557.0  ...  0.0    585.990836  6958.91455 -46503.9\n",
              "\n",
              "[1000 rows x 10 columns]"
            ]
          },
          "metadata": {},
          "execution_count": 52
        }
      ]
    },
    {
      "cell_type": "code",
      "metadata": {
        "id": "n9KWxUkdJzWM"
      },
      "source": [
        "alpha_sig_06 = sig(-0.06, NUM_ITER)"
      ],
      "id": "n9KWxUkdJzWM",
      "execution_count": 53,
      "outputs": []
    },
    {
      "cell_type": "code",
      "metadata": {
        "id": "qyG_tgWDJ4EW",
        "colab": {
          "base_uri": "https://localhost:8080/",
          "height": 283
        },
        "outputId": "f10ef07a-5d62-41f0-b26c-475716bfd5e1"
      },
      "source": [
        "plt.plot(np.linspace(0, NUM_ITER, NUM_ITER), alpha_sig_06)"
      ],
      "id": "qyG_tgWDJ4EW",
      "execution_count": 54,
      "outputs": [
        {
          "output_type": "execute_result",
          "data": {
            "text/plain": [
              "[<matplotlib.lines.Line2D at 0x7fdbcf3b9250>]"
            ]
          },
          "metadata": {},
          "execution_count": 54
        },
        {
          "output_type": "display_data",
          "data": {
            "image/png": "[encoded data removed]",
            "text/plain": [
              "<Figure size 432x288 with 1 Axes>"
            ]
          },
          "metadata": {
            "needs_background": "light"
          }
        }
      ]
    },
    {
      "cell_type": "code",
      "metadata": {
        "id": "H2PJQsK1J_kn"
      },
      "source": [
        "df_solution_sig_06 = run_models(alpha_sig_06, C, A, b)"
      ],
      "id": "H2PJQsK1J_kn",
      "execution_count": 55,
      "outputs": []
    },
    {
      "cell_type": "code",
      "metadata": {
        "colab": {
          "base_uri": "https://localhost:8080/",
          "height": 424
        },
        "id": "jolJ2ryTPCk0",
        "outputId": "0357326c-a4be-4bda-95e3-da309714cab4"
      },
      "source": [
        "df_solution_sig_06"
      ],
      "id": "jolJ2ryTPCk0",
      "execution_count": 56,
      "outputs": [
        {
          "output_type": "execute_result",
          "data": {
            "text/html": [
              "<div>\n",
              "<style scoped>\n",
              "    .dataframe tbody tr th:only-of-type {\n",
              "        vertical-align: middle;\n",
              "    }\n",
              "\n",
              "    .dataframe tbody tr th {\n",
              "        vertical-align: top;\n",
              "    }\n",
              "\n",
              "    .dataframe thead th {\n",
              "        text-align: right;\n",
              "    }\n",
              "</style>\n",
              "<table border=\"1\" class=\"dataframe\">\n",
              "  <thead>\n",
              "    <tr style=\"text-align: right;\">\n",
              "      <th></th>\n",
              "      <th>iter</th>\n",
              "      <th>alpha</th>\n",
              "      <th>status</th>\n",
              "      <th>x1</th>\n",
              "      <th>x2</th>\n",
              "      <th>x3</th>\n",
              "      <th>x4</th>\n",
              "      <th>obj_value</th>\n",
              "      <th>f1</th>\n",
              "      <th>f2</th>\n",
              "    </tr>\n",
              "  </thead>\n",
              "  <tbody>\n",
              "    <tr>\n",
              "      <th>0</th>\n",
              "      <td>0</td>\n",
              "      <td>9.357623e-14</td>\n",
              "      <td>Optimal</td>\n",
              "      <td>557.0</td>\n",
              "      <td>8610.0</td>\n",
              "      <td>1143.0</td>\n",
              "      <td>0.0</td>\n",
              "      <td>-46503.90000</td>\n",
              "      <td>6958.91455</td>\n",
              "      <td>-46503.9</td>\n",
              "    </tr>\n",
              "    <tr>\n",
              "      <th>1</th>\n",
              "      <td>1</td>\n",
              "      <td>9.936863e-14</td>\n",
              "      <td>Optimal</td>\n",
              "      <td>557.0</td>\n",
              "      <td>8610.0</td>\n",
              "      <td>1143.0</td>\n",
              "      <td>0.0</td>\n",
              "      <td>-46503.90000</td>\n",
              "      <td>6958.91455</td>\n",
              "      <td>-46503.9</td>\n",
              "    </tr>\n",
              "    <tr>\n",
              "      <th>2</th>\n",
              "      <td>2</td>\n",
              "      <td>1.055196e-13</td>\n",
              "      <td>Optimal</td>\n",
              "      <td>557.0</td>\n",
              "      <td>8610.0</td>\n",
              "      <td>1143.0</td>\n",
              "      <td>0.0</td>\n",
              "      <td>-46503.90000</td>\n",
              "      <td>6958.91455</td>\n",
              "      <td>-46503.9</td>\n",
              "    </tr>\n",
              "    <tr>\n",
              "      <th>3</th>\n",
              "      <td>3</td>\n",
              "      <td>1.120513e-13</td>\n",
              "      <td>Optimal</td>\n",
              "      <td>557.0</td>\n",
              "      <td>8610.0</td>\n",
              "      <td>1143.0</td>\n",
              "      <td>0.0</td>\n",
              "      <td>-46503.90000</td>\n",
              "      <td>6958.91455</td>\n",
              "      <td>-46503.9</td>\n",
              "    </tr>\n",
              "    <tr>\n",
              "      <th>4</th>\n",
              "      <td>4</td>\n",
              "      <td>1.189873e-13</td>\n",
              "      <td>Optimal</td>\n",
              "      <td>557.0</td>\n",
              "      <td>8610.0</td>\n",
              "      <td>1143.0</td>\n",
              "      <td>0.0</td>\n",
              "      <td>-46503.90000</td>\n",
              "      <td>6958.91455</td>\n",
              "      <td>-46503.9</td>\n",
              "    </tr>\n",
              "    <tr>\n",
              "      <th>...</th>\n",
              "      <td>...</td>\n",
              "      <td>...</td>\n",
              "      <td>...</td>\n",
              "      <td>...</td>\n",
              "      <td>...</td>\n",
              "      <td>...</td>\n",
              "      <td>...</td>\n",
              "      <td>...</td>\n",
              "      <td>...</td>\n",
              "      <td>...</td>\n",
              "    </tr>\n",
              "    <tr>\n",
              "      <th>995</th>\n",
              "      <td>995</td>\n",
              "      <td>1.000000e+00</td>\n",
              "      <td>Optimal</td>\n",
              "      <td>557.0</td>\n",
              "      <td>8610.0</td>\n",
              "      <td>1143.0</td>\n",
              "      <td>0.0</td>\n",
              "      <td>6958.91455</td>\n",
              "      <td>6958.91455</td>\n",
              "      <td>-46503.9</td>\n",
              "    </tr>\n",
              "    <tr>\n",
              "      <th>996</th>\n",
              "      <td>996</td>\n",
              "      <td>1.000000e+00</td>\n",
              "      <td>Optimal</td>\n",
              "      <td>557.0</td>\n",
              "      <td>8610.0</td>\n",
              "      <td>1143.0</td>\n",
              "      <td>0.0</td>\n",
              "      <td>6958.91455</td>\n",
              "      <td>6958.91455</td>\n",
              "      <td>-46503.9</td>\n",
              "    </tr>\n",
              "    <tr>\n",
              "      <th>997</th>\n",
              "      <td>997</td>\n",
              "      <td>1.000000e+00</td>\n",
              "      <td>Optimal</td>\n",
              "      <td>557.0</td>\n",
              "      <td>8610.0</td>\n",
              "      <td>1143.0</td>\n",
              "      <td>0.0</td>\n",
              "      <td>6958.91455</td>\n",
              "      <td>6958.91455</td>\n",
              "      <td>-46503.9</td>\n",
              "    </tr>\n",
              "    <tr>\n",
              "      <th>998</th>\n",
              "      <td>998</td>\n",
              "      <td>1.000000e+00</td>\n",
              "      <td>Optimal</td>\n",
              "      <td>557.0</td>\n",
              "      <td>8610.0</td>\n",
              "      <td>1143.0</td>\n",
              "      <td>0.0</td>\n",
              "      <td>6958.91455</td>\n",
              "      <td>6958.91455</td>\n",
              "      <td>-46503.9</td>\n",
              "    </tr>\n",
              "    <tr>\n",
              "      <th>999</th>\n",
              "      <td>999</td>\n",
              "      <td>1.000000e+00</td>\n",
              "      <td>Optimal</td>\n",
              "      <td>557.0</td>\n",
              "      <td>8610.0</td>\n",
              "      <td>1143.0</td>\n",
              "      <td>0.0</td>\n",
              "      <td>6958.91455</td>\n",
              "      <td>6958.91455</td>\n",
              "      <td>-46503.9</td>\n",
              "    </tr>\n",
              "  </tbody>\n",
              "</table>\n",
              "<p>1000 rows × 10 columns</p>\n",
              "</div>"
            ],
            "text/plain": [
              "     iter         alpha   status     x1  ...   x4    obj_value          f1       f2\n",
              "0       0  9.357623e-14  Optimal  557.0  ...  0.0 -46503.90000  6958.91455 -46503.9\n",
              "1       1  9.936863e-14  Optimal  557.0  ...  0.0 -46503.90000  6958.91455 -46503.9\n",
              "2       2  1.055196e-13  Optimal  557.0  ...  0.0 -46503.90000  6958.91455 -46503.9\n",
              "3       3  1.120513e-13  Optimal  557.0  ...  0.0 -46503.90000  6958.91455 -46503.9\n",
              "4       4  1.189873e-13  Optimal  557.0  ...  0.0 -46503.90000  6958.91455 -46503.9\n",
              "..    ...           ...      ...    ...  ...  ...          ...         ...      ...\n",
              "995   995  1.000000e+00  Optimal  557.0  ...  0.0   6958.91455  6958.91455 -46503.9\n",
              "996   996  1.000000e+00  Optimal  557.0  ...  0.0   6958.91455  6958.91455 -46503.9\n",
              "997   997  1.000000e+00  Optimal  557.0  ...  0.0   6958.91455  6958.91455 -46503.9\n",
              "998   998  1.000000e+00  Optimal  557.0  ...  0.0   6958.91455  6958.91455 -46503.9\n",
              "999   999  1.000000e+00  Optimal  557.0  ...  0.0   6958.91455  6958.91455 -46503.9\n",
              "\n",
              "[1000 rows x 10 columns]"
            ]
          },
          "metadata": {},
          "execution_count": 56
        }
      ]
    },
    {
      "cell_type": "code",
      "metadata": {
        "colab": {
          "base_uri": "https://localhost:8080/",
          "height": 299
        },
        "id": "2sdLYsQGOdl0",
        "outputId": "dcbcc87e-57af-4b94-ae2b-8c0b6f54d5ea"
      },
      "source": [
        "df_solution_sig_06.plot.scatter(x='f1', y='f2')"
      ],
      "id": "2sdLYsQGOdl0",
      "execution_count": 57,
      "outputs": [
        {
          "output_type": "execute_result",
          "data": {
            "text/plain": [
              "<matplotlib.axes._subplots.AxesSubplot at 0x7fdbcf6dba90>"
            ]
          },
          "metadata": {},
          "execution_count": 57
        },
        {
          "output_type": "display_data",
          "data": {
            "image/png": "[encoded data removed]",
            "text/plain": [
              "<Figure size 432x288 with 1 Axes>"
            ]
          },
          "metadata": {
            "needs_background": "light"
          }
        }
      ]
    },
    {
      "cell_type": "code",
      "metadata": {
        "colab": {
          "base_uri": "https://localhost:8080/",
          "height": 297
        },
        "id": "dEzU5lgI_H32",
        "outputId": "bf4daf7f-40dc-423e-930c-91cccda97dfa"
      },
      "source": [
        "df_solution_sig_06.plot.scatter(x='iter', y='obj_value')"
      ],
      "id": "dEzU5lgI_H32",
      "execution_count": 58,
      "outputs": [
        {
          "output_type": "execute_result",
          "data": {
            "text/plain": [
              "<matplotlib.axes._subplots.AxesSubplot at 0x7fdbcf30e6d0>"
            ]
          },
          "metadata": {},
          "execution_count": 58
        },
        {
          "output_type": "display_data",
          "data": {
            "image/png": "[encoded data removed]",
            "text/plain": [
              "<Figure size 432x288 with 1 Axes>"
            ]
          },
          "metadata": {
            "needs_background": "light"
          }
        }
      ]
    },
    {
      "cell_type": "markdown",
      "metadata": {
        "id": "GPcu7obqL5pn"
      },
      "source": [
        "##Paper 2 (P2): Land Use Scenarios and Optimization in a Watershed.\n",
        "\n",
        "D. Nikkami, M. Shabani and H. Ahmadi, 2009. Land Use Scenarios and Optimization in a Watershed. Journal of Applied Sciences, 9: 287-295. DOI: 10.3923/jas.2009.287.295"
      ],
      "id": "GPcu7obqL5pn"
    },
    {
      "cell_type": "markdown",
      "metadata": {
        "id": "-y1G7BjMMgEr"
      },
      "source": [
        "### Model Parameter"
      ],
      "id": "-y1G7BjMMgEr"
    },
    {
      "cell_type": "code",
      "metadata": {
        "id": "iwj1v2KaJn1U"
      },
      "source": [
        "# Variáveis do modelo\n",
        "\n",
        "C = np.array([[21.452,  0.101 ,  4.56,  1.013],\n",
        "              [8.77, 10.47, 12.57, 10.81]])\n",
        "\n",
        "A = np.array([  [1, 0, 0, 0],\n",
        "                [0, 0, 1, 0],\n",
        "                [0, 0, 0, 1],\n",
        "                [1, 0, 1, 0],\n",
        "                [1, 1, 1, 1],\n",
        "                [1, 0, 0, 0],\n",
        "                [0, 1, 0, 0]])\n",
        "\n",
        "b = np.array([[2115],[237],[207],[2352],[13032],[561],[10550]])"
      ],
      "id": "iwj1v2KaJn1U",
      "execution_count": 59,
      "outputs": []
    },
    {
      "cell_type": "code",
      "metadata": {
        "id": "qqT32nimMpyr"
      },
      "source": [
        ""
      ],
      "id": "qqT32nimMpyr",
      "execution_count": 59,
      "outputs": []
    },
    {
      "cell_type": "markdown",
      "metadata": {
        "id": "ZURta3uzMqSx"
      },
      "source": [
        "### Solution\n"
      ],
      "id": "ZURta3uzMqSx"
    },
    {
      "cell_type": "markdown",
      "metadata": {
        "id": "i0TB1F_WMqSz"
      },
      "source": [
        "#### Approach 1"
      ],
      "id": "i0TB1F_WMqSz"
    },
    {
      "cell_type": "markdown",
      "metadata": {
        "id": "BCq7xpWcMqS1"
      },
      "source": [
        "##### Step 1"
      ],
      "id": "BCq7xpWcMqS1"
    },
    {
      "cell_type": "code",
      "metadata": {
        "id": "RiyGfY3eMqS3"
      },
      "source": [
        "linearProblem = pulp.LpProblem(\"First_Objective_Max\",pulp.LpMaximize)\n",
        "\n",
        "X = create_x_variables()\n",
        "\n",
        "linearProblem += f(C[0], X)\n",
        "\n",
        "linearProblem = load_model(linearProblem, A, X, b)\n",
        "\n",
        "solution = linearProblem.solve()"
      ],
      "id": "RiyGfY3eMqS3",
      "execution_count": 60,
      "outputs": []
    },
    {
      "cell_type": "code",
      "metadata": {
        "colab": {
          "base_uri": "https://localhost:8080/"
        },
        "id": "r0Kt14BgMqS5",
        "outputId": "6fc6308b-ad2f-4a36-a9ec-ac5776f7ad05"
      },
      "source": [
        "print_solution(solution, linearProblem, X)"
      ],
      "id": "r0Kt14BgMqS5",
      "execution_count": 61,
      "outputs": [
        {
          "output_type": "stream",
          "text": [
            "\n",
            "Status = Optimal\n",
            "Value = 47648.94000000001\n",
            "x1 = 2115.0\n",
            "x2 = 10550.0\n",
            "x3 = 237.0\n",
            "x4 = 130.0\n"
          ],
          "name": "stdout"
        }
      ]
    },
    {
      "cell_type": "code",
      "metadata": {
        "id": "6VMyq_3dMqS7"
      },
      "source": [
        "f1_max = pulp.value(linearProblem.objective)"
      ],
      "id": "6VMyq_3dMqS7",
      "execution_count": 62,
      "outputs": []
    },
    {
      "cell_type": "markdown",
      "metadata": {
        "id": "iUrjbv8UMqS-"
      },
      "source": [
        "##### Step 2"
      ],
      "id": "iUrjbv8UMqS-"
    },
    {
      "cell_type": "code",
      "metadata": {
        "id": "xfkKb8HLMqTC"
      },
      "source": [
        "linearProblem = pulp.LpProblem(\"Second_Objective_Min\",pulp.LpMinimize)\n",
        "\n",
        "X = create_x_variables()\n",
        "\n",
        "linearProblem += f(C[1], X)\n",
        "\n",
        "linearProblem = load_model(linearProblem, A, X, b)\n",
        "\n",
        "linearProblem += f(C[0], X) >= f1_max\n",
        "\n",
        "solution = linearProblem.solve()"
      ],
      "id": "xfkKb8HLMqTC",
      "execution_count": 63,
      "outputs": []
    },
    {
      "cell_type": "code",
      "metadata": {
        "colab": {
          "base_uri": "https://localhost:8080/"
        },
        "id": "nca68wQ2MqTE",
        "outputId": "942eacc8-19a9-4e09-c24c-a45f1d724177"
      },
      "source": [
        "print_solution(solution, linearProblem, X)"
      ],
      "id": "nca68wQ2MqTE",
      "execution_count": 64,
      "outputs": [
        {
          "output_type": "stream",
          "text": [
            "\n",
            "Status = Optimal\n",
            "Value = 133391.44\n",
            "x1 = 2115.0\n",
            "x2 = 10550.0\n",
            "x3 = 237.0\n",
            "x4 = 130.0\n"
          ],
          "name": "stdout"
        }
      ]
    },
    {
      "cell_type": "markdown",
      "metadata": {
        "id": "pqvCE16DMqTH"
      },
      "source": [
        "#### Approach 2"
      ],
      "id": "pqvCE16DMqTH"
    },
    {
      "cell_type": "code",
      "metadata": {
        "id": "DAcwMOuzMqTK"
      },
      "source": [
        "CMinMax = MinMax(C)\n",
        "CStandardization = Standardization(C)"
      ],
      "id": "DAcwMOuzMqTK",
      "execution_count": 65,
      "outputs": []
    },
    {
      "cell_type": "code",
      "metadata": {
        "id": "lo8cN_UTMqTN"
      },
      "source": [
        "alpha_lin = np.linspace(0, 1, NUM_ITER)"
      ],
      "id": "lo8cN_UTMqTN",
      "execution_count": 66,
      "outputs": []
    },
    {
      "cell_type": "code",
      "metadata": {
        "colab": {
          "base_uri": "https://localhost:8080/",
          "height": 283
        },
        "id": "TevuyB-4MqTN",
        "outputId": "fe3a22be-cc28-439d-c364-347a7b8ed262"
      },
      "source": [
        "plt.plot(np.linspace(0, NUM_ITER, NUM_ITER), alpha_lin)"
      ],
      "id": "TevuyB-4MqTN",
      "execution_count": 67,
      "outputs": [
        {
          "output_type": "execute_result",
          "data": {
            "text/plain": [
              "[<matplotlib.lines.Line2D at 0x7fdbcf22a3d0>]"
            ]
          },
          "metadata": {},
          "execution_count": 67
        },
        {
          "output_type": "display_data",
          "data": {
            "image/png": "[encoded data removed]",
            "text/plain": [
              "<Figure size 432x288 with 1 Axes>"
            ]
          },
          "metadata": {
            "needs_background": "light"
          }
        }
      ]
    },
    {
      "cell_type": "code",
      "metadata": {
        "id": "S2MU40wTMqTP"
      },
      "source": [
        "df_solution_lin = run_models(alpha_lin, C, A, b)"
      ],
      "id": "S2MU40wTMqTP",
      "execution_count": 68,
      "outputs": []
    },
    {
      "cell_type": "code",
      "metadata": {
        "colab": {
          "base_uri": "https://localhost:8080/",
          "height": 424
        },
        "id": "jk7saxf0MqTQ",
        "outputId": "18312855-c55e-4871-99da-fedf664c3d21"
      },
      "source": [
        "df_solution_lin"
      ],
      "id": "jk7saxf0MqTQ",
      "execution_count": 69,
      "outputs": [
        {
          "output_type": "execute_result",
          "data": {
            "text/html": [
              "<div>\n",
              "<style scoped>\n",
              "    .dataframe tbody tr th:only-of-type {\n",
              "        vertical-align: middle;\n",
              "    }\n",
              "\n",
              "    .dataframe tbody tr th {\n",
              "        vertical-align: top;\n",
              "    }\n",
              "\n",
              "    .dataframe thead th {\n",
              "        text-align: right;\n",
              "    }\n",
              "</style>\n",
              "<table border=\"1\" class=\"dataframe\">\n",
              "  <thead>\n",
              "    <tr style=\"text-align: right;\">\n",
              "      <th></th>\n",
              "      <th>iter</th>\n",
              "      <th>alpha</th>\n",
              "      <th>status</th>\n",
              "      <th>x1</th>\n",
              "      <th>x2</th>\n",
              "      <th>x3</th>\n",
              "      <th>x4</th>\n",
              "      <th>obj_value</th>\n",
              "      <th>f1</th>\n",
              "      <th>f2</th>\n",
              "    </tr>\n",
              "  </thead>\n",
              "  <tbody>\n",
              "    <tr>\n",
              "      <th>0</th>\n",
              "      <td>0</td>\n",
              "      <td>0.000000</td>\n",
              "      <td>Optimal</td>\n",
              "      <td>2115.0</td>\n",
              "      <td>10917.0</td>\n",
              "      <td>0.0</td>\n",
              "      <td>0.0</td>\n",
              "      <td>-132849.540000</td>\n",
              "      <td>46473.597</td>\n",
              "      <td>-132849.54</td>\n",
              "    </tr>\n",
              "    <tr>\n",
              "      <th>1</th>\n",
              "      <td>1</td>\n",
              "      <td>0.001001</td>\n",
              "      <td>Optimal</td>\n",
              "      <td>2115.0</td>\n",
              "      <td>10917.0</td>\n",
              "      <td>0.0</td>\n",
              "      <td>0.0</td>\n",
              "      <td>-132670.037360</td>\n",
              "      <td>46473.597</td>\n",
              "      <td>-132849.54</td>\n",
              "    </tr>\n",
              "    <tr>\n",
              "      <th>2</th>\n",
              "      <td>2</td>\n",
              "      <td>0.002002</td>\n",
              "      <td>Optimal</td>\n",
              "      <td>2115.0</td>\n",
              "      <td>10917.0</td>\n",
              "      <td>0.0</td>\n",
              "      <td>0.0</td>\n",
              "      <td>-132490.534721</td>\n",
              "      <td>46473.597</td>\n",
              "      <td>-132849.54</td>\n",
              "    </tr>\n",
              "    <tr>\n",
              "      <th>3</th>\n",
              "      <td>3</td>\n",
              "      <td>0.003003</td>\n",
              "      <td>Optimal</td>\n",
              "      <td>2115.0</td>\n",
              "      <td>10917.0</td>\n",
              "      <td>0.0</td>\n",
              "      <td>0.0</td>\n",
              "      <td>-132311.032081</td>\n",
              "      <td>46473.597</td>\n",
              "      <td>-132849.54</td>\n",
              "    </tr>\n",
              "    <tr>\n",
              "      <th>4</th>\n",
              "      <td>4</td>\n",
              "      <td>0.004004</td>\n",
              "      <td>Optimal</td>\n",
              "      <td>2115.0</td>\n",
              "      <td>10917.0</td>\n",
              "      <td>0.0</td>\n",
              "      <td>0.0</td>\n",
              "      <td>-132131.529441</td>\n",
              "      <td>46473.597</td>\n",
              "      <td>-132849.54</td>\n",
              "    </tr>\n",
              "    <tr>\n",
              "      <th>...</th>\n",
              "      <td>...</td>\n",
              "      <td>...</td>\n",
              "      <td>...</td>\n",
              "      <td>...</td>\n",
              "      <td>...</td>\n",
              "      <td>...</td>\n",
              "      <td>...</td>\n",
              "      <td>...</td>\n",
              "      <td>...</td>\n",
              "      <td>...</td>\n",
              "    </tr>\n",
              "    <tr>\n",
              "      <th>995</th>\n",
              "      <td>995</td>\n",
              "      <td>0.995996</td>\n",
              "      <td>Optimal</td>\n",
              "      <td>2115.0</td>\n",
              "      <td>10550.0</td>\n",
              "      <td>237.0</td>\n",
              "      <td>130.0</td>\n",
              "      <td>46924.053594</td>\n",
              "      <td>47648.940</td>\n",
              "      <td>-133391.44</td>\n",
              "    </tr>\n",
              "    <tr>\n",
              "      <th>996</th>\n",
              "      <td>996</td>\n",
              "      <td>0.996997</td>\n",
              "      <td>Optimal</td>\n",
              "      <td>2115.0</td>\n",
              "      <td>10550.0</td>\n",
              "      <td>237.0</td>\n",
              "      <td>130.0</td>\n",
              "      <td>47105.275195</td>\n",
              "      <td>47648.940</td>\n",
              "      <td>-133391.44</td>\n",
              "    </tr>\n",
              "    <tr>\n",
              "      <th>997</th>\n",
              "      <td>997</td>\n",
              "      <td>0.997998</td>\n",
              "      <td>Optimal</td>\n",
              "      <td>2115.0</td>\n",
              "      <td>10550.0</td>\n",
              "      <td>237.0</td>\n",
              "      <td>130.0</td>\n",
              "      <td>47286.496797</td>\n",
              "      <td>47648.940</td>\n",
              "      <td>-133391.44</td>\n",
              "    </tr>\n",
              "    <tr>\n",
              "      <th>998</th>\n",
              "      <td>998</td>\n",
              "      <td>0.998999</td>\n",
              "      <td>Optimal</td>\n",
              "      <td>2115.0</td>\n",
              "      <td>10550.0</td>\n",
              "      <td>237.0</td>\n",
              "      <td>130.0</td>\n",
              "      <td>47467.718398</td>\n",
              "      <td>47648.940</td>\n",
              "      <td>-133391.44</td>\n",
              "    </tr>\n",
              "    <tr>\n",
              "      <th>999</th>\n",
              "      <td>999</td>\n",
              "      <td>1.000000</td>\n",
              "      <td>Optimal</td>\n",
              "      <td>2115.0</td>\n",
              "      <td>10550.0</td>\n",
              "      <td>237.0</td>\n",
              "      <td>130.0</td>\n",
              "      <td>47648.940000</td>\n",
              "      <td>47648.940</td>\n",
              "      <td>-133391.44</td>\n",
              "    </tr>\n",
              "  </tbody>\n",
              "</table>\n",
              "<p>1000 rows × 10 columns</p>\n",
              "</div>"
            ],
            "text/plain": [
              "     iter     alpha   status  ...      obj_value         f1         f2\n",
              "0       0  0.000000  Optimal  ... -132849.540000  46473.597 -132849.54\n",
              "1       1  0.001001  Optimal  ... -132670.037360  46473.597 -132849.54\n",
              "2       2  0.002002  Optimal  ... -132490.534721  46473.597 -132849.54\n",
              "3       3  0.003003  Optimal  ... -132311.032081  46473.597 -132849.54\n",
              "4       4  0.004004  Optimal  ... -132131.529441  46473.597 -132849.54\n",
              "..    ...       ...      ...  ...            ...        ...        ...\n",
              "995   995  0.995996  Optimal  ...   46924.053594  47648.940 -133391.44\n",
              "996   996  0.996997  Optimal  ...   47105.275195  47648.940 -133391.44\n",
              "997   997  0.997998  Optimal  ...   47286.496797  47648.940 -133391.44\n",
              "998   998  0.998999  Optimal  ...   47467.718398  47648.940 -133391.44\n",
              "999   999  1.000000  Optimal  ...   47648.940000  47648.940 -133391.44\n",
              "\n",
              "[1000 rows x 10 columns]"
            ]
          },
          "metadata": {},
          "execution_count": 69
        }
      ]
    },
    {
      "cell_type": "code",
      "metadata": {
        "id": "ZqIf5cL-MqTS"
      },
      "source": [
        "alpha_sig_004 = sig(-0.004, NUM_ITER)"
      ],
      "id": "ZqIf5cL-MqTS",
      "execution_count": 70,
      "outputs": []
    },
    {
      "cell_type": "code",
      "metadata": {
        "colab": {
          "base_uri": "https://localhost:8080/",
          "height": 283
        },
        "id": "Nlqtj4-qMqTT",
        "outputId": "06baf32a-2ee1-4e5e-d30b-f59dfa4d9639"
      },
      "source": [
        "plt.plot(np.linspace(0, NUM_ITER, NUM_ITER), alpha_sig_004)"
      ],
      "id": "Nlqtj4-qMqTT",
      "execution_count": 71,
      "outputs": [
        {
          "output_type": "execute_result",
          "data": {
            "text/plain": [
              "[<matplotlib.lines.Line2D at 0x7fdbcf1b9150>]"
            ]
          },
          "metadata": {},
          "execution_count": 71
        },
        {
          "output_type": "display_data",
          "data": {
            "image/png": "[encoded data removed]",
            "text/plain": [
              "<Figure size 432x288 with 1 Axes>"
            ]
          },
          "metadata": {
            "needs_background": "light"
          }
        }
      ]
    },
    {
      "cell_type": "code",
      "metadata": {
        "id": "HXWuwYL8MqTV"
      },
      "source": [
        "df_solution_sig_004 = run_models(alpha_sig_004, C, A, b)"
      ],
      "id": "HXWuwYL8MqTV",
      "execution_count": 72,
      "outputs": []
    },
    {
      "cell_type": "code",
      "metadata": {
        "colab": {
          "base_uri": "https://localhost:8080/",
          "height": 424
        },
        "id": "XVkI4uPcMqTW",
        "outputId": "1b3f4e8c-40f5-4934-9c58-f11ff733b6ce"
      },
      "source": [
        "df_solution_sig_004"
      ],
      "id": "XVkI4uPcMqTW",
      "execution_count": 73,
      "outputs": [
        {
          "output_type": "execute_result",
          "data": {
            "text/html": [
              "<div>\n",
              "<style scoped>\n",
              "    .dataframe tbody tr th:only-of-type {\n",
              "        vertical-align: middle;\n",
              "    }\n",
              "\n",
              "    .dataframe tbody tr th {\n",
              "        vertical-align: top;\n",
              "    }\n",
              "\n",
              "    .dataframe thead th {\n",
              "        text-align: right;\n",
              "    }\n",
              "</style>\n",
              "<table border=\"1\" class=\"dataframe\">\n",
              "  <thead>\n",
              "    <tr style=\"text-align: right;\">\n",
              "      <th></th>\n",
              "      <th>iter</th>\n",
              "      <th>alpha</th>\n",
              "      <th>status</th>\n",
              "      <th>x1</th>\n",
              "      <th>x2</th>\n",
              "      <th>x3</th>\n",
              "      <th>x4</th>\n",
              "      <th>obj_value</th>\n",
              "      <th>f1</th>\n",
              "      <th>f2</th>\n",
              "    </tr>\n",
              "  </thead>\n",
              "  <tbody>\n",
              "    <tr>\n",
              "      <th>0</th>\n",
              "      <td>0</td>\n",
              "      <td>0.119203</td>\n",
              "      <td>Optimal</td>\n",
              "      <td>2115.0</td>\n",
              "      <td>10917.0</td>\n",
              "      <td>0.0</td>\n",
              "      <td>0.0</td>\n",
              "      <td>-111473.698083</td>\n",
              "      <td>46473.597</td>\n",
              "      <td>-132849.54</td>\n",
              "    </tr>\n",
              "    <tr>\n",
              "      <th>1</th>\n",
              "      <td>1</td>\n",
              "      <td>0.119624</td>\n",
              "      <td>Optimal</td>\n",
              "      <td>2115.0</td>\n",
              "      <td>10917.0</td>\n",
              "      <td>0.0</td>\n",
              "      <td>0.0</td>\n",
              "      <td>-111398.196563</td>\n",
              "      <td>46473.597</td>\n",
              "      <td>-132849.54</td>\n",
              "    </tr>\n",
              "    <tr>\n",
              "      <th>2</th>\n",
              "      <td>2</td>\n",
              "      <td>0.120046</td>\n",
              "      <td>Optimal</td>\n",
              "      <td>2115.0</td>\n",
              "      <td>10917.0</td>\n",
              "      <td>0.0</td>\n",
              "      <td>0.0</td>\n",
              "      <td>-111322.464711</td>\n",
              "      <td>46473.597</td>\n",
              "      <td>-132849.54</td>\n",
              "    </tr>\n",
              "    <tr>\n",
              "      <th>3</th>\n",
              "      <td>3</td>\n",
              "      <td>0.120470</td>\n",
              "      <td>Optimal</td>\n",
              "      <td>2115.0</td>\n",
              "      <td>10917.0</td>\n",
              "      <td>0.0</td>\n",
              "      <td>0.0</td>\n",
              "      <td>-111246.502080</td>\n",
              "      <td>46473.597</td>\n",
              "      <td>-132849.54</td>\n",
              "    </tr>\n",
              "    <tr>\n",
              "      <th>4</th>\n",
              "      <td>4</td>\n",
              "      <td>0.120895</td>\n",
              "      <td>Optimal</td>\n",
              "      <td>2115.0</td>\n",
              "      <td>10917.0</td>\n",
              "      <td>0.0</td>\n",
              "      <td>0.0</td>\n",
              "      <td>-111170.308227</td>\n",
              "      <td>46473.597</td>\n",
              "      <td>-132849.54</td>\n",
              "    </tr>\n",
              "    <tr>\n",
              "      <th>...</th>\n",
              "      <td>...</td>\n",
              "      <td>...</td>\n",
              "      <td>...</td>\n",
              "      <td>...</td>\n",
              "      <td>...</td>\n",
              "      <td>...</td>\n",
              "      <td>...</td>\n",
              "      <td>...</td>\n",
              "      <td>...</td>\n",
              "      <td>...</td>\n",
              "    </tr>\n",
              "    <tr>\n",
              "      <th>995</th>\n",
              "      <td>995</td>\n",
              "      <td>0.879105</td>\n",
              "      <td>Optimal</td>\n",
              "      <td>2115.0</td>\n",
              "      <td>10550.0</td>\n",
              "      <td>237.0</td>\n",
              "      <td>130.0</td>\n",
              "      <td>25762.102507</td>\n",
              "      <td>47648.940</td>\n",
              "      <td>-133391.44</td>\n",
              "    </tr>\n",
              "    <tr>\n",
              "      <th>996</th>\n",
              "      <td>996</td>\n",
              "      <td>0.879530</td>\n",
              "      <td>Optimal</td>\n",
              "      <td>2115.0</td>\n",
              "      <td>10550.0</td>\n",
              "      <td>237.0</td>\n",
              "      <td>130.0</td>\n",
              "      <td>25839.026012</td>\n",
              "      <td>47648.940</td>\n",
              "      <td>-133391.44</td>\n",
              "    </tr>\n",
              "    <tr>\n",
              "      <th>997</th>\n",
              "      <td>997</td>\n",
              "      <td>0.879954</td>\n",
              "      <td>Optimal</td>\n",
              "      <td>2115.0</td>\n",
              "      <td>10550.0</td>\n",
              "      <td>237.0</td>\n",
              "      <td>130.0</td>\n",
              "      <td>25915.716079</td>\n",
              "      <td>47648.940</td>\n",
              "      <td>-133391.44</td>\n",
              "    </tr>\n",
              "    <tr>\n",
              "      <th>998</th>\n",
              "      <td>998</td>\n",
              "      <td>0.880376</td>\n",
              "      <td>Optimal</td>\n",
              "      <td>2115.0</td>\n",
              "      <td>10550.0</td>\n",
              "      <td>237.0</td>\n",
              "      <td>130.0</td>\n",
              "      <td>25992.173158</td>\n",
              "      <td>47648.940</td>\n",
              "      <td>-133391.44</td>\n",
              "    </tr>\n",
              "    <tr>\n",
              "      <th>999</th>\n",
              "      <td>999</td>\n",
              "      <td>0.880797</td>\n",
              "      <td>Optimal</td>\n",
              "      <td>2115.0</td>\n",
              "      <td>10550.0</td>\n",
              "      <td>237.0</td>\n",
              "      <td>130.0</td>\n",
              "      <td>26068.397700</td>\n",
              "      <td>47648.940</td>\n",
              "      <td>-133391.44</td>\n",
              "    </tr>\n",
              "  </tbody>\n",
              "</table>\n",
              "<p>1000 rows × 10 columns</p>\n",
              "</div>"
            ],
            "text/plain": [
              "     iter     alpha   status  ...      obj_value         f1         f2\n",
              "0       0  0.119203  Optimal  ... -111473.698083  46473.597 -132849.54\n",
              "1       1  0.119624  Optimal  ... -111398.196563  46473.597 -132849.54\n",
              "2       2  0.120046  Optimal  ... -111322.464711  46473.597 -132849.54\n",
              "3       3  0.120470  Optimal  ... -111246.502080  46473.597 -132849.54\n",
              "4       4  0.120895  Optimal  ... -111170.308227  46473.597 -132849.54\n",
              "..    ...       ...      ...  ...            ...        ...        ...\n",
              "995   995  0.879105  Optimal  ...   25762.102507  47648.940 -133391.44\n",
              "996   996  0.879530  Optimal  ...   25839.026012  47648.940 -133391.44\n",
              "997   997  0.879954  Optimal  ...   25915.716079  47648.940 -133391.44\n",
              "998   998  0.880376  Optimal  ...   25992.173158  47648.940 -133391.44\n",
              "999   999  0.880797  Optimal  ...   26068.397700  47648.940 -133391.44\n",
              "\n",
              "[1000 rows x 10 columns]"
            ]
          },
          "metadata": {},
          "execution_count": 73
        }
      ]
    },
    {
      "cell_type": "code",
      "metadata": {
        "id": "2yCMfiqJMqTY"
      },
      "source": [
        "alpha_sig_06 = sig(-0.06, NUM_ITER)"
      ],
      "id": "2yCMfiqJMqTY",
      "execution_count": 74,
      "outputs": []
    },
    {
      "cell_type": "code",
      "metadata": {
        "colab": {
          "base_uri": "https://localhost:8080/",
          "height": 283
        },
        "id": "h3dFms3SMqTZ",
        "outputId": "366f97d1-c01c-466c-915e-229b1e66bf09"
      },
      "source": [
        "plt.plot(np.linspace(0, NUM_ITER, NUM_ITER), alpha_sig_06)"
      ],
      "id": "h3dFms3SMqTZ",
      "execution_count": 75,
      "outputs": [
        {
          "output_type": "execute_result",
          "data": {
            "text/plain": [
              "[<matplotlib.lines.Line2D at 0x7fdbcf128750>]"
            ]
          },
          "metadata": {},
          "execution_count": 75
        },
        {
          "output_type": "display_data",
          "data": {
            "image/png": "[encoded data removed]",
            "text/plain": [
              "<Figure size 432x288 with 1 Axes>"
            ]
          },
          "metadata": {
            "needs_background": "light"
          }
        }
      ]
    },
    {
      "cell_type": "code",
      "metadata": {
        "id": "JquYQS3XMqTc"
      },
      "source": [
        "df_solution_sig_06 = run_models(alpha_sig_06, C, A, b)"
      ],
      "id": "JquYQS3XMqTc",
      "execution_count": 76,
      "outputs": []
    },
    {
      "cell_type": "code",
      "metadata": {
        "colab": {
          "base_uri": "https://localhost:8080/",
          "height": 424
        },
        "id": "G42Kxf1CMqTd",
        "outputId": "789ec374-0771-44b4-9724-79f15023985c"
      },
      "source": [
        "df_solution_sig_06"
      ],
      "id": "G42Kxf1CMqTd",
      "execution_count": 77,
      "outputs": [
        {
          "output_type": "execute_result",
          "data": {
            "text/html": [
              "<div>\n",
              "<style scoped>\n",
              "    .dataframe tbody tr th:only-of-type {\n",
              "        vertical-align: middle;\n",
              "    }\n",
              "\n",
              "    .dataframe tbody tr th {\n",
              "        vertical-align: top;\n",
              "    }\n",
              "\n",
              "    .dataframe thead th {\n",
              "        text-align: right;\n",
              "    }\n",
              "</style>\n",
              "<table border=\"1\" class=\"dataframe\">\n",
              "  <thead>\n",
              "    <tr style=\"text-align: right;\">\n",
              "      <th></th>\n",
              "      <th>iter</th>\n",
              "      <th>alpha</th>\n",
              "      <th>status</th>\n",
              "      <th>x1</th>\n",
              "      <th>x2</th>\n",
              "      <th>x3</th>\n",
              "      <th>x4</th>\n",
              "      <th>obj_value</th>\n",
              "      <th>f1</th>\n",
              "      <th>f2</th>\n",
              "    </tr>\n",
              "  </thead>\n",
              "  <tbody>\n",
              "    <tr>\n",
              "      <th>0</th>\n",
              "      <td>0</td>\n",
              "      <td>9.357623e-14</td>\n",
              "      <td>Optimal</td>\n",
              "      <td>2115.0</td>\n",
              "      <td>10917.0</td>\n",
              "      <td>0.0</td>\n",
              "      <td>0.0</td>\n",
              "      <td>-132849.54</td>\n",
              "      <td>46473.597</td>\n",
              "      <td>-132849.54</td>\n",
              "    </tr>\n",
              "    <tr>\n",
              "      <th>1</th>\n",
              "      <td>1</td>\n",
              "      <td>9.936863e-14</td>\n",
              "      <td>Optimal</td>\n",
              "      <td>2115.0</td>\n",
              "      <td>10917.0</td>\n",
              "      <td>0.0</td>\n",
              "      <td>0.0</td>\n",
              "      <td>-132849.54</td>\n",
              "      <td>46473.597</td>\n",
              "      <td>-132849.54</td>\n",
              "    </tr>\n",
              "    <tr>\n",
              "      <th>2</th>\n",
              "      <td>2</td>\n",
              "      <td>1.055196e-13</td>\n",
              "      <td>Optimal</td>\n",
              "      <td>2115.0</td>\n",
              "      <td>10917.0</td>\n",
              "      <td>0.0</td>\n",
              "      <td>0.0</td>\n",
              "      <td>-132849.54</td>\n",
              "      <td>46473.597</td>\n",
              "      <td>-132849.54</td>\n",
              "    </tr>\n",
              "    <tr>\n",
              "      <th>3</th>\n",
              "      <td>3</td>\n",
              "      <td>1.120513e-13</td>\n",
              "      <td>Optimal</td>\n",
              "      <td>2115.0</td>\n",
              "      <td>10917.0</td>\n",
              "      <td>0.0</td>\n",
              "      <td>0.0</td>\n",
              "      <td>-132849.54</td>\n",
              "      <td>46473.597</td>\n",
              "      <td>-132849.54</td>\n",
              "    </tr>\n",
              "    <tr>\n",
              "      <th>4</th>\n",
              "      <td>4</td>\n",
              "      <td>1.189873e-13</td>\n",
              "      <td>Optimal</td>\n",
              "      <td>2115.0</td>\n",
              "      <td>10917.0</td>\n",
              "      <td>0.0</td>\n",
              "      <td>0.0</td>\n",
              "      <td>-132849.54</td>\n",
              "      <td>46473.597</td>\n",
              "      <td>-132849.54</td>\n",
              "    </tr>\n",
              "    <tr>\n",
              "      <th>...</th>\n",
              "      <td>...</td>\n",
              "      <td>...</td>\n",
              "      <td>...</td>\n",
              "      <td>...</td>\n",
              "      <td>...</td>\n",
              "      <td>...</td>\n",
              "      <td>...</td>\n",
              "      <td>...</td>\n",
              "      <td>...</td>\n",
              "      <td>...</td>\n",
              "    </tr>\n",
              "    <tr>\n",
              "      <th>995</th>\n",
              "      <td>995</td>\n",
              "      <td>1.000000e+00</td>\n",
              "      <td>Optimal</td>\n",
              "      <td>2115.0</td>\n",
              "      <td>10550.0</td>\n",
              "      <td>237.0</td>\n",
              "      <td>130.0</td>\n",
              "      <td>47648.94</td>\n",
              "      <td>47648.940</td>\n",
              "      <td>-133391.44</td>\n",
              "    </tr>\n",
              "    <tr>\n",
              "      <th>996</th>\n",
              "      <td>996</td>\n",
              "      <td>1.000000e+00</td>\n",
              "      <td>Optimal</td>\n",
              "      <td>2115.0</td>\n",
              "      <td>10550.0</td>\n",
              "      <td>237.0</td>\n",
              "      <td>130.0</td>\n",
              "      <td>47648.94</td>\n",
              "      <td>47648.940</td>\n",
              "      <td>-133391.44</td>\n",
              "    </tr>\n",
              "    <tr>\n",
              "      <th>997</th>\n",
              "      <td>997</td>\n",
              "      <td>1.000000e+00</td>\n",
              "      <td>Optimal</td>\n",
              "      <td>2115.0</td>\n",
              "      <td>10550.0</td>\n",
              "      <td>237.0</td>\n",
              "      <td>130.0</td>\n",
              "      <td>47648.94</td>\n",
              "      <td>47648.940</td>\n",
              "      <td>-133391.44</td>\n",
              "    </tr>\n",
              "    <tr>\n",
              "      <th>998</th>\n",
              "      <td>998</td>\n",
              "      <td>1.000000e+00</td>\n",
              "      <td>Optimal</td>\n",
              "      <td>2115.0</td>\n",
              "      <td>10550.0</td>\n",
              "      <td>237.0</td>\n",
              "      <td>130.0</td>\n",
              "      <td>47648.94</td>\n",
              "      <td>47648.940</td>\n",
              "      <td>-133391.44</td>\n",
              "    </tr>\n",
              "    <tr>\n",
              "      <th>999</th>\n",
              "      <td>999</td>\n",
              "      <td>1.000000e+00</td>\n",
              "      <td>Optimal</td>\n",
              "      <td>2115.0</td>\n",
              "      <td>10550.0</td>\n",
              "      <td>237.0</td>\n",
              "      <td>130.0</td>\n",
              "      <td>47648.94</td>\n",
              "      <td>47648.940</td>\n",
              "      <td>-133391.44</td>\n",
              "    </tr>\n",
              "  </tbody>\n",
              "</table>\n",
              "<p>1000 rows × 10 columns</p>\n",
              "</div>"
            ],
            "text/plain": [
              "     iter         alpha   status  ...  obj_value         f1         f2\n",
              "0       0  9.357623e-14  Optimal  ... -132849.54  46473.597 -132849.54\n",
              "1       1  9.936863e-14  Optimal  ... -132849.54  46473.597 -132849.54\n",
              "2       2  1.055196e-13  Optimal  ... -132849.54  46473.597 -132849.54\n",
              "3       3  1.120513e-13  Optimal  ... -132849.54  46473.597 -132849.54\n",
              "4       4  1.189873e-13  Optimal  ... -132849.54  46473.597 -132849.54\n",
              "..    ...           ...      ...  ...        ...        ...        ...\n",
              "995   995  1.000000e+00  Optimal  ...   47648.94  47648.940 -133391.44\n",
              "996   996  1.000000e+00  Optimal  ...   47648.94  47648.940 -133391.44\n",
              "997   997  1.000000e+00  Optimal  ...   47648.94  47648.940 -133391.44\n",
              "998   998  1.000000e+00  Optimal  ...   47648.94  47648.940 -133391.44\n",
              "999   999  1.000000e+00  Optimal  ...   47648.94  47648.940 -133391.44\n",
              "\n",
              "[1000 rows x 10 columns]"
            ]
          },
          "metadata": {},
          "execution_count": 77
        }
      ]
    },
    {
      "cell_type": "code",
      "metadata": {
        "colab": {
          "base_uri": "https://localhost:8080/",
          "height": 297
        },
        "id": "Jkn6mksVMqTe",
        "outputId": "fa56268a-fe7f-40c6-9eca-0d5f5b2ada1d"
      },
      "source": [
        "df_solution_lin.plot.scatter(x='f1', y='f2')"
      ],
      "id": "Jkn6mksVMqTe",
      "execution_count": 81,
      "outputs": [
        {
          "output_type": "execute_result",
          "data": {
            "text/plain": [
              "<matplotlib.axes._subplots.AxesSubplot at 0x7fdbcf010b10>"
            ]
          },
          "metadata": {},
          "execution_count": 81
        },
        {
          "output_type": "display_data",
          "data": {
            "image/png": "[encoded data removed]",
            "text/plain": [
              "<Figure size 432x288 with 1 Axes>"
            ]
          },
          "metadata": {
            "needs_background": "light"
          }
        }
      ]
    },
    {
      "cell_type": "code",
      "metadata": {
        "colab": {
          "base_uri": "https://localhost:8080/",
          "height": 297
        },
        "id": "3jVja1N0MqTg",
        "outputId": "41d87596-f1d5-4b11-e060-099790952c2a"
      },
      "source": [
        "df_solution_sig_06.plot.scatter(x='iter', y='obj_value')"
      ],
      "id": "3jVja1N0MqTg",
      "execution_count": 82,
      "outputs": [
        {
          "output_type": "execute_result",
          "data": {
            "text/plain": [
              "<matplotlib.axes._subplots.AxesSubplot at 0x7fdbcef76750>"
            ]
          },
          "metadata": {},
          "execution_count": 82
        },
        {
          "output_type": "display_data",
          "data": {
            "image/png": "[encoded data removed]",
            "text/plain": [
              "<Figure size 432x288 with 1 Axes>"
            ]
          },
          "metadata": {
            "needs_background": "light"
          }
        }
      ]
    },
    {
      "cell_type": "code",
      "metadata": {
        "id": "eLnbNk9CQQrQ"
      },
      "source": [
        ""
      ],
      "id": "eLnbNk9CQQrQ",
      "execution_count": null,
      "outputs": []
    },
    {
      "cell_type": "markdown",
      "metadata": {
        "id": "rFL4lszNQROv"
      },
      "source": [
        "##Paper 3 (P3): Land use optimization in watershed scale\n",
        "\n",
        "Sadeghi, Seyed Hamidreza & Jalili, Khalil & Nikkami, Davood. (2009). Land use optimization in watershed scale. Land Use Policy. 26. 186-193. 10.1016/j.landusepol.2008.02.007. "
      ],
      "id": "rFL4lszNQROv"
    },
    {
      "cell_type": "markdown",
      "metadata": {
        "id": "w3p0EAXjQROz"
      },
      "source": [
        "### Model Parameter"
      ],
      "id": "w3p0EAXjQROz"
    },
    {
      "cell_type": "code",
      "metadata": {
        "id": "8kLl8ziCQRO1"
      },
      "source": [
        "# Variáveis do modelo\n",
        "\n",
        "C = np.array([[8.5042,  0.1562 ,  4.8758,  0.3215],\n",
        "              [7.389, 8.144, 7.389, 21.112]])\n",
        "\n",
        "A = np.array([  [1, 0, 0, 0],\n",
        "                [0, 0, 1, 0],\n",
        "                [0, 0, 0, 1],\n",
        "                [1, 0, 1, 0],\n",
        "                [1, 1, 1, 1],\n",
        "                [1, 0, 0, 0],\n",
        "                [0, 1, 0, 0]])\n",
        "\n",
        "b = np.array([[2115],[237],[207],[2352],[13032],[561],[10550]])"
      ],
      "id": "8kLl8ziCQRO1",
      "execution_count": null,
      "outputs": []
    },
    {
      "cell_type": "code",
      "metadata": {
        "id": "-FjnaZ0MQRO5"
      },
      "source": [
        ""
      ],
      "id": "-FjnaZ0MQRO5",
      "execution_count": null,
      "outputs": []
    },
    {
      "cell_type": "markdown",
      "metadata": {
        "id": "NIUEk7Z9QRO7"
      },
      "source": [
        "### Solution\n"
      ],
      "id": "NIUEk7Z9QRO7"
    },
    {
      "cell_type": "markdown",
      "metadata": {
        "id": "c6s6DrHFQRO9"
      },
      "source": [
        "#### Approach 1"
      ],
      "id": "c6s6DrHFQRO9"
    },
    {
      "cell_type": "markdown",
      "metadata": {
        "id": "DAc02klcQRO_"
      },
      "source": [
        "##### Step 1"
      ],
      "id": "DAc02klcQRO_"
    },
    {
      "cell_type": "code",
      "metadata": {
        "id": "9gSWT3FqQRPB"
      },
      "source": [
        "linearProblem = pulp.LpProblem(\"First_Objective_Max\",pulp.LpMaximize)\n",
        "\n",
        "X = create_x_variables()\n",
        "\n",
        "linearProblem += f(C[0], X)\n",
        "\n",
        "linearProblem = load_model(linearProblem, A, X, b)\n",
        "\n",
        "solution = linearProblem.solve()"
      ],
      "id": "9gSWT3FqQRPB",
      "execution_count": null,
      "outputs": []
    },
    {
      "cell_type": "code",
      "metadata": {
        "colab": {
          "base_uri": "https://localhost:8080/"
        },
        "id": "FHyAZ6qNQRPE",
        "outputId": "6fc6308b-ad2f-4a36-a9ec-ac5776f7ad05"
      },
      "source": [
        "print_solution(solution, linearProblem, X)"
      ],
      "id": "FHyAZ6qNQRPE",
      "execution_count": null,
      "outputs": [
        {
          "output_type": "stream",
          "text": [
            "\n",
            "Status = Optimal\n",
            "Value = 47648.94000000001\n",
            "x1 = 2115.0\n",
            "x2 = 10550.0\n",
            "x3 = 237.0\n",
            "x4 = 130.0\n"
          ],
          "name": "stdout"
        }
      ]
    },
    {
      "cell_type": "code",
      "metadata": {
        "id": "tieBPca6QRPK"
      },
      "source": [
        "f1_max = pulp.value(linearProblem.objective)"
      ],
      "id": "tieBPca6QRPK",
      "execution_count": null,
      "outputs": []
    },
    {
      "cell_type": "markdown",
      "metadata": {
        "id": "7WkPPRJtQRPL"
      },
      "source": [
        "##### Step 2"
      ],
      "id": "7WkPPRJtQRPL"
    },
    {
      "cell_type": "code",
      "metadata": {
        "id": "e2LD9TGxQRPO"
      },
      "source": [
        "linearProblem = pulp.LpProblem(\"Second_Objective_Min\",pulp.LpMinimize)\n",
        "\n",
        "X = create_x_variables()\n",
        "\n",
        "linearProblem += f(C[1], X)\n",
        "\n",
        "linearProblem = load_model(linearProblem, A, X, b)\n",
        "\n",
        "linearProblem += f(C[0], X) >= f1_max\n",
        "\n",
        "solution = linearProblem.solve()"
      ],
      "id": "e2LD9TGxQRPO",
      "execution_count": null,
      "outputs": []
    },
    {
      "cell_type": "code",
      "metadata": {
        "colab": {
          "base_uri": "https://localhost:8080/"
        },
        "id": "R3FhChOfQRPQ",
        "outputId": "942eacc8-19a9-4e09-c24c-a45f1d724177"
      },
      "source": [
        "print_solution(solution, linearProblem, X)"
      ],
      "id": "R3FhChOfQRPQ",
      "execution_count": null,
      "outputs": [
        {
          "output_type": "stream",
          "text": [
            "\n",
            "Status = Optimal\n",
            "Value = 133391.44\n",
            "x1 = 2115.0\n",
            "x2 = 10550.0\n",
            "x3 = 237.0\n",
            "x4 = 130.0\n"
          ],
          "name": "stdout"
        }
      ]
    },
    {
      "cell_type": "markdown",
      "metadata": {
        "id": "hq91OgElQRPS"
      },
      "source": [
        "#### Approach 2"
      ],
      "id": "hq91OgElQRPS"
    },
    {
      "cell_type": "code",
      "metadata": {
        "id": "P2opxSqKQRPT"
      },
      "source": [
        "CMinMax = MinMax(C)\n",
        "CStandardization = Standardization(C)"
      ],
      "id": "P2opxSqKQRPT",
      "execution_count": null,
      "outputs": []
    },
    {
      "cell_type": "code",
      "metadata": {
        "id": "kUIffQsfQRPV"
      },
      "source": [
        "alpha_lin = np.linspace(0, 1, NUM_ITER)"
      ],
      "id": "kUIffQsfQRPV",
      "execution_count": null,
      "outputs": []
    },
    {
      "cell_type": "code",
      "metadata": {
        "colab": {
          "base_uri": "https://localhost:8080/",
          "height": 283
        },
        "id": "N_M-V-O1QRPW",
        "outputId": "fe3a22be-cc28-439d-c364-347a7b8ed262"
      },
      "source": [
        "plt.plot(np.linspace(0, NUM_ITER, NUM_ITER), alpha_lin)"
      ],
      "id": "N_M-V-O1QRPW",
      "execution_count": null,
      "outputs": [
        {
          "output_type": "execute_result",
          "data": {
            "text/plain": [
              "[<matplotlib.lines.Line2D at 0x7fdbcf22a3d0>]"
            ]
          },
          "metadata": {},
          "execution_count": 67
        },
        {
          "output_type": "display_data",
          "data": {
            "image/png": "[encoded data removed]",
            "text/plain": [
              "<Figure size 432x288 with 1 Axes>"
            ]
          },
          "metadata": {
            "needs_background": "light"
          }
        }
      ]
    },
    {
      "cell_type": "code",
      "metadata": {
        "id": "2YIStffpQRPY"
      },
      "source": [
        "df_solution_lin = run_models(alpha_lin, C, A, b)"
      ],
      "id": "2YIStffpQRPY",
      "execution_count": null,
      "outputs": []
    },
    {
      "cell_type": "code",
      "metadata": {
        "colab": {
          "base_uri": "https://localhost:8080/",
          "height": 424
        },
        "id": "PWg-neVwQRPZ",
        "outputId": "18312855-c55e-4871-99da-fedf664c3d21"
      },
      "source": [
        "df_solution_lin"
      ],
      "id": "PWg-neVwQRPZ",
      "execution_count": null,
      "outputs": [
        {
          "output_type": "execute_result",
          "data": {
            "text/html": [
              "<div>\n",
              "<style scoped>\n",
              "    .dataframe tbody tr th:only-of-type {\n",
              "        vertical-align: middle;\n",
              "    }\n",
              "\n",
              "    .dataframe tbody tr th {\n",
              "        vertical-align: top;\n",
              "    }\n",
              "\n",
              "    .dataframe thead th {\n",
              "        text-align: right;\n",
              "    }\n",
              "</style>\n",
              "<table border=\"1\" class=\"dataframe\">\n",
              "  <thead>\n",
              "    <tr style=\"text-align: right;\">\n",
              "      <th></th>\n",
              "      <th>iter</th>\n",
              "      <th>alpha</th>\n",
              "      <th>status</th>\n",
              "      <th>x1</th>\n",
              "      <th>x2</th>\n",
              "      <th>x3</th>\n",
              "      <th>x4</th>\n",
              "      <th>obj_value</th>\n",
              "      <th>f1</th>\n",
              "      <th>f2</th>\n",
              "    </tr>\n",
              "  </thead>\n",
              "  <tbody>\n",
              "    <tr>\n",
              "      <th>0</th>\n",
              "      <td>0</td>\n",
              "      <td>0.000000</td>\n",
              "      <td>Optimal</td>\n",
              "      <td>2115.0</td>\n",
              "      <td>10917.0</td>\n",
              "      <td>0.0</td>\n",
              "      <td>0.0</td>\n",
              "      <td>-132849.540000</td>\n",
              "      <td>46473.597</td>\n",
              "      <td>-132849.54</td>\n",
              "    </tr>\n",
              "    <tr>\n",
              "      <th>1</th>\n",
              "      <td>1</td>\n",
              "      <td>0.001001</td>\n",
              "      <td>Optimal</td>\n",
              "      <td>2115.0</td>\n",
              "      <td>10917.0</td>\n",
              "      <td>0.0</td>\n",
              "      <td>0.0</td>\n",
              "      <td>-132670.037360</td>\n",
              "      <td>46473.597</td>\n",
              "      <td>-132849.54</td>\n",
              "    </tr>\n",
              "    <tr>\n",
              "      <th>2</th>\n",
              "      <td>2</td>\n",
              "      <td>0.002002</td>\n",
              "      <td>Optimal</td>\n",
              "      <td>2115.0</td>\n",
              "      <td>10917.0</td>\n",
              "      <td>0.0</td>\n",
              "      <td>0.0</td>\n",
              "      <td>-132490.534721</td>\n",
              "      <td>46473.597</td>\n",
              "      <td>-132849.54</td>\n",
              "    </tr>\n",
              "    <tr>\n",
              "      <th>3</th>\n",
              "      <td>3</td>\n",
              "      <td>0.003003</td>\n",
              "      <td>Optimal</td>\n",
              "      <td>2115.0</td>\n",
              "      <td>10917.0</td>\n",
              "      <td>0.0</td>\n",
              "      <td>0.0</td>\n",
              "      <td>-132311.032081</td>\n",
              "      <td>46473.597</td>\n",
              "      <td>-132849.54</td>\n",
              "    </tr>\n",
              "    <tr>\n",
              "      <th>4</th>\n",
              "      <td>4</td>\n",
              "      <td>0.004004</td>\n",
              "      <td>Optimal</td>\n",
              "      <td>2115.0</td>\n",
              "      <td>10917.0</td>\n",
              "      <td>0.0</td>\n",
              "      <td>0.0</td>\n",
              "      <td>-132131.529441</td>\n",
              "      <td>46473.597</td>\n",
              "      <td>-132849.54</td>\n",
              "    </tr>\n",
              "    <tr>\n",
              "      <th>...</th>\n",
              "      <td>...</td>\n",
              "      <td>...</td>\n",
              "      <td>...</td>\n",
              "      <td>...</td>\n",
              "      <td>...</td>\n",
              "      <td>...</td>\n",
              "      <td>...</td>\n",
              "      <td>...</td>\n",
              "      <td>...</td>\n",
              "      <td>...</td>\n",
              "    </tr>\n",
              "    <tr>\n",
              "      <th>995</th>\n",
              "      <td>995</td>\n",
              "      <td>0.995996</td>\n",
              "      <td>Optimal</td>\n",
              "      <td>2115.0</td>\n",
              "      <td>10550.0</td>\n",
              "      <td>237.0</td>\n",
              "      <td>130.0</td>\n",
              "      <td>46924.053594</td>\n",
              "      <td>47648.940</td>\n",
              "      <td>-133391.44</td>\n",
              "    </tr>\n",
              "    <tr>\n",
              "      <th>996</th>\n",
              "      <td>996</td>\n",
              "      <td>0.996997</td>\n",
              "      <td>Optimal</td>\n",
              "      <td>2115.0</td>\n",
              "      <td>10550.0</td>\n",
              "      <td>237.0</td>\n",
              "      <td>130.0</td>\n",
              "      <td>47105.275195</td>\n",
              "      <td>47648.940</td>\n",
              "      <td>-133391.44</td>\n",
              "    </tr>\n",
              "    <tr>\n",
              "      <th>997</th>\n",
              "      <td>997</td>\n",
              "      <td>0.997998</td>\n",
              "      <td>Optimal</td>\n",
              "      <td>2115.0</td>\n",
              "      <td>10550.0</td>\n",
              "      <td>237.0</td>\n",
              "      <td>130.0</td>\n",
              "      <td>47286.496797</td>\n",
              "      <td>47648.940</td>\n",
              "      <td>-133391.44</td>\n",
              "    </tr>\n",
              "    <tr>\n",
              "      <th>998</th>\n",
              "      <td>998</td>\n",
              "      <td>0.998999</td>\n",
              "      <td>Optimal</td>\n",
              "      <td>2115.0</td>\n",
              "      <td>10550.0</td>\n",
              "      <td>237.0</td>\n",
              "      <td>130.0</td>\n",
              "      <td>47467.718398</td>\n",
              "      <td>47648.940</td>\n",
              "      <td>-133391.44</td>\n",
              "    </tr>\n",
              "    <tr>\n",
              "      <th>999</th>\n",
              "      <td>999</td>\n",
              "      <td>1.000000</td>\n",
              "      <td>Optimal</td>\n",
              "      <td>2115.0</td>\n",
              "      <td>10550.0</td>\n",
              "      <td>237.0</td>\n",
              "      <td>130.0</td>\n",
              "      <td>47648.940000</td>\n",
              "      <td>47648.940</td>\n",
              "      <td>-133391.44</td>\n",
              "    </tr>\n",
              "  </tbody>\n",
              "</table>\n",
              "<p>1000 rows × 10 columns</p>\n",
              "</div>"
            ],
            "text/plain": [
              "     iter     alpha   status  ...      obj_value         f1         f2\n",
              "0       0  0.000000  Optimal  ... -132849.540000  46473.597 -132849.54\n",
              "1       1  0.001001  Optimal  ... -132670.037360  46473.597 -132849.54\n",
              "2       2  0.002002  Optimal  ... -132490.534721  46473.597 -132849.54\n",
              "3       3  0.003003  Optimal  ... -132311.032081  46473.597 -132849.54\n",
              "4       4  0.004004  Optimal  ... -132131.529441  46473.597 -132849.54\n",
              "..    ...       ...      ...  ...            ...        ...        ...\n",
              "995   995  0.995996  Optimal  ...   46924.053594  47648.940 -133391.44\n",
              "996   996  0.996997  Optimal  ...   47105.275195  47648.940 -133391.44\n",
              "997   997  0.997998  Optimal  ...   47286.496797  47648.940 -133391.44\n",
              "998   998  0.998999  Optimal  ...   47467.718398  47648.940 -133391.44\n",
              "999   999  1.000000  Optimal  ...   47648.940000  47648.940 -133391.44\n",
              "\n",
              "[1000 rows x 10 columns]"
            ]
          },
          "metadata": {},
          "execution_count": 69
        }
      ]
    },
    {
      "cell_type": "code",
      "metadata": {
        "id": "eGGwkKw2QRPb"
      },
      "source": [
        "alpha_sig_004 = sig(-0.004, NUM_ITER)"
      ],
      "id": "eGGwkKw2QRPb",
      "execution_count": null,
      "outputs": []
    },
    {
      "cell_type": "code",
      "metadata": {
        "colab": {
          "base_uri": "https://localhost:8080/",
          "height": 283
        },
        "id": "hygTCVASQRPd",
        "outputId": "06baf32a-2ee1-4e5e-d30b-f59dfa4d9639"
      },
      "source": [
        "plt.plot(np.linspace(0, NUM_ITER, NUM_ITER), alpha_sig_004)"
      ],
      "id": "hygTCVASQRPd",
      "execution_count": null,
      "outputs": [
        {
          "output_type": "execute_result",
          "data": {
            "text/plain": [
              "[<matplotlib.lines.Line2D at 0x7fdbcf1b9150>]"
            ]
          },
          "metadata": {},
          "execution_count": 71
        },
        {
          "output_type": "display_data",
          "data": {
            "image/png": "[encoded data removed]",
            "text/plain": [
              "<Figure size 432x288 with 1 Axes>"
            ]
          },
          "metadata": {
            "needs_background": "light"
          }
        }
      ]
    },
    {
      "cell_type": "code",
      "metadata": {
        "id": "dt36V2k_QRPe"
      },
      "source": [
        "df_solution_sig_004 = run_models(alpha_sig_004, C, A, b)"
      ],
      "id": "dt36V2k_QRPe",
      "execution_count": null,
      "outputs": []
    },
    {
      "cell_type": "code",
      "metadata": {
        "colab": {
          "base_uri": "https://localhost:8080/",
          "height": 424
        },
        "id": "TTHs6HozQRPf",
        "outputId": "1b3f4e8c-40f5-4934-9c58-f11ff733b6ce"
      },
      "source": [
        "df_solution_sig_004"
      ],
      "id": "TTHs6HozQRPf",
      "execution_count": null,
      "outputs": [
        {
          "output_type": "execute_result",
          "data": {
            "text/html": [
              "<div>\n",
              "<style scoped>\n",
              "    .dataframe tbody tr th:only-of-type {\n",
              "        vertical-align: middle;\n",
              "    }\n",
              "\n",
              "    .dataframe tbody tr th {\n",
              "        vertical-align: top;\n",
              "    }\n",
              "\n",
              "    .dataframe thead th {\n",
              "        text-align: right;\n",
              "    }\n",
              "</style>\n",
              "<table border=\"1\" class=\"dataframe\">\n",
              "  <thead>\n",
              "    <tr style=\"text-align: right;\">\n",
              "      <th></th>\n",
              "      <th>iter</th>\n",
              "      <th>alpha</th>\n",
              "      <th>status</th>\n",
              "      <th>x1</th>\n",
              "      <th>x2</th>\n",
              "      <th>x3</th>\n",
              "      <th>x4</th>\n",
              "      <th>obj_value</th>\n",
              "      <th>f1</th>\n",
              "      <th>f2</th>\n",
              "    </tr>\n",
              "  </thead>\n",
              "  <tbody>\n",
              "    <tr>\n",
              "      <th>0</th>\n",
              "      <td>0</td>\n",
              "      <td>0.119203</td>\n",
              "      <td>Optimal</td>\n",
              "      <td>2115.0</td>\n",
              "      <td>10917.0</td>\n",
              "      <td>0.0</td>\n",
              "      <td>0.0</td>\n",
              "      <td>-111473.698083</td>\n",
              "      <td>46473.597</td>\n",
              "      <td>-132849.54</td>\n",
              "    </tr>\n",
              "    <tr>\n",
              "      <th>1</th>\n",
              "      <td>1</td>\n",
              "      <td>0.119624</td>\n",
              "      <td>Optimal</td>\n",
              "      <td>2115.0</td>\n",
              "      <td>10917.0</td>\n",
              "      <td>0.0</td>\n",
              "      <td>0.0</td>\n",
              "      <td>-111398.196563</td>\n",
              "      <td>46473.597</td>\n",
              "      <td>-132849.54</td>\n",
              "    </tr>\n",
              "    <tr>\n",
              "      <th>2</th>\n",
              "      <td>2</td>\n",
              "      <td>0.120046</td>\n",
              "      <td>Optimal</td>\n",
              "      <td>2115.0</td>\n",
              "      <td>10917.0</td>\n",
              "      <td>0.0</td>\n",
              "      <td>0.0</td>\n",
              "      <td>-111322.464711</td>\n",
              "      <td>46473.597</td>\n",
              "      <td>-132849.54</td>\n",
              "    </tr>\n",
              "    <tr>\n",
              "      <th>3</th>\n",
              "      <td>3</td>\n",
              "      <td>0.120470</td>\n",
              "      <td>Optimal</td>\n",
              "      <td>2115.0</td>\n",
              "      <td>10917.0</td>\n",
              "      <td>0.0</td>\n",
              "      <td>0.0</td>\n",
              "      <td>-111246.502080</td>\n",
              "      <td>46473.597</td>\n",
              "      <td>-132849.54</td>\n",
              "    </tr>\n",
              "    <tr>\n",
              "      <th>4</th>\n",
              "      <td>4</td>\n",
              "      <td>0.120895</td>\n",
              "      <td>Optimal</td>\n",
              "      <td>2115.0</td>\n",
              "      <td>10917.0</td>\n",
              "      <td>0.0</td>\n",
              "      <td>0.0</td>\n",
              "      <td>-111170.308227</td>\n",
              "      <td>46473.597</td>\n",
              "      <td>-132849.54</td>\n",
              "    </tr>\n",
              "    <tr>\n",
              "      <th>...</th>\n",
              "      <td>...</td>\n",
              "      <td>...</td>\n",
              "      <td>...</td>\n",
              "      <td>...</td>\n",
              "      <td>...</td>\n",
              "      <td>...</td>\n",
              "      <td>...</td>\n",
              "      <td>...</td>\n",
              "      <td>...</td>\n",
              "      <td>...</td>\n",
              "    </tr>\n",
              "    <tr>\n",
              "      <th>995</th>\n",
              "      <td>995</td>\n",
              "      <td>0.879105</td>\n",
              "      <td>Optimal</td>\n",
              "      <td>2115.0</td>\n",
              "      <td>10550.0</td>\n",
              "      <td>237.0</td>\n",
              "      <td>130.0</td>\n",
              "      <td>25762.102507</td>\n",
              "      <td>47648.940</td>\n",
              "      <td>-133391.44</td>\n",
              "    </tr>\n",
              "    <tr>\n",
              "      <th>996</th>\n",
              "      <td>996</td>\n",
              "      <td>0.879530</td>\n",
              "      <td>Optimal</td>\n",
              "      <td>2115.0</td>\n",
              "      <td>10550.0</td>\n",
              "      <td>237.0</td>\n",
              "      <td>130.0</td>\n",
              "      <td>25839.026012</td>\n",
              "      <td>47648.940</td>\n",
              "      <td>-133391.44</td>\n",
              "    </tr>\n",
              "    <tr>\n",
              "      <th>997</th>\n",
              "      <td>997</td>\n",
              "      <td>0.879954</td>\n",
              "      <td>Optimal</td>\n",
              "      <td>2115.0</td>\n",
              "      <td>10550.0</td>\n",
              "      <td>237.0</td>\n",
              "      <td>130.0</td>\n",
              "      <td>25915.716079</td>\n",
              "      <td>47648.940</td>\n",
              "      <td>-133391.44</td>\n",
              "    </tr>\n",
              "    <tr>\n",
              "      <th>998</th>\n",
              "      <td>998</td>\n",
              "      <td>0.880376</td>\n",
              "      <td>Optimal</td>\n",
              "      <td>2115.0</td>\n",
              "      <td>10550.0</td>\n",
              "      <td>237.0</td>\n",
              "      <td>130.0</td>\n",
              "      <td>25992.173158</td>\n",
              "      <td>47648.940</td>\n",
              "      <td>-133391.44</td>\n",
              "    </tr>\n",
              "    <tr>\n",
              "      <th>999</th>\n",
              "      <td>999</td>\n",
              "      <td>0.880797</td>\n",
              "      <td>Optimal</td>\n",
              "      <td>2115.0</td>\n",
              "      <td>10550.0</td>\n",
              "      <td>237.0</td>\n",
              "      <td>130.0</td>\n",
              "      <td>26068.397700</td>\n",
              "      <td>47648.940</td>\n",
              "      <td>-133391.44</td>\n",
              "    </tr>\n",
              "  </tbody>\n",
              "</table>\n",
              "<p>1000 rows × 10 columns</p>\n",
              "</div>"
            ],
            "text/plain": [
              "     iter     alpha   status  ...      obj_value         f1         f2\n",
              "0       0  0.119203  Optimal  ... -111473.698083  46473.597 -132849.54\n",
              "1       1  0.119624  Optimal  ... -111398.196563  46473.597 -132849.54\n",
              "2       2  0.120046  Optimal  ... -111322.464711  46473.597 -132849.54\n",
              "3       3  0.120470  Optimal  ... -111246.502080  46473.597 -132849.54\n",
              "4       4  0.120895  Optimal  ... -111170.308227  46473.597 -132849.54\n",
              "..    ...       ...      ...  ...            ...        ...        ...\n",
              "995   995  0.879105  Optimal  ...   25762.102507  47648.940 -133391.44\n",
              "996   996  0.879530  Optimal  ...   25839.026012  47648.940 -133391.44\n",
              "997   997  0.879954  Optimal  ...   25915.716079  47648.940 -133391.44\n",
              "998   998  0.880376  Optimal  ...   25992.173158  47648.940 -133391.44\n",
              "999   999  0.880797  Optimal  ...   26068.397700  47648.940 -133391.44\n",
              "\n",
              "[1000 rows x 10 columns]"
            ]
          },
          "metadata": {},
          "execution_count": 73
        }
      ]
    },
    {
      "cell_type": "code",
      "metadata": {
        "id": "0bJnJOIzQRPh"
      },
      "source": [
        "alpha_sig_06 = sig(-0.06, NUM_ITER)"
      ],
      "id": "0bJnJOIzQRPh",
      "execution_count": null,
      "outputs": []
    },
    {
      "cell_type": "code",
      "metadata": {
        "colab": {
          "base_uri": "https://localhost:8080/",
          "height": 283
        },
        "id": "_0L8nyq3QRPj",
        "outputId": "366f97d1-c01c-466c-915e-229b1e66bf09"
      },
      "source": [
        "plt.plot(np.linspace(0, NUM_ITER, NUM_ITER), alpha_sig_06)"
      ],
      "id": "_0L8nyq3QRPj",
      "execution_count": null,
      "outputs": [
        {
          "output_type": "execute_result",
          "data": {
            "text/plain": [
              "[<matplotlib.lines.Line2D at 0x7fdbcf128750>]"
            ]
          },
          "metadata": {},
          "execution_count": 75
        },
        {
          "output_type": "display_data",
          "data": {
            "image/png": "[encoded data removed]",
            "text/plain": [
              "<Figure size 432x288 with 1 Axes>"
            ]
          },
          "metadata": {
            "needs_background": "light"
          }
        }
      ]
    },
    {
      "cell_type": "code",
      "metadata": {
        "id": "dfWUJ41jQRPk"
      },
      "source": [
        "df_solution_sig_06 = run_models(alpha_sig_06, C, A, b)"
      ],
      "id": "dfWUJ41jQRPk",
      "execution_count": null,
      "outputs": []
    },
    {
      "cell_type": "code",
      "metadata": {
        "colab": {
          "base_uri": "https://localhost:8080/",
          "height": 424
        },
        "id": "nuvstGPYQRPn",
        "outputId": "789ec374-0771-44b4-9724-79f15023985c"
      },
      "source": [
        "df_solution_sig_06"
      ],
      "id": "nuvstGPYQRPn",
      "execution_count": null,
      "outputs": [
        {
          "output_type": "execute_result",
          "data": {
            "text/html": [
              "<div>\n",
              "<style scoped>\n",
              "    .dataframe tbody tr th:only-of-type {\n",
              "        vertical-align: middle;\n",
              "    }\n",
              "\n",
              "    .dataframe tbody tr th {\n",
              "        vertical-align: top;\n",
              "    }\n",
              "\n",
              "    .dataframe thead th {\n",
              "        text-align: right;\n",
              "    }\n",
              "</style>\n",
              "<table border=\"1\" class=\"dataframe\">\n",
              "  <thead>\n",
              "    <tr style=\"text-align: right;\">\n",
              "      <th></th>\n",
              "      <th>iter</th>\n",
              "      <th>alpha</th>\n",
              "      <th>status</th>\n",
              "      <th>x1</th>\n",
              "      <th>x2</th>\n",
              "      <th>x3</th>\n",
              "      <th>x4</th>\n",
              "      <th>obj_value</th>\n",
              "      <th>f1</th>\n",
              "      <th>f2</th>\n",
              "    </tr>\n",
              "  </thead>\n",
              "  <tbody>\n",
              "    <tr>\n",
              "      <th>0</th>\n",
              "      <td>0</td>\n",
              "      <td>9.357623e-14</td>\n",
              "      <td>Optimal</td>\n",
              "      <td>2115.0</td>\n",
              "      <td>10917.0</td>\n",
              "      <td>0.0</td>\n",
              "      <td>0.0</td>\n",
              "      <td>-132849.54</td>\n",
              "      <td>46473.597</td>\n",
              "      <td>-132849.54</td>\n",
              "    </tr>\n",
              "    <tr>\n",
              "      <th>1</th>\n",
              "      <td>1</td>\n",
              "      <td>9.936863e-14</td>\n",
              "      <td>Optimal</td>\n",
              "      <td>2115.0</td>\n",
              "      <td>10917.0</td>\n",
              "      <td>0.0</td>\n",
              "      <td>0.0</td>\n",
              "      <td>-132849.54</td>\n",
              "      <td>46473.597</td>\n",
              "      <td>-132849.54</td>\n",
              "    </tr>\n",
              "    <tr>\n",
              "      <th>2</th>\n",
              "      <td>2</td>\n",
              "      <td>1.055196e-13</td>\n",
              "      <td>Optimal</td>\n",
              "      <td>2115.0</td>\n",
              "      <td>10917.0</td>\n",
              "      <td>0.0</td>\n",
              "      <td>0.0</td>\n",
              "      <td>-132849.54</td>\n",
              "      <td>46473.597</td>\n",
              "      <td>-132849.54</td>\n",
              "    </tr>\n",
              "    <tr>\n",
              "      <th>3</th>\n",
              "      <td>3</td>\n",
              "      <td>1.120513e-13</td>\n",
              "      <td>Optimal</td>\n",
              "      <td>2115.0</td>\n",
              "      <td>10917.0</td>\n",
              "      <td>0.0</td>\n",
              "      <td>0.0</td>\n",
              "      <td>-132849.54</td>\n",
              "      <td>46473.597</td>\n",
              "      <td>-132849.54</td>\n",
              "    </tr>\n",
              "    <tr>\n",
              "      <th>4</th>\n",
              "      <td>4</td>\n",
              "      <td>1.189873e-13</td>\n",
              "      <td>Optimal</td>\n",
              "      <td>2115.0</td>\n",
              "      <td>10917.0</td>\n",
              "      <td>0.0</td>\n",
              "      <td>0.0</td>\n",
              "      <td>-132849.54</td>\n",
              "      <td>46473.597</td>\n",
              "      <td>-132849.54</td>\n",
              "    </tr>\n",
              "    <tr>\n",
              "      <th>...</th>\n",
              "      <td>...</td>\n",
              "      <td>...</td>\n",
              "      <td>...</td>\n",
              "      <td>...</td>\n",
              "      <td>...</td>\n",
              "      <td>...</td>\n",
              "      <td>...</td>\n",
              "      <td>...</td>\n",
              "      <td>...</td>\n",
              "      <td>...</td>\n",
              "    </tr>\n",
              "    <tr>\n",
              "      <th>995</th>\n",
              "      <td>995</td>\n",
              "      <td>1.000000e+00</td>\n",
              "      <td>Optimal</td>\n",
              "      <td>2115.0</td>\n",
              "      <td>10550.0</td>\n",
              "      <td>237.0</td>\n",
              "      <td>130.0</td>\n",
              "      <td>47648.94</td>\n",
              "      <td>47648.940</td>\n",
              "      <td>-133391.44</td>\n",
              "    </tr>\n",
              "    <tr>\n",
              "      <th>996</th>\n",
              "      <td>996</td>\n",
              "      <td>1.000000e+00</td>\n",
              "      <td>Optimal</td>\n",
              "      <td>2115.0</td>\n",
              "      <td>10550.0</td>\n",
              "      <td>237.0</td>\n",
              "      <td>130.0</td>\n",
              "      <td>47648.94</td>\n",
              "      <td>47648.940</td>\n",
              "      <td>-133391.44</td>\n",
              "    </tr>\n",
              "    <tr>\n",
              "      <th>997</th>\n",
              "      <td>997</td>\n",
              "      <td>1.000000e+00</td>\n",
              "      <td>Optimal</td>\n",
              "      <td>2115.0</td>\n",
              "      <td>10550.0</td>\n",
              "      <td>237.0</td>\n",
              "      <td>130.0</td>\n",
              "      <td>47648.94</td>\n",
              "      <td>47648.940</td>\n",
              "      <td>-133391.44</td>\n",
              "    </tr>\n",
              "    <tr>\n",
              "      <th>998</th>\n",
              "      <td>998</td>\n",
              "      <td>1.000000e+00</td>\n",
              "      <td>Optimal</td>\n",
              "      <td>2115.0</td>\n",
              "      <td>10550.0</td>\n",
              "      <td>237.0</td>\n",
              "      <td>130.0</td>\n",
              "      <td>47648.94</td>\n",
              "      <td>47648.940</td>\n",
              "      <td>-133391.44</td>\n",
              "    </tr>\n",
              "    <tr>\n",
              "      <th>999</th>\n",
              "      <td>999</td>\n",
              "      <td>1.000000e+00</td>\n",
              "      <td>Optimal</td>\n",
              "      <td>2115.0</td>\n",
              "      <td>10550.0</td>\n",
              "      <td>237.0</td>\n",
              "      <td>130.0</td>\n",
              "      <td>47648.94</td>\n",
              "      <td>47648.940</td>\n",
              "      <td>-133391.44</td>\n",
              "    </tr>\n",
              "  </tbody>\n",
              "</table>\n",
              "<p>1000 rows × 10 columns</p>\n",
              "</div>"
            ],
            "text/plain": [
              "     iter         alpha   status  ...  obj_value         f1         f2\n",
              "0       0  9.357623e-14  Optimal  ... -132849.54  46473.597 -132849.54\n",
              "1       1  9.936863e-14  Optimal  ... -132849.54  46473.597 -132849.54\n",
              "2       2  1.055196e-13  Optimal  ... -132849.54  46473.597 -132849.54\n",
              "3       3  1.120513e-13  Optimal  ... -132849.54  46473.597 -132849.54\n",
              "4       4  1.189873e-13  Optimal  ... -132849.54  46473.597 -132849.54\n",
              "..    ...           ...      ...  ...        ...        ...        ...\n",
              "995   995  1.000000e+00  Optimal  ...   47648.94  47648.940 -133391.44\n",
              "996   996  1.000000e+00  Optimal  ...   47648.94  47648.940 -133391.44\n",
              "997   997  1.000000e+00  Optimal  ...   47648.94  47648.940 -133391.44\n",
              "998   998  1.000000e+00  Optimal  ...   47648.94  47648.940 -133391.44\n",
              "999   999  1.000000e+00  Optimal  ...   47648.94  47648.940 -133391.44\n",
              "\n",
              "[1000 rows x 10 columns]"
            ]
          },
          "metadata": {},
          "execution_count": 77
        }
      ]
    },
    {
      "cell_type": "code",
      "metadata": {
        "colab": {
          "base_uri": "https://localhost:8080/",
          "height": 297
        },
        "id": "9-rQPmAdQRPo",
        "outputId": "fa56268a-fe7f-40c6-9eca-0d5f5b2ada1d"
      },
      "source": [
        "df_solution_lin.plot.scatter(x='f1', y='f2')"
      ],
      "id": "9-rQPmAdQRPo",
      "execution_count": null,
      "outputs": [
        {
          "output_type": "execute_result",
          "data": {
            "text/plain": [
              "<matplotlib.axes._subplots.AxesSubplot at 0x7fdbcf010b10>"
            ]
          },
          "metadata": {},
          "execution_count": 81
        },
        {
          "output_type": "display_data",
          "data": {
            "image/png": "[encoded data removed]",
            "text/plain": [
              "<Figure size 432x288 with 1 Axes>"
            ]
          },
          "metadata": {
            "needs_background": "light"
          }
        }
      ]
    },
    {
      "cell_type": "code",
      "metadata": {
        "colab": {
          "base_uri": "https://localhost:8080/",
          "height": 297
        },
        "id": "s9FFzUC-QRPp",
        "outputId": "41d87596-f1d5-4b11-e060-099790952c2a"
      },
      "source": [
        "df_solution_sig_06.plot.scatter(x='iter', y='obj_value')"
      ],
      "id": "s9FFzUC-QRPp",
      "execution_count": null,
      "outputs": [
        {
          "output_type": "execute_result",
          "data": {
            "text/plain": [
              "<matplotlib.axes._subplots.AxesSubplot at 0x7fdbcef76750>"
            ]
          },
          "metadata": {},
          "execution_count": 82
        },
        {
          "output_type": "display_data",
          "data": {
            "image/png": "[encoded data removed]",
            "text/plain": [
              "<Figure size 432x288 with 1 Axes>"
            ]
          },
          "metadata": {
            "needs_background": "light"
          }
        }
      ]
    }
  ]
}