{
  "nbformat": 4,
  "nbformat_minor": 5,
  "metadata": {
    "kernelspec": {
      "display_name": "Python 3",
      "language": "python",
      "name": "python3"
    },
    "language_info": {
      "codemirror_mode": {
        "name": "ipython",
        "version": 3
      },
      "file_extension": ".py",
      "mimetype": "text/x-python",
      "name": "python",
      "nbconvert_exporter": "python",
      "pygments_lexer": "ipython3",
      "version": "3.8.10"
    },
    "colab": {
      "name": "main.ipynb",
      "provenance": [],
      "toc_visible": true,
      "include_colab_link": true
    }
  },
  "cells": [
    {
      "cell_type": "markdown",
      "metadata": {
        "id": "view-in-github",
        "colab_type": "text"
      },
      "source": [
        "<a href=\"https://colab.research.google.com/github/robertosgpontes/osem/blob/main/main.ipynb\" target=\"_parent\"><img src=\"https://colab.research.google.com/assets/colab-badge.svg\" alt=\"Open In Colab\"/></a>"
      ]
    },
    {
      "cell_type": "markdown",
      "metadata": {
        "id": "SwfdVvoBgXnR"
      },
      "source": [
        "## Formulação Geral do Problema\n",
        "\n",
        "O problema apresentado pode ser formulado através de uma\n",
        "\n",
        "\\begin{equation}\n",
        "\t\\max  \\sum_{i=1}^{n}{[A_{i}^1-(A_{i}^2-A_{i}^3)]X_i} = \\max \\sum_{i=1}^{n}{C_{i}^1X_i}\n",
        "\\end{equation}\n",
        "e\n",
        "\\begin{equation}\n",
        "\\min \\sum_{i=1}^{n}{C_{i}^2X_i}\n",
        "\\end{equation}\n",
        "\n",
        "\n",
        "Sujeito a\n",
        "\\begin{equation}\n",
        "x_1 \\leq b_1\n",
        "\\end{equation}\n",
        "\\begin{equation}\n",
        "x_2 \\leq b_2\n",
        "\\end{equation}\n",
        "\\begin{equation}\n",
        "x_3 \\leq b_3\n",
        "\\end{equation}\n",
        "\\begin{equation}\n",
        "x_1 + x_3 \\leq b_4\n",
        "\\end{equation}\n",
        "\\begin{equation}\n",
        "x_1 + x_2 + x_3 + x_4 = b_5\n",
        "\\end{equation}\n",
        "\\begin{equation}\n",
        "x_1 \\geq b_6\n",
        "\\end{equation}\n",
        "\\begin{equation}\n",
        "x_2 \\geq b_7\n",
        "\\end{equation}\n",
        "\\begin{equation}\n",
        "x_1, x_2, x_3, x_4 \\geq 0\n",
        "\\end{equation}\n"
      ],
      "id": "SwfdVvoBgXnR"
    },
    {
      "cell_type": "markdown",
      "metadata": {
        "id": "O3ieye0TUg-q"
      },
      "source": [
        "# Methodology\n",
        "\n",
        "https://www.supplychaindataanalytics.com/multi-objective-linear-optimization-with-pulp-in-python/\n",
        "\n",
        "https://pythonhealthcare.org/tag/pareto-front/\n",
        "\n"
      ],
      "id": "O3ieye0TUg-q"
    },
    {
      "cell_type": "markdown",
      "metadata": {
        "id": "MTEiywG7TKzI"
      },
      "source": [
        "### Approach 1: Solution with Hierarchical Methodology\n",
        "\n",
        "Maximizing for one objective, then adding it as a constraint and solving for the other objective"
      ],
      "id": "MTEiywG7TKzI"
    },
    {
      "cell_type": "markdown",
      "metadata": {
        "id": "ICk-oqY2TMAu"
      },
      "source": [
        "#### 1.1. First Step\n",
        "\n",
        "\\begin{equation}\n",
        "S_1 = \\max \\sum_{i=1}^{n}{C_{i}^1X_i}\n",
        "\\end{equation}\n",
        "\n",
        "Sujeito a\n",
        "\\begin{equation}\n",
        "x_1 \\leq b_1\n",
        "\\end{equation}\n",
        "\\begin{equation}\n",
        "x_2 \\leq b_2\n",
        "\\end{equation}\n",
        "\\begin{equation}\n",
        "x_3 \\leq b_3\n",
        "\\end{equation}\n",
        "\\begin{equation}\n",
        "x_1 + x_3 \\leq b_4\n",
        "\\end{equation}\n",
        "\\begin{equation}\n",
        "x_1 + x_2 + x_3 + x_4 = b_5\n",
        "\\end{equation}\n",
        "\\begin{equation}\n",
        "x_1 \\geq b_6\n",
        "\\end{equation}\n",
        "\\begin{equation}\n",
        "x_2 \\geq b_7\n",
        "\\end{equation}\n",
        "\\begin{equation}\n",
        "x_1, x_2, x_3, x_4 \\geq 0\n",
        "\\end{equation}"
      ],
      "id": "ICk-oqY2TMAu"
    },
    {
      "cell_type": "markdown",
      "metadata": {
        "id": "pt2FqgzrTSjB"
      },
      "source": [
        "#### 1.2. Second Step\n",
        "\n",
        "\n",
        "\\begin{equation}\n",
        "\\min \\sum_{i=1}^{n}{C_{i}^2X_i}\n",
        "\\end{equation}\n",
        "Sujeito a\n",
        "\\begin{equation}\n",
        "x_1 \\leq b_1\n",
        "\\end{equation}\n",
        "\\begin{equation}\n",
        "x_2 \\leq b_2\n",
        "\\end{equation}\n",
        "\\begin{equation}\n",
        "x_3 \\leq b_3\n",
        "\\end{equation}\n",
        "\\begin{equation}\n",
        "x_1 + x_3 \\leq b_4\n",
        "\\end{equation}\n",
        "\\begin{equation}\n",
        "x_1 + x_2 + x_3 + x_4 = b_5\n",
        "\\end{equation}\n",
        "\\begin{equation}\n",
        "x_1 \\geq b_6\n",
        "\\end{equation}\n",
        "\\begin{equation}\n",
        "x_2 \\geq b_7\n",
        "\\end{equation}\n",
        "\\begin{equation}\n",
        "\\max \\sum_{i=1}^{n}{C_{i}^1X_i} \\geq S_1\n",
        "\\end{equation}\n",
        "\\begin{equation}\n",
        "x_1, x_2, x_3, x_4 \\geq 0\n",
        "\\end{equation}\n"
      ],
      "id": "pt2FqgzrTSjB"
    },
    {
      "cell_type": "markdown",
      "metadata": {
        "id": "GUWOxpl4Uyb8"
      },
      "source": [
        "## Approach 2: Solution with ...\n",
        "\n",
        "\\begin{equation}\n",
        "\t\\max  \\alpha\\sum_{i=1}^{n}{C_{i}^1X_i} - (1-\\alpha)\\sum_{i=1}^{n}{C_{i}^2X_i}\n",
        "\\end{equation}\n",
        "\n",
        "Sujeito a\n",
        "\\begin{equation}\n",
        "x_1 \\leq b_1\n",
        "\\end{equation}\n",
        "\\begin{equation}\n",
        "x_2 \\leq b_2\n",
        "\\end{equation}\n",
        "\\begin{equation}\n",
        "x_3 \\leq b_3\n",
        "\\end{equation}\n",
        "\\begin{equation}\n",
        "x_1 + x_3 \\leq b_4\n",
        "\\end{equation}\n",
        "\\begin{equation}\n",
        "x_1 + x_2 + x_3 + x_4 = b_5\n",
        "\\end{equation}\n",
        "\\begin{equation}\n",
        "x_1 \\geq b_6\n",
        "\\end{equation}\n",
        "\\begin{equation}\n",
        "x_2 \\geq b_7\n",
        "\\end{equation}\n",
        "\\begin{equation}\n",
        "x_1, x_2, x_3, x_4 \\geq 0\n",
        "\\end{equation}"
      ],
      "id": "GUWOxpl4Uyb8"
    },
    {
      "cell_type": "markdown",
      "metadata": {
        "id": "tHrKFoBocp3L"
      },
      "source": [
        "# General Definitions"
      ],
      "id": "tHrKFoBocp3L"
    },
    {
      "cell_type": "markdown",
      "metadata": {
        "id": "hV6ZcjFpc2Wm"
      },
      "source": [
        "## Language"
      ],
      "id": "hV6ZcjFpc2Wm"
    },
    {
      "cell_type": "code",
      "metadata": {
        "colab": {
          "base_uri": "https://localhost:8080/"
        },
        "id": "CqmQ7bFqgZCE",
        "collapsed": true,
        "outputId": "4ef9d264-2659-41b8-fb20-a54aa0a586da"
      },
      "source": [
        "% pip install pulp\n",
        "!rm /content/utils.py\n",
        "!wget https://raw.githubusercontent.com/robertosgpontes/osem/main/utils.py\n",
        "%run /content/utils.py"
      ],
      "id": "CqmQ7bFqgZCE",
      "execution_count": 1,
      "outputs": [
        {
          "output_type": "stream",
          "text": [
            "Requirement already satisfied: pulp in /usr/local/lib/python3.7/dist-packages (2.5.0)\n",
            "--2021-08-23 18:13:56--  https://raw.githubusercontent.com/robertosgpontes/osem/main/utils.py\n",
            "Resolving raw.githubusercontent.com (raw.githubusercontent.com)... 185.199.108.133, 185.199.109.133, 185.199.110.133, ...\n",
            "Connecting to raw.githubusercontent.com (raw.githubusercontent.com)|185.199.108.133|:443... connected.\n",
            "HTTP request sent, awaiting response... 200 OK\n",
            "Length: 3210 (3.1K) [text/plain]\n",
            "Saving to: ‘utils.py’\n",
            "\n",
            "utils.py            100%[===================>]   3.13K  --.-KB/s    in 0s      \n",
            "\n",
            "2021-08-23 18:13:56 (41.3 MB/s) - ‘utils.py’ saved [3210/3210]\n",
            "\n"
          ],
          "name": "stdout"
        }
      ]
    },
    {
      "cell_type": "code",
      "metadata": {
        "id": "c8680221-9de1-4566-8831-1e860e611979"
      },
      "source": [
        "# Python libraries used to solve the problem Linear Programing\n",
        "import pulp\n",
        "import numpy as np\n",
        "import pandas as pd\n",
        "from matplotlib import pyplot as plt"
      ],
      "id": "c8680221-9de1-4566-8831-1e860e611979",
      "execution_count": 2,
      "outputs": []
    },
    {
      "cell_type": "markdown",
      "metadata": {
        "id": "GtijB4JmdNl4"
      },
      "source": [
        "## Problem Solution"
      ],
      "id": "GtijB4JmdNl4"
    },
    {
      "cell_type": "code",
      "metadata": {
        "id": "awb3FUwOH-xY"
      },
      "source": [
        "NUM_ITER = 1000"
      ],
      "id": "awb3FUwOH-xY",
      "execution_count": 3,
      "outputs": []
    },
    {
      "cell_type": "code",
      "metadata": {
        "id": "RjVesUhJMr-W"
      },
      "source": [
        "DataStandardization = Standardization"
      ],
      "id": "RjVesUhJMr-W",
      "execution_count": 4,
      "outputs": []
    },
    {
      "cell_type": "markdown",
      "metadata": {
        "id": "TXhrMf-_JPNi"
      },
      "source": [
        "### Alpha Variations"
      ],
      "id": "TXhrMf-_JPNi"
    },
    {
      "cell_type": "code",
      "metadata": {
        "id": "khjEb99kIMZp"
      },
      "source": [
        "alpha_lin = np.linspace(0, 1, NUM_ITER)"
      ],
      "id": "khjEb99kIMZp",
      "execution_count": 5,
      "outputs": []
    },
    {
      "cell_type": "code",
      "metadata": {
        "id": "f3PYxvTkIcO3",
        "outputId": "2df6bc14-2a97-4798-e892-8a4b04eee24e",
        "colab": {
          "base_uri": "https://localhost:8080/",
          "height": 283
        }
      },
      "source": [
        "plt.plot(np.linspace(0, NUM_ITER, NUM_ITER), alpha_lin)"
      ],
      "id": "f3PYxvTkIcO3",
      "execution_count": 6,
      "outputs": [
        {
          "output_type": "execute_result",
          "data": {
            "text/plain": [
              "[<matplotlib.lines.Line2D at 0x7fe21cac7910>]"
            ]
          },
          "metadata": {},
          "execution_count": 6
        },
        {
          "output_type": "display_data",
          "data": {
            "image/png": "[encoded data removed]",
            "text/plain": [
              "<Figure size 432x288 with 1 Axes>"
            ]
          },
          "metadata": {
            "needs_background": "light"
          }
        }
      ]
    },
    {
      "cell_type": "code",
      "metadata": {
        "id": "O7a7LtV9IN2D"
      },
      "source": [
        "alpha_sig_004 = sig(-0.004, NUM_ITER)"
      ],
      "id": "O7a7LtV9IN2D",
      "execution_count": 7,
      "outputs": []
    },
    {
      "cell_type": "code",
      "metadata": {
        "id": "8KTsV3wiIes5",
        "outputId": "f191d0b6-eeb0-400a-8632-c3fd0fe9810b",
        "colab": {
          "base_uri": "https://localhost:8080/",
          "height": 283
        }
      },
      "source": [
        "plt.plot(np.linspace(0, NUM_ITER, NUM_ITER), alpha_sig_004)"
      ],
      "id": "8KTsV3wiIes5",
      "execution_count": 8,
      "outputs": [
        {
          "output_type": "execute_result",
          "data": {
            "text/plain": [
              "[<matplotlib.lines.Line2D at 0x7fe21ca27d50>]"
            ]
          },
          "metadata": {},
          "execution_count": 8
        },
        {
          "output_type": "display_data",
          "data": {
            "image/png": "[encoded data removed]",
            "text/plain": [
              "<Figure size 432x288 with 1 Axes>"
            ]
          },
          "metadata": {
            "needs_background": "light"
          }
        }
      ]
    },
    {
      "cell_type": "code",
      "metadata": {
        "id": "fqgKKzd5IJAQ"
      },
      "source": [
        "alpha_sig_06 = sig(-0.06, NUM_ITER)"
      ],
      "id": "fqgKKzd5IJAQ",
      "execution_count": 9,
      "outputs": []
    },
    {
      "cell_type": "code",
      "metadata": {
        "id": "GKG7h-M0IkRD",
        "outputId": "3358c2a8-d2f6-405e-da08-40d225388bee",
        "colab": {
          "base_uri": "https://localhost:8080/",
          "height": 283
        }
      },
      "source": [
        "plt.plot(np.linspace(0, NUM_ITER, NUM_ITER), alpha_sig_06)"
      ],
      "id": "GKG7h-M0IkRD",
      "execution_count": 10,
      "outputs": [
        {
          "output_type": "execute_result",
          "data": {
            "text/plain": [
              "[<matplotlib.lines.Line2D at 0x7fe21c55e510>]"
            ]
          },
          "metadata": {},
          "execution_count": 10
        },
        {
          "output_type": "display_data",
          "data": {
            "image/png": "[encoded data removed]",
            "text/plain": [
              "<Figure size 432x288 with 1 Axes>"
            ]
          },
          "metadata": {
            "needs_background": "light"
          }
        }
      ]
    },
    {
      "cell_type": "markdown",
      "metadata": {
        "id": "IO5KWRQqVI56"
      },
      "source": [
        "# Solution"
      ],
      "id": "IO5KWRQqVI56"
    },
    {
      "cell_type": "markdown",
      "metadata": {
        "id": "q8AKIfxtRwu_"
      },
      "source": [
        "##Paper 1 (P1): Optimizing the Management of Soil Erosion\n",
        "\n",
        "Nikkami, Davood & Elektorowicz, Maria & MEHUYS, GUY. (2002). Optimizing the Management of Soil Erosion. Water Quality Research Journal in Canada. 37. 10.2166/wqrj.2002.038. "
      ],
      "id": "q8AKIfxtRwu_"
    },
    {
      "cell_type": "markdown",
      "metadata": {
        "id": "2HTfv_nodwDN"
      },
      "source": [
        "### Model Parameter"
      ],
      "id": "2HTfv_nodwDN"
    },
    {
      "cell_type": "code",
      "metadata": {
        "id": "aJbTEtDOfofb"
      },
      "source": [
        "# Variáveis do modelo\n",
        "\n",
        "Cini = np.array([[10.54394,  0.0469 ,  0.59679,  0.02194],\n",
        "              [1.41, 4.99, 2.41, 6.24]])\n",
        "\n",
        "A = np.array([  [1, 0, 0, 0],\n",
        "                [0, 0, 1, 0],\n",
        "                [0, 0, 0, 1],\n",
        "                [1, 0, 1, 0],\n",
        "                [1, 1, 1, 1],\n",
        "                [1, 0, 0, 0],\n",
        "                [0, 1, 0, 0]])\n",
        "\n",
        "b = np.array([[557],[1143],[1577],[1700],[10310],[160],[6990]])"
      ],
      "id": "aJbTEtDOfofb",
      "execution_count": 11,
      "outputs": []
    },
    {
      "cell_type": "markdown",
      "metadata": {
        "id": "HjiahxEMQm6z"
      },
      "source": [
        "### Solution\n"
      ],
      "id": "HjiahxEMQm6z"
    },
    {
      "cell_type": "markdown",
      "metadata": {
        "id": "Jol5aqu5eK1F"
      },
      "source": [
        "#### Approach 1"
      ],
      "id": "Jol5aqu5eK1F"
    },
    {
      "cell_type": "code",
      "metadata": {
        "id": "_CLaQnRmKwiH"
      },
      "source": [
        "C = Cini"
      ],
      "id": "_CLaQnRmKwiH",
      "execution_count": 12,
      "outputs": []
    },
    {
      "cell_type": "markdown",
      "metadata": {
        "id": "4mB_c4qce2Kj"
      },
      "source": [
        "##### Step 1"
      ],
      "id": "4mB_c4qce2Kj"
    },
    {
      "cell_type": "code",
      "metadata": {
        "id": "Ha1XAKg3gxaN"
      },
      "source": [
        "linearProblem = pulp.LpProblem(\"First_Objective_Max\",pulp.LpMaximize)\n",
        "\n",
        "X = create_x_variables()\n",
        "\n",
        "linearProblem += f(C[0], X)\n",
        "\n",
        "linearProblem = load_model(linearProblem, A, X, b)\n",
        "\n",
        "solution = linearProblem.solve()"
      ],
      "id": "Ha1XAKg3gxaN",
      "execution_count": 13,
      "outputs": []
    },
    {
      "cell_type": "code",
      "metadata": {
        "id": "r24fmiFWijwA",
        "colab": {
          "base_uri": "https://localhost:8080/"
        },
        "outputId": "151c1715-4fcc-43bf-e58a-8375fd45c7fb"
      },
      "source": [
        "print_solution(solution, linearProblem, X)"
      ],
      "id": "r24fmiFWijwA",
      "execution_count": 14,
      "outputs": [
        {
          "output_type": "stream",
          "text": [
            "\n",
            "Status = Optimal\n",
            "Value = 6958.9145499999995\n",
            "x1 = 557.0\n",
            "x2 = 8610.0\n",
            "x3 = 1143.0\n",
            "x4 = 0.0\n"
          ],
          "name": "stdout"
        }
      ]
    },
    {
      "cell_type": "code",
      "metadata": {
        "id": "mr84N1d6a5nK"
      },
      "source": [
        "f1_max = pulp.value(linearProblem.objective)"
      ],
      "id": "mr84N1d6a5nK",
      "execution_count": 15,
      "outputs": []
    },
    {
      "cell_type": "markdown",
      "metadata": {
        "id": "pFsPCeMrQvVK"
      },
      "source": [
        "##### Step 2"
      ],
      "id": "pFsPCeMrQvVK"
    },
    {
      "cell_type": "code",
      "metadata": {
        "id": "8d262c1f-7998-445e-be74-d0bf4f2c37b8"
      },
      "source": [
        "linearProblem = pulp.LpProblem(\"Second_Objective_Min\",pulp.LpMinimize)\n",
        "\n",
        "X = create_x_variables()\n",
        "\n",
        "linearProblem += f(C[1], X)\n",
        "\n",
        "linearProblem = load_model(linearProblem, A, X, b)\n",
        "\n",
        "linearProblem += f(C[0], X) >= f1_max\n",
        "\n",
        "solution = linearProblem.solve()"
      ],
      "id": "8d262c1f-7998-445e-be74-d0bf4f2c37b8",
      "execution_count": 16,
      "outputs": []
    },
    {
      "cell_type": "code",
      "metadata": {
        "id": "lgVS_xLviseC",
        "colab": {
          "base_uri": "https://localhost:8080/"
        },
        "outputId": "699a107d-81a2-48ec-d70b-ff1bf9f2a170"
      },
      "source": [
        "print_solution(solution, linearProblem, X)"
      ],
      "id": "lgVS_xLviseC",
      "execution_count": 17,
      "outputs": [
        {
          "output_type": "stream",
          "text": [
            "\n",
            "Status = Optimal\n",
            "Value = 46503.9\n",
            "x1 = 557.0\n",
            "x2 = 8610.0\n",
            "x3 = 1143.0\n",
            "x4 = 0.0\n"
          ],
          "name": "stdout"
        }
      ]
    },
    {
      "cell_type": "markdown",
      "metadata": {
        "id": "qiIr__kgQ1DJ"
      },
      "source": [
        "#### Approach 2"
      ],
      "id": "qiIr__kgQ1DJ"
    },
    {
      "cell_type": "code",
      "metadata": {
        "id": "RpP5hSAuK3Ma"
      },
      "source": [
        "C = DataStandardization(Cini)"
      ],
      "id": "RpP5hSAuK3Ma",
      "execution_count": 18,
      "outputs": []
    },
    {
      "cell_type": "code",
      "metadata": {
        "id": "0O9cnXB_N6iU",
        "outputId": "a096399b-54f7-40d7-b2bd-dbb24b74d616",
        "colab": {
          "base_uri": "https://localhost:8080/",
          "height": 53
        }
      },
      "source": [
        "display(C)"
      ],
      "id": "0O9cnXB_N6iU",
      "execution_count": 19,
      "outputs": [
        {
          "output_type": "display_data",
          "data": {
            "text/plain": [
              "array([[ 2.08568285, -0.92932991, -0.77138773, -0.93649905],\n",
              "       [-0.53781345,  0.4904522 , -0.25058841,  0.8494835 ]])"
            ]
          },
          "metadata": {}
        }
      ]
    },
    {
      "cell_type": "code",
      "metadata": {
        "id": "XS704S70FL2J"
      },
      "source": [
        "df_solution_lin = run_models(alpha_lin, C, A, b)"
      ],
      "id": "XS704S70FL2J",
      "execution_count": 20,
      "outputs": []
    },
    {
      "cell_type": "code",
      "metadata": {
        "colab": {
          "base_uri": "https://localhost:8080/",
          "height": 424
        },
        "id": "IWpsM8zUR1Ak",
        "outputId": "529060b3-70d8-4d65-a43b-3addd4f850c8"
      },
      "source": [
        "df_solution_lin"
      ],
      "id": "IWpsM8zUR1Ak",
      "execution_count": 21,
      "outputs": [
        {
          "output_type": "execute_result",
          "data": {
            "text/html": [
              "<div>\n",
              "<style scoped>\n",
              "    .dataframe tbody tr th:only-of-type {\n",
              "        vertical-align: middle;\n",
              "    }\n",
              "\n",
              "    .dataframe tbody tr th {\n",
              "        vertical-align: top;\n",
              "    }\n",
              "\n",
              "    .dataframe thead th {\n",
              "        text-align: right;\n",
              "    }\n",
              "</style>\n",
              "<table border=\"1\" class=\"dataframe\">\n",
              "  <thead>\n",
              "    <tr style=\"text-align: right;\">\n",
              "      <th></th>\n",
              "      <th>iter</th>\n",
              "      <th>alpha</th>\n",
              "      <th>status</th>\n",
              "      <th>x1</th>\n",
              "      <th>x2</th>\n",
              "      <th>x3</th>\n",
              "      <th>x4</th>\n",
              "      <th>obj_value</th>\n",
              "      <th>f1</th>\n",
              "      <th>f2</th>\n",
              "    </tr>\n",
              "  </thead>\n",
              "  <tbody>\n",
              "    <tr>\n",
              "      <th>0</th>\n",
              "      <td>0</td>\n",
              "      <td>0.000000</td>\n",
              "      <td>Optimal</td>\n",
              "      <td>557.0</td>\n",
              "      <td>8610.0</td>\n",
              "      <td>1143.0</td>\n",
              "      <td>0.0</td>\n",
              "      <td>-3636.808787</td>\n",
              "      <td>-7721.50136</td>\n",
              "      <td>-3636.808787</td>\n",
              "    </tr>\n",
              "    <tr>\n",
              "      <th>1</th>\n",
              "      <td>1</td>\n",
              "      <td>0.001001</td>\n",
              "      <td>Optimal</td>\n",
              "      <td>557.0</td>\n",
              "      <td>8610.0</td>\n",
              "      <td>1143.0</td>\n",
              "      <td>0.0</td>\n",
              "      <td>-3640.897569</td>\n",
              "      <td>-7721.50136</td>\n",
              "      <td>-3636.808787</td>\n",
              "    </tr>\n",
              "    <tr>\n",
              "      <th>2</th>\n",
              "      <td>2</td>\n",
              "      <td>0.002002</td>\n",
              "      <td>Optimal</td>\n",
              "      <td>557.0</td>\n",
              "      <td>8610.0</td>\n",
              "      <td>1143.0</td>\n",
              "      <td>0.0</td>\n",
              "      <td>-3644.986350</td>\n",
              "      <td>-7721.50136</td>\n",
              "      <td>-3636.808787</td>\n",
              "    </tr>\n",
              "    <tr>\n",
              "      <th>3</th>\n",
              "      <td>3</td>\n",
              "      <td>0.003003</td>\n",
              "      <td>Optimal</td>\n",
              "      <td>557.0</td>\n",
              "      <td>8610.0</td>\n",
              "      <td>1143.0</td>\n",
              "      <td>0.0</td>\n",
              "      <td>-3649.075131</td>\n",
              "      <td>-7721.50136</td>\n",
              "      <td>-3636.808787</td>\n",
              "    </tr>\n",
              "    <tr>\n",
              "      <th>4</th>\n",
              "      <td>4</td>\n",
              "      <td>0.004004</td>\n",
              "      <td>Optimal</td>\n",
              "      <td>557.0</td>\n",
              "      <td>8610.0</td>\n",
              "      <td>1143.0</td>\n",
              "      <td>0.0</td>\n",
              "      <td>-3653.163913</td>\n",
              "      <td>-7721.50136</td>\n",
              "      <td>-3636.808787</td>\n",
              "    </tr>\n",
              "    <tr>\n",
              "      <th>...</th>\n",
              "      <td>...</td>\n",
              "      <td>...</td>\n",
              "      <td>...</td>\n",
              "      <td>...</td>\n",
              "      <td>...</td>\n",
              "      <td>...</td>\n",
              "      <td>...</td>\n",
              "      <td>...</td>\n",
              "      <td>...</td>\n",
              "      <td>...</td>\n",
              "    </tr>\n",
              "    <tr>\n",
              "      <th>995</th>\n",
              "      <td>995</td>\n",
              "      <td>0.995996</td>\n",
              "      <td>Optimal</td>\n",
              "      <td>557.0</td>\n",
              "      <td>8610.0</td>\n",
              "      <td>1143.0</td>\n",
              "      <td>0.0</td>\n",
              "      <td>-7705.146235</td>\n",
              "      <td>-7721.50136</td>\n",
              "      <td>-3636.808787</td>\n",
              "    </tr>\n",
              "    <tr>\n",
              "      <th>996</th>\n",
              "      <td>996</td>\n",
              "      <td>0.996997</td>\n",
              "      <td>Optimal</td>\n",
              "      <td>557.0</td>\n",
              "      <td>8610.0</td>\n",
              "      <td>1143.0</td>\n",
              "      <td>0.0</td>\n",
              "      <td>-7709.235016</td>\n",
              "      <td>-7721.50136</td>\n",
              "      <td>-3636.808787</td>\n",
              "    </tr>\n",
              "    <tr>\n",
              "      <th>997</th>\n",
              "      <td>997</td>\n",
              "      <td>0.997998</td>\n",
              "      <td>Optimal</td>\n",
              "      <td>557.0</td>\n",
              "      <td>8610.0</td>\n",
              "      <td>1143.0</td>\n",
              "      <td>0.0</td>\n",
              "      <td>-7713.323798</td>\n",
              "      <td>-7721.50136</td>\n",
              "      <td>-3636.808787</td>\n",
              "    </tr>\n",
              "    <tr>\n",
              "      <th>998</th>\n",
              "      <td>998</td>\n",
              "      <td>0.998999</td>\n",
              "      <td>Optimal</td>\n",
              "      <td>557.0</td>\n",
              "      <td>8610.0</td>\n",
              "      <td>1143.0</td>\n",
              "      <td>0.0</td>\n",
              "      <td>-7717.412579</td>\n",
              "      <td>-7721.50136</td>\n",
              "      <td>-3636.808787</td>\n",
              "    </tr>\n",
              "    <tr>\n",
              "      <th>999</th>\n",
              "      <td>999</td>\n",
              "      <td>1.000000</td>\n",
              "      <td>Optimal</td>\n",
              "      <td>557.0</td>\n",
              "      <td>8610.0</td>\n",
              "      <td>1143.0</td>\n",
              "      <td>0.0</td>\n",
              "      <td>-7721.501360</td>\n",
              "      <td>-7721.50136</td>\n",
              "      <td>-3636.808787</td>\n",
              "    </tr>\n",
              "  </tbody>\n",
              "</table>\n",
              "<p>1000 rows × 10 columns</p>\n",
              "</div>"
            ],
            "text/plain": [
              "     iter     alpha   status     x1  ...   x4    obj_value          f1           f2\n",
              "0       0  0.000000  Optimal  557.0  ...  0.0 -3636.808787 -7721.50136 -3636.808787\n",
              "1       1  0.001001  Optimal  557.0  ...  0.0 -3640.897569 -7721.50136 -3636.808787\n",
              "2       2  0.002002  Optimal  557.0  ...  0.0 -3644.986350 -7721.50136 -3636.808787\n",
              "3       3  0.003003  Optimal  557.0  ...  0.0 -3649.075131 -7721.50136 -3636.808787\n",
              "4       4  0.004004  Optimal  557.0  ...  0.0 -3653.163913 -7721.50136 -3636.808787\n",
              "..    ...       ...      ...    ...  ...  ...          ...         ...          ...\n",
              "995   995  0.995996  Optimal  557.0  ...  0.0 -7705.146235 -7721.50136 -3636.808787\n",
              "996   996  0.996997  Optimal  557.0  ...  0.0 -7709.235016 -7721.50136 -3636.808787\n",
              "997   997  0.997998  Optimal  557.0  ...  0.0 -7713.323798 -7721.50136 -3636.808787\n",
              "998   998  0.998999  Optimal  557.0  ...  0.0 -7717.412579 -7721.50136 -3636.808787\n",
              "999   999  1.000000  Optimal  557.0  ...  0.0 -7721.501360 -7721.50136 -3636.808787\n",
              "\n",
              "[1000 rows x 10 columns]"
            ]
          },
          "metadata": {},
          "execution_count": 21
        }
      ]
    },
    {
      "cell_type": "code",
      "metadata": {
        "id": "otq00yCQGhjL"
      },
      "source": [
        "df_solution_sig_004 = run_models(alpha_sig_004, C, A, b)"
      ],
      "id": "otq00yCQGhjL",
      "execution_count": 22,
      "outputs": []
    },
    {
      "cell_type": "code",
      "metadata": {
        "colab": {
          "base_uri": "https://localhost:8080/",
          "height": 424
        },
        "id": "mFi-X_ZjRrBt",
        "outputId": "12bcaaa7-1550-403b-e2ad-180c174b5eae"
      },
      "source": [
        "df_solution_sig_004"
      ],
      "id": "mFi-X_ZjRrBt",
      "execution_count": 23,
      "outputs": [
        {
          "output_type": "execute_result",
          "data": {
            "text/html": [
              "<div>\n",
              "<style scoped>\n",
              "    .dataframe tbody tr th:only-of-type {\n",
              "        vertical-align: middle;\n",
              "    }\n",
              "\n",
              "    .dataframe tbody tr th {\n",
              "        vertical-align: top;\n",
              "    }\n",
              "\n",
              "    .dataframe thead th {\n",
              "        text-align: right;\n",
              "    }\n",
              "</style>\n",
              "<table border=\"1\" class=\"dataframe\">\n",
              "  <thead>\n",
              "    <tr style=\"text-align: right;\">\n",
              "      <th></th>\n",
              "      <th>iter</th>\n",
              "      <th>alpha</th>\n",
              "      <th>status</th>\n",
              "      <th>x1</th>\n",
              "      <th>x2</th>\n",
              "      <th>x3</th>\n",
              "      <th>x4</th>\n",
              "      <th>obj_value</th>\n",
              "      <th>f1</th>\n",
              "      <th>f2</th>\n",
              "    </tr>\n",
              "  </thead>\n",
              "  <tbody>\n",
              "    <tr>\n",
              "      <th>0</th>\n",
              "      <td>0</td>\n",
              "      <td>0.119203</td>\n",
              "      <td>Optimal</td>\n",
              "      <td>557.0</td>\n",
              "      <td>8610.0</td>\n",
              "      <td>1143.0</td>\n",
              "      <td>0.0</td>\n",
              "      <td>-4123.716078</td>\n",
              "      <td>-7721.50136</td>\n",
              "      <td>-3636.808787</td>\n",
              "    </tr>\n",
              "    <tr>\n",
              "      <th>1</th>\n",
              "      <td>1</td>\n",
              "      <td>0.119624</td>\n",
              "      <td>Optimal</td>\n",
              "      <td>557.0</td>\n",
              "      <td>8610.0</td>\n",
              "      <td>1143.0</td>\n",
              "      <td>0.0</td>\n",
              "      <td>-4125.435881</td>\n",
              "      <td>-7721.50136</td>\n",
              "      <td>-3636.808787</td>\n",
              "    </tr>\n",
              "    <tr>\n",
              "      <th>2</th>\n",
              "      <td>2</td>\n",
              "      <td>0.120046</td>\n",
              "      <td>Optimal</td>\n",
              "      <td>557.0</td>\n",
              "      <td>8610.0</td>\n",
              "      <td>1143.0</td>\n",
              "      <td>0.0</td>\n",
              "      <td>-4127.160930</td>\n",
              "      <td>-7721.50136</td>\n",
              "      <td>-3636.808787</td>\n",
              "    </tr>\n",
              "    <tr>\n",
              "      <th>3</th>\n",
              "      <td>3</td>\n",
              "      <td>0.120470</td>\n",
              "      <td>Optimal</td>\n",
              "      <td>557.0</td>\n",
              "      <td>8610.0</td>\n",
              "      <td>1143.0</td>\n",
              "      <td>0.0</td>\n",
              "      <td>-4128.891237</td>\n",
              "      <td>-7721.50136</td>\n",
              "      <td>-3636.808787</td>\n",
              "    </tr>\n",
              "    <tr>\n",
              "      <th>4</th>\n",
              "      <td>4</td>\n",
              "      <td>0.120895</td>\n",
              "      <td>Optimal</td>\n",
              "      <td>557.0</td>\n",
              "      <td>8610.0</td>\n",
              "      <td>1143.0</td>\n",
              "      <td>0.0</td>\n",
              "      <td>-4130.626810</td>\n",
              "      <td>-7721.50136</td>\n",
              "      <td>-3636.808787</td>\n",
              "    </tr>\n",
              "    <tr>\n",
              "      <th>...</th>\n",
              "      <td>...</td>\n",
              "      <td>...</td>\n",
              "      <td>...</td>\n",
              "      <td>...</td>\n",
              "      <td>...</td>\n",
              "      <td>...</td>\n",
              "      <td>...</td>\n",
              "      <td>...</td>\n",
              "      <td>...</td>\n",
              "      <td>...</td>\n",
              "    </tr>\n",
              "    <tr>\n",
              "      <th>995</th>\n",
              "      <td>995</td>\n",
              "      <td>0.879105</td>\n",
              "      <td>Optimal</td>\n",
              "      <td>557.0</td>\n",
              "      <td>8610.0</td>\n",
              "      <td>1143.0</td>\n",
              "      <td>0.0</td>\n",
              "      <td>-7227.683337</td>\n",
              "      <td>-7721.50136</td>\n",
              "      <td>-3636.808787</td>\n",
              "    </tr>\n",
              "    <tr>\n",
              "      <th>996</th>\n",
              "      <td>996</td>\n",
              "      <td>0.879530</td>\n",
              "      <td>Optimal</td>\n",
              "      <td>557.0</td>\n",
              "      <td>8610.0</td>\n",
              "      <td>1143.0</td>\n",
              "      <td>0.0</td>\n",
              "      <td>-7229.418911</td>\n",
              "      <td>-7721.50136</td>\n",
              "      <td>-3636.808787</td>\n",
              "    </tr>\n",
              "    <tr>\n",
              "      <th>997</th>\n",
              "      <td>997</td>\n",
              "      <td>0.879954</td>\n",
              "      <td>Optimal</td>\n",
              "      <td>557.0</td>\n",
              "      <td>8610.0</td>\n",
              "      <td>1143.0</td>\n",
              "      <td>0.0</td>\n",
              "      <td>-7231.149217</td>\n",
              "      <td>-7721.50136</td>\n",
              "      <td>-3636.808787</td>\n",
              "    </tr>\n",
              "    <tr>\n",
              "      <th>998</th>\n",
              "      <td>998</td>\n",
              "      <td>0.880376</td>\n",
              "      <td>Optimal</td>\n",
              "      <td>557.0</td>\n",
              "      <td>8610.0</td>\n",
              "      <td>1143.0</td>\n",
              "      <td>0.0</td>\n",
              "      <td>-7232.874267</td>\n",
              "      <td>-7721.50136</td>\n",
              "      <td>-3636.808787</td>\n",
              "    </tr>\n",
              "    <tr>\n",
              "      <th>999</th>\n",
              "      <td>999</td>\n",
              "      <td>0.880797</td>\n",
              "      <td>Optimal</td>\n",
              "      <td>557.0</td>\n",
              "      <td>8610.0</td>\n",
              "      <td>1143.0</td>\n",
              "      <td>0.0</td>\n",
              "      <td>-7234.594070</td>\n",
              "      <td>-7721.50136</td>\n",
              "      <td>-3636.808787</td>\n",
              "    </tr>\n",
              "  </tbody>\n",
              "</table>\n",
              "<p>1000 rows × 10 columns</p>\n",
              "</div>"
            ],
            "text/plain": [
              "     iter     alpha   status     x1  ...   x4    obj_value          f1           f2\n",
              "0       0  0.119203  Optimal  557.0  ...  0.0 -4123.716078 -7721.50136 -3636.808787\n",
              "1       1  0.119624  Optimal  557.0  ...  0.0 -4125.435881 -7721.50136 -3636.808787\n",
              "2       2  0.120046  Optimal  557.0  ...  0.0 -4127.160930 -7721.50136 -3636.808787\n",
              "3       3  0.120470  Optimal  557.0  ...  0.0 -4128.891237 -7721.50136 -3636.808787\n",
              "4       4  0.120895  Optimal  557.0  ...  0.0 -4130.626810 -7721.50136 -3636.808787\n",
              "..    ...       ...      ...    ...  ...  ...          ...         ...          ...\n",
              "995   995  0.879105  Optimal  557.0  ...  0.0 -7227.683337 -7721.50136 -3636.808787\n",
              "996   996  0.879530  Optimal  557.0  ...  0.0 -7229.418911 -7721.50136 -3636.808787\n",
              "997   997  0.879954  Optimal  557.0  ...  0.0 -7231.149217 -7721.50136 -3636.808787\n",
              "998   998  0.880376  Optimal  557.0  ...  0.0 -7232.874267 -7721.50136 -3636.808787\n",
              "999   999  0.880797  Optimal  557.0  ...  0.0 -7234.594070 -7721.50136 -3636.808787\n",
              "\n",
              "[1000 rows x 10 columns]"
            ]
          },
          "metadata": {},
          "execution_count": 23
        }
      ]
    },
    {
      "cell_type": "code",
      "metadata": {
        "id": "H2PJQsK1J_kn"
      },
      "source": [
        "df_solution_sig_06 = run_models(alpha_sig_06, C, A, b)"
      ],
      "id": "H2PJQsK1J_kn",
      "execution_count": 24,
      "outputs": []
    },
    {
      "cell_type": "code",
      "metadata": {
        "colab": {
          "base_uri": "https://localhost:8080/",
          "height": 424
        },
        "id": "jolJ2ryTPCk0",
        "outputId": "d50a8c31-49ec-4a4d-8924-72262782274d"
      },
      "source": [
        "df_solution_sig_06"
      ],
      "id": "jolJ2ryTPCk0",
      "execution_count": 25,
      "outputs": [
        {
          "output_type": "execute_result",
          "data": {
            "text/html": [
              "<div>\n",
              "<style scoped>\n",
              "    .dataframe tbody tr th:only-of-type {\n",
              "        vertical-align: middle;\n",
              "    }\n",
              "\n",
              "    .dataframe tbody tr th {\n",
              "        vertical-align: top;\n",
              "    }\n",
              "\n",
              "    .dataframe thead th {\n",
              "        text-align: right;\n",
              "    }\n",
              "</style>\n",
              "<table border=\"1\" class=\"dataframe\">\n",
              "  <thead>\n",
              "    <tr style=\"text-align: right;\">\n",
              "      <th></th>\n",
              "      <th>iter</th>\n",
              "      <th>alpha</th>\n",
              "      <th>status</th>\n",
              "      <th>x1</th>\n",
              "      <th>x2</th>\n",
              "      <th>x3</th>\n",
              "      <th>x4</th>\n",
              "      <th>obj_value</th>\n",
              "      <th>f1</th>\n",
              "      <th>f2</th>\n",
              "    </tr>\n",
              "  </thead>\n",
              "  <tbody>\n",
              "    <tr>\n",
              "      <th>0</th>\n",
              "      <td>0</td>\n",
              "      <td>9.357623e-14</td>\n",
              "      <td>Optimal</td>\n",
              "      <td>557.0</td>\n",
              "      <td>8610.0</td>\n",
              "      <td>1143.0</td>\n",
              "      <td>0.0</td>\n",
              "      <td>-3636.808787</td>\n",
              "      <td>-7721.50136</td>\n",
              "      <td>-3636.808787</td>\n",
              "    </tr>\n",
              "    <tr>\n",
              "      <th>1</th>\n",
              "      <td>1</td>\n",
              "      <td>9.936863e-14</td>\n",
              "      <td>Optimal</td>\n",
              "      <td>557.0</td>\n",
              "      <td>8610.0</td>\n",
              "      <td>1143.0</td>\n",
              "      <td>0.0</td>\n",
              "      <td>-3636.808787</td>\n",
              "      <td>-7721.50136</td>\n",
              "      <td>-3636.808787</td>\n",
              "    </tr>\n",
              "    <tr>\n",
              "      <th>2</th>\n",
              "      <td>2</td>\n",
              "      <td>1.055196e-13</td>\n",
              "      <td>Optimal</td>\n",
              "      <td>557.0</td>\n",
              "      <td>8610.0</td>\n",
              "      <td>1143.0</td>\n",
              "      <td>0.0</td>\n",
              "      <td>-3636.808787</td>\n",
              "      <td>-7721.50136</td>\n",
              "      <td>-3636.808787</td>\n",
              "    </tr>\n",
              "    <tr>\n",
              "      <th>3</th>\n",
              "      <td>3</td>\n",
              "      <td>1.120513e-13</td>\n",
              "      <td>Optimal</td>\n",
              "      <td>557.0</td>\n",
              "      <td>8610.0</td>\n",
              "      <td>1143.0</td>\n",
              "      <td>0.0</td>\n",
              "      <td>-3636.808787</td>\n",
              "      <td>-7721.50136</td>\n",
              "      <td>-3636.808787</td>\n",
              "    </tr>\n",
              "    <tr>\n",
              "      <th>4</th>\n",
              "      <td>4</td>\n",
              "      <td>1.189873e-13</td>\n",
              "      <td>Optimal</td>\n",
              "      <td>557.0</td>\n",
              "      <td>8610.0</td>\n",
              "      <td>1143.0</td>\n",
              "      <td>0.0</td>\n",
              "      <td>-3636.808787</td>\n",
              "      <td>-7721.50136</td>\n",
              "      <td>-3636.808787</td>\n",
              "    </tr>\n",
              "    <tr>\n",
              "      <th>...</th>\n",
              "      <td>...</td>\n",
              "      <td>...</td>\n",
              "      <td>...</td>\n",
              "      <td>...</td>\n",
              "      <td>...</td>\n",
              "      <td>...</td>\n",
              "      <td>...</td>\n",
              "      <td>...</td>\n",
              "      <td>...</td>\n",
              "      <td>...</td>\n",
              "    </tr>\n",
              "    <tr>\n",
              "      <th>995</th>\n",
              "      <td>995</td>\n",
              "      <td>1.000000e+00</td>\n",
              "      <td>Optimal</td>\n",
              "      <td>557.0</td>\n",
              "      <td>8610.0</td>\n",
              "      <td>1143.0</td>\n",
              "      <td>0.0</td>\n",
              "      <td>-7721.501360</td>\n",
              "      <td>-7721.50136</td>\n",
              "      <td>-3636.808787</td>\n",
              "    </tr>\n",
              "    <tr>\n",
              "      <th>996</th>\n",
              "      <td>996</td>\n",
              "      <td>1.000000e+00</td>\n",
              "      <td>Optimal</td>\n",
              "      <td>557.0</td>\n",
              "      <td>8610.0</td>\n",
              "      <td>1143.0</td>\n",
              "      <td>0.0</td>\n",
              "      <td>-7721.501360</td>\n",
              "      <td>-7721.50136</td>\n",
              "      <td>-3636.808787</td>\n",
              "    </tr>\n",
              "    <tr>\n",
              "      <th>997</th>\n",
              "      <td>997</td>\n",
              "      <td>1.000000e+00</td>\n",
              "      <td>Optimal</td>\n",
              "      <td>557.0</td>\n",
              "      <td>8610.0</td>\n",
              "      <td>1143.0</td>\n",
              "      <td>0.0</td>\n",
              "      <td>-7721.501360</td>\n",
              "      <td>-7721.50136</td>\n",
              "      <td>-3636.808787</td>\n",
              "    </tr>\n",
              "    <tr>\n",
              "      <th>998</th>\n",
              "      <td>998</td>\n",
              "      <td>1.000000e+00</td>\n",
              "      <td>Optimal</td>\n",
              "      <td>557.0</td>\n",
              "      <td>8610.0</td>\n",
              "      <td>1143.0</td>\n",
              "      <td>0.0</td>\n",
              "      <td>-7721.501360</td>\n",
              "      <td>-7721.50136</td>\n",
              "      <td>-3636.808787</td>\n",
              "    </tr>\n",
              "    <tr>\n",
              "      <th>999</th>\n",
              "      <td>999</td>\n",
              "      <td>1.000000e+00</td>\n",
              "      <td>Optimal</td>\n",
              "      <td>557.0</td>\n",
              "      <td>8610.0</td>\n",
              "      <td>1143.0</td>\n",
              "      <td>0.0</td>\n",
              "      <td>-7721.501360</td>\n",
              "      <td>-7721.50136</td>\n",
              "      <td>-3636.808787</td>\n",
              "    </tr>\n",
              "  </tbody>\n",
              "</table>\n",
              "<p>1000 rows × 10 columns</p>\n",
              "</div>"
            ],
            "text/plain": [
              "     iter         alpha   status  ...    obj_value          f1           f2\n",
              "0       0  9.357623e-14  Optimal  ... -3636.808787 -7721.50136 -3636.808787\n",
              "1       1  9.936863e-14  Optimal  ... -3636.808787 -7721.50136 -3636.808787\n",
              "2       2  1.055196e-13  Optimal  ... -3636.808787 -7721.50136 -3636.808787\n",
              "3       3  1.120513e-13  Optimal  ... -3636.808787 -7721.50136 -3636.808787\n",
              "4       4  1.189873e-13  Optimal  ... -3636.808787 -7721.50136 -3636.808787\n",
              "..    ...           ...      ...  ...          ...         ...          ...\n",
              "995   995  1.000000e+00  Optimal  ... -7721.501360 -7721.50136 -3636.808787\n",
              "996   996  1.000000e+00  Optimal  ... -7721.501360 -7721.50136 -3636.808787\n",
              "997   997  1.000000e+00  Optimal  ... -7721.501360 -7721.50136 -3636.808787\n",
              "998   998  1.000000e+00  Optimal  ... -7721.501360 -7721.50136 -3636.808787\n",
              "999   999  1.000000e+00  Optimal  ... -7721.501360 -7721.50136 -3636.808787\n",
              "\n",
              "[1000 rows x 10 columns]"
            ]
          },
          "metadata": {},
          "execution_count": 25
        }
      ]
    },
    {
      "cell_type": "code",
      "metadata": {
        "colab": {
          "base_uri": "https://localhost:8080/",
          "height": 297
        },
        "id": "2sdLYsQGOdl0",
        "outputId": "37fe675d-1f39-49cd-9d6b-d71c105ff05a"
      },
      "source": [
        "df_solution_sig_06.plot.scatter(x='f1', y='f2')"
      ],
      "id": "2sdLYsQGOdl0",
      "execution_count": 26,
      "outputs": [
        {
          "output_type": "execute_result",
          "data": {
            "text/plain": [
              "<matplotlib.axes._subplots.AxesSubplot at 0x7fe21c410650>"
            ]
          },
          "metadata": {},
          "execution_count": 26
        },
        {
          "output_type": "display_data",
          "data": {
            "image/png": "[encoded data removed]",
            "text/plain": [
              "<Figure size 432x288 with 1 Axes>"
            ]
          },
          "metadata": {
            "needs_background": "light"
          }
        }
      ]
    },
    {
      "cell_type": "markdown",
      "metadata": {
        "id": "GPcu7obqL5pn"
      },
      "source": [
        "##Paper 2 (P2): Land Use Scenarios and Optimization in a Watershed.\n",
        "\n",
        "D. Nikkami, M. Shabani and H. Ahmadi, 2009. Land Use Scenarios and Optimization in a Watershed. Journal of Applied Sciences, 9: 287-295. DOI: 10.3923/jas.2009.287.295"
      ],
      "id": "GPcu7obqL5pn"
    },
    {
      "cell_type": "markdown",
      "metadata": {
        "id": "-y1G7BjMMgEr"
      },
      "source": [
        "### Model Parameter"
      ],
      "id": "-y1G7BjMMgEr"
    },
    {
      "cell_type": "code",
      "metadata": {
        "id": "iwj1v2KaJn1U"
      },
      "source": [
        "# Variáveis do modelo\n",
        "\n",
        "Cini = np.array([[21.452,  0.101 ,  4.56,  1.013],\n",
        "              [8.77, 10.47, 12.57, 10.81]])\n",
        "\n",
        "A = np.array([  [1, 0, 0, 0],\n",
        "                [0, 0, 1, 0],\n",
        "                [0, 0, 0, 1],\n",
        "                [1, 0, 1, 0],\n",
        "                [1, 1, 1, 1],\n",
        "                [1, 0, 0, 0],\n",
        "                [0, 1, 0, 0]])\n",
        "\n",
        "b = np.array([[2115],[237],[207],[2352],[13032],[561],[10550]])"
      ],
      "id": "iwj1v2KaJn1U",
      "execution_count": 27,
      "outputs": []
    },
    {
      "cell_type": "code",
      "metadata": {
        "id": "qqT32nimMpyr"
      },
      "source": [
        ""
      ],
      "id": "qqT32nimMpyr",
      "execution_count": 27,
      "outputs": []
    },
    {
      "cell_type": "markdown",
      "metadata": {
        "id": "ZURta3uzMqSx"
      },
      "source": [
        "### Solution\n"
      ],
      "id": "ZURta3uzMqSx"
    },
    {
      "cell_type": "markdown",
      "metadata": {
        "id": "i0TB1F_WMqSz"
      },
      "source": [
        "#### Approach 1"
      ],
      "id": "i0TB1F_WMqSz"
    },
    {
      "cell_type": "code",
      "metadata": {
        "id": "ILOwHbYaLYme"
      },
      "source": [
        "C = Cini"
      ],
      "id": "ILOwHbYaLYme",
      "execution_count": 28,
      "outputs": []
    },
    {
      "cell_type": "markdown",
      "metadata": {
        "id": "BCq7xpWcMqS1"
      },
      "source": [
        "##### Step 1"
      ],
      "id": "BCq7xpWcMqS1"
    },
    {
      "cell_type": "code",
      "metadata": {
        "id": "RiyGfY3eMqS3"
      },
      "source": [
        "linearProblem = pulp.LpProblem(\"First_Objective_Max\",pulp.LpMaximize)\n",
        "\n",
        "X = create_x_variables()\n",
        "\n",
        "linearProblem += f(C[0], X)\n",
        "\n",
        "linearProblem = load_model(linearProblem, A, X, b)\n",
        "\n",
        "solution = linearProblem.solve()"
      ],
      "id": "RiyGfY3eMqS3",
      "execution_count": 29,
      "outputs": []
    },
    {
      "cell_type": "code",
      "metadata": {
        "colab": {
          "base_uri": "https://localhost:8080/"
        },
        "id": "r0Kt14BgMqS5",
        "outputId": "f9e84435-5c51-4126-a7b0-9b26c0ff8c12"
      },
      "source": [
        "print_solution(solution, linearProblem, X)"
      ],
      "id": "r0Kt14BgMqS5",
      "execution_count": 30,
      "outputs": [
        {
          "output_type": "stream",
          "text": [
            "\n",
            "Status = Optimal\n",
            "Value = 47648.94000000001\n",
            "x1 = 2115.0\n",
            "x2 = 10550.0\n",
            "x3 = 237.0\n",
            "x4 = 130.0\n"
          ],
          "name": "stdout"
        }
      ]
    },
    {
      "cell_type": "code",
      "metadata": {
        "id": "6VMyq_3dMqS7"
      },
      "source": [
        "f1_max = pulp.value(linearProblem.objective)"
      ],
      "id": "6VMyq_3dMqS7",
      "execution_count": 31,
      "outputs": []
    },
    {
      "cell_type": "markdown",
      "metadata": {
        "id": "iUrjbv8UMqS-"
      },
      "source": [
        "##### Step 2"
      ],
      "id": "iUrjbv8UMqS-"
    },
    {
      "cell_type": "code",
      "metadata": {
        "id": "xfkKb8HLMqTC"
      },
      "source": [
        "linearProblem = pulp.LpProblem(\"Second_Objective_Min\",pulp.LpMinimize)\n",
        "\n",
        "X = create_x_variables()\n",
        "\n",
        "linearProblem += f(C[1], X)\n",
        "\n",
        "linearProblem = load_model(linearProblem, A, X, b)\n",
        "\n",
        "linearProblem += f(C[0], X) >= f1_max\n",
        "\n",
        "solution = linearProblem.solve()"
      ],
      "id": "xfkKb8HLMqTC",
      "execution_count": 32,
      "outputs": []
    },
    {
      "cell_type": "code",
      "metadata": {
        "colab": {
          "base_uri": "https://localhost:8080/"
        },
        "id": "nca68wQ2MqTE",
        "outputId": "acacb7cc-108c-4ec3-ebb2-f2516b8d9ff8"
      },
      "source": [
        "print_solution(solution, linearProblem, X)"
      ],
      "id": "nca68wQ2MqTE",
      "execution_count": 33,
      "outputs": [
        {
          "output_type": "stream",
          "text": [
            "\n",
            "Status = Optimal\n",
            "Value = 133391.44\n",
            "x1 = 2115.0\n",
            "x2 = 10550.0\n",
            "x3 = 237.0\n",
            "x4 = 130.0\n"
          ],
          "name": "stdout"
        }
      ]
    },
    {
      "cell_type": "markdown",
      "metadata": {
        "id": "pqvCE16DMqTH"
      },
      "source": [
        "#### Approach 2"
      ],
      "id": "pqvCE16DMqTH"
    },
    {
      "cell_type": "code",
      "metadata": {
        "id": "Vs4LKEseLVdk"
      },
      "source": [
        "C = DataStandardization(Cini)"
      ],
      "id": "Vs4LKEseLVdk",
      "execution_count": 34,
      "outputs": []
    },
    {
      "cell_type": "code",
      "metadata": {
        "id": "vfHYYv6yN5KN",
        "outputId": "174035fe-8246-4119-b53e-728319ed7927",
        "colab": {
          "base_uri": "https://localhost:8080/",
          "height": 53
        }
      },
      "source": [
        "display(C)"
      ],
      "id": "vfHYYv6yN5KN",
      "execution_count": 35,
      "outputs": [
        {
          "output_type": "display_data",
          "data": {
            "text/plain": [
              "array([[ 1.96676355, -1.33095853, -0.64225342, -1.19009756],\n",
              "       [ 0.00799293,  0.27056272,  0.59491364,  0.32307668]])"
            ]
          },
          "metadata": {}
        }
      ]
    },
    {
      "cell_type": "code",
      "metadata": {
        "id": "S2MU40wTMqTP"
      },
      "source": [
        "df_solution_lin = run_models(alpha_lin, C, A, b)"
      ],
      "id": "S2MU40wTMqTP",
      "execution_count": 36,
      "outputs": []
    },
    {
      "cell_type": "code",
      "metadata": {
        "colab": {
          "base_uri": "https://localhost:8080/",
          "height": 424
        },
        "id": "jk7saxf0MqTQ",
        "outputId": "ad2cc172-8fcd-4dd9-ed8c-400007fa0cfe"
      },
      "source": [
        "df_solution_lin"
      ],
      "id": "jk7saxf0MqTQ",
      "execution_count": 37,
      "outputs": [
        {
          "output_type": "execute_result",
          "data": {
            "text/html": [
              "<div>\n",
              "<style scoped>\n",
              "    .dataframe tbody tr th:only-of-type {\n",
              "        vertical-align: middle;\n",
              "    }\n",
              "\n",
              "    .dataframe tbody tr th {\n",
              "        vertical-align: top;\n",
              "    }\n",
              "\n",
              "    .dataframe thead th {\n",
              "        text-align: right;\n",
              "    }\n",
              "</style>\n",
              "<table border=\"1\" class=\"dataframe\">\n",
              "  <thead>\n",
              "    <tr style=\"text-align: right;\">\n",
              "      <th></th>\n",
              "      <th>iter</th>\n",
              "      <th>alpha</th>\n",
              "      <th>status</th>\n",
              "      <th>x1</th>\n",
              "      <th>x2</th>\n",
              "      <th>x3</th>\n",
              "      <th>x4</th>\n",
              "      <th>obj_value</th>\n",
              "      <th>f1</th>\n",
              "      <th>f2</th>\n",
              "    </tr>\n",
              "  </thead>\n",
              "  <tbody>\n",
              "    <tr>\n",
              "      <th>0</th>\n",
              "      <td>0</td>\n",
              "      <td>0.000000</td>\n",
              "      <td>Optimal</td>\n",
              "      <td>2115.0</td>\n",
              "      <td>10917.0</td>\n",
              "      <td>0.0</td>\n",
              "      <td>0.0</td>\n",
              "      <td>-2970.638281</td>\n",
              "      <td>-10370.369387</td>\n",
              "      <td>-2970.638281</td>\n",
              "    </tr>\n",
              "    <tr>\n",
              "      <th>1</th>\n",
              "      <td>1</td>\n",
              "      <td>0.001001</td>\n",
              "      <td>Optimal</td>\n",
              "      <td>2115.0</td>\n",
              "      <td>10917.0</td>\n",
              "      <td>0.0</td>\n",
              "      <td>0.0</td>\n",
              "      <td>-2978.045419</td>\n",
              "      <td>-10370.369387</td>\n",
              "      <td>-2970.638281</td>\n",
              "    </tr>\n",
              "    <tr>\n",
              "      <th>2</th>\n",
              "      <td>2</td>\n",
              "      <td>0.002002</td>\n",
              "      <td>Optimal</td>\n",
              "      <td>2115.0</td>\n",
              "      <td>10917.0</td>\n",
              "      <td>0.0</td>\n",
              "      <td>0.0</td>\n",
              "      <td>-2985.452557</td>\n",
              "      <td>-10370.369387</td>\n",
              "      <td>-2970.638281</td>\n",
              "    </tr>\n",
              "    <tr>\n",
              "      <th>3</th>\n",
              "      <td>3</td>\n",
              "      <td>0.003003</td>\n",
              "      <td>Optimal</td>\n",
              "      <td>2115.0</td>\n",
              "      <td>10917.0</td>\n",
              "      <td>0.0</td>\n",
              "      <td>0.0</td>\n",
              "      <td>-2992.859696</td>\n",
              "      <td>-10370.369387</td>\n",
              "      <td>-2970.638281</td>\n",
              "    </tr>\n",
              "    <tr>\n",
              "      <th>4</th>\n",
              "      <td>4</td>\n",
              "      <td>0.004004</td>\n",
              "      <td>Optimal</td>\n",
              "      <td>2115.0</td>\n",
              "      <td>10917.0</td>\n",
              "      <td>0.0</td>\n",
              "      <td>0.0</td>\n",
              "      <td>-3000.266834</td>\n",
              "      <td>-10370.369387</td>\n",
              "      <td>-2970.638281</td>\n",
              "    </tr>\n",
              "    <tr>\n",
              "      <th>...</th>\n",
              "      <td>...</td>\n",
              "      <td>...</td>\n",
              "      <td>...</td>\n",
              "      <td>...</td>\n",
              "      <td>...</td>\n",
              "      <td>...</td>\n",
              "      <td>...</td>\n",
              "      <td>...</td>\n",
              "      <td>...</td>\n",
              "      <td>...</td>\n",
              "    </tr>\n",
              "    <tr>\n",
              "      <th>995</th>\n",
              "      <td>995</td>\n",
              "      <td>0.995996</td>\n",
              "      <td>Optimal</td>\n",
              "      <td>2115.0</td>\n",
              "      <td>10550.0</td>\n",
              "      <td>237.0</td>\n",
              "      <td>130.0</td>\n",
              "      <td>-10160.267791</td>\n",
              "      <td>-10188.834350</td>\n",
              "      <td>-3054.336262</td>\n",
              "    </tr>\n",
              "    <tr>\n",
              "      <th>996</th>\n",
              "      <td>996</td>\n",
              "      <td>0.996997</td>\n",
              "      <td>Optimal</td>\n",
              "      <td>2115.0</td>\n",
              "      <td>10550.0</td>\n",
              "      <td>237.0</td>\n",
              "      <td>130.0</td>\n",
              "      <td>-10167.409431</td>\n",
              "      <td>-10188.834350</td>\n",
              "      <td>-3054.336262</td>\n",
              "    </tr>\n",
              "    <tr>\n",
              "      <th>997</th>\n",
              "      <td>997</td>\n",
              "      <td>0.997998</td>\n",
              "      <td>Optimal</td>\n",
              "      <td>2115.0</td>\n",
              "      <td>10550.0</td>\n",
              "      <td>237.0</td>\n",
              "      <td>130.0</td>\n",
              "      <td>-10174.551071</td>\n",
              "      <td>-10188.834350</td>\n",
              "      <td>-3054.336262</td>\n",
              "    </tr>\n",
              "    <tr>\n",
              "      <th>998</th>\n",
              "      <td>998</td>\n",
              "      <td>0.998999</td>\n",
              "      <td>Optimal</td>\n",
              "      <td>2115.0</td>\n",
              "      <td>10550.0</td>\n",
              "      <td>237.0</td>\n",
              "      <td>130.0</td>\n",
              "      <td>-10181.692710</td>\n",
              "      <td>-10188.834350</td>\n",
              "      <td>-3054.336262</td>\n",
              "    </tr>\n",
              "    <tr>\n",
              "      <th>999</th>\n",
              "      <td>999</td>\n",
              "      <td>1.000000</td>\n",
              "      <td>Optimal</td>\n",
              "      <td>2115.0</td>\n",
              "      <td>10550.0</td>\n",
              "      <td>237.0</td>\n",
              "      <td>130.0</td>\n",
              "      <td>-10188.834350</td>\n",
              "      <td>-10188.834350</td>\n",
              "      <td>-3054.336262</td>\n",
              "    </tr>\n",
              "  </tbody>\n",
              "</table>\n",
              "<p>1000 rows × 10 columns</p>\n",
              "</div>"
            ],
            "text/plain": [
              "     iter     alpha   status  ...     obj_value            f1           f2\n",
              "0       0  0.000000  Optimal  ...  -2970.638281 -10370.369387 -2970.638281\n",
              "1       1  0.001001  Optimal  ...  -2978.045419 -10370.369387 -2970.638281\n",
              "2       2  0.002002  Optimal  ...  -2985.452557 -10370.369387 -2970.638281\n",
              "3       3  0.003003  Optimal  ...  -2992.859696 -10370.369387 -2970.638281\n",
              "4       4  0.004004  Optimal  ...  -3000.266834 -10370.369387 -2970.638281\n",
              "..    ...       ...      ...  ...           ...           ...          ...\n",
              "995   995  0.995996  Optimal  ... -10160.267791 -10188.834350 -3054.336262\n",
              "996   996  0.996997  Optimal  ... -10167.409431 -10188.834350 -3054.336262\n",
              "997   997  0.997998  Optimal  ... -10174.551071 -10188.834350 -3054.336262\n",
              "998   998  0.998999  Optimal  ... -10181.692710 -10188.834350 -3054.336262\n",
              "999   999  1.000000  Optimal  ... -10188.834350 -10188.834350 -3054.336262\n",
              "\n",
              "[1000 rows x 10 columns]"
            ]
          },
          "metadata": {},
          "execution_count": 37
        }
      ]
    },
    {
      "cell_type": "code",
      "metadata": {
        "id": "HXWuwYL8MqTV"
      },
      "source": [
        "df_solution_sig_004 = run_models(alpha_sig_004, C, A, b)"
      ],
      "id": "HXWuwYL8MqTV",
      "execution_count": 38,
      "outputs": []
    },
    {
      "cell_type": "code",
      "metadata": {
        "colab": {
          "base_uri": "https://localhost:8080/",
          "height": 424
        },
        "id": "XVkI4uPcMqTW",
        "outputId": "fa4df958-b569-4387-faa2-0bb97052f3ce"
      },
      "source": [
        "df_solution_sig_004"
      ],
      "id": "XVkI4uPcMqTW",
      "execution_count": 39,
      "outputs": [
        {
          "output_type": "execute_result",
          "data": {
            "text/html": [
              "<div>\n",
              "<style scoped>\n",
              "    .dataframe tbody tr th:only-of-type {\n",
              "        vertical-align: middle;\n",
              "    }\n",
              "\n",
              "    .dataframe tbody tr th {\n",
              "        vertical-align: top;\n",
              "    }\n",
              "\n",
              "    .dataframe thead th {\n",
              "        text-align: right;\n",
              "    }\n",
              "</style>\n",
              "<table border=\"1\" class=\"dataframe\">\n",
              "  <thead>\n",
              "    <tr style=\"text-align: right;\">\n",
              "      <th></th>\n",
              "      <th>iter</th>\n",
              "      <th>alpha</th>\n",
              "      <th>status</th>\n",
              "      <th>x1</th>\n",
              "      <th>x2</th>\n",
              "      <th>x3</th>\n",
              "      <th>x4</th>\n",
              "      <th>obj_value</th>\n",
              "      <th>f1</th>\n",
              "      <th>f2</th>\n",
              "    </tr>\n",
              "  </thead>\n",
              "  <tbody>\n",
              "    <tr>\n",
              "      <th>0</th>\n",
              "      <td>0</td>\n",
              "      <td>0.119203</td>\n",
              "      <td>Optimal</td>\n",
              "      <td>2115.0</td>\n",
              "      <td>10917.0</td>\n",
              "      <td>0.0</td>\n",
              "      <td>0.0</td>\n",
              "      <td>-3852.707851</td>\n",
              "      <td>-10370.369387</td>\n",
              "      <td>-2970.638281</td>\n",
              "    </tr>\n",
              "    <tr>\n",
              "      <th>1</th>\n",
              "      <td>1</td>\n",
              "      <td>0.119624</td>\n",
              "      <td>Optimal</td>\n",
              "      <td>2115.0</td>\n",
              "      <td>10917.0</td>\n",
              "      <td>0.0</td>\n",
              "      <td>0.0</td>\n",
              "      <td>-3855.823405</td>\n",
              "      <td>-10370.369387</td>\n",
              "      <td>-2970.638281</td>\n",
              "    </tr>\n",
              "    <tr>\n",
              "      <th>2</th>\n",
              "      <td>2</td>\n",
              "      <td>0.120046</td>\n",
              "      <td>Optimal</td>\n",
              "      <td>2115.0</td>\n",
              "      <td>10917.0</td>\n",
              "      <td>0.0</td>\n",
              "      <td>0.0</td>\n",
              "      <td>-3858.948464</td>\n",
              "      <td>-10370.369387</td>\n",
              "      <td>-2970.638281</td>\n",
              "    </tr>\n",
              "    <tr>\n",
              "      <th>3</th>\n",
              "      <td>3</td>\n",
              "      <td>0.120470</td>\n",
              "      <td>Optimal</td>\n",
              "      <td>2115.0</td>\n",
              "      <td>10917.0</td>\n",
              "      <td>0.0</td>\n",
              "      <td>0.0</td>\n",
              "      <td>-3862.083046</td>\n",
              "      <td>-10370.369387</td>\n",
              "      <td>-2970.638281</td>\n",
              "    </tr>\n",
              "    <tr>\n",
              "      <th>4</th>\n",
              "      <td>4</td>\n",
              "      <td>0.120895</td>\n",
              "      <td>Optimal</td>\n",
              "      <td>2115.0</td>\n",
              "      <td>10917.0</td>\n",
              "      <td>0.0</td>\n",
              "      <td>0.0</td>\n",
              "      <td>-3865.227169</td>\n",
              "      <td>-10370.369387</td>\n",
              "      <td>-2970.638281</td>\n",
              "    </tr>\n",
              "    <tr>\n",
              "      <th>...</th>\n",
              "      <td>...</td>\n",
              "      <td>...</td>\n",
              "      <td>...</td>\n",
              "      <td>...</td>\n",
              "      <td>...</td>\n",
              "      <td>...</td>\n",
              "      <td>...</td>\n",
              "      <td>...</td>\n",
              "      <td>...</td>\n",
              "      <td>...</td>\n",
              "    </tr>\n",
              "    <tr>\n",
              "      <th>995</th>\n",
              "      <td>995</td>\n",
              "      <td>0.879105</td>\n",
              "      <td>Optimal</td>\n",
              "      <td>2115.0</td>\n",
              "      <td>10550.0</td>\n",
              "      <td>237.0</td>\n",
              "      <td>130.0</td>\n",
              "      <td>-9326.310751</td>\n",
              "      <td>-10188.834350</td>\n",
              "      <td>-3054.336262</td>\n",
              "    </tr>\n",
              "    <tr>\n",
              "      <th>996</th>\n",
              "      <td>996</td>\n",
              "      <td>0.879530</td>\n",
              "      <td>Optimal</td>\n",
              "      <td>2115.0</td>\n",
              "      <td>10550.0</td>\n",
              "      <td>237.0</td>\n",
              "      <td>130.0</td>\n",
              "      <td>-9329.342177</td>\n",
              "      <td>-10188.834350</td>\n",
              "      <td>-3054.336262</td>\n",
              "    </tr>\n",
              "    <tr>\n",
              "      <th>997</th>\n",
              "      <td>997</td>\n",
              "      <td>0.879954</td>\n",
              "      <td>Optimal</td>\n",
              "      <td>2115.0</td>\n",
              "      <td>10550.0</td>\n",
              "      <td>237.0</td>\n",
              "      <td>130.0</td>\n",
              "      <td>-9332.364404</td>\n",
              "      <td>-10188.834350</td>\n",
              "      <td>-3054.336262</td>\n",
              "    </tr>\n",
              "    <tr>\n",
              "      <th>998</th>\n",
              "      <td>998</td>\n",
              "      <td>0.880376</td>\n",
              "      <td>Optimal</td>\n",
              "      <td>2115.0</td>\n",
              "      <td>10550.0</td>\n",
              "      <td>237.0</td>\n",
              "      <td>130.0</td>\n",
              "      <td>-9335.377449</td>\n",
              "      <td>-10188.834350</td>\n",
              "      <td>-3054.336262</td>\n",
              "    </tr>\n",
              "    <tr>\n",
              "      <th>999</th>\n",
              "      <td>999</td>\n",
              "      <td>0.880797</td>\n",
              "      <td>Optimal</td>\n",
              "      <td>2115.0</td>\n",
              "      <td>10550.0</td>\n",
              "      <td>237.0</td>\n",
              "      <td>130.0</td>\n",
              "      <td>-9338.381331</td>\n",
              "      <td>-10188.834350</td>\n",
              "      <td>-3054.336262</td>\n",
              "    </tr>\n",
              "  </tbody>\n",
              "</table>\n",
              "<p>1000 rows × 10 columns</p>\n",
              "</div>"
            ],
            "text/plain": [
              "     iter     alpha   status  ...    obj_value            f1           f2\n",
              "0       0  0.119203  Optimal  ... -3852.707851 -10370.369387 -2970.638281\n",
              "1       1  0.119624  Optimal  ... -3855.823405 -10370.369387 -2970.638281\n",
              "2       2  0.120046  Optimal  ... -3858.948464 -10370.369387 -2970.638281\n",
              "3       3  0.120470  Optimal  ... -3862.083046 -10370.369387 -2970.638281\n",
              "4       4  0.120895  Optimal  ... -3865.227169 -10370.369387 -2970.638281\n",
              "..    ...       ...      ...  ...          ...           ...          ...\n",
              "995   995  0.879105  Optimal  ... -9326.310751 -10188.834350 -3054.336262\n",
              "996   996  0.879530  Optimal  ... -9329.342177 -10188.834350 -3054.336262\n",
              "997   997  0.879954  Optimal  ... -9332.364404 -10188.834350 -3054.336262\n",
              "998   998  0.880376  Optimal  ... -9335.377449 -10188.834350 -3054.336262\n",
              "999   999  0.880797  Optimal  ... -9338.381331 -10188.834350 -3054.336262\n",
              "\n",
              "[1000 rows x 10 columns]"
            ]
          },
          "metadata": {},
          "execution_count": 39
        }
      ]
    },
    {
      "cell_type": "code",
      "metadata": {
        "id": "JquYQS3XMqTc"
      },
      "source": [
        "df_solution_sig_06 = run_models(alpha_sig_06, C, A, b)"
      ],
      "id": "JquYQS3XMqTc",
      "execution_count": 40,
      "outputs": []
    },
    {
      "cell_type": "code",
      "metadata": {
        "colab": {
          "base_uri": "https://localhost:8080/",
          "height": 424
        },
        "id": "G42Kxf1CMqTd",
        "outputId": "1d0dec1b-168c-427a-e769-5fb26745f971"
      },
      "source": [
        "df_solution_sig_06"
      ],
      "id": "G42Kxf1CMqTd",
      "execution_count": 41,
      "outputs": [
        {
          "output_type": "execute_result",
          "data": {
            "text/html": [
              "<div>\n",
              "<style scoped>\n",
              "    .dataframe tbody tr th:only-of-type {\n",
              "        vertical-align: middle;\n",
              "    }\n",
              "\n",
              "    .dataframe tbody tr th {\n",
              "        vertical-align: top;\n",
              "    }\n",
              "\n",
              "    .dataframe thead th {\n",
              "        text-align: right;\n",
              "    }\n",
              "</style>\n",
              "<table border=\"1\" class=\"dataframe\">\n",
              "  <thead>\n",
              "    <tr style=\"text-align: right;\">\n",
              "      <th></th>\n",
              "      <th>iter</th>\n",
              "      <th>alpha</th>\n",
              "      <th>status</th>\n",
              "      <th>x1</th>\n",
              "      <th>x2</th>\n",
              "      <th>x3</th>\n",
              "      <th>x4</th>\n",
              "      <th>obj_value</th>\n",
              "      <th>f1</th>\n",
              "      <th>f2</th>\n",
              "    </tr>\n",
              "  </thead>\n",
              "  <tbody>\n",
              "    <tr>\n",
              "      <th>0</th>\n",
              "      <td>0</td>\n",
              "      <td>9.357623e-14</td>\n",
              "      <td>Optimal</td>\n",
              "      <td>2115.0</td>\n",
              "      <td>10917.0</td>\n",
              "      <td>0.0</td>\n",
              "      <td>0.0</td>\n",
              "      <td>-2970.638281</td>\n",
              "      <td>-10370.369387</td>\n",
              "      <td>-2970.638281</td>\n",
              "    </tr>\n",
              "    <tr>\n",
              "      <th>1</th>\n",
              "      <td>1</td>\n",
              "      <td>9.936863e-14</td>\n",
              "      <td>Optimal</td>\n",
              "      <td>2115.0</td>\n",
              "      <td>10917.0</td>\n",
              "      <td>0.0</td>\n",
              "      <td>0.0</td>\n",
              "      <td>-2970.638281</td>\n",
              "      <td>-10370.369387</td>\n",
              "      <td>-2970.638281</td>\n",
              "    </tr>\n",
              "    <tr>\n",
              "      <th>2</th>\n",
              "      <td>2</td>\n",
              "      <td>1.055196e-13</td>\n",
              "      <td>Optimal</td>\n",
              "      <td>2115.0</td>\n",
              "      <td>10917.0</td>\n",
              "      <td>0.0</td>\n",
              "      <td>0.0</td>\n",
              "      <td>-2970.638281</td>\n",
              "      <td>-10370.369387</td>\n",
              "      <td>-2970.638281</td>\n",
              "    </tr>\n",
              "    <tr>\n",
              "      <th>3</th>\n",
              "      <td>3</td>\n",
              "      <td>1.120513e-13</td>\n",
              "      <td>Optimal</td>\n",
              "      <td>2115.0</td>\n",
              "      <td>10917.0</td>\n",
              "      <td>0.0</td>\n",
              "      <td>0.0</td>\n",
              "      <td>-2970.638281</td>\n",
              "      <td>-10370.369387</td>\n",
              "      <td>-2970.638281</td>\n",
              "    </tr>\n",
              "    <tr>\n",
              "      <th>4</th>\n",
              "      <td>4</td>\n",
              "      <td>1.189873e-13</td>\n",
              "      <td>Optimal</td>\n",
              "      <td>2115.0</td>\n",
              "      <td>10917.0</td>\n",
              "      <td>0.0</td>\n",
              "      <td>0.0</td>\n",
              "      <td>-2970.638281</td>\n",
              "      <td>-10370.369387</td>\n",
              "      <td>-2970.638281</td>\n",
              "    </tr>\n",
              "    <tr>\n",
              "      <th>...</th>\n",
              "      <td>...</td>\n",
              "      <td>...</td>\n",
              "      <td>...</td>\n",
              "      <td>...</td>\n",
              "      <td>...</td>\n",
              "      <td>...</td>\n",
              "      <td>...</td>\n",
              "      <td>...</td>\n",
              "      <td>...</td>\n",
              "      <td>...</td>\n",
              "    </tr>\n",
              "    <tr>\n",
              "      <th>995</th>\n",
              "      <td>995</td>\n",
              "      <td>1.000000e+00</td>\n",
              "      <td>Optimal</td>\n",
              "      <td>2115.0</td>\n",
              "      <td>10550.0</td>\n",
              "      <td>237.0</td>\n",
              "      <td>130.0</td>\n",
              "      <td>-10188.834350</td>\n",
              "      <td>-10188.834350</td>\n",
              "      <td>-3054.336262</td>\n",
              "    </tr>\n",
              "    <tr>\n",
              "      <th>996</th>\n",
              "      <td>996</td>\n",
              "      <td>1.000000e+00</td>\n",
              "      <td>Optimal</td>\n",
              "      <td>2115.0</td>\n",
              "      <td>10550.0</td>\n",
              "      <td>237.0</td>\n",
              "      <td>130.0</td>\n",
              "      <td>-10188.834350</td>\n",
              "      <td>-10188.834350</td>\n",
              "      <td>-3054.336262</td>\n",
              "    </tr>\n",
              "    <tr>\n",
              "      <th>997</th>\n",
              "      <td>997</td>\n",
              "      <td>1.000000e+00</td>\n",
              "      <td>Optimal</td>\n",
              "      <td>2115.0</td>\n",
              "      <td>10550.0</td>\n",
              "      <td>237.0</td>\n",
              "      <td>130.0</td>\n",
              "      <td>-10188.834350</td>\n",
              "      <td>-10188.834350</td>\n",
              "      <td>-3054.336262</td>\n",
              "    </tr>\n",
              "    <tr>\n",
              "      <th>998</th>\n",
              "      <td>998</td>\n",
              "      <td>1.000000e+00</td>\n",
              "      <td>Optimal</td>\n",
              "      <td>2115.0</td>\n",
              "      <td>10550.0</td>\n",
              "      <td>237.0</td>\n",
              "      <td>130.0</td>\n",
              "      <td>-10188.834350</td>\n",
              "      <td>-10188.834350</td>\n",
              "      <td>-3054.336262</td>\n",
              "    </tr>\n",
              "    <tr>\n",
              "      <th>999</th>\n",
              "      <td>999</td>\n",
              "      <td>1.000000e+00</td>\n",
              "      <td>Optimal</td>\n",
              "      <td>2115.0</td>\n",
              "      <td>10550.0</td>\n",
              "      <td>237.0</td>\n",
              "      <td>130.0</td>\n",
              "      <td>-10188.834350</td>\n",
              "      <td>-10188.834350</td>\n",
              "      <td>-3054.336262</td>\n",
              "    </tr>\n",
              "  </tbody>\n",
              "</table>\n",
              "<p>1000 rows × 10 columns</p>\n",
              "</div>"
            ],
            "text/plain": [
              "     iter         alpha   status  ...     obj_value            f1           f2\n",
              "0       0  9.357623e-14  Optimal  ...  -2970.638281 -10370.369387 -2970.638281\n",
              "1       1  9.936863e-14  Optimal  ...  -2970.638281 -10370.369387 -2970.638281\n",
              "2       2  1.055196e-13  Optimal  ...  -2970.638281 -10370.369387 -2970.638281\n",
              "3       3  1.120513e-13  Optimal  ...  -2970.638281 -10370.369387 -2970.638281\n",
              "4       4  1.189873e-13  Optimal  ...  -2970.638281 -10370.369387 -2970.638281\n",
              "..    ...           ...      ...  ...           ...           ...          ...\n",
              "995   995  1.000000e+00  Optimal  ... -10188.834350 -10188.834350 -3054.336262\n",
              "996   996  1.000000e+00  Optimal  ... -10188.834350 -10188.834350 -3054.336262\n",
              "997   997  1.000000e+00  Optimal  ... -10188.834350 -10188.834350 -3054.336262\n",
              "998   998  1.000000e+00  Optimal  ... -10188.834350 -10188.834350 -3054.336262\n",
              "999   999  1.000000e+00  Optimal  ... -10188.834350 -10188.834350 -3054.336262\n",
              "\n",
              "[1000 rows x 10 columns]"
            ]
          },
          "metadata": {},
          "execution_count": 41
        }
      ]
    },
    {
      "cell_type": "code",
      "metadata": {
        "colab": {
          "base_uri": "https://localhost:8080/",
          "height": 297
        },
        "id": "Jkn6mksVMqTe",
        "outputId": "2addf46e-bd52-43c2-e3b9-ae2e2cb5069a"
      },
      "source": [
        "df_solution_lin.plot.scatter(x='f1', y='f2')"
      ],
      "id": "Jkn6mksVMqTe",
      "execution_count": 42,
      "outputs": [
        {
          "output_type": "execute_result",
          "data": {
            "text/plain": [
              "<matplotlib.axes._subplots.AxesSubplot at 0x7fe21c39bcd0>"
            ]
          },
          "metadata": {},
          "execution_count": 42
        },
        {
          "output_type": "display_data",
          "data": {
            "image/png": "[encoded data removed]",
            "text/plain": [
              "<Figure size 432x288 with 1 Axes>"
            ]
          },
          "metadata": {
            "needs_background": "light"
          }
        }
      ]
    },
    {
      "cell_type": "markdown",
      "metadata": {
        "id": "rFL4lszNQROv"
      },
      "source": [
        "##Paper 3 (P3): Land use optimization in watershed scale\n",
        "\n",
        "Sadeghi, Seyed Hamidreza & Jalili, Khalil & Nikkami, Davood. (2009). Land use optimization in watershed scale. Land Use Policy. 26. 186-193. 10.1016/j.landusepol.2008.02.007. "
      ],
      "id": "rFL4lszNQROv"
    },
    {
      "cell_type": "markdown",
      "metadata": {
        "id": "w3p0EAXjQROz"
      },
      "source": [
        "### Model Parameter"
      ],
      "id": "w3p0EAXjQROz"
    },
    {
      "cell_type": "code",
      "metadata": {
        "id": "8kLl8ziCQRO1"
      },
      "source": [
        "# Variáveis do modelo\n",
        "\n",
        "C = np.array([[8.5042,  0.1562 ,  4.8758,  0.3215],\n",
        "              [7.389, 8.144, 7.389, 21.112]])\n",
        "\n",
        "A = np.array([  [1, 0, 0, 0],\n",
        "                [0, 0, 1, 0],\n",
        "                [0, 0, 0, 1],\n",
        "                [1, 0, 1, 0],\n",
        "                [1, 1, 1, 1],\n",
        "                [1, 0, 0, 0],\n",
        "                [0, 1, 0, 0]])\n",
        "\n",
        "b = np.array([[2115],[237],[207],[2352],[13032],[561],[10550]])"
      ],
      "id": "8kLl8ziCQRO1",
      "execution_count": 43,
      "outputs": []
    },
    {
      "cell_type": "markdown",
      "metadata": {
        "id": "NIUEk7Z9QRO7"
      },
      "source": [
        "### Solution\n"
      ],
      "id": "NIUEk7Z9QRO7"
    },
    {
      "cell_type": "markdown",
      "metadata": {
        "id": "c6s6DrHFQRO9"
      },
      "source": [
        "#### Approach 1"
      ],
      "id": "c6s6DrHFQRO9"
    },
    {
      "cell_type": "code",
      "metadata": {
        "id": "TxvFbcqQLdkt"
      },
      "source": [
        "C = Cini"
      ],
      "id": "TxvFbcqQLdkt",
      "execution_count": 44,
      "outputs": []
    },
    {
      "cell_type": "markdown",
      "metadata": {
        "id": "DAc02klcQRO_"
      },
      "source": [
        "##### Step 1"
      ],
      "id": "DAc02klcQRO_"
    },
    {
      "cell_type": "code",
      "metadata": {
        "id": "9gSWT3FqQRPB"
      },
      "source": [
        "linearProblem = pulp.LpProblem(\"First_Objective_Max\",pulp.LpMaximize)\n",
        "\n",
        "X = create_x_variables()\n",
        "\n",
        "linearProblem += f(C[0], X)\n",
        "\n",
        "linearProblem = load_model_2(linearProblem, A, X, b)\n",
        "\n",
        "solution = linearProblem.solve()"
      ],
      "id": "9gSWT3FqQRPB",
      "execution_count": 45,
      "outputs": []
    },
    {
      "cell_type": "code",
      "metadata": {
        "colab": {
          "base_uri": "https://localhost:8080/"
        },
        "id": "FHyAZ6qNQRPE",
        "outputId": "c4b9f654-a79c-47a5-82fb-9dc312fe0eaa"
      },
      "source": [
        "print_solution(solution, linearProblem, X)"
      ],
      "id": "FHyAZ6qNQRPE",
      "execution_count": 46,
      "outputs": [
        {
          "output_type": "stream",
          "text": [
            "\n",
            "Status = Optimal\n",
            "Value = 47648.94000000001\n",
            "x1 = 2115.0\n",
            "x2 = 10550.0\n",
            "x3 = 237.0\n",
            "x4 = 130.0\n"
          ],
          "name": "stdout"
        }
      ]
    },
    {
      "cell_type": "code",
      "metadata": {
        "id": "tieBPca6QRPK"
      },
      "source": [
        "f1_max = pulp.value(linearProblem.objective)"
      ],
      "id": "tieBPca6QRPK",
      "execution_count": 47,
      "outputs": []
    },
    {
      "cell_type": "markdown",
      "metadata": {
        "id": "7WkPPRJtQRPL"
      },
      "source": [
        "##### Step 2"
      ],
      "id": "7WkPPRJtQRPL"
    },
    {
      "cell_type": "code",
      "metadata": {
        "id": "e2LD9TGxQRPO"
      },
      "source": [
        "linearProblem = pulp.LpProblem(\"Second_Objective_Min\",pulp.LpMinimize)\n",
        "\n",
        "X = create_x_variables()\n",
        "\n",
        "linearProblem += f(C[1], X)\n",
        "\n",
        "linearProblem = load_model_2(linearProblem, A, X, b)\n",
        "\n",
        "linearProblem += f(C[0], X) >= f1_max\n",
        "\n",
        "solution = linearProblem.solve()"
      ],
      "id": "e2LD9TGxQRPO",
      "execution_count": 48,
      "outputs": []
    },
    {
      "cell_type": "code",
      "metadata": {
        "colab": {
          "base_uri": "https://localhost:8080/"
        },
        "id": "R3FhChOfQRPQ",
        "outputId": "da5e83e2-c2f5-4a3b-d73d-0e989908df4c"
      },
      "source": [
        "print_solution(solution, linearProblem, X)"
      ],
      "id": "R3FhChOfQRPQ",
      "execution_count": 49,
      "outputs": [
        {
          "output_type": "stream",
          "text": [
            "\n",
            "Status = Optimal\n",
            "Value = 133391.44\n",
            "x1 = 2115.0\n",
            "x2 = 10550.0\n",
            "x3 = 237.0\n",
            "x4 = 130.0\n"
          ],
          "name": "stdout"
        }
      ]
    },
    {
      "cell_type": "markdown",
      "metadata": {
        "id": "hq91OgElQRPS"
      },
      "source": [
        "#### Approach 2"
      ],
      "id": "hq91OgElQRPS"
    },
    {
      "cell_type": "code",
      "metadata": {
        "id": "gmD1tXYpLhfo"
      },
      "source": [
        "C = DataStandardization(Cini)"
      ],
      "id": "gmD1tXYpLhfo",
      "execution_count": 50,
      "outputs": []
    },
    {
      "cell_type": "code",
      "metadata": {
        "id": "u0hCprcPL11Z",
        "outputId": "dd1f6e43-55e6-45b2-fca7-f27439ccdfda",
        "colab": {
          "base_uri": "https://localhost:8080/",
          "height": 53
        }
      },
      "source": [
        "display(C)"
      ],
      "id": "u0hCprcPL11Z",
      "execution_count": 51,
      "outputs": [
        {
          "output_type": "display_data",
          "data": {
            "text/plain": [
              "array([[ 1.96676355, -1.33095853, -0.64225342, -1.19009756],\n",
              "       [ 0.00799293,  0.27056272,  0.59491364,  0.32307668]])"
            ]
          },
          "metadata": {}
        }
      ]
    },
    {
      "cell_type": "code",
      "metadata": {
        "id": "2YIStffpQRPY"
      },
      "source": [
        "df_solution_lin = run_models_2(alpha_lin, C, A, b)"
      ],
      "id": "2YIStffpQRPY",
      "execution_count": 52,
      "outputs": []
    },
    {
      "cell_type": "code",
      "metadata": {
        "colab": {
          "base_uri": "https://localhost:8080/",
          "height": 424
        },
        "id": "PWg-neVwQRPZ",
        "outputId": "c325766b-5496-4647-f2fd-ce8a5a220b55"
      },
      "source": [
        "df_solution_lin"
      ],
      "id": "PWg-neVwQRPZ",
      "execution_count": 53,
      "outputs": [
        {
          "output_type": "execute_result",
          "data": {
            "text/html": [
              "<div>\n",
              "<style scoped>\n",
              "    .dataframe tbody tr th:only-of-type {\n",
              "        vertical-align: middle;\n",
              "    }\n",
              "\n",
              "    .dataframe tbody tr th {\n",
              "        vertical-align: top;\n",
              "    }\n",
              "\n",
              "    .dataframe thead th {\n",
              "        text-align: right;\n",
              "    }\n",
              "</style>\n",
              "<table border=\"1\" class=\"dataframe\">\n",
              "  <thead>\n",
              "    <tr style=\"text-align: right;\">\n",
              "      <th></th>\n",
              "      <th>iter</th>\n",
              "      <th>alpha</th>\n",
              "      <th>status</th>\n",
              "      <th>x1</th>\n",
              "      <th>x2</th>\n",
              "      <th>x3</th>\n",
              "      <th>x4</th>\n",
              "      <th>obj_value</th>\n",
              "      <th>f1</th>\n",
              "      <th>f2</th>\n",
              "    </tr>\n",
              "  </thead>\n",
              "  <tbody>\n",
              "    <tr>\n",
              "      <th>0</th>\n",
              "      <td>0</td>\n",
              "      <td>0.000000</td>\n",
              "      <td>Optimal</td>\n",
              "      <td>561.0</td>\n",
              "      <td>10550.0</td>\n",
              "      <td>0.0</td>\n",
              "      <td>0.0</td>\n",
              "      <td>-2858.920744</td>\n",
              "      <td>-12938.258164</td>\n",
              "      <td>-2858.920744</td>\n",
              "    </tr>\n",
              "    <tr>\n",
              "      <th>1</th>\n",
              "      <td>1</td>\n",
              "      <td>0.001001</td>\n",
              "      <td>Optimal</td>\n",
              "      <td>561.0</td>\n",
              "      <td>10550.0</td>\n",
              "      <td>0.0</td>\n",
              "      <td>0.0</td>\n",
              "      <td>-2869.010171</td>\n",
              "      <td>-12938.258164</td>\n",
              "      <td>-2858.920744</td>\n",
              "    </tr>\n",
              "    <tr>\n",
              "      <th>2</th>\n",
              "      <td>2</td>\n",
              "      <td>0.002002</td>\n",
              "      <td>Optimal</td>\n",
              "      <td>561.0</td>\n",
              "      <td>10550.0</td>\n",
              "      <td>0.0</td>\n",
              "      <td>0.0</td>\n",
              "      <td>-2879.099598</td>\n",
              "      <td>-12938.258164</td>\n",
              "      <td>-2858.920744</td>\n",
              "    </tr>\n",
              "    <tr>\n",
              "      <th>3</th>\n",
              "      <td>3</td>\n",
              "      <td>0.003003</td>\n",
              "      <td>Optimal</td>\n",
              "      <td>561.0</td>\n",
              "      <td>10550.0</td>\n",
              "      <td>0.0</td>\n",
              "      <td>0.0</td>\n",
              "      <td>-2889.189024</td>\n",
              "      <td>-12938.258164</td>\n",
              "      <td>-2858.920744</td>\n",
              "    </tr>\n",
              "    <tr>\n",
              "      <th>4</th>\n",
              "      <td>4</td>\n",
              "      <td>0.004004</td>\n",
              "      <td>Optimal</td>\n",
              "      <td>561.0</td>\n",
              "      <td>10550.0</td>\n",
              "      <td>0.0</td>\n",
              "      <td>0.0</td>\n",
              "      <td>-2899.278451</td>\n",
              "      <td>-12938.258164</td>\n",
              "      <td>-2858.920744</td>\n",
              "    </tr>\n",
              "    <tr>\n",
              "      <th>...</th>\n",
              "      <td>...</td>\n",
              "      <td>...</td>\n",
              "      <td>...</td>\n",
              "      <td>...</td>\n",
              "      <td>...</td>\n",
              "      <td>...</td>\n",
              "      <td>...</td>\n",
              "      <td>...</td>\n",
              "      <td>...</td>\n",
              "      <td>...</td>\n",
              "    </tr>\n",
              "    <tr>\n",
              "      <th>995</th>\n",
              "      <td>995</td>\n",
              "      <td>0.995996</td>\n",
              "      <td>Optimal</td>\n",
              "      <td>2115.0</td>\n",
              "      <td>10550.0</td>\n",
              "      <td>0.0</td>\n",
              "      <td>0.0</td>\n",
              "      <td>-9853.837272</td>\n",
              "      <td>-9881.907605</td>\n",
              "      <td>-2871.341762</td>\n",
              "    </tr>\n",
              "    <tr>\n",
              "      <th>996</th>\n",
              "      <td>996</td>\n",
              "      <td>0.996997</td>\n",
              "      <td>Optimal</td>\n",
              "      <td>2115.0</td>\n",
              "      <td>10550.0</td>\n",
              "      <td>0.0</td>\n",
              "      <td>0.0</td>\n",
              "      <td>-9860.854855</td>\n",
              "      <td>-9881.907605</td>\n",
              "      <td>-2871.341762</td>\n",
              "    </tr>\n",
              "    <tr>\n",
              "      <th>997</th>\n",
              "      <td>997</td>\n",
              "      <td>0.997998</td>\n",
              "      <td>Optimal</td>\n",
              "      <td>2115.0</td>\n",
              "      <td>10550.0</td>\n",
              "      <td>0.0</td>\n",
              "      <td>0.0</td>\n",
              "      <td>-9867.872439</td>\n",
              "      <td>-9881.907605</td>\n",
              "      <td>-2871.341762</td>\n",
              "    </tr>\n",
              "    <tr>\n",
              "      <th>998</th>\n",
              "      <td>998</td>\n",
              "      <td>0.998999</td>\n",
              "      <td>Optimal</td>\n",
              "      <td>2115.0</td>\n",
              "      <td>10550.0</td>\n",
              "      <td>0.0</td>\n",
              "      <td>0.0</td>\n",
              "      <td>-9874.890022</td>\n",
              "      <td>-9881.907605</td>\n",
              "      <td>-2871.341762</td>\n",
              "    </tr>\n",
              "    <tr>\n",
              "      <th>999</th>\n",
              "      <td>999</td>\n",
              "      <td>1.000000</td>\n",
              "      <td>Optimal</td>\n",
              "      <td>2115.0</td>\n",
              "      <td>10550.0</td>\n",
              "      <td>0.0</td>\n",
              "      <td>0.0</td>\n",
              "      <td>-9881.907605</td>\n",
              "      <td>-9881.907605</td>\n",
              "      <td>-2871.341762</td>\n",
              "    </tr>\n",
              "  </tbody>\n",
              "</table>\n",
              "<p>1000 rows × 10 columns</p>\n",
              "</div>"
            ],
            "text/plain": [
              "     iter     alpha   status  ...    obj_value            f1           f2\n",
              "0       0  0.000000  Optimal  ... -2858.920744 -12938.258164 -2858.920744\n",
              "1       1  0.001001  Optimal  ... -2869.010171 -12938.258164 -2858.920744\n",
              "2       2  0.002002  Optimal  ... -2879.099598 -12938.258164 -2858.920744\n",
              "3       3  0.003003  Optimal  ... -2889.189024 -12938.258164 -2858.920744\n",
              "4       4  0.004004  Optimal  ... -2899.278451 -12938.258164 -2858.920744\n",
              "..    ...       ...      ...  ...          ...           ...          ...\n",
              "995   995  0.995996  Optimal  ... -9853.837272  -9881.907605 -2871.341762\n",
              "996   996  0.996997  Optimal  ... -9860.854855  -9881.907605 -2871.341762\n",
              "997   997  0.997998  Optimal  ... -9867.872439  -9881.907605 -2871.341762\n",
              "998   998  0.998999  Optimal  ... -9874.890022  -9881.907605 -2871.341762\n",
              "999   999  1.000000  Optimal  ... -9881.907605  -9881.907605 -2871.341762\n",
              "\n",
              "[1000 rows x 10 columns]"
            ]
          },
          "metadata": {},
          "execution_count": 53
        }
      ]
    },
    {
      "cell_type": "code",
      "metadata": {
        "id": "dt36V2k_QRPe"
      },
      "source": [
        "df_solution_sig_004 = run_models_2(alpha_sig_004, C, A, b)"
      ],
      "id": "dt36V2k_QRPe",
      "execution_count": 54,
      "outputs": []
    },
    {
      "cell_type": "code",
      "metadata": {
        "colab": {
          "base_uri": "https://localhost:8080/",
          "height": 424
        },
        "id": "TTHs6HozQRPf",
        "outputId": "7e8a5e7b-ee72-48e2-bf62-1372312a4a54"
      },
      "source": [
        "df_solution_sig_004"
      ],
      "id": "TTHs6HozQRPf",
      "execution_count": 55,
      "outputs": [
        {
          "output_type": "execute_result",
          "data": {
            "text/html": [
              "<div>\n",
              "<style scoped>\n",
              "    .dataframe tbody tr th:only-of-type {\n",
              "        vertical-align: middle;\n",
              "    }\n",
              "\n",
              "    .dataframe tbody tr th {\n",
              "        vertical-align: top;\n",
              "    }\n",
              "\n",
              "    .dataframe thead th {\n",
              "        text-align: right;\n",
              "    }\n",
              "</style>\n",
              "<table border=\"1\" class=\"dataframe\">\n",
              "  <thead>\n",
              "    <tr style=\"text-align: right;\">\n",
              "      <th></th>\n",
              "      <th>iter</th>\n",
              "      <th>alpha</th>\n",
              "      <th>status</th>\n",
              "      <th>x1</th>\n",
              "      <th>x2</th>\n",
              "      <th>x3</th>\n",
              "      <th>x4</th>\n",
              "      <th>obj_value</th>\n",
              "      <th>f1</th>\n",
              "      <th>f2</th>\n",
              "    </tr>\n",
              "  </thead>\n",
              "  <tbody>\n",
              "    <tr>\n",
              "      <th>0</th>\n",
              "      <td>0</td>\n",
              "      <td>0.119203</td>\n",
              "      <td>Optimal</td>\n",
              "      <td>2115.0</td>\n",
              "      <td>10550.0</td>\n",
              "      <td>0.0</td>\n",
              "      <td>0.0</td>\n",
              "      <td>-3707.021696</td>\n",
              "      <td>-9881.907605</td>\n",
              "      <td>-2871.341762</td>\n",
              "    </tr>\n",
              "    <tr>\n",
              "      <th>1</th>\n",
              "      <td>1</td>\n",
              "      <td>0.119624</td>\n",
              "      <td>Optimal</td>\n",
              "      <td>2115.0</td>\n",
              "      <td>10550.0</td>\n",
              "      <td>0.0</td>\n",
              "      <td>0.0</td>\n",
              "      <td>-3709.973397</td>\n",
              "      <td>-9881.907605</td>\n",
              "      <td>-2871.341762</td>\n",
              "    </tr>\n",
              "    <tr>\n",
              "      <th>2</th>\n",
              "      <td>2</td>\n",
              "      <td>0.120046</td>\n",
              "      <td>Optimal</td>\n",
              "      <td>2115.0</td>\n",
              "      <td>10550.0</td>\n",
              "      <td>0.0</td>\n",
              "      <td>0.0</td>\n",
              "      <td>-3712.934104</td>\n",
              "      <td>-9881.907605</td>\n",
              "      <td>-2871.341762</td>\n",
              "    </tr>\n",
              "    <tr>\n",
              "      <th>3</th>\n",
              "      <td>3</td>\n",
              "      <td>0.120470</td>\n",
              "      <td>Optimal</td>\n",
              "      <td>2115.0</td>\n",
              "      <td>10550.0</td>\n",
              "      <td>0.0</td>\n",
              "      <td>0.0</td>\n",
              "      <td>-3715.903832</td>\n",
              "      <td>-9881.907605</td>\n",
              "      <td>-2871.341762</td>\n",
              "    </tr>\n",
              "    <tr>\n",
              "      <th>4</th>\n",
              "      <td>4</td>\n",
              "      <td>0.120895</td>\n",
              "      <td>Optimal</td>\n",
              "      <td>2115.0</td>\n",
              "      <td>10550.0</td>\n",
              "      <td>0.0</td>\n",
              "      <td>0.0</td>\n",
              "      <td>-3718.882600</td>\n",
              "      <td>-9881.907605</td>\n",
              "      <td>-2871.341762</td>\n",
              "    </tr>\n",
              "    <tr>\n",
              "      <th>...</th>\n",
              "      <td>...</td>\n",
              "      <td>...</td>\n",
              "      <td>...</td>\n",
              "      <td>...</td>\n",
              "      <td>...</td>\n",
              "      <td>...</td>\n",
              "      <td>...</td>\n",
              "      <td>...</td>\n",
              "      <td>...</td>\n",
              "      <td>...</td>\n",
              "    </tr>\n",
              "    <tr>\n",
              "      <th>995</th>\n",
              "      <td>995</td>\n",
              "      <td>0.879105</td>\n",
              "      <td>Optimal</td>\n",
              "      <td>2115.0</td>\n",
              "      <td>10550.0</td>\n",
              "      <td>0.0</td>\n",
              "      <td>0.0</td>\n",
              "      <td>-9034.366768</td>\n",
              "      <td>-9881.907605</td>\n",
              "      <td>-2871.341762</td>\n",
              "    </tr>\n",
              "    <tr>\n",
              "      <th>996</th>\n",
              "      <td>996</td>\n",
              "      <td>0.879530</td>\n",
              "      <td>Optimal</td>\n",
              "      <td>2115.0</td>\n",
              "      <td>10550.0</td>\n",
              "      <td>0.0</td>\n",
              "      <td>0.0</td>\n",
              "      <td>-9037.345536</td>\n",
              "      <td>-9881.907605</td>\n",
              "      <td>-2871.341762</td>\n",
              "    </tr>\n",
              "    <tr>\n",
              "      <th>997</th>\n",
              "      <td>997</td>\n",
              "      <td>0.879954</td>\n",
              "      <td>Optimal</td>\n",
              "      <td>2115.0</td>\n",
              "      <td>10550.0</td>\n",
              "      <td>0.0</td>\n",
              "      <td>0.0</td>\n",
              "      <td>-9040.315264</td>\n",
              "      <td>-9881.907605</td>\n",
              "      <td>-2871.341762</td>\n",
              "    </tr>\n",
              "    <tr>\n",
              "      <th>998</th>\n",
              "      <td>998</td>\n",
              "      <td>0.880376</td>\n",
              "      <td>Optimal</td>\n",
              "      <td>2115.0</td>\n",
              "      <td>10550.0</td>\n",
              "      <td>0.0</td>\n",
              "      <td>0.0</td>\n",
              "      <td>-9043.275970</td>\n",
              "      <td>-9881.907605</td>\n",
              "      <td>-2871.341762</td>\n",
              "    </tr>\n",
              "    <tr>\n",
              "      <th>999</th>\n",
              "      <td>999</td>\n",
              "      <td>0.880797</td>\n",
              "      <td>Optimal</td>\n",
              "      <td>2115.0</td>\n",
              "      <td>10550.0</td>\n",
              "      <td>0.0</td>\n",
              "      <td>0.0</td>\n",
              "      <td>-9046.227672</td>\n",
              "      <td>-9881.907605</td>\n",
              "      <td>-2871.341762</td>\n",
              "    </tr>\n",
              "  </tbody>\n",
              "</table>\n",
              "<p>1000 rows × 10 columns</p>\n",
              "</div>"
            ],
            "text/plain": [
              "     iter     alpha   status  ...    obj_value           f1           f2\n",
              "0       0  0.119203  Optimal  ... -3707.021696 -9881.907605 -2871.341762\n",
              "1       1  0.119624  Optimal  ... -3709.973397 -9881.907605 -2871.341762\n",
              "2       2  0.120046  Optimal  ... -3712.934104 -9881.907605 -2871.341762\n",
              "3       3  0.120470  Optimal  ... -3715.903832 -9881.907605 -2871.341762\n",
              "4       4  0.120895  Optimal  ... -3718.882600 -9881.907605 -2871.341762\n",
              "..    ...       ...      ...  ...          ...          ...          ...\n",
              "995   995  0.879105  Optimal  ... -9034.366768 -9881.907605 -2871.341762\n",
              "996   996  0.879530  Optimal  ... -9037.345536 -9881.907605 -2871.341762\n",
              "997   997  0.879954  Optimal  ... -9040.315264 -9881.907605 -2871.341762\n",
              "998   998  0.880376  Optimal  ... -9043.275970 -9881.907605 -2871.341762\n",
              "999   999  0.880797  Optimal  ... -9046.227672 -9881.907605 -2871.341762\n",
              "\n",
              "[1000 rows x 10 columns]"
            ]
          },
          "metadata": {},
          "execution_count": 55
        }
      ]
    },
    {
      "cell_type": "code",
      "metadata": {
        "id": "dfWUJ41jQRPk"
      },
      "source": [
        "df_solution_sig_06 = run_models_2(alpha_sig_06, C, A, b)"
      ],
      "id": "dfWUJ41jQRPk",
      "execution_count": 56,
      "outputs": []
    },
    {
      "cell_type": "code",
      "metadata": {
        "colab": {
          "base_uri": "https://localhost:8080/",
          "height": 424
        },
        "id": "nuvstGPYQRPn",
        "outputId": "0a522ef7-aed3-429e-f28d-f6d7546696c0"
      },
      "source": [
        "df_solution_sig_06"
      ],
      "id": "nuvstGPYQRPn",
      "execution_count": 57,
      "outputs": [
        {
          "output_type": "execute_result",
          "data": {
            "text/html": [
              "<div>\n",
              "<style scoped>\n",
              "    .dataframe tbody tr th:only-of-type {\n",
              "        vertical-align: middle;\n",
              "    }\n",
              "\n",
              "    .dataframe tbody tr th {\n",
              "        vertical-align: top;\n",
              "    }\n",
              "\n",
              "    .dataframe thead th {\n",
              "        text-align: right;\n",
              "    }\n",
              "</style>\n",
              "<table border=\"1\" class=\"dataframe\">\n",
              "  <thead>\n",
              "    <tr style=\"text-align: right;\">\n",
              "      <th></th>\n",
              "      <th>iter</th>\n",
              "      <th>alpha</th>\n",
              "      <th>status</th>\n",
              "      <th>x1</th>\n",
              "      <th>x2</th>\n",
              "      <th>x3</th>\n",
              "      <th>x4</th>\n",
              "      <th>obj_value</th>\n",
              "      <th>f1</th>\n",
              "      <th>f2</th>\n",
              "    </tr>\n",
              "  </thead>\n",
              "  <tbody>\n",
              "    <tr>\n",
              "      <th>0</th>\n",
              "      <td>0</td>\n",
              "      <td>9.357623e-14</td>\n",
              "      <td>Optimal</td>\n",
              "      <td>561.0</td>\n",
              "      <td>10550.0</td>\n",
              "      <td>0.0</td>\n",
              "      <td>0.0</td>\n",
              "      <td>-2858.920744</td>\n",
              "      <td>-12938.258164</td>\n",
              "      <td>-2858.920744</td>\n",
              "    </tr>\n",
              "    <tr>\n",
              "      <th>1</th>\n",
              "      <td>1</td>\n",
              "      <td>9.936863e-14</td>\n",
              "      <td>Optimal</td>\n",
              "      <td>561.0</td>\n",
              "      <td>10550.0</td>\n",
              "      <td>0.0</td>\n",
              "      <td>0.0</td>\n",
              "      <td>-2858.920744</td>\n",
              "      <td>-12938.258164</td>\n",
              "      <td>-2858.920744</td>\n",
              "    </tr>\n",
              "    <tr>\n",
              "      <th>2</th>\n",
              "      <td>2</td>\n",
              "      <td>1.055196e-13</td>\n",
              "      <td>Optimal</td>\n",
              "      <td>561.0</td>\n",
              "      <td>10550.0</td>\n",
              "      <td>0.0</td>\n",
              "      <td>0.0</td>\n",
              "      <td>-2858.920744</td>\n",
              "      <td>-12938.258164</td>\n",
              "      <td>-2858.920744</td>\n",
              "    </tr>\n",
              "    <tr>\n",
              "      <th>3</th>\n",
              "      <td>3</td>\n",
              "      <td>1.120513e-13</td>\n",
              "      <td>Optimal</td>\n",
              "      <td>561.0</td>\n",
              "      <td>10550.0</td>\n",
              "      <td>0.0</td>\n",
              "      <td>0.0</td>\n",
              "      <td>-2858.920744</td>\n",
              "      <td>-12938.258164</td>\n",
              "      <td>-2858.920744</td>\n",
              "    </tr>\n",
              "    <tr>\n",
              "      <th>4</th>\n",
              "      <td>4</td>\n",
              "      <td>1.189873e-13</td>\n",
              "      <td>Optimal</td>\n",
              "      <td>561.0</td>\n",
              "      <td>10550.0</td>\n",
              "      <td>0.0</td>\n",
              "      <td>0.0</td>\n",
              "      <td>-2858.920744</td>\n",
              "      <td>-12938.258164</td>\n",
              "      <td>-2858.920744</td>\n",
              "    </tr>\n",
              "    <tr>\n",
              "      <th>...</th>\n",
              "      <td>...</td>\n",
              "      <td>...</td>\n",
              "      <td>...</td>\n",
              "      <td>...</td>\n",
              "      <td>...</td>\n",
              "      <td>...</td>\n",
              "      <td>...</td>\n",
              "      <td>...</td>\n",
              "      <td>...</td>\n",
              "      <td>...</td>\n",
              "    </tr>\n",
              "    <tr>\n",
              "      <th>995</th>\n",
              "      <td>995</td>\n",
              "      <td>1.000000e+00</td>\n",
              "      <td>Optimal</td>\n",
              "      <td>2115.0</td>\n",
              "      <td>10550.0</td>\n",
              "      <td>0.0</td>\n",
              "      <td>0.0</td>\n",
              "      <td>-9881.907605</td>\n",
              "      <td>-9881.907605</td>\n",
              "      <td>-2871.341762</td>\n",
              "    </tr>\n",
              "    <tr>\n",
              "      <th>996</th>\n",
              "      <td>996</td>\n",
              "      <td>1.000000e+00</td>\n",
              "      <td>Optimal</td>\n",
              "      <td>2115.0</td>\n",
              "      <td>10550.0</td>\n",
              "      <td>0.0</td>\n",
              "      <td>0.0</td>\n",
              "      <td>-9881.907605</td>\n",
              "      <td>-9881.907605</td>\n",
              "      <td>-2871.341762</td>\n",
              "    </tr>\n",
              "    <tr>\n",
              "      <th>997</th>\n",
              "      <td>997</td>\n",
              "      <td>1.000000e+00</td>\n",
              "      <td>Optimal</td>\n",
              "      <td>2115.0</td>\n",
              "      <td>10550.0</td>\n",
              "      <td>0.0</td>\n",
              "      <td>0.0</td>\n",
              "      <td>-9881.907605</td>\n",
              "      <td>-9881.907605</td>\n",
              "      <td>-2871.341762</td>\n",
              "    </tr>\n",
              "    <tr>\n",
              "      <th>998</th>\n",
              "      <td>998</td>\n",
              "      <td>1.000000e+00</td>\n",
              "      <td>Optimal</td>\n",
              "      <td>2115.0</td>\n",
              "      <td>10550.0</td>\n",
              "      <td>0.0</td>\n",
              "      <td>0.0</td>\n",
              "      <td>-9881.907605</td>\n",
              "      <td>-9881.907605</td>\n",
              "      <td>-2871.341762</td>\n",
              "    </tr>\n",
              "    <tr>\n",
              "      <th>999</th>\n",
              "      <td>999</td>\n",
              "      <td>1.000000e+00</td>\n",
              "      <td>Optimal</td>\n",
              "      <td>2115.0</td>\n",
              "      <td>10550.0</td>\n",
              "      <td>0.0</td>\n",
              "      <td>0.0</td>\n",
              "      <td>-9881.907605</td>\n",
              "      <td>-9881.907605</td>\n",
              "      <td>-2871.341762</td>\n",
              "    </tr>\n",
              "  </tbody>\n",
              "</table>\n",
              "<p>1000 rows × 10 columns</p>\n",
              "</div>"
            ],
            "text/plain": [
              "     iter         alpha   status  ...    obj_value            f1           f2\n",
              "0       0  9.357623e-14  Optimal  ... -2858.920744 -12938.258164 -2858.920744\n",
              "1       1  9.936863e-14  Optimal  ... -2858.920744 -12938.258164 -2858.920744\n",
              "2       2  1.055196e-13  Optimal  ... -2858.920744 -12938.258164 -2858.920744\n",
              "3       3  1.120513e-13  Optimal  ... -2858.920744 -12938.258164 -2858.920744\n",
              "4       4  1.189873e-13  Optimal  ... -2858.920744 -12938.258164 -2858.920744\n",
              "..    ...           ...      ...  ...          ...           ...          ...\n",
              "995   995  1.000000e+00  Optimal  ... -9881.907605  -9881.907605 -2871.341762\n",
              "996   996  1.000000e+00  Optimal  ... -9881.907605  -9881.907605 -2871.341762\n",
              "997   997  1.000000e+00  Optimal  ... -9881.907605  -9881.907605 -2871.341762\n",
              "998   998  1.000000e+00  Optimal  ... -9881.907605  -9881.907605 -2871.341762\n",
              "999   999  1.000000e+00  Optimal  ... -9881.907605  -9881.907605 -2871.341762\n",
              "\n",
              "[1000 rows x 10 columns]"
            ]
          },
          "metadata": {},
          "execution_count": 57
        }
      ]
    },
    {
      "cell_type": "code",
      "metadata": {
        "colab": {
          "base_uri": "https://localhost:8080/",
          "height": 297
        },
        "id": "9-rQPmAdQRPo",
        "outputId": "9f6210f8-1da7-47ac-8a4d-41580e7ee9ab"
      },
      "source": [
        "df_solution_sig_004.plot.scatter(x='f1', y='f2')"
      ],
      "id": "9-rQPmAdQRPo",
      "execution_count": 58,
      "outputs": [
        {
          "output_type": "execute_result",
          "data": {
            "text/plain": [
              "<matplotlib.axes._subplots.AxesSubplot at 0x7fe21c517710>"
            ]
          },
          "metadata": {},
          "execution_count": 58
        },
        {
          "output_type": "display_data",
          "data": {
            "image/png": "[encoded data removed]",
            "text/plain": [
              "<Figure size 432x288 with 1 Axes>"
            ]
          },
          "metadata": {
            "needs_background": "light"
          }
        }
      ]
    }
  ]
}