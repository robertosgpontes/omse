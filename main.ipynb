{
  "nbformat": 4,
  "nbformat_minor": 5,
  "metadata": {
    "kernelspec": {
      "display_name": "Python 3",
      "language": "python",
      "name": "python3"
    },
    "language_info": {
      "codemirror_mode": {
        "name": "ipython",
        "version": 3
      },
      "file_extension": ".py",
      "mimetype": "text/x-python",
      "name": "python",
      "nbconvert_exporter": "python",
      "pygments_lexer": "ipython3",
      "version": "3.8.10"
    },
    "colab": {
      "name": "main.ipynb",
      "provenance": [],
      "toc_visible": true,
      "include_colab_link": true
    }
  },
  "cells": [
    {
      "cell_type": "markdown",
      "metadata": {
        "id": "view-in-github",
        "colab_type": "text"
      },
      "source": [
        "<a href=\"https://colab.research.google.com/github/robertosgpontes/osem/blob/main/main.ipynb\" target=\"_parent\"><img src=\"https://colab.research.google.com/assets/colab-badge.svg\" alt=\"Open In Colab\"/></a>"
      ]
    },
    {
      "cell_type": "markdown",
      "metadata": {
        "id": "TmnbSeVdwVCW"
      },
      "source": [
        ""
      ],
      "id": "TmnbSeVdwVCW"
    },
    {
      "cell_type": "markdown",
      "metadata": {
        "id": "SwfdVvoBgXnR"
      },
      "source": [
        "## Formulação do Problema\n",
        "\n",
        "O problema apresentado pode ser formulado através de uma\n",
        "\n",
        "\\begin{equation}\n",
        "\t\\max  \\sum_{i=1}^{n}{[A_{i}^1-(A_{i}^2-A_{i}^3)]X_i}\n",
        "\\end{equation}\n",
        "e\n",
        "\\begin{equation}\n",
        "\\min \\sum_{i=1}^{n}{C_iX_i}\n",
        "\\end{equation}\n",
        "\n",
        "\n",
        "Sujeito a\n",
        "\\begin{equation}\n",
        "x_1 \\leq b_1\n",
        "\\end{equation}\n",
        "\\begin{equation}\n",
        "x_2 \\leq b_2\n",
        "\\end{equation}\n",
        "\\begin{equation}\n",
        "x_3 \\leq b_3\n",
        "\\end{equation}\n",
        "\\begin{equation}\n",
        "x_1 + x_3 \\leq b_4\n",
        "\\end{equation}\n",
        "\\begin{equation}\n",
        "x_1 + x_2 + x_3 + x_4 \\leq b_5\n",
        "\\end{equation}\n",
        "\\begin{equation}\n",
        "x_1 \\geq b_6\n",
        "\\end{equation}\n",
        "\\begin{equation}\n",
        "x_2 \\geq b_7\n",
        "\\end{equation}\n",
        "\\begin{equation}\n",
        "x_1, x_2, x_3, x_4 \\geq 0\n",
        "\\end{equation}\n"
      ],
      "id": "SwfdVvoBgXnR"
    },
    {
      "cell_type": "code",
      "metadata": {
        "colab": {
          "base_uri": "https://localhost:8080/"
        },
        "id": "CqmQ7bFqgZCE",
        "outputId": "cff9be14-0254-4508-cb5c-348369459276"
      },
      "source": [
        "% pip install pulp"
      ],
      "id": "CqmQ7bFqgZCE",
      "execution_count": null,
      "outputs": [
        {
          "output_type": "stream",
          "text": [
            "Requirement already satisfied: pulp in /usr/local/lib/python3.7/dist-packages (2.4)\n",
            "Requirement already satisfied: amply>=0.1.2 in /usr/local/lib/python3.7/dist-packages (from pulp) (0.1.4)\n",
            "Requirement already satisfied: docutils>=0.3 in /usr/local/lib/python3.7/dist-packages (from amply>=0.1.2->pulp) (0.17.1)\n",
            "Requirement already satisfied: pyparsing in /usr/local/lib/python3.7/dist-packages (from amply>=0.1.2->pulp) (2.4.7)\n"
          ],
          "name": "stdout"
        }
      ]
    },
    {
      "cell_type": "code",
      "metadata": {
        "id": "c8680221-9de1-4566-8831-1e860e611979"
      },
      "source": [
        "# Python libraries used to solve the problem Linear Programing\n",
        "import pulp\n",
        "import numpy as np\n",
        "import pandas as pd"
      ],
      "id": "c8680221-9de1-4566-8831-1e860e611979",
      "execution_count": null,
      "outputs": []
    },
    {
      "cell_type": "code",
      "metadata": {
        "id": "IwN_6GhJgXnV"
      },
      "source": [
        "# Variáveis do modelo\n",
        "\n",
        "A1 = np.array([11.444, 0.047, 1.523, 0.095])\n",
        "A2 = np.array([0.899, 0.0, 0.926, 0.073]) \n",
        "A3 = np.array([0.00106, 0.00010, 0.00021, 0.00006])\n",
        "C = np.array([1.41, 4.99, 2.41, 6.24])\n",
        "A = np.array([  [1, 0, 0, 0],\n",
        "                [0, 0, 1, 0],\n",
        "                [0, 0, 0, 1],\n",
        "                [1, 0, 1, 0],\n",
        "                [1, 1, 1, 1],\n",
        "                [1, 0, 0, 0],\n",
        "                [0, 1, 0, 0]])\n",
        "\n",
        "b = np.array([[557],[1143],[1577],[1700],[10310],[160],[6990]])"
      ],
      "id": "IwN_6GhJgXnV",
      "execution_count": null,
      "outputs": []
    },
    {
      "cell_type": "code",
      "metadata": {
        "id": "CTTd04vpgXnW"
      },
      "source": [
        "def create_x_variables():\n",
        "    x1 = pulp.LpVariable(\"x1\",lowBound = 0) \n",
        "    x2 = pulp.LpVariable(\"x2\",lowBound = 0)\n",
        "    x3 = pulp.LpVariable(\"x3\",lowBound = 0) \n",
        "    x4 = pulp.LpVariable(\"x4\",lowBound = 0) \n",
        "    return np.array([[x1], [x2], [x3], [x4]]) "
      ],
      "id": "CTTd04vpgXnW",
      "execution_count": null,
      "outputs": []
    },
    {
      "cell_type": "code",
      "metadata": {
        "id": "ImfvAgUKgXnX"
      },
      "source": [
        "def load_model(lpm, A, X, b):\n",
        "    Ax = A.dot(X)\n",
        "\n",
        "    for i in range(0,4):\n",
        "        lpm += Ax[i,0] <= b[i,0]\n",
        "\n",
        "    lpm += Ax[4,0] == b[4,0]\n",
        "\n",
        "    for i in range(5,7):\n",
        "        lpm += Ax[i,0] >= b[i,0]\n",
        "\n",
        "    return lpm"
      ],
      "id": "ImfvAgUKgXnX",
      "execution_count": null,
      "outputs": []
    },
    {
      "cell_type": "markdown",
      "metadata": {
        "id": "OQJPKGXsQIg2"
      },
      "source": [
        "# Approach 1: Solution with Hierarchical Methodology\n",
        "\n",
        "Maximizing for one objective, then adding it as a constraint and solving for the other objective"
      ],
      "id": "OQJPKGXsQIg2"
    },
    {
      "cell_type": "markdown",
      "metadata": {
        "id": "HjiahxEMQm6z"
      },
      "source": [
        "## 1.1. First Step\n",
        "\n",
        "\\begin{equation}\n",
        "S_1 = \\max  \\sum_{i=1}^{n}{[A_{i}^1-(A_{i}^2-A_{i}^3)]X_i}\n",
        "\\end{equation}\n",
        "\n",
        "Sujeito a\n",
        "\\begin{equation}\n",
        "x_1 \\leq b_1\n",
        "\\end{equation}\n",
        "\\begin{equation}\n",
        "x_2 \\leq b_2\n",
        "\\end{equation}\n",
        "\\begin{equation}\n",
        "x_3 \\leq b_3\n",
        "\\end{equation}\n",
        "\\begin{equation}\n",
        "x_1 + x_3 \\leq b_4\n",
        "\\end{equation}\n",
        "\\begin{equation}\n",
        "x_1 + x_2 + x_3 + x_4 \\leq b_5\n",
        "\\end{equation}\n",
        "\\begin{equation}\n",
        "x_1 \\geq b_6\n",
        "\\end{equation}\n",
        "\\begin{equation}\n",
        "x_2 \\geq b_7\n",
        "\\end{equation}\n",
        "\\begin{equation}\n",
        "x_1, x_2, x_3, x_4 \\geq 0\n",
        "\\end{equation}\n"
      ],
      "id": "HjiahxEMQm6z"
    },
    {
      "cell_type": "code",
      "metadata": {
        "id": "Ha1XAKg3gxaN"
      },
      "source": [
        "linearProblem = pulp.LpProblem(\"First_Objective_Max\",pulp.LpMaximize)\n",
        "\n",
        "X = create_x_variables()\n",
        "\n",
        "f1 = (A1 - (A2 + A3))*X.T\n",
        "\n",
        "linearProblem += f1.sum()\n",
        "\n",
        "linearProblem = load_model(linearProblem, A, X, b)\n",
        "\n",
        "linearProblem.writeLP('modelStep1.lp')\n",
        "\n",
        "solution = linearProblem.solve()\n",
        "\n",
        "f1_max = pulp.value(linearProblem.objective)"
      ],
      "id": "Ha1XAKg3gxaN",
      "execution_count": null,
      "outputs": []
    },
    {
      "cell_type": "code",
      "metadata": {
        "id": "ksNT-5ZliZ78",
        "colab": {
          "base_uri": "https://localhost:8080/"
        },
        "outputId": "626082ab-56a4-4904-8f79-ba68fb70d940"
      },
      "source": [
        "# print(linearProblem)"
      ],
      "id": "ksNT-5ZliZ78",
      "execution_count": null,
      "outputs": [
        {
          "output_type": "stream",
          "text": [
            "First_Objective_Max:\n",
            "MAXIMIZE\n",
            "10.543940000000001*x1 + 0.0469*x2 + 0.5967899999999998*x3 + 0.02194*x4 + 0.0\n",
            "SUBJECT TO\n",
            "_C1: x1 <= 557\n",
            "\n",
            "_C2: x3 <= 1143\n",
            "\n",
            "_C3: x4 <= 1577\n",
            "\n",
            "_C4: x1 + x3 <= 1700\n",
            "\n",
            "_C5: x1 + x2 + x3 + x4 = 10310\n",
            "\n",
            "_C6: x1 >= 160\n",
            "\n",
            "_C7: x2 >= 6990\n",
            "\n",
            "VARIABLES\n",
            "x1 Continuous\n",
            "x2 Continuous\n",
            "x3 Continuous\n",
            "x4 Continuous\n",
            "\n"
          ],
          "name": "stdout"
        }
      ]
    },
    {
      "cell_type": "code",
      "metadata": {
        "id": "r24fmiFWijwA",
        "colab": {
          "base_uri": "https://localhost:8080/"
        },
        "outputId": "978566aa-598b-4a6a-8675-725d0658203f"
      },
      "source": [
        "print(\"#1 - \" + str(pulp.LpStatus[solution])+\" ; max value = \"+str(pulp.value(linearProblem.objective))+\n",
        "      \" ; x1_opt = \"+str(pulp.value(X[0][0]))+\n",
        "      \" ; x2_opt = \"+str(pulp.value(X[1][0]))+\n",
        "      \" ; x3_opt = \"+str(pulp.value(X[2][0]))+\n",
        "      \" ; x4_opt = \"+str(pulp.value(X[3][0])))"
      ],
      "id": "r24fmiFWijwA",
      "execution_count": null,
      "outputs": [
        {
          "output_type": "stream",
          "text": [
            "#1 - Optimal ; max value = 6958.914550000001 ; x1_opt = 557.0 ; x2_opt = 8610.0 ; x3_opt = 1143.0 ; x4_opt = 0.0\n"
          ],
          "name": "stdout"
        }
      ]
    },
    {
      "cell_type": "markdown",
      "metadata": {
        "id": "pFsPCeMrQvVK"
      },
      "source": [
        "## 1.1. Second Step\n",
        "\n",
        "\n",
        "\\begin{equation}\n",
        "\\min \\sum_{i=1}^{n}{C_iX_i}\n",
        "\\end{equation}\n",
        "Sujeito a\n",
        "\\begin{equation}\n",
        "x_1 \\leq b_1\n",
        "\\end{equation}\n",
        "\\begin{equation}\n",
        "x_2 \\leq b_2\n",
        "\\end{equation}\n",
        "\\begin{equation}\n",
        "x_3 \\leq b_3\n",
        "\\end{equation}\n",
        "\\begin{equation}\n",
        "x_1 + x_3 \\leq b_4\n",
        "\\end{equation}\n",
        "\\begin{equation}\n",
        "x_1 + x_2 + x_3 + x_4 \\leq b_5\n",
        "\\end{equation}\n",
        "\\begin{equation}\n",
        "x_1 \\geq b_6\n",
        "\\end{equation}\n",
        "\\begin{equation}\n",
        "x_2 \\geq b_7\n",
        "\\end{equation}\n",
        "\\begin{equation}\n",
        "\\sum_{i=1}^{n}{[A_{i}^1-(A_{i}^2-A_{i}^3)]X_i} \\geq S_1\n",
        "\\end{equation}\n",
        "\\begin{equation}\n",
        "x_1, x_2, x_3, x_4 \\geq 0\n",
        "\\end{equation}\n"
      ],
      "id": "pFsPCeMrQvVK"
    },
    {
      "cell_type": "code",
      "metadata": {
        "id": "8d262c1f-7998-445e-be74-d0bf4f2c37b8"
      },
      "source": [
        "linearProblem2 = pulp.LpProblem(\"Second_Objective_Min\",pulp.LpMaximize)\n",
        "\n",
        "X = create_x_variables()\n",
        "\n",
        "linearProblem2 += C.dot(X)[0]\n",
        "\n",
        "linearProblem2 = load_model(linearProblem2, A, X, b)\n",
        "\n",
        "f1 = (A1 - (A2 + A3))*X.T\n",
        "\n",
        "linearProblem2 += f1.sum() >= f1_max\n",
        "\n",
        "linearProblem2.writeLP('modelStep2.lp')\n",
        "\n",
        "solution2 = linearProblem2.solve()"
      ],
      "id": "8d262c1f-7998-445e-be74-d0bf4f2c37b8",
      "execution_count": null,
      "outputs": []
    },
    {
      "cell_type": "code",
      "metadata": {
        "id": "pHWZTAxYiohn",
        "colab": {
          "base_uri": "https://localhost:8080/"
        },
        "outputId": "554e9da7-290c-4461-9ddf-cfcbd99c0daa"
      },
      "source": [
        "print(linearProblem2)"
      ],
      "id": "pHWZTAxYiohn",
      "execution_count": null,
      "outputs": [
        {
          "output_type": "stream",
          "text": [
            "Second_Objective_Min:\n",
            "MAXIMIZE\n",
            "1.41*x1 + 4.99*x2 + 2.41*x3 + 6.24*x4 + 0.0\n",
            "SUBJECT TO\n",
            "_C1: x1 <= 557\n",
            "\n",
            "_C2: x3 <= 1143\n",
            "\n",
            "_C3: x4 <= 1577\n",
            "\n",
            "_C4: x1 + x3 <= 1700\n",
            "\n",
            "_C5: x1 + x2 + x3 + x4 = 10310\n",
            "\n",
            "_C6: x1 >= 160\n",
            "\n",
            "_C7: x2 >= 6990\n",
            "\n",
            "_C8: 10.54394 x1 + 0.0469 x2 + 0.59679 x3 + 0.02194 x4 >= 6958.91455\n",
            "\n",
            "VARIABLES\n",
            "x1 Continuous\n",
            "x2 Continuous\n",
            "x3 Continuous\n",
            "x4 Continuous\n",
            "\n"
          ],
          "name": "stdout"
        }
      ]
    },
    {
      "cell_type": "code",
      "metadata": {
        "id": "lgVS_xLviseC",
        "colab": {
          "base_uri": "https://localhost:8080/"
        },
        "outputId": "5cf58815-9b98-43b7-a490-b1ba97dbf2f4"
      },
      "source": [
        "print(str(pulp.LpStatus[solution2])+\" ; max value = \"+str(pulp.value(linearProblem2.objective))+\n",
        "      \" ; x1_opt = \"+str(pulp.value(X[0][0]))+\n",
        "      \" ; x2_opt = \"+str(pulp.value(X[1][0]))+\n",
        "      \" ; x3_opt = \"+str(pulp.value(X[2][0]))+\n",
        "      \" ; x4_opt = \"+str(pulp.value(X[3][0])))"
      ],
      "id": "lgVS_xLviseC",
      "execution_count": null,
      "outputs": [
        {
          "output_type": "stream",
          "text": [
            "Optimal ; max value = 46503.90000000035 ; x1_opt = 557.0 ; x2_opt = 8610.0 ; x3_opt = 1143.0 ; x4_opt = 5.6388672e-11\n"
          ],
          "name": "stdout"
        }
      ]
    },
    {
      "cell_type": "markdown",
      "metadata": {
        "id": "qiIr__kgQ1DJ"
      },
      "source": [
        "# 2. Solution with ...\n",
        "\n",
        "\\begin{equation}\n",
        "\t\\max  \\alpha\\sum_{i=1}^{n}{[A_{i}^1-(A_{i}^2-A_{i}^3)]X_i} - (1-\\alpha)\\sum_{i=1}^{n}{C_iX_i}\n",
        "\\end{equation}\n",
        "\n",
        "Sujeito a\n",
        "\\begin{equation}\n",
        "x_1 \\leq b_1\n",
        "\\end{equation}\n",
        "\\begin{equation}\n",
        "x_2 \\leq b_2\n",
        "\\end{equation}\n",
        "\\begin{equation}\n",
        "x_3 \\leq b_3\n",
        "\\end{equation}\n",
        "\\begin{equation}\n",
        "x_1 + x_3 \\leq b_4\n",
        "\\end{equation}\n",
        "\\begin{equation}\n",
        "x_1 + x_2 + x_3 + x_4 \\leq b_5\n",
        "\\end{equation}\n",
        "\\begin{equation}\n",
        "x_1 \\geq b_6\n",
        "\\end{equation}\n",
        "\\begin{equation}\n",
        "x_2 \\geq b_7\n",
        "\\end{equation}\n",
        "\\begin{equation}\n",
        "x_1, x_2, x_3, x_4 \\geq 0\n",
        "\\end{equation}"
      ],
      "id": "qiIr__kgQ1DJ"
    },
    {
      "cell_type": "code",
      "metadata": {
        "id": "6AdHjZmy0BTP"
      },
      "source": [
        "def f_alpha(alpha, f1, f2):\n",
        "  return (alpha*f1 + (1-alpha)*f2)"
      ],
      "id": "6AdHjZmy0BTP",
      "execution_count": null,
      "outputs": []
    },
    {
      "cell_type": "code",
      "metadata": {
        "id": "9AYQm-JK6xFY"
      },
      "source": [
        "def run(f_alphas):\n",
        "  solution = []\n",
        "  i = 0\n",
        "  for alpha in f_alphas:\n",
        "    model = pulp.LpProblem(\"MultiObjetivo\",pulp.LpMaximize)\n",
        "\n",
        "    X = create_x_variables()\n",
        "\n",
        "    f1 = (A1 - (A2 + A3))*X.T\n",
        "    f1 = f1.sum()\n",
        "\n",
        "    f2 = C.dot(X)[0]\n",
        "\n",
        "    model += f_alpha(1, f1, f2)\n",
        "\n",
        "    model = load_model(model, A, X, b)\n",
        "\n",
        "    solution = model.solve()\n",
        "\n",
        "    solution.append([i,\n",
        "                    alpha,\n",
        "                    str(pulp.LpStatus[solution]),\n",
        "                    pulp.value(X[0][0]), \n",
        "                    pulp.value(X[1][0]), \n",
        "                    pulp.value(X[2][0]), \n",
        "                    pulp.value(X[3][0]),\n",
        "                    pulp.value(model.objective)])\n",
        "    i += 1\n",
        "    \n",
        "  return pd.DataFrame(solution, columns=[\"iter\",\"alpha\",\"status\",\"x1\",\"x2\", \"x3\", \"x4\", \"obj_value\"])"
      ],
      "id": "9AYQm-JK6xFY",
      "execution_count": null,
      "outputs": []
    },
    {
      "cell_type": "code",
      "metadata": {
        "id": "Kd2YfuxN9xe_"
      },
      "source": [
        ""
      ],
      "id": "Kd2YfuxN9xe_",
      "execution_count": null,
      "outputs": []
    },
    {
      "cell_type": "code",
      "metadata": {
        "id": "cDqBdiew90H-"
      },
      "source": [
        "f_alfa"
      ],
      "id": "cDqBdiew90H-",
      "execution_count": null,
      "outputs": []
    },
    {
      "cell_type": "code",
      "metadata": {
        "id": "QxSBoPhlPUlv"
      },
      "source": [
        "solutionTable = "
      ],
      "id": "QxSBoPhlPUlv",
      "execution_count": null,
      "outputs": []
    },
    {
      "cell_type": "code",
      "metadata": {
        "id": "HJRFall4P6Ym"
      },
      "source": [
        "print(str(pulp.LpStatus[solution2])+\" ; max value = \"+str(pulp.value(linearProblem2.objective))+\n",
        "      \" ; x1_opt = \"+str(pulp.value(X[0][0]))+\n",
        "      \" ; x2_opt = \"+str(pulp.value(X[1][0]))+\n",
        "      \" ; x3_opt = \"+str(pulp.value(X[2][0]))+\n",
        "      \" ; x4_opt = \"+str(pulp.value(X[3][0])))"
      ],
      "id": "HJRFall4P6Ym",
      "execution_count": null,
      "outputs": []
    }
  ]
}