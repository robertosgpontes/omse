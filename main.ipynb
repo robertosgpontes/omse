{
  "nbformat": 4,
  "nbformat_minor": 5,
  "metadata": {
    "kernelspec": {
      "display_name": "Python 3",
      "language": "python",
      "name": "python3"
    },
    "language_info": {
      "codemirror_mode": {
        "name": "ipython",
        "version": 3
      },
      "file_extension": ".py",
      "mimetype": "text/x-python",
      "name": "python",
      "nbconvert_exporter": "python",
      "pygments_lexer": "ipython3",
      "version": "3.8.10"
    },
    "colab": {
      "name": "main.ipynb",
      "provenance": [],
      "toc_visible": true,
      "include_colab_link": true
    }
  },
  "cells": [
    {
      "cell_type": "markdown",
      "metadata": {
        "id": "view-in-github",
        "colab_type": "text"
      },
      "source": [
        "<a href=\"https://colab.research.google.com/github/robertosgpontes/osem/blob/main/main.ipynb\" target=\"_parent\"><img src=\"https://colab.research.google.com/assets/colab-badge.svg\" alt=\"Open In Colab\"/></a>"
      ]
    },
    {
      "cell_type": "markdown",
      "metadata": {
        "id": "SwfdVvoBgXnR"
      },
      "source": [
        "## Formulação Geral do Problema\n",
        "\n",
        "O problema apresentado pode ser formulado através de uma\n",
        "\n",
        "\\begin{equation}\n",
        "\t\\max  \\sum_{i=1}^{n}{[A_{i}^1-(A_{i}^2-A_{i}^3)]X_i} = \\max \\sum_{i=1}^{n}{C_{i}^1X_i}\n",
        "\\end{equation}\n",
        "e\n",
        "\\begin{equation}\n",
        "\\min \\sum_{i=1}^{n}{C_{i}^2X_i}\n",
        "\\end{equation}\n",
        "\n",
        "\n",
        "Sujeito a\n",
        "\\begin{equation}\n",
        "x_1 \\leq b_1\n",
        "\\end{equation}\n",
        "\\begin{equation}\n",
        "x_2 \\leq b_2\n",
        "\\end{equation}\n",
        "\\begin{equation}\n",
        "x_3 \\leq b_3\n",
        "\\end{equation}\n",
        "\\begin{equation}\n",
        "x_1 + x_3 \\leq b_4\n",
        "\\end{equation}\n",
        "\\begin{equation}\n",
        "x_1 + x_2 + x_3 + x_4 = b_5\n",
        "\\end{equation}\n",
        "\\begin{equation}\n",
        "x_1 \\geq b_6\n",
        "\\end{equation}\n",
        "\\begin{equation}\n",
        "x_2 \\geq b_7\n",
        "\\end{equation}\n",
        "\\begin{equation}\n",
        "x_1, x_2, x_3, x_4 \\geq 0\n",
        "\\end{equation}\n"
      ],
      "id": "SwfdVvoBgXnR"
    },
    {
      "cell_type": "markdown",
      "metadata": {
        "id": "O3ieye0TUg-q"
      },
      "source": [
        "# Methodology\n",
        "\n",
        "https://www.supplychaindataanalytics.com/multi-objective-linear-optimization-with-pulp-in-python/\n",
        "\n",
        "https://pythonhealthcare.org/tag/pareto-front/\n",
        "\n"
      ],
      "id": "O3ieye0TUg-q"
    },
    {
      "cell_type": "markdown",
      "metadata": {
        "id": "MTEiywG7TKzI"
      },
      "source": [
        "### Approach 1: Solution with Hierarchical Methodology\n",
        "\n",
        "Maximizing for one objective, then adding it as a constraint and solving for the other objective"
      ],
      "id": "MTEiywG7TKzI"
    },
    {
      "cell_type": "markdown",
      "metadata": {
        "id": "ICk-oqY2TMAu"
      },
      "source": [
        "#### 1.1. First Step\n",
        "\n",
        "\\begin{equation}\n",
        "S_1 = \\max \\sum_{i=1}^{n}{C_{i}^1X_i}\n",
        "\\end{equation}\n",
        "\n",
        "Sujeito a\n",
        "\\begin{equation}\n",
        "x_1 \\leq b_1\n",
        "\\end{equation}\n",
        "\\begin{equation}\n",
        "x_2 \\leq b_2\n",
        "\\end{equation}\n",
        "\\begin{equation}\n",
        "x_3 \\leq b_3\n",
        "\\end{equation}\n",
        "\\begin{equation}\n",
        "x_1 + x_3 \\leq b_4\n",
        "\\end{equation}\n",
        "\\begin{equation}\n",
        "x_1 + x_2 + x_3 + x_4 = b_5\n",
        "\\end{equation}\n",
        "\\begin{equation}\n",
        "x_1 \\geq b_6\n",
        "\\end{equation}\n",
        "\\begin{equation}\n",
        "x_2 \\geq b_7\n",
        "\\end{equation}\n",
        "\\begin{equation}\n",
        "x_1, x_2, x_3, x_4 \\geq 0\n",
        "\\end{equation}"
      ],
      "id": "ICk-oqY2TMAu"
    },
    {
      "cell_type": "markdown",
      "metadata": {
        "id": "pt2FqgzrTSjB"
      },
      "source": [
        "#### 1.2. Second Step\n",
        "\n",
        "\n",
        "\\begin{equation}\n",
        "\\min \\sum_{i=1}^{n}{C_{i}^2X_i}\n",
        "\\end{equation}\n",
        "Sujeito a\n",
        "\\begin{equation}\n",
        "x_1 \\leq b_1\n",
        "\\end{equation}\n",
        "\\begin{equation}\n",
        "x_2 \\leq b_2\n",
        "\\end{equation}\n",
        "\\begin{equation}\n",
        "x_3 \\leq b_3\n",
        "\\end{equation}\n",
        "\\begin{equation}\n",
        "x_1 + x_3 \\leq b_4\n",
        "\\end{equation}\n",
        "\\begin{equation}\n",
        "x_1 + x_2 + x_3 + x_4 = b_5\n",
        "\\end{equation}\n",
        "\\begin{equation}\n",
        "x_1 \\geq b_6\n",
        "\\end{equation}\n",
        "\\begin{equation}\n",
        "x_2 \\geq b_7\n",
        "\\end{equation}\n",
        "\\begin{equation}\n",
        "\\max \\sum_{i=1}^{n}{C_{i}^1X_i} \\geq S_1\n",
        "\\end{equation}\n",
        "\\begin{equation}\n",
        "x_1, x_2, x_3, x_4 \\geq 0\n",
        "\\end{equation}\n"
      ],
      "id": "pt2FqgzrTSjB"
    },
    {
      "cell_type": "markdown",
      "metadata": {
        "id": "GUWOxpl4Uyb8"
      },
      "source": [
        "## Approach 2: Solution with ...\n",
        "\n",
        "\\begin{equation}\n",
        "\t\\max  \\alpha\\sum_{i=1}^{n}{[A_{i}^1-(A_{i}^2-A_{i}^3)]X_i} - (1-\\alpha)\\sum_{i=1}^{n}{C_iX_i}\n",
        "\\end{equation}\n",
        "\n",
        "Sujeito a\n",
        "\\begin{equation}\n",
        "x_1 \\leq b_1\n",
        "\\end{equation}\n",
        "\\begin{equation}\n",
        "x_2 \\leq b_2\n",
        "\\end{equation}\n",
        "\\begin{equation}\n",
        "x_3 \\leq b_3\n",
        "\\end{equation}\n",
        "\\begin{equation}\n",
        "x_1 + x_3 \\leq b_4\n",
        "\\end{equation}\n",
        "\\begin{equation}\n",
        "x_1 + x_2 + x_3 + x_4 = b_5\n",
        "\\end{equation}\n",
        "\\begin{equation}\n",
        "x_1 \\geq b_6\n",
        "\\end{equation}\n",
        "\\begin{equation}\n",
        "x_2 \\geq b_7\n",
        "\\end{equation}\n",
        "\\begin{equation}\n",
        "x_1, x_2, x_3, x_4 \\geq 0\n",
        "\\end{equation}"
      ],
      "id": "GUWOxpl4Uyb8"
    },
    {
      "cell_type": "markdown",
      "metadata": {
        "id": "tHrKFoBocp3L"
      },
      "source": [
        "# General Definitions"
      ],
      "id": "tHrKFoBocp3L"
    },
    {
      "cell_type": "markdown",
      "metadata": {
        "id": "hV6ZcjFpc2Wm"
      },
      "source": [
        "## Language"
      ],
      "id": "hV6ZcjFpc2Wm"
    },
    {
      "cell_type": "code",
      "metadata": {
        "colab": {
          "base_uri": "https://localhost:8080/",
          "height": 253
        },
        "id": "CqmQ7bFqgZCE",
        "collapsed": true,
        "outputId": "7922958b-718c-4069-8c0d-359d8837944b"
      },
      "source": [
        "% pip install pulp\n",
        "!rm /content/utils.py\n",
        "!wget https://raw.githubusercontent.com/robertosgpontes/osem/main/utils.py\n",
        "%run /content/utils.py"
      ],
      "id": "CqmQ7bFqgZCE",
      "execution_count": 16,
      "outputs": [
        {
          "output_type": "stream",
          "text": [
            "Requirement already satisfied: pulp in /usr/local/lib/python3.7/dist-packages (2.5.0)\n",
            "--2021-08-21 19:35:08--  https://raw.githubusercontent.com/robertosgpontes/osem/main/utils.py\n",
            "Resolving raw.githubusercontent.com (raw.githubusercontent.com)... 185.199.108.133, 185.199.109.133, 185.199.110.133, ...\n",
            "Connecting to raw.githubusercontent.com (raw.githubusercontent.com)|185.199.108.133|:443... connected.\n",
            "HTTP request sent, awaiting response... 200 OK\n",
            "Length: 2110 (2.1K) [text/plain]\n",
            "Saving to: ‘utils.py’\n",
            "\n",
            "utils.py            100%[===================>]   2.06K  --.-KB/s    in 0s      \n",
            "\n",
            "2021-08-21 19:35:08 (31.3 MB/s) - ‘utils.py’ saved [2110/2110]\n",
            "\n"
          ],
          "name": "stdout"
        },
        {
          "output_type": "display_data",
          "data": {
            "text/plain": [
              "<Figure size 432x288 with 0 Axes>"
            ]
          },
          "metadata": {}
        }
      ]
    },
    {
      "cell_type": "code",
      "metadata": {
        "id": "c8680221-9de1-4566-8831-1e860e611979"
      },
      "source": [
        "# Python libraries used to solve the problem Linear Programing\n",
        "import pulp\n",
        "import numpy as np\n",
        "import pandas as pd\n",
        "from matplotlib import pyplot as plt"
      ],
      "id": "c8680221-9de1-4566-8831-1e860e611979",
      "execution_count": 17,
      "outputs": []
    },
    {
      "cell_type": "markdown",
      "metadata": {
        "id": "GtijB4JmdNl4"
      },
      "source": [
        "## Problem Solution"
      ],
      "id": "GtijB4JmdNl4"
    },
    {
      "cell_type": "code",
      "metadata": {
        "id": "awb3FUwOH-xY"
      },
      "source": [
        "NUM_ITER = 1000"
      ],
      "id": "awb3FUwOH-xY",
      "execution_count": 18,
      "outputs": []
    },
    {
      "cell_type": "markdown",
      "metadata": {
        "id": "IO5KWRQqVI56"
      },
      "source": [
        "# Solution"
      ],
      "id": "IO5KWRQqVI56"
    },
    {
      "cell_type": "markdown",
      "metadata": {
        "id": "q8AKIfxtRwu_"
      },
      "source": [
        "##Paper 1 (P1): Optimizing the Management of Soil Erosion\n",
        "\n",
        "Nikkami, Davood & Elektorowicz, Maria & MEHUYS, GUY. (2002). Optimizing the Management of Soil Erosion. Water Quality Research Journal in Canada. 37. 10.2166/wqrj.2002.038. "
      ],
      "id": "q8AKIfxtRwu_"
    },
    {
      "cell_type": "markdown",
      "metadata": {
        "id": "2HTfv_nodwDN"
      },
      "source": [
        "### Model Parameter"
      ],
      "id": "2HTfv_nodwDN"
    },
    {
      "cell_type": "code",
      "metadata": {
        "id": "aJbTEtDOfofb"
      },
      "source": [
        "# Variáveis do modelo\n",
        "\n",
        "C = np.array([[10.54394,  0.0469 ,  0.59679,  0.02194],\n",
        "              [1.41, 4.99, 2.41, 6.24]])\n",
        "\n",
        "A = np.array([  [1, 0, 0, 0],\n",
        "                [0, 0, 1, 0],\n",
        "                [0, 0, 0, 1],\n",
        "                [1, 0, 1, 0],\n",
        "                [1, 1, 1, 1],\n",
        "                [1, 0, 0, 0],\n",
        "                [0, 1, 0, 0]])\n",
        "\n",
        "b = np.array([[557],[1143],[1577],[1700],[10310],[160],[6990]])"
      ],
      "id": "aJbTEtDOfofb",
      "execution_count": 19,
      "outputs": []
    },
    {
      "cell_type": "markdown",
      "metadata": {
        "id": "HjiahxEMQm6z"
      },
      "source": [
        "### Solution\n"
      ],
      "id": "HjiahxEMQm6z"
    },
    {
      "cell_type": "markdown",
      "metadata": {
        "id": "Jol5aqu5eK1F"
      },
      "source": [
        "#### Approach 1"
      ],
      "id": "Jol5aqu5eK1F"
    },
    {
      "cell_type": "markdown",
      "metadata": {
        "id": "4mB_c4qce2Kj"
      },
      "source": [
        "##### Step 1"
      ],
      "id": "4mB_c4qce2Kj"
    },
    {
      "cell_type": "code",
      "metadata": {
        "id": "Ha1XAKg3gxaN"
      },
      "source": [
        "linearProblem = pulp.LpProblem(\"First_Objective_Max\",pulp.LpMaximize)\n",
        "\n",
        "X = create_x_variables()\n",
        "\n",
        "linearProblem += f(C[0], X)\n",
        "\n",
        "linearProblem = load_model(linearProblem, A, X, b)\n",
        "\n",
        "solution = linearProblem.solve()"
      ],
      "id": "Ha1XAKg3gxaN",
      "execution_count": 20,
      "outputs": []
    },
    {
      "cell_type": "code",
      "metadata": {
        "id": "r24fmiFWijwA",
        "colab": {
          "base_uri": "https://localhost:8080/"
        },
        "outputId": "96991fbd-74e9-4e0d-86ad-5ec91622a6ad"
      },
      "source": [
        "print_solution(solution, linearProblem, X)"
      ],
      "id": "r24fmiFWijwA",
      "execution_count": 21,
      "outputs": [
        {
          "output_type": "stream",
          "text": [
            "\n",
            "Status = Optimal\n",
            "Value = 6958.9145499999995\n",
            "x1 = 557.0\n",
            "x2 = 8610.0\n",
            "x3 = 1143.0\n",
            "x4 = 0.0\n"
          ],
          "name": "stdout"
        }
      ]
    },
    {
      "cell_type": "code",
      "metadata": {
        "id": "mr84N1d6a5nK"
      },
      "source": [
        "f1_max = pulp.value(linearProblem.objective)"
      ],
      "id": "mr84N1d6a5nK",
      "execution_count": 22,
      "outputs": []
    },
    {
      "cell_type": "markdown",
      "metadata": {
        "id": "pFsPCeMrQvVK"
      },
      "source": [
        "##### Step 2"
      ],
      "id": "pFsPCeMrQvVK"
    },
    {
      "cell_type": "code",
      "metadata": {
        "id": "8d262c1f-7998-445e-be74-d0bf4f2c37b8"
      },
      "source": [
        "linearProblem = pulp.LpProblem(\"Second_Objective_Min\",pulp.LpMinimize)\n",
        "\n",
        "X = create_x_variables()\n",
        "\n",
        "linearProblem += f(C[1], X)\n",
        "\n",
        "linearProblem = load_model(linearProblem, A, X, b)\n",
        "\n",
        "linearProblem += f(C[0], X) >= f1_max\n",
        "\n",
        "solution = linearProblem.solve()"
      ],
      "id": "8d262c1f-7998-445e-be74-d0bf4f2c37b8",
      "execution_count": 23,
      "outputs": []
    },
    {
      "cell_type": "code",
      "metadata": {
        "id": "lgVS_xLviseC",
        "colab": {
          "base_uri": "https://localhost:8080/"
        },
        "outputId": "aa330667-0ee0-44ef-92b8-f13f96506667"
      },
      "source": [
        "print_solution(solution, linearProblem, X)"
      ],
      "id": "lgVS_xLviseC",
      "execution_count": 24,
      "outputs": [
        {
          "output_type": "stream",
          "text": [
            "\n",
            "Status = Optimal\n",
            "Value = 46503.9\n",
            "x1 = 557.0\n",
            "x2 = 8610.0\n",
            "x3 = 1143.0\n",
            "x4 = 0.0\n"
          ],
          "name": "stdout"
        }
      ]
    },
    {
      "cell_type": "markdown",
      "metadata": {
        "id": "qiIr__kgQ1DJ"
      },
      "source": [
        "#### Approach 2"
      ],
      "id": "qiIr__kgQ1DJ"
    },
    {
      "cell_type": "code",
      "metadata": {
        "id": "Aj8z0LIAjroh"
      },
      "source": [
        "CMinMax = MinMax(C)\n",
        "CStandardization = Standardization(C)"
      ],
      "id": "Aj8z0LIAjroh",
      "execution_count": 25,
      "outputs": []
    },
    {
      "cell_type": "code",
      "metadata": {
        "id": "cDqBdiew90H-"
      },
      "source": [
        "alpha_lin = np.linspace(0, 1, NUM_ITER)"
      ],
      "id": "cDqBdiew90H-",
      "execution_count": 26,
      "outputs": []
    },
    {
      "cell_type": "code",
      "metadata": {
        "id": "aO4bLcyzFEFz",
        "colab": {
          "base_uri": "https://localhost:8080/",
          "height": 283
        },
        "outputId": "ede5910e-7200-4b94-a06c-126b394f1bcf"
      },
      "source": [
        "plt.plot(np.linspace(0, NUM_ITER, NUM_ITER), alpha_lin)"
      ],
      "id": "aO4bLcyzFEFz",
      "execution_count": 27,
      "outputs": [
        {
          "output_type": "execute_result",
          "data": {
            "text/plain": [
              "[<matplotlib.lines.Line2D at 0x7ff93f9089d0>]"
            ]
          },
          "metadata": {},
          "execution_count": 27
        },
        {
          "output_type": "display_data",
          "data": {
            "image/png": "[encoded data removed]",
            "text/plain": [
              "<Figure size 432x288 with 1 Axes>"
            ]
          },
          "metadata": {
            "needs_background": "light"
          }
        }
      ]
    },
    {
      "cell_type": "code",
      "metadata": {
        "id": "XS704S70FL2J"
      },
      "source": [
        "df_solution_lin = run_models(alpha_lin, C, A, b)"
      ],
      "id": "XS704S70FL2J",
      "execution_count": 28,
      "outputs": []
    },
    {
      "cell_type": "code",
      "metadata": {
        "colab": {
          "base_uri": "https://localhost:8080/",
          "height": 424
        },
        "id": "IWpsM8zUR1Ak",
        "outputId": "b24a97f2-4678-49f2-8776-50e9bb499b57"
      },
      "source": [
        "df_solution_lin"
      ],
      "id": "IWpsM8zUR1Ak",
      "execution_count": 29,
      "outputs": [
        {
          "output_type": "execute_result",
          "data": {
            "text/html": [
              "<div>\n",
              "<style scoped>\n",
              "    .dataframe tbody tr th:only-of-type {\n",
              "        vertical-align: middle;\n",
              "    }\n",
              "\n",
              "    .dataframe tbody tr th {\n",
              "        vertical-align: top;\n",
              "    }\n",
              "\n",
              "    .dataframe thead th {\n",
              "        text-align: right;\n",
              "    }\n",
              "</style>\n",
              "<table border=\"1\" class=\"dataframe\">\n",
              "  <thead>\n",
              "    <tr style=\"text-align: right;\">\n",
              "      <th></th>\n",
              "      <th>iter</th>\n",
              "      <th>alpha</th>\n",
              "      <th>status</th>\n",
              "      <th>x1</th>\n",
              "      <th>x2</th>\n",
              "      <th>x3</th>\n",
              "      <th>x4</th>\n",
              "      <th>obj_value</th>\n",
              "      <th>f1</th>\n",
              "      <th>f2</th>\n",
              "    </tr>\n",
              "  </thead>\n",
              "  <tbody>\n",
              "    <tr>\n",
              "      <th>0</th>\n",
              "      <td>0</td>\n",
              "      <td>0.000000</td>\n",
              "      <td>Optimal</td>\n",
              "      <td>557.0</td>\n",
              "      <td>8610.0</td>\n",
              "      <td>1143.0</td>\n",
              "      <td>0.0</td>\n",
              "      <td>-46503.900000</td>\n",
              "      <td>6958.91455</td>\n",
              "      <td>-46503.9</td>\n",
              "    </tr>\n",
              "    <tr>\n",
              "      <th>1</th>\n",
              "      <td>1</td>\n",
              "      <td>0.001001</td>\n",
              "      <td>Optimal</td>\n",
              "      <td>557.0</td>\n",
              "      <td>8610.0</td>\n",
              "      <td>1143.0</td>\n",
              "      <td>0.0</td>\n",
              "      <td>-46450.383669</td>\n",
              "      <td>6958.91455</td>\n",
              "      <td>-46503.9</td>\n",
              "    </tr>\n",
              "    <tr>\n",
              "      <th>2</th>\n",
              "      <td>2</td>\n",
              "      <td>0.002002</td>\n",
              "      <td>Optimal</td>\n",
              "      <td>557.0</td>\n",
              "      <td>8610.0</td>\n",
              "      <td>1143.0</td>\n",
              "      <td>0.0</td>\n",
              "      <td>-46396.867338</td>\n",
              "      <td>6958.91455</td>\n",
              "      <td>-46503.9</td>\n",
              "    </tr>\n",
              "    <tr>\n",
              "      <th>3</th>\n",
              "      <td>3</td>\n",
              "      <td>0.003003</td>\n",
              "      <td>Optimal</td>\n",
              "      <td>557.0</td>\n",
              "      <td>8610.0</td>\n",
              "      <td>1143.0</td>\n",
              "      <td>0.0</td>\n",
              "      <td>-46343.351007</td>\n",
              "      <td>6958.91455</td>\n",
              "      <td>-46503.9</td>\n",
              "    </tr>\n",
              "    <tr>\n",
              "      <th>4</th>\n",
              "      <td>4</td>\n",
              "      <td>0.004004</td>\n",
              "      <td>Optimal</td>\n",
              "      <td>557.0</td>\n",
              "      <td>8610.0</td>\n",
              "      <td>1143.0</td>\n",
              "      <td>0.0</td>\n",
              "      <td>-46289.834676</td>\n",
              "      <td>6958.91455</td>\n",
              "      <td>-46503.9</td>\n",
              "    </tr>\n",
              "    <tr>\n",
              "      <th>...</th>\n",
              "      <td>...</td>\n",
              "      <td>...</td>\n",
              "      <td>...</td>\n",
              "      <td>...</td>\n",
              "      <td>...</td>\n",
              "      <td>...</td>\n",
              "      <td>...</td>\n",
              "      <td>...</td>\n",
              "      <td>...</td>\n",
              "      <td>...</td>\n",
              "    </tr>\n",
              "    <tr>\n",
              "      <th>995</th>\n",
              "      <td>995</td>\n",
              "      <td>0.995996</td>\n",
              "      <td>Optimal</td>\n",
              "      <td>557.0</td>\n",
              "      <td>8610.0</td>\n",
              "      <td>1143.0</td>\n",
              "      <td>0.0</td>\n",
              "      <td>6744.849226</td>\n",
              "      <td>6958.91455</td>\n",
              "      <td>-46503.9</td>\n",
              "    </tr>\n",
              "    <tr>\n",
              "      <th>996</th>\n",
              "      <td>996</td>\n",
              "      <td>0.996997</td>\n",
              "      <td>Optimal</td>\n",
              "      <td>557.0</td>\n",
              "      <td>8610.0</td>\n",
              "      <td>1143.0</td>\n",
              "      <td>0.0</td>\n",
              "      <td>6798.365557</td>\n",
              "      <td>6958.91455</td>\n",
              "      <td>-46503.9</td>\n",
              "    </tr>\n",
              "    <tr>\n",
              "      <th>997</th>\n",
              "      <td>997</td>\n",
              "      <td>0.997998</td>\n",
              "      <td>Optimal</td>\n",
              "      <td>557.0</td>\n",
              "      <td>8610.0</td>\n",
              "      <td>1143.0</td>\n",
              "      <td>0.0</td>\n",
              "      <td>6851.881888</td>\n",
              "      <td>6958.91455</td>\n",
              "      <td>-46503.9</td>\n",
              "    </tr>\n",
              "    <tr>\n",
              "      <th>998</th>\n",
              "      <td>998</td>\n",
              "      <td>0.998999</td>\n",
              "      <td>Optimal</td>\n",
              "      <td>557.0</td>\n",
              "      <td>8610.0</td>\n",
              "      <td>1143.0</td>\n",
              "      <td>0.0</td>\n",
              "      <td>6905.398219</td>\n",
              "      <td>6958.91455</td>\n",
              "      <td>-46503.9</td>\n",
              "    </tr>\n",
              "    <tr>\n",
              "      <th>999</th>\n",
              "      <td>999</td>\n",
              "      <td>1.000000</td>\n",
              "      <td>Optimal</td>\n",
              "      <td>557.0</td>\n",
              "      <td>8610.0</td>\n",
              "      <td>1143.0</td>\n",
              "      <td>0.0</td>\n",
              "      <td>6958.914550</td>\n",
              "      <td>6958.91455</td>\n",
              "      <td>-46503.9</td>\n",
              "    </tr>\n",
              "  </tbody>\n",
              "</table>\n",
              "<p>1000 rows × 10 columns</p>\n",
              "</div>"
            ],
            "text/plain": [
              "     iter     alpha   status     x1  ...   x4     obj_value          f1       f2\n",
              "0       0  0.000000  Optimal  557.0  ...  0.0 -46503.900000  6958.91455 -46503.9\n",
              "1       1  0.001001  Optimal  557.0  ...  0.0 -46450.383669  6958.91455 -46503.9\n",
              "2       2  0.002002  Optimal  557.0  ...  0.0 -46396.867338  6958.91455 -46503.9\n",
              "3       3  0.003003  Optimal  557.0  ...  0.0 -46343.351007  6958.91455 -46503.9\n",
              "4       4  0.004004  Optimal  557.0  ...  0.0 -46289.834676  6958.91455 -46503.9\n",
              "..    ...       ...      ...    ...  ...  ...           ...         ...      ...\n",
              "995   995  0.995996  Optimal  557.0  ...  0.0   6744.849226  6958.91455 -46503.9\n",
              "996   996  0.996997  Optimal  557.0  ...  0.0   6798.365557  6958.91455 -46503.9\n",
              "997   997  0.997998  Optimal  557.0  ...  0.0   6851.881888  6958.91455 -46503.9\n",
              "998   998  0.998999  Optimal  557.0  ...  0.0   6905.398219  6958.91455 -46503.9\n",
              "999   999  1.000000  Optimal  557.0  ...  0.0   6958.914550  6958.91455 -46503.9\n",
              "\n",
              "[1000 rows x 10 columns]"
            ]
          },
          "metadata": {},
          "execution_count": 29
        }
      ]
    },
    {
      "cell_type": "code",
      "metadata": {
        "id": "H57Hqgu9ElLS",
        "colab": {
          "base_uri": "https://localhost:8080/",
          "height": 171
        },
        "outputId": "0e19d337-59b5-47ff-b55e-63529547df9f"
      },
      "source": [
        "alpha_sig_004 = sig(-0.004, NUM_ITER)"
      ],
      "id": "H57Hqgu9ElLS",
      "execution_count": 30,
      "outputs": [
        {
          "output_type": "error",
          "ename": "TypeError",
          "evalue": "ignored",
          "traceback": [
            "\u001b[0;31m---------------------------------------------------------------------------\u001b[0m",
            "\u001b[0;31mTypeError\u001b[0m                                 Traceback (most recent call last)",
            "\u001b[0;32m<ipython-input-30-c8d143425548>\u001b[0m in \u001b[0;36m<module>\u001b[0;34m()\u001b[0m\n\u001b[0;32m----> 1\u001b[0;31m \u001b[0malpha_sig_004\u001b[0m \u001b[0;34m=\u001b[0m \u001b[0msig\u001b[0m\u001b[0;34m(\u001b[0m\u001b[0;34m-\u001b[0m\u001b[0;36m0.004\u001b[0m\u001b[0;34m,\u001b[0m \u001b[0mNUM_ITER\u001b[0m\u001b[0;34m)\u001b[0m\u001b[0;34m\u001b[0m\u001b[0;34m\u001b[0m\u001b[0m\n\u001b[0m",
            "\u001b[0;31mTypeError\u001b[0m: <lambda>() takes 1 positional argument but 2 were given"
          ]
        }
      ]
    },
    {
      "cell_type": "code",
      "metadata": {
        "id": "HS-kXgLYEyqH"
      },
      "source": [
        "plt.plot(np.linspace(0, NUM_ITER, NUM_ITER), alpha_sig_004)"
      ],
      "id": "HS-kXgLYEyqH",
      "execution_count": null,
      "outputs": []
    },
    {
      "cell_type": "code",
      "metadata": {
        "id": "otq00yCQGhjL"
      },
      "source": [
        "df_solution_sig_004 = run_models(alpha_sig_004)"
      ],
      "id": "otq00yCQGhjL",
      "execution_count": null,
      "outputs": []
    },
    {
      "cell_type": "code",
      "metadata": {
        "id": "mFi-X_ZjRrBt"
      },
      "source": [
        "df_solution_sig_004"
      ],
      "id": "mFi-X_ZjRrBt",
      "execution_count": null,
      "outputs": []
    },
    {
      "cell_type": "code",
      "metadata": {
        "id": "n9KWxUkdJzWM"
      },
      "source": [
        "alpha_sig_06 = sig(-0.06, NUM_ITER)"
      ],
      "id": "n9KWxUkdJzWM",
      "execution_count": null,
      "outputs": []
    },
    {
      "cell_type": "code",
      "metadata": {
        "id": "qyG_tgWDJ4EW"
      },
      "source": [
        "plt.plot(np.linspace(0, NUM_ITER, NUM_ITER), alpha_sig_06)"
      ],
      "id": "qyG_tgWDJ4EW",
      "execution_count": null,
      "outputs": []
    },
    {
      "cell_type": "code",
      "metadata": {
        "id": "H2PJQsK1J_kn"
      },
      "source": [
        "df_solution_sig_06 = run_models(alpha_sig_06)"
      ],
      "id": "H2PJQsK1J_kn",
      "execution_count": null,
      "outputs": []
    },
    {
      "cell_type": "code",
      "metadata": {
        "id": "jolJ2ryTPCk0"
      },
      "source": [
        "df_solution_sig_06"
      ],
      "id": "jolJ2ryTPCk0",
      "execution_count": null,
      "outputs": []
    },
    {
      "cell_type": "code",
      "metadata": {
        "id": "2sdLYsQGOdl0"
      },
      "source": [
        "df_solution_sig_06.plot.scatter(x='f1', y='f2')"
      ],
      "id": "2sdLYsQGOdl0",
      "execution_count": null,
      "outputs": []
    },
    {
      "cell_type": "code",
      "metadata": {
        "id": "dEzU5lgI_H32"
      },
      "source": [
        "df_solution_sig_06.plot.scatter(x='iter', y='obj_value')"
      ],
      "id": "dEzU5lgI_H32",
      "execution_count": null,
      "outputs": []
    },
    {
      "cell_type": "markdown",
      "metadata": {
        "id": "GPcu7obqL5pn"
      },
      "source": [
        "##Paper 2 (P2): Land use optimization in watershed scale\n",
        "\n",
        "Sadeghi, Seyed Hamidreza & Jalili, Khalil & Nikkami, Davood. (2009). Land use optimization in watershed scale. Land Use Policy. 26. 186-193. 10.1016/j.landusepol.2008.02.007. "
      ],
      "id": "GPcu7obqL5pn"
    },
    {
      "cell_type": "markdown",
      "metadata": {
        "id": "-y1G7BjMMgEr"
      },
      "source": [
        "### Model Parameter"
      ],
      "id": "-y1G7BjMMgEr"
    },
    {
      "cell_type": "code",
      "metadata": {
        "id": "iwj1v2KaJn1U"
      },
      "source": [
        "# Variáveis do modelo\n",
        "\n",
        "C = np.array([[21.452,  0.101 ,  4.56,  1.013],\n",
        "              [8.77, 10.47, 12.57, 10.81]])\n",
        "\n",
        "A = np.array([  [1, 0, 0, 0],\n",
        "                [0, 0, 1, 0],\n",
        "                [0, 0, 0, 1],\n",
        "                [1, 0, 1, 0],\n",
        "                [1, 1, 1, 1],\n",
        "                [1, 0, 0, 0],\n",
        "                [0, 1, 0, 0]])\n",
        "\n",
        "b = np.array([[2115],[237],[207],[2352],[13032],[561],[10550]])"
      ],
      "id": "iwj1v2KaJn1U",
      "execution_count": null,
      "outputs": []
    },
    {
      "cell_type": "code",
      "metadata": {
        "id": "qqT32nimMpyr"
      },
      "source": [
        ""
      ],
      "id": "qqT32nimMpyr",
      "execution_count": null,
      "outputs": []
    },
    {
      "cell_type": "markdown",
      "metadata": {
        "id": "ZURta3uzMqSx"
      },
      "source": [
        "### Solution\n"
      ],
      "id": "ZURta3uzMqSx"
    },
    {
      "cell_type": "markdown",
      "metadata": {
        "id": "i0TB1F_WMqSz"
      },
      "source": [
        "#### Approach 1"
      ],
      "id": "i0TB1F_WMqSz"
    },
    {
      "cell_type": "markdown",
      "metadata": {
        "id": "BCq7xpWcMqS1"
      },
      "source": [
        "##### Step 1"
      ],
      "id": "BCq7xpWcMqS1"
    },
    {
      "cell_type": "code",
      "metadata": {
        "id": "RiyGfY3eMqS3"
      },
      "source": [
        "linearProblem = pulp.LpProblem(\"First_Objective_Max\",pulp.LpMaximize)\n",
        "\n",
        "X = create_x_variables()\n",
        "\n",
        "linearProblem += f(C[0], X)\n",
        "\n",
        "linearProblem = load_model(linearProblem, A, X, b)\n",
        "\n",
        "solution = linearProblem.solve()"
      ],
      "id": "RiyGfY3eMqS3",
      "execution_count": null,
      "outputs": []
    },
    {
      "cell_type": "code",
      "metadata": {
        "id": "r0Kt14BgMqS5"
      },
      "source": [
        "print_solution(solution, linearProblem, X)"
      ],
      "id": "r0Kt14BgMqS5",
      "execution_count": null,
      "outputs": []
    },
    {
      "cell_type": "code",
      "metadata": {
        "id": "6VMyq_3dMqS7"
      },
      "source": [
        "f1_max = pulp.value(linearProblem.objective)"
      ],
      "id": "6VMyq_3dMqS7",
      "execution_count": null,
      "outputs": []
    },
    {
      "cell_type": "markdown",
      "metadata": {
        "id": "iUrjbv8UMqS-"
      },
      "source": [
        "##### Step 2"
      ],
      "id": "iUrjbv8UMqS-"
    },
    {
      "cell_type": "code",
      "metadata": {
        "id": "xfkKb8HLMqTC"
      },
      "source": [
        "linearProblem = pulp.LpProblem(\"Second_Objective_Min\",pulp.LpMinimize)\n",
        "\n",
        "X = create_x_variables()\n",
        "\n",
        "linearProblem += f(C[1], X)\n",
        "\n",
        "linearProblem = load_model(linearProblem, A, X, b)\n",
        "\n",
        "linearProblem += f(C[0], X) >= f1_max\n",
        "\n",
        "solution = linearProblem.solve()"
      ],
      "id": "xfkKb8HLMqTC",
      "execution_count": null,
      "outputs": []
    },
    {
      "cell_type": "code",
      "metadata": {
        "id": "nca68wQ2MqTE"
      },
      "source": [
        "print_solution(solution, linearProblem, X)"
      ],
      "id": "nca68wQ2MqTE",
      "execution_count": null,
      "outputs": []
    },
    {
      "cell_type": "markdown",
      "metadata": {
        "id": "pqvCE16DMqTH"
      },
      "source": [
        "#### Approach 2"
      ],
      "id": "pqvCE16DMqTH"
    },
    {
      "cell_type": "code",
      "metadata": {
        "id": "DAcwMOuzMqTK"
      },
      "source": [
        "CMinMax = MinMax(C)\n",
        "CStandardization = Standardization(C)"
      ],
      "id": "DAcwMOuzMqTK",
      "execution_count": null,
      "outputs": []
    },
    {
      "cell_type": "code",
      "metadata": {
        "id": "lo8cN_UTMqTN"
      },
      "source": [
        "alpha_lin = np.linspace(0, 1, NUM_ITER)"
      ],
      "id": "lo8cN_UTMqTN",
      "execution_count": null,
      "outputs": []
    },
    {
      "cell_type": "code",
      "metadata": {
        "id": "TevuyB-4MqTN"
      },
      "source": [
        "plt.plot(np.linspace(0, NUM_ITER, NUM_ITER), alpha_lin)"
      ],
      "id": "TevuyB-4MqTN",
      "execution_count": null,
      "outputs": []
    },
    {
      "cell_type": "code",
      "metadata": {
        "id": "S2MU40wTMqTP"
      },
      "source": [
        "df_solution_lin = run_models(alpha_lin, C, A, b)"
      ],
      "id": "S2MU40wTMqTP",
      "execution_count": null,
      "outputs": []
    },
    {
      "cell_type": "code",
      "metadata": {
        "id": "jk7saxf0MqTQ"
      },
      "source": [
        "df_solution_lin"
      ],
      "id": "jk7saxf0MqTQ",
      "execution_count": null,
      "outputs": []
    },
    {
      "cell_type": "code",
      "metadata": {
        "id": "ZqIf5cL-MqTS"
      },
      "source": [
        "alpha_sig_004 = sig(-0.004, NUM_ITER)"
      ],
      "id": "ZqIf5cL-MqTS",
      "execution_count": null,
      "outputs": []
    },
    {
      "cell_type": "code",
      "metadata": {
        "id": "Nlqtj4-qMqTT"
      },
      "source": [
        "plt.plot(np.linspace(0, NUM_ITER, NUM_ITER), alpha_sig_004)"
      ],
      "id": "Nlqtj4-qMqTT",
      "execution_count": null,
      "outputs": []
    },
    {
      "cell_type": "code",
      "metadata": {
        "id": "HXWuwYL8MqTV"
      },
      "source": [
        "df_solution_sig_004 = run_models(alpha_sig_004)"
      ],
      "id": "HXWuwYL8MqTV",
      "execution_count": null,
      "outputs": []
    },
    {
      "cell_type": "code",
      "metadata": {
        "id": "XVkI4uPcMqTW"
      },
      "source": [
        "df_solution_sig_004"
      ],
      "id": "XVkI4uPcMqTW",
      "execution_count": null,
      "outputs": []
    },
    {
      "cell_type": "code",
      "metadata": {
        "id": "2yCMfiqJMqTY"
      },
      "source": [
        "alpha_sig_06 = sig(-0.06, NUM_ITER)"
      ],
      "id": "2yCMfiqJMqTY",
      "execution_count": null,
      "outputs": []
    },
    {
      "cell_type": "code",
      "metadata": {
        "id": "h3dFms3SMqTZ"
      },
      "source": [
        "plt.plot(np.linspace(0, NUM_ITER, NUM_ITER), alpha_sig_06)"
      ],
      "id": "h3dFms3SMqTZ",
      "execution_count": null,
      "outputs": []
    },
    {
      "cell_type": "code",
      "metadata": {
        "id": "JquYQS3XMqTc"
      },
      "source": [
        "df_solution_sig_06 = run_models(alpha_sig_06)"
      ],
      "id": "JquYQS3XMqTc",
      "execution_count": null,
      "outputs": []
    },
    {
      "cell_type": "code",
      "metadata": {
        "id": "G42Kxf1CMqTd"
      },
      "source": [
        "df_solution_sig_06"
      ],
      "id": "G42Kxf1CMqTd",
      "execution_count": null,
      "outputs": []
    },
    {
      "cell_type": "code",
      "metadata": {
        "id": "Jkn6mksVMqTe"
      },
      "source": [
        "df_solution_sig_06.plot.scatter(x='f1', y='f2')"
      ],
      "id": "Jkn6mksVMqTe",
      "execution_count": null,
      "outputs": []
    },
    {
      "cell_type": "code",
      "metadata": {
        "id": "3jVja1N0MqTg"
      },
      "source": [
        "df_solution_sig_06.plot.scatter(x='iter', y='obj_value')"
      ],
      "id": "3jVja1N0MqTg",
      "execution_count": null,
      "outputs": []
    }
  ]
}