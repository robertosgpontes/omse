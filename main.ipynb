{
  "nbformat": 4,
  "nbformat_minor": 5,
  "metadata": {
    "kernelspec": {
      "display_name": "Python 3",
      "language": "python",
      "name": "python3"
    },
    "language_info": {
      "codemirror_mode": {
        "name": "ipython",
        "version": 3
      },
      "file_extension": ".py",
      "mimetype": "text/x-python",
      "name": "python",
      "nbconvert_exporter": "python",
      "pygments_lexer": "ipython3",
      "version": "3.8.10"
    },
    "colab": {
      "name": "main.ipynb",
      "provenance": [],
      "toc_visible": true,
      "include_colab_link": true
    }
  },
  "cells": [
    {
      "cell_type": "markdown",
      "metadata": {
        "id": "view-in-github",
        "colab_type": "text"
      },
      "source": [
        "<a href=\"https://colab.research.google.com/github/robertosgpontes/osem/blob/main/main.ipynb\" target=\"_parent\"><img src=\"https://colab.research.google.com/assets/colab-badge.svg\" alt=\"Open In Colab\"/></a>"
      ]
    },
    {
      "cell_type": "markdown",
      "metadata": {
        "id": "SwfdVvoBgXnR"
      },
      "source": [
        "## Formulação do Problema\n",
        "\n",
        "O problema apresentado pode ser formulado através de uma\n",
        "\n",
        "\\begin{equation}\n",
        "\t\\max  \\sum_{i=1}^{n}{[A_{i}^1-(A_{i}^2-A_{i}^3)]X_i}\n",
        "\\end{equation}\n",
        "e\n",
        "\\begin{equation}\n",
        "\\min \\sum_{i=1}^{n}{C_iX_i}\n",
        "\\end{equation}\n",
        "\n",
        "\n",
        "Sujeito a\n",
        "\\begin{equation}\n",
        "x_1 \\leq b_1\n",
        "\\end{equation}\n",
        "\\begin{equation}\n",
        "x_2 \\leq b_2\n",
        "\\end{equation}\n",
        "\\begin{equation}\n",
        "x_3 \\leq b_3\n",
        "\\end{equation}\n",
        "\\begin{equation}\n",
        "x_1 + x_3 \\leq b_4\n",
        "\\end{equation}\n",
        "\\begin{equation}\n",
        "x_1 + x_2 + x_3 + x_4 = b_5\n",
        "\\end{equation}\n",
        "\\begin{equation}\n",
        "x_1 \\geq b_6\n",
        "\\end{equation}\n",
        "\\begin{equation}\n",
        "x_2 \\geq b_7\n",
        "\\end{equation}\n",
        "\\begin{equation}\n",
        "x_1, x_2, x_3, x_4 \\geq 0\n",
        "\\end{equation}\n"
      ],
      "id": "SwfdVvoBgXnR"
    },
    {
      "cell_type": "code",
      "metadata": {
        "colab": {
          "base_uri": "https://localhost:8080/"
        },
        "id": "CqmQ7bFqgZCE",
        "outputId": "b93e31b0-8184-4522-d0f0-fdd7eb019407"
      },
      "source": [
        "% pip install pulp"
      ],
      "id": "CqmQ7bFqgZCE",
      "execution_count": 234,
      "outputs": [
        {
          "output_type": "stream",
          "text": [
            "Requirement already satisfied: pulp in /usr/local/lib/python3.7/dist-packages (2.5.0)\n"
          ],
          "name": "stdout"
        }
      ]
    },
    {
      "cell_type": "markdown",
      "metadata": {
        "id": "j1n1j6OUWfrr"
      },
      "source": [
        "https://www.supplychaindataanalytics.com/multi-objective-linear-optimization-with-pulp-in-python/\n",
        "\n",
        "https://pythonhealthcare.org/tag/pareto-front/"
      ],
      "id": "j1n1j6OUWfrr"
    },
    {
      "cell_type": "code",
      "metadata": {
        "id": "c8680221-9de1-4566-8831-1e860e611979"
      },
      "source": [
        "# Python libraries used to solve the problem Linear Programing\n",
        "import pulp\n",
        "import numpy as np\n",
        "import pandas as pd\n",
        "from matplotlib import pyplot as plt"
      ],
      "id": "c8680221-9de1-4566-8831-1e860e611979",
      "execution_count": 235,
      "outputs": []
    },
    {
      "cell_type": "code",
      "metadata": {
        "id": "awb3FUwOH-xY"
      },
      "source": [
        "NUM_ITER = 1000"
      ],
      "id": "awb3FUwOH-xY",
      "execution_count": 236,
      "outputs": []
    },
    {
      "cell_type": "code",
      "metadata": {
        "id": "CTTd04vpgXnW"
      },
      "source": [
        "def create_x_variables():\n",
        "    x1 = pulp.LpVariable(\"x1\",lowBound = 0) \n",
        "    x2 = pulp.LpVariable(\"x2\",lowBound = 0)\n",
        "    x3 = pulp.LpVariable(\"x3\",lowBound = 0) \n",
        "    x4 = pulp.LpVariable(\"x4\",lowBound = 0) \n",
        "    return np.array([[x1], [x2], [x3], [x4]]) "
      ],
      "id": "CTTd04vpgXnW",
      "execution_count": 237,
      "outputs": []
    },
    {
      "cell_type": "code",
      "metadata": {
        "id": "ImfvAgUKgXnX"
      },
      "source": [
        "def load_model(lpm, A, X, b):\n",
        "    Ax = A.dot(X)\n",
        "\n",
        "    for i in range(0,4):\n",
        "        lpm += Ax[i,0] <= b[i,0]\n",
        "\n",
        "    lpm += Ax[4,0] == b[4,0]\n",
        "\n",
        "    for i in range(5,7):\n",
        "        lpm += Ax[i,0] >= b[i,0]\n",
        "\n",
        "    return lpm"
      ],
      "id": "ImfvAgUKgXnX",
      "execution_count": 238,
      "outputs": []
    },
    {
      "cell_type": "code",
      "metadata": {
        "id": "Q8Ytgy2fYvQq"
      },
      "source": [
        "f_real = lambda c, x: c.dot(x)"
      ],
      "id": "Q8Ytgy2fYvQq",
      "execution_count": 239,
      "outputs": []
    },
    {
      "cell_type": "code",
      "metadata": {
        "id": "J3U5w9kWUj0e"
      },
      "source": [
        "f = lambda c, x: f_real(c, x)[0]"
      ],
      "id": "J3U5w9kWUj0e",
      "execution_count": 240,
      "outputs": []
    },
    {
      "cell_type": "code",
      "metadata": {
        "id": "abPKxy4BZTuF"
      },
      "source": [
        "sig = lambda sigma: 1/(1 + np.exp(sigma*(np.linspace(0, NUM_ITER, NUM_ITER)-(NUM_ITER/2))))"
      ],
      "id": "abPKxy4BZTuF",
      "execution_count": 241,
      "outputs": []
    },
    {
      "cell_type": "code",
      "metadata": {
        "id": "LIh02ewZapY7"
      },
      "source": [
        "def f_alpha(alpha, f1, f2):\n",
        "  return (alpha*f1 + (1-alpha)*f2)"
      ],
      "id": "LIh02ewZapY7",
      "execution_count": 242,
      "outputs": []
    },
    {
      "cell_type": "code",
      "metadata": {
        "id": "aJbTEtDOfofb"
      },
      "source": [
        "# Variáveis do modelo\n",
        "\n",
        "A1 = np.array([11.444, 0.047, 1.523, 0.095])\n",
        "A2 = np.array([0.899, 0.0, 0.926, 0.073]) \n",
        "A3 = np.array([0.00106, 0.00010, 0.00021, 0.00006])\n",
        "C = np.array([np.around(A1 - (A2 + A3), 5),\n",
        "              [1.41, 4.99, 2.41, 6.24]])\n",
        "A = np.array([  [1, 0, 0, 0],\n",
        "                [0, 0, 1, 0],\n",
        "                [0, 0, 0, 1],\n",
        "                [1, 0, 1, 0],\n",
        "                [1, 1, 1, 1],\n",
        "                [1, 0, 0, 0],\n",
        "                [0, 1, 0, 0]])\n",
        "\n",
        "b = np.array([[557],[1143],[1577],[1700],[10310],[160],[6990]])"
      ],
      "id": "aJbTEtDOfofb",
      "execution_count": 243,
      "outputs": []
    },
    {
      "cell_type": "code",
      "metadata": {
        "id": "HEH9s5xqjl8j"
      },
      "source": [
        "CIni = C"
      ],
      "id": "HEH9s5xqjl8j",
      "execution_count": 244,
      "outputs": []
    },
    {
      "cell_type": "code",
      "metadata": {
        "id": "cCYSgT-Gf3qj",
        "outputId": "4f0efa67-16ba-486b-ad3a-a63ed34568d5",
        "colab": {
          "base_uri": "https://localhost:8080/"
        }
      },
      "source": [
        "CIni"
      ],
      "id": "cCYSgT-Gf3qj",
      "execution_count": 245,
      "outputs": [
        {
          "output_type": "execute_result",
          "data": {
            "text/plain": [
              "array([[10.54394,  0.0469 ,  0.59679,  0.02194],\n",
              "       [ 1.41   ,  4.99   ,  2.41   ,  6.24   ]])"
            ]
          },
          "metadata": {
            "tags": []
          },
          "execution_count": 245
        }
      ]
    },
    {
      "cell_type": "code",
      "metadata": {
        "id": "rpjBZIWCfpwp"
      },
      "source": [
        "#MinMax\n",
        "CMinMax = (C - C.min()) / (C.max() - C.min())"
      ],
      "id": "rpjBZIWCfpwp",
      "execution_count": 246,
      "outputs": []
    },
    {
      "cell_type": "code",
      "metadata": {
        "id": "4ORHTvEQgD7K",
        "outputId": "d2798a10-7345-499f-8bdc-cfe43e765615",
        "colab": {
          "base_uri": "https://localhost:8080/"
        }
      },
      "source": [
        "CMinMax"
      ],
      "id": "4ORHTvEQgD7K",
      "execution_count": 247,
      "outputs": [
        {
          "output_type": "execute_result",
          "data": {
            "text/plain": [
              "array([[1.        , 0.00237217, 0.05463315, 0.        ],\n",
              "       [0.13191979, 0.47215929, 0.22695875, 0.59095799]])"
            ]
          },
          "metadata": {
            "tags": []
          },
          "execution_count": 247
        }
      ]
    },
    {
      "cell_type": "code",
      "metadata": {
        "id": "ilNAELeIiZl5"
      },
      "source": [
        "CStandardization = (C - C.mean()) / C.std()"
      ],
      "id": "ilNAELeIiZl5",
      "execution_count": 248,
      "outputs": []
    },
    {
      "cell_type": "code",
      "metadata": {
        "id": "cUaPysfLjNzf",
        "outputId": "2742f411-b0dd-4748-e640-332eebf27c53",
        "colab": {
          "base_uri": "https://localhost:8080/"
        }
      },
      "source": [
        "CStandardization"
      ],
      "id": "cUaPysfLjNzf",
      "execution_count": 249,
      "outputs": [
        {
          "output_type": "execute_result",
          "data": {
            "text/plain": [
              "array([[ 2.08568285, -0.92932991, -0.77138773, -0.93649905],\n",
              "       [-0.53781345,  0.4904522 , -0.25058841,  0.8494835 ]])"
            ]
          },
          "metadata": {
            "tags": []
          },
          "execution_count": 249
        }
      ]
    },
    {
      "cell_type": "code",
      "metadata": {
        "id": "zBLsUIvGjX-V"
      },
      "source": [
        "C = CStandardization"
      ],
      "id": "zBLsUIvGjX-V",
      "execution_count": 250,
      "outputs": []
    },
    {
      "cell_type": "markdown",
      "metadata": {
        "id": "OQJPKGXsQIg2"
      },
      "source": [
        "# Approach 1: Solution with Hierarchical Methodology\n",
        "\n",
        "Maximizing for one objective, then adding it as a constraint and solving for the other objective"
      ],
      "id": "OQJPKGXsQIg2"
    },
    {
      "cell_type": "markdown",
      "metadata": {
        "id": "HjiahxEMQm6z"
      },
      "source": [
        "## 1.1. First Step\n",
        "\n",
        "\\begin{equation}\n",
        "S_1 = \\max  \\sum_{i=1}^{n}{[A_{i}^1-(A_{i}^2-A_{i}^3)]X_i}\n",
        "\\end{equation}\n",
        "\n",
        "Sujeito a\n",
        "\\begin{equation}\n",
        "x_1 \\leq b_1\n",
        "\\end{equation}\n",
        "\\begin{equation}\n",
        "x_2 \\leq b_2\n",
        "\\end{equation}\n",
        "\\begin{equation}\n",
        "x_3 \\leq b_3\n",
        "\\end{equation}\n",
        "\\begin{equation}\n",
        "x_1 + x_3 \\leq b_4\n",
        "\\end{equation}\n",
        "\\begin{equation}\n",
        "x_1 + x_2 + x_3 + x_4 = b_5\n",
        "\\end{equation}\n",
        "\\begin{equation}\n",
        "x_1 \\geq b_6\n",
        "\\end{equation}\n",
        "\\begin{equation}\n",
        "x_2 \\geq b_7\n",
        "\\end{equation}\n",
        "\\begin{equation}\n",
        "x_1, x_2, x_3, x_4 \\geq 0\n",
        "\\end{equation}\n"
      ],
      "id": "HjiahxEMQm6z"
    },
    {
      "cell_type": "code",
      "metadata": {
        "id": "Ha1XAKg3gxaN"
      },
      "source": [
        "linearProblem = pulp.LpProblem(\"First_Objective_Max\",pulp.LpMaximize)\n",
        "\n",
        "X = create_x_variables()\n",
        "\n",
        "linearProblem += f(C[0], X)\n",
        "\n",
        "linearProblem = load_model(linearProblem, A, X, b)\n",
        "\n",
        "#linearProblem.writeLP('modelStep1.lp')\n",
        "\n",
        "solution = linearProblem.solve()"
      ],
      "id": "Ha1XAKg3gxaN",
      "execution_count": 251,
      "outputs": []
    },
    {
      "cell_type": "code",
      "metadata": {
        "id": "ksNT-5ZliZ78",
        "outputId": "b4e6c0d8-407b-48d2-ffd6-12c1d4919a9f",
        "colab": {
          "base_uri": "https://localhost:8080/"
        }
      },
      "source": [
        "print(linearProblem)"
      ],
      "id": "ksNT-5ZliZ78",
      "execution_count": 252,
      "outputs": [
        {
          "output_type": "stream",
          "text": [
            "First_Objective_Max:\n",
            "MAXIMIZE\n",
            "2.085682854808582*x1 + -0.9293299108830332*x2 + -0.7713877319710578*x3 + -0.9364990479570715*x4 + 0.0\n",
            "SUBJECT TO\n",
            "_C1: x1 <= 557\n",
            "\n",
            "_C2: x3 <= 1143\n",
            "\n",
            "_C3: x4 <= 1577\n",
            "\n",
            "_C4: x1 + x3 <= 1700\n",
            "\n",
            "_C5: x1 + x2 + x3 + x4 = 10310\n",
            "\n",
            "_C6: x1 >= 160\n",
            "\n",
            "_C7: x2 >= 6990\n",
            "\n",
            "VARIABLES\n",
            "x1 Continuous\n",
            "x2 Continuous\n",
            "x3 Continuous\n",
            "x4 Continuous\n",
            "\n"
          ],
          "name": "stdout"
        }
      ]
    },
    {
      "cell_type": "code",
      "metadata": {
        "id": "r24fmiFWijwA",
        "colab": {
          "base_uri": "https://localhost:8080/"
        },
        "outputId": "3e134b6f-f155-4a2c-e8e7-56af3a3d60b3"
      },
      "source": [
        "print(\"#1 - \" + str(pulp.LpStatus[solution])+\" ; max value = \"+str(pulp.value(linearProblem.objective))+\n",
        "      \" ; x1_opt = \"+str(pulp.value(X[0][0]))+\n",
        "      \" ; x2_opt = \"+str(pulp.value(X[1][0]))+\n",
        "      \" ; x3_opt = \"+str(pulp.value(X[2][0]))+\n",
        "      \" ; x4_opt = \"+str(pulp.value(X[3][0])))"
      ],
      "id": "r24fmiFWijwA",
      "execution_count": 253,
      "outputs": [
        {
          "output_type": "stream",
          "text": [
            "#1 - Optimal ; max value = -7721.501360217454 ; x1_opt = 557.0 ; x2_opt = 8610.0 ; x3_opt = 1143.0 ; x4_opt = 0.0\n"
          ],
          "name": "stdout"
        }
      ]
    },
    {
      "cell_type": "code",
      "metadata": {
        "id": "mr84N1d6a5nK"
      },
      "source": [
        "f1_max = pulp.value(linearProblem.objective)"
      ],
      "id": "mr84N1d6a5nK",
      "execution_count": 254,
      "outputs": []
    },
    {
      "cell_type": "markdown",
      "metadata": {
        "id": "pFsPCeMrQvVK"
      },
      "source": [
        "## 1.1. Second Step\n",
        "\n",
        "\n",
        "\\begin{equation}\n",
        "\\min \\sum_{i=1}^{n}{C_iX_i}\n",
        "\\end{equation}\n",
        "Sujeito a\n",
        "\\begin{equation}\n",
        "x_1 \\leq b_1\n",
        "\\end{equation}\n",
        "\\begin{equation}\n",
        "x_2 \\leq b_2\n",
        "\\end{equation}\n",
        "\\begin{equation}\n",
        "x_3 \\leq b_3\n",
        "\\end{equation}\n",
        "\\begin{equation}\n",
        "x_1 + x_3 \\leq b_4\n",
        "\\end{equation}\n",
        "\\begin{equation}\n",
        "x_1 + x_2 + x_3 + x_4 = b_5\n",
        "\\end{equation}\n",
        "\\begin{equation}\n",
        "x_1 \\geq b_6\n",
        "\\end{equation}\n",
        "\\begin{equation}\n",
        "x_2 \\geq b_7\n",
        "\\end{equation}\n",
        "\\begin{equation}\n",
        "\\sum_{i=1}^{n}{[A_{i}^1-(A_{i}^2-A_{i}^3)]X_i} \\geq S_1\n",
        "\\end{equation}\n",
        "\\begin{equation}\n",
        "x_1, x_2, x_3, x_4 \\geq 0\n",
        "\\end{equation}\n"
      ],
      "id": "pFsPCeMrQvVK"
    },
    {
      "cell_type": "code",
      "metadata": {
        "id": "8d262c1f-7998-445e-be74-d0bf4f2c37b8"
      },
      "source": [
        "linearProblem2 = pulp.LpProblem(\"Second_Objective_Min\",pulp.LpMinimize)\n",
        "\n",
        "X = create_x_variables()\n",
        "\n",
        "linearProblem2 += f(C[1], X)\n",
        "\n",
        "linearProblem2 = load_model(linearProblem2, A, X, b)\n",
        "\n",
        "linearProblem2 += f(C[0], X) >= f1_max\n",
        "\n",
        "#linearProblem2.writeLP('modelStep2.lp')\n",
        "\n",
        "solution2 = linearProblem2.solve()"
      ],
      "id": "8d262c1f-7998-445e-be74-d0bf4f2c37b8",
      "execution_count": 255,
      "outputs": []
    },
    {
      "cell_type": "code",
      "metadata": {
        "id": "P9BrIJnOb6rF",
        "outputId": "44abe47e-725e-44ee-e438-9f1d2b21fdfc",
        "colab": {
          "base_uri": "https://localhost:8080/"
        }
      },
      "source": [
        "print(linearProblem2)"
      ],
      "id": "P9BrIJnOb6rF",
      "execution_count": 256,
      "outputs": [
        {
          "output_type": "stream",
          "text": [
            "Second_Objective_Min:\n",
            "MINIMIZE\n",
            "-0.5378134547283229*x1 + 0.49045219932043604*x2 + -0.2505884116979432*x3 + 0.8494835031084105*x4 + 0.0\n",
            "SUBJECT TO\n",
            "_C1: x1 <= 557\n",
            "\n",
            "_C2: x3 <= 1143\n",
            "\n",
            "_C3: x4 <= 1577\n",
            "\n",
            "_C4: x1 + x3 <= 1700\n",
            "\n",
            "_C5: x1 + x2 + x3 + x4 = 10310\n",
            "\n",
            "_C6: x1 >= 160\n",
            "\n",
            "_C7: x2 >= 6990\n",
            "\n",
            "_C8: 2.08568285481 x1 - 0.929329910883 x2 - 0.771387731971 x3\n",
            " - 0.936499047957 x4 >= -7721.50136022\n",
            "\n",
            "VARIABLES\n",
            "x1 Continuous\n",
            "x2 Continuous\n",
            "x3 Continuous\n",
            "x4 Continuous\n",
            "\n"
          ],
          "name": "stdout"
        }
      ]
    },
    {
      "cell_type": "code",
      "metadata": {
        "id": "lgVS_xLviseC",
        "colab": {
          "base_uri": "https://localhost:8080/"
        },
        "outputId": "8535dfd5-d53e-4bfc-ebcd-161e8daf2f90"
      },
      "source": [
        "print(str(pulp.LpStatus[solution2])+\" ; max value = \"+str(pulp.value(linearProblem2.objective))+\n",
        "      \" ; x1_opt = \"+str(pulp.value(X[0][0]))+\n",
        "      \" ; x2_opt = \"+str(pulp.value(X[1][0]))+\n",
        "      \" ; x3_opt = \"+str(pulp.value(X[2][0]))+\n",
        "      \" ; x4_opt = \"+str(pulp.value(X[3][0])))"
      ],
      "id": "lgVS_xLviseC",
      "execution_count": 257,
      "outputs": [
        {
          "output_type": "stream",
          "text": [
            "Optimal ; max value = 3636.8087872945293 ; x1_opt = 557.0 ; x2_opt = 8610.0 ; x3_opt = 1143.0 ; x4_opt = 0.0\n"
          ],
          "name": "stdout"
        }
      ]
    },
    {
      "cell_type": "markdown",
      "metadata": {
        "id": "qiIr__kgQ1DJ"
      },
      "source": [
        "# 2. Solution with ...\n",
        "\n",
        "\\begin{equation}\n",
        "\t\\max  \\alpha\\sum_{i=1}^{n}{[A_{i}^1-(A_{i}^2-A_{i}^3)]X_i} - (1-\\alpha)\\sum_{i=1}^{n}{C_iX_i}\n",
        "\\end{equation}\n",
        "\n",
        "Sujeito a\n",
        "\\begin{equation}\n",
        "x_1 \\leq b_1\n",
        "\\end{equation}\n",
        "\\begin{equation}\n",
        "x_2 \\leq b_2\n",
        "\\end{equation}\n",
        "\\begin{equation}\n",
        "x_3 \\leq b_3\n",
        "\\end{equation}\n",
        "\\begin{equation}\n",
        "x_1 + x_3 \\leq b_4\n",
        "\\end{equation}\n",
        "\\begin{equation}\n",
        "x_1 + x_2 + x_3 + x_4 = b_5\n",
        "\\end{equation}\n",
        "\\begin{equation}\n",
        "x_1 \\geq b_6\n",
        "\\end{equation}\n",
        "\\begin{equation}\n",
        "x_2 \\geq b_7\n",
        "\\end{equation}\n",
        "\\begin{equation}\n",
        "x_1, x_2, x_3, x_4 \\geq 0\n",
        "\\end{equation}"
      ],
      "id": "qiIr__kgQ1DJ"
    },
    {
      "cell_type": "code",
      "metadata": {
        "id": "9AYQm-JK6xFY"
      },
      "source": [
        "def run_models(f_alphas):\n",
        "  solution_lst = []\n",
        "  i = 0\n",
        "  for alpha in f_alphas:\n",
        "    model = pulp.LpProblem(\"MultiObjetivo\", pulp.LpMaximize)\n",
        "\n",
        "    X = create_x_variables()\n",
        "\n",
        "    model += f_alpha(alpha, f(C[0], X), -f(C[1], X))\n",
        "\n",
        "    model = load_model(model, A, X, b)\n",
        "\n",
        "    solution = model.solve()\n",
        "\n",
        "    X2 = np.array([pulp.value(X[0][0]), \n",
        "                    pulp.value(X[1][0]), \n",
        "                    pulp.value(X[2][0]), \n",
        "                    pulp.value(X[3][0])])\n",
        "    \n",
        "    solution_lst.append([i,\n",
        "                    alpha,\n",
        "                    str(pulp.LpStatus[solution])] +\n",
        "                    X2.tolist() +\n",
        "                    [pulp.value(model.objective),\n",
        "                    f_real(C[0], X2),\n",
        "                    f_real(C[1], X2)]\n",
        "                    )\n",
        "    i += 1\n",
        "    \n",
        "  return pd.DataFrame(solution_lst, columns=[\"iter\",\"alpha\",\"status\",\"x1\",\"x2\", \"x3\", \"x4\", \"obj_value\", \"f1\", \"f2\"])"
      ],
      "id": "9AYQm-JK6xFY",
      "execution_count": 258,
      "outputs": []
    },
    {
      "cell_type": "code",
      "metadata": {
        "id": "cDqBdiew90H-"
      },
      "source": [
        "alpha_lin = np.linspace(0, 1, NUM_ITER)"
      ],
      "id": "cDqBdiew90H-",
      "execution_count": 259,
      "outputs": []
    },
    {
      "cell_type": "code",
      "metadata": {
        "id": "aO4bLcyzFEFz",
        "colab": {
          "base_uri": "https://localhost:8080/",
          "height": 283
        },
        "outputId": "6faa7961-c622-420d-933e-a0bb50b20c57"
      },
      "source": [
        "plt.plot(np.linspace(0, NUM_ITER, NUM_ITER), alpha_lin)"
      ],
      "id": "aO4bLcyzFEFz",
      "execution_count": 260,
      "outputs": [
        {
          "output_type": "execute_result",
          "data": {
            "text/plain": [
              "[<matplotlib.lines.Line2D at 0x7f8744526910>]"
            ]
          },
          "metadata": {
            "tags": []
          },
          "execution_count": 260
        },
        {
          "output_type": "display_data",
          "data": {
            "image/png": "[encoded data removed]",
            "text/plain": [
              "<Figure size 432x288 with 1 Axes>"
            ]
          },
          "metadata": {
            "tags": [],
            "needs_background": "light"
          }
        }
      ]
    },
    {
      "cell_type": "code",
      "metadata": {
        "id": "XS704S70FL2J"
      },
      "source": [
        "df_solution_lin = run_models(alpha_lin)"
      ],
      "id": "XS704S70FL2J",
      "execution_count": 261,
      "outputs": []
    },
    {
      "cell_type": "code",
      "metadata": {
        "colab": {
          "base_uri": "https://localhost:8080/",
          "height": 424
        },
        "id": "IWpsM8zUR1Ak",
        "outputId": "ee7be33a-409a-4983-c14b-67a3a9b9214c"
      },
      "source": [
        "df_solution_lin"
      ],
      "id": "IWpsM8zUR1Ak",
      "execution_count": 262,
      "outputs": [
        {
          "output_type": "execute_result",
          "data": {
            "text/html": [
              "<div>\n",
              "<style scoped>\n",
              "    .dataframe tbody tr th:only-of-type {\n",
              "        vertical-align: middle;\n",
              "    }\n",
              "\n",
              "    .dataframe tbody tr th {\n",
              "        vertical-align: top;\n",
              "    }\n",
              "\n",
              "    .dataframe thead th {\n",
              "        text-align: right;\n",
              "    }\n",
              "</style>\n",
              "<table border=\"1\" class=\"dataframe\">\n",
              "  <thead>\n",
              "    <tr style=\"text-align: right;\">\n",
              "      <th></th>\n",
              "      <th>iter</th>\n",
              "      <th>alpha</th>\n",
              "      <th>status</th>\n",
              "      <th>x1</th>\n",
              "      <th>x2</th>\n",
              "      <th>x3</th>\n",
              "      <th>x4</th>\n",
              "      <th>obj_value</th>\n",
              "      <th>f1</th>\n",
              "      <th>f2</th>\n",
              "    </tr>\n",
              "  </thead>\n",
              "  <tbody>\n",
              "    <tr>\n",
              "      <th>0</th>\n",
              "      <td>0</td>\n",
              "      <td>0.000000</td>\n",
              "      <td>Optimal</td>\n",
              "      <td>557.0</td>\n",
              "      <td>8610.0</td>\n",
              "      <td>1143.0</td>\n",
              "      <td>0.0</td>\n",
              "      <td>-3636.808787</td>\n",
              "      <td>-7721.50136</td>\n",
              "      <td>3636.808787</td>\n",
              "    </tr>\n",
              "    <tr>\n",
              "      <th>1</th>\n",
              "      <td>1</td>\n",
              "      <td>0.001001</td>\n",
              "      <td>Optimal</td>\n",
              "      <td>557.0</td>\n",
              "      <td>8610.0</td>\n",
              "      <td>1143.0</td>\n",
              "      <td>0.0</td>\n",
              "      <td>-3640.897569</td>\n",
              "      <td>-7721.50136</td>\n",
              "      <td>3636.808787</td>\n",
              "    </tr>\n",
              "    <tr>\n",
              "      <th>2</th>\n",
              "      <td>2</td>\n",
              "      <td>0.002002</td>\n",
              "      <td>Optimal</td>\n",
              "      <td>557.0</td>\n",
              "      <td>8610.0</td>\n",
              "      <td>1143.0</td>\n",
              "      <td>0.0</td>\n",
              "      <td>-3644.986350</td>\n",
              "      <td>-7721.50136</td>\n",
              "      <td>3636.808787</td>\n",
              "    </tr>\n",
              "    <tr>\n",
              "      <th>3</th>\n",
              "      <td>3</td>\n",
              "      <td>0.003003</td>\n",
              "      <td>Optimal</td>\n",
              "      <td>557.0</td>\n",
              "      <td>8610.0</td>\n",
              "      <td>1143.0</td>\n",
              "      <td>0.0</td>\n",
              "      <td>-3649.075131</td>\n",
              "      <td>-7721.50136</td>\n",
              "      <td>3636.808787</td>\n",
              "    </tr>\n",
              "    <tr>\n",
              "      <th>4</th>\n",
              "      <td>4</td>\n",
              "      <td>0.004004</td>\n",
              "      <td>Optimal</td>\n",
              "      <td>557.0</td>\n",
              "      <td>8610.0</td>\n",
              "      <td>1143.0</td>\n",
              "      <td>0.0</td>\n",
              "      <td>-3653.163913</td>\n",
              "      <td>-7721.50136</td>\n",
              "      <td>3636.808787</td>\n",
              "    </tr>\n",
              "    <tr>\n",
              "      <th>...</th>\n",
              "      <td>...</td>\n",
              "      <td>...</td>\n",
              "      <td>...</td>\n",
              "      <td>...</td>\n",
              "      <td>...</td>\n",
              "      <td>...</td>\n",
              "      <td>...</td>\n",
              "      <td>...</td>\n",
              "      <td>...</td>\n",
              "      <td>...</td>\n",
              "    </tr>\n",
              "    <tr>\n",
              "      <th>995</th>\n",
              "      <td>995</td>\n",
              "      <td>0.995996</td>\n",
              "      <td>Optimal</td>\n",
              "      <td>557.0</td>\n",
              "      <td>8610.0</td>\n",
              "      <td>1143.0</td>\n",
              "      <td>0.0</td>\n",
              "      <td>-7705.146235</td>\n",
              "      <td>-7721.50136</td>\n",
              "      <td>3636.808787</td>\n",
              "    </tr>\n",
              "    <tr>\n",
              "      <th>996</th>\n",
              "      <td>996</td>\n",
              "      <td>0.996997</td>\n",
              "      <td>Optimal</td>\n",
              "      <td>557.0</td>\n",
              "      <td>8610.0</td>\n",
              "      <td>1143.0</td>\n",
              "      <td>0.0</td>\n",
              "      <td>-7709.235016</td>\n",
              "      <td>-7721.50136</td>\n",
              "      <td>3636.808787</td>\n",
              "    </tr>\n",
              "    <tr>\n",
              "      <th>997</th>\n",
              "      <td>997</td>\n",
              "      <td>0.997998</td>\n",
              "      <td>Optimal</td>\n",
              "      <td>557.0</td>\n",
              "      <td>8610.0</td>\n",
              "      <td>1143.0</td>\n",
              "      <td>0.0</td>\n",
              "      <td>-7713.323798</td>\n",
              "      <td>-7721.50136</td>\n",
              "      <td>3636.808787</td>\n",
              "    </tr>\n",
              "    <tr>\n",
              "      <th>998</th>\n",
              "      <td>998</td>\n",
              "      <td>0.998999</td>\n",
              "      <td>Optimal</td>\n",
              "      <td>557.0</td>\n",
              "      <td>8610.0</td>\n",
              "      <td>1143.0</td>\n",
              "      <td>0.0</td>\n",
              "      <td>-7717.412579</td>\n",
              "      <td>-7721.50136</td>\n",
              "      <td>3636.808787</td>\n",
              "    </tr>\n",
              "    <tr>\n",
              "      <th>999</th>\n",
              "      <td>999</td>\n",
              "      <td>1.000000</td>\n",
              "      <td>Optimal</td>\n",
              "      <td>557.0</td>\n",
              "      <td>8610.0</td>\n",
              "      <td>1143.0</td>\n",
              "      <td>0.0</td>\n",
              "      <td>-7721.501360</td>\n",
              "      <td>-7721.50136</td>\n",
              "      <td>3636.808787</td>\n",
              "    </tr>\n",
              "  </tbody>\n",
              "</table>\n",
              "<p>1000 rows × 10 columns</p>\n",
              "</div>"
            ],
            "text/plain": [
              "     iter     alpha   status     x1  ...   x4    obj_value          f1           f2\n",
              "0       0  0.000000  Optimal  557.0  ...  0.0 -3636.808787 -7721.50136  3636.808787\n",
              "1       1  0.001001  Optimal  557.0  ...  0.0 -3640.897569 -7721.50136  3636.808787\n",
              "2       2  0.002002  Optimal  557.0  ...  0.0 -3644.986350 -7721.50136  3636.808787\n",
              "3       3  0.003003  Optimal  557.0  ...  0.0 -3649.075131 -7721.50136  3636.808787\n",
              "4       4  0.004004  Optimal  557.0  ...  0.0 -3653.163913 -7721.50136  3636.808787\n",
              "..    ...       ...      ...    ...  ...  ...          ...         ...          ...\n",
              "995   995  0.995996  Optimal  557.0  ...  0.0 -7705.146235 -7721.50136  3636.808787\n",
              "996   996  0.996997  Optimal  557.0  ...  0.0 -7709.235016 -7721.50136  3636.808787\n",
              "997   997  0.997998  Optimal  557.0  ...  0.0 -7713.323798 -7721.50136  3636.808787\n",
              "998   998  0.998999  Optimal  557.0  ...  0.0 -7717.412579 -7721.50136  3636.808787\n",
              "999   999  1.000000  Optimal  557.0  ...  0.0 -7721.501360 -7721.50136  3636.808787\n",
              "\n",
              "[1000 rows x 10 columns]"
            ]
          },
          "metadata": {
            "tags": []
          },
          "execution_count": 262
        }
      ]
    },
    {
      "cell_type": "code",
      "metadata": {
        "id": "H57Hqgu9ElLS"
      },
      "source": [
        "alpha_sig_004 = sig(-0.004)"
      ],
      "id": "H57Hqgu9ElLS",
      "execution_count": 263,
      "outputs": []
    },
    {
      "cell_type": "code",
      "metadata": {
        "id": "HS-kXgLYEyqH",
        "colab": {
          "base_uri": "https://localhost:8080/",
          "height": 283
        },
        "outputId": "c1035024-777a-4864-f445-f72fecd64794"
      },
      "source": [
        "plt.plot(np.linspace(0, NUM_ITER, NUM_ITER), alpha_sig_004)"
      ],
      "id": "HS-kXgLYEyqH",
      "execution_count": 264,
      "outputs": [
        {
          "output_type": "execute_result",
          "data": {
            "text/plain": [
              "[<matplotlib.lines.Line2D at 0x7f87447aa390>]"
            ]
          },
          "metadata": {
            "tags": []
          },
          "execution_count": 264
        },
        {
          "output_type": "display_data",
          "data": {
            "image/png": "[encoded data removed]",
            "text/plain": [
              "<Figure size 432x288 with 1 Axes>"
            ]
          },
          "metadata": {
            "tags": [],
            "needs_background": "light"
          }
        }
      ]
    },
    {
      "cell_type": "code",
      "metadata": {
        "id": "otq00yCQGhjL"
      },
      "source": [
        "df_solution_sig_004 = run_models(alpha_sig_004)"
      ],
      "id": "otq00yCQGhjL",
      "execution_count": 265,
      "outputs": []
    },
    {
      "cell_type": "code",
      "metadata": {
        "colab": {
          "base_uri": "https://localhost:8080/",
          "height": 424
        },
        "id": "mFi-X_ZjRrBt",
        "outputId": "10aad5c7-d45f-4b68-e261-2107de219028"
      },
      "source": [
        "df_solution_sig_004"
      ],
      "id": "mFi-X_ZjRrBt",
      "execution_count": 266,
      "outputs": [
        {
          "output_type": "execute_result",
          "data": {
            "text/html": [
              "<div>\n",
              "<style scoped>\n",
              "    .dataframe tbody tr th:only-of-type {\n",
              "        vertical-align: middle;\n",
              "    }\n",
              "\n",
              "    .dataframe tbody tr th {\n",
              "        vertical-align: top;\n",
              "    }\n",
              "\n",
              "    .dataframe thead th {\n",
              "        text-align: right;\n",
              "    }\n",
              "</style>\n",
              "<table border=\"1\" class=\"dataframe\">\n",
              "  <thead>\n",
              "    <tr style=\"text-align: right;\">\n",
              "      <th></th>\n",
              "      <th>iter</th>\n",
              "      <th>alpha</th>\n",
              "      <th>status</th>\n",
              "      <th>x1</th>\n",
              "      <th>x2</th>\n",
              "      <th>x3</th>\n",
              "      <th>x4</th>\n",
              "      <th>obj_value</th>\n",
              "      <th>f1</th>\n",
              "      <th>f2</th>\n",
              "    </tr>\n",
              "  </thead>\n",
              "  <tbody>\n",
              "    <tr>\n",
              "      <th>0</th>\n",
              "      <td>0</td>\n",
              "      <td>0.119203</td>\n",
              "      <td>Optimal</td>\n",
              "      <td>557.0</td>\n",
              "      <td>8610.0</td>\n",
              "      <td>1143.0</td>\n",
              "      <td>0.0</td>\n",
              "      <td>-4123.716078</td>\n",
              "      <td>-7721.50136</td>\n",
              "      <td>3636.808787</td>\n",
              "    </tr>\n",
              "    <tr>\n",
              "      <th>1</th>\n",
              "      <td>1</td>\n",
              "      <td>0.119624</td>\n",
              "      <td>Optimal</td>\n",
              "      <td>557.0</td>\n",
              "      <td>8610.0</td>\n",
              "      <td>1143.0</td>\n",
              "      <td>0.0</td>\n",
              "      <td>-4125.435881</td>\n",
              "      <td>-7721.50136</td>\n",
              "      <td>3636.808787</td>\n",
              "    </tr>\n",
              "    <tr>\n",
              "      <th>2</th>\n",
              "      <td>2</td>\n",
              "      <td>0.120046</td>\n",
              "      <td>Optimal</td>\n",
              "      <td>557.0</td>\n",
              "      <td>8610.0</td>\n",
              "      <td>1143.0</td>\n",
              "      <td>0.0</td>\n",
              "      <td>-4127.160930</td>\n",
              "      <td>-7721.50136</td>\n",
              "      <td>3636.808787</td>\n",
              "    </tr>\n",
              "    <tr>\n",
              "      <th>3</th>\n",
              "      <td>3</td>\n",
              "      <td>0.120470</td>\n",
              "      <td>Optimal</td>\n",
              "      <td>557.0</td>\n",
              "      <td>8610.0</td>\n",
              "      <td>1143.0</td>\n",
              "      <td>0.0</td>\n",
              "      <td>-4128.891237</td>\n",
              "      <td>-7721.50136</td>\n",
              "      <td>3636.808787</td>\n",
              "    </tr>\n",
              "    <tr>\n",
              "      <th>4</th>\n",
              "      <td>4</td>\n",
              "      <td>0.120895</td>\n",
              "      <td>Optimal</td>\n",
              "      <td>557.0</td>\n",
              "      <td>8610.0</td>\n",
              "      <td>1143.0</td>\n",
              "      <td>0.0</td>\n",
              "      <td>-4130.626810</td>\n",
              "      <td>-7721.50136</td>\n",
              "      <td>3636.808787</td>\n",
              "    </tr>\n",
              "    <tr>\n",
              "      <th>...</th>\n",
              "      <td>...</td>\n",
              "      <td>...</td>\n",
              "      <td>...</td>\n",
              "      <td>...</td>\n",
              "      <td>...</td>\n",
              "      <td>...</td>\n",
              "      <td>...</td>\n",
              "      <td>...</td>\n",
              "      <td>...</td>\n",
              "      <td>...</td>\n",
              "    </tr>\n",
              "    <tr>\n",
              "      <th>995</th>\n",
              "      <td>995</td>\n",
              "      <td>0.879105</td>\n",
              "      <td>Optimal</td>\n",
              "      <td>557.0</td>\n",
              "      <td>8610.0</td>\n",
              "      <td>1143.0</td>\n",
              "      <td>0.0</td>\n",
              "      <td>-7227.683337</td>\n",
              "      <td>-7721.50136</td>\n",
              "      <td>3636.808787</td>\n",
              "    </tr>\n",
              "    <tr>\n",
              "      <th>996</th>\n",
              "      <td>996</td>\n",
              "      <td>0.879530</td>\n",
              "      <td>Optimal</td>\n",
              "      <td>557.0</td>\n",
              "      <td>8610.0</td>\n",
              "      <td>1143.0</td>\n",
              "      <td>0.0</td>\n",
              "      <td>-7229.418911</td>\n",
              "      <td>-7721.50136</td>\n",
              "      <td>3636.808787</td>\n",
              "    </tr>\n",
              "    <tr>\n",
              "      <th>997</th>\n",
              "      <td>997</td>\n",
              "      <td>0.879954</td>\n",
              "      <td>Optimal</td>\n",
              "      <td>557.0</td>\n",
              "      <td>8610.0</td>\n",
              "      <td>1143.0</td>\n",
              "      <td>0.0</td>\n",
              "      <td>-7231.149217</td>\n",
              "      <td>-7721.50136</td>\n",
              "      <td>3636.808787</td>\n",
              "    </tr>\n",
              "    <tr>\n",
              "      <th>998</th>\n",
              "      <td>998</td>\n",
              "      <td>0.880376</td>\n",
              "      <td>Optimal</td>\n",
              "      <td>557.0</td>\n",
              "      <td>8610.0</td>\n",
              "      <td>1143.0</td>\n",
              "      <td>0.0</td>\n",
              "      <td>-7232.874267</td>\n",
              "      <td>-7721.50136</td>\n",
              "      <td>3636.808787</td>\n",
              "    </tr>\n",
              "    <tr>\n",
              "      <th>999</th>\n",
              "      <td>999</td>\n",
              "      <td>0.880797</td>\n",
              "      <td>Optimal</td>\n",
              "      <td>557.0</td>\n",
              "      <td>8610.0</td>\n",
              "      <td>1143.0</td>\n",
              "      <td>0.0</td>\n",
              "      <td>-7234.594070</td>\n",
              "      <td>-7721.50136</td>\n",
              "      <td>3636.808787</td>\n",
              "    </tr>\n",
              "  </tbody>\n",
              "</table>\n",
              "<p>1000 rows × 10 columns</p>\n",
              "</div>"
            ],
            "text/plain": [
              "     iter     alpha   status     x1  ...   x4    obj_value          f1           f2\n",
              "0       0  0.119203  Optimal  557.0  ...  0.0 -4123.716078 -7721.50136  3636.808787\n",
              "1       1  0.119624  Optimal  557.0  ...  0.0 -4125.435881 -7721.50136  3636.808787\n",
              "2       2  0.120046  Optimal  557.0  ...  0.0 -4127.160930 -7721.50136  3636.808787\n",
              "3       3  0.120470  Optimal  557.0  ...  0.0 -4128.891237 -7721.50136  3636.808787\n",
              "4       4  0.120895  Optimal  557.0  ...  0.0 -4130.626810 -7721.50136  3636.808787\n",
              "..    ...       ...      ...    ...  ...  ...          ...         ...          ...\n",
              "995   995  0.879105  Optimal  557.0  ...  0.0 -7227.683337 -7721.50136  3636.808787\n",
              "996   996  0.879530  Optimal  557.0  ...  0.0 -7229.418911 -7721.50136  3636.808787\n",
              "997   997  0.879954  Optimal  557.0  ...  0.0 -7231.149217 -7721.50136  3636.808787\n",
              "998   998  0.880376  Optimal  557.0  ...  0.0 -7232.874267 -7721.50136  3636.808787\n",
              "999   999  0.880797  Optimal  557.0  ...  0.0 -7234.594070 -7721.50136  3636.808787\n",
              "\n",
              "[1000 rows x 10 columns]"
            ]
          },
          "metadata": {
            "tags": []
          },
          "execution_count": 266
        }
      ]
    },
    {
      "cell_type": "code",
      "metadata": {
        "id": "n9KWxUkdJzWM"
      },
      "source": [
        "alpha_sig_06 = sig(-0.06)"
      ],
      "id": "n9KWxUkdJzWM",
      "execution_count": 267,
      "outputs": []
    },
    {
      "cell_type": "code",
      "metadata": {
        "id": "qyG_tgWDJ4EW",
        "colab": {
          "base_uri": "https://localhost:8080/",
          "height": 283
        },
        "outputId": "f5b34a93-a935-44f6-b479-fc27b726a37d"
      },
      "source": [
        "plt.plot(np.linspace(0, NUM_ITER, NUM_ITER), alpha_sig_06)"
      ],
      "id": "qyG_tgWDJ4EW",
      "execution_count": 268,
      "outputs": [
        {
          "output_type": "execute_result",
          "data": {
            "text/plain": [
              "[<matplotlib.lines.Line2D at 0x7f87451d0450>]"
            ]
          },
          "metadata": {
            "tags": []
          },
          "execution_count": 268
        },
        {
          "output_type": "display_data",
          "data": {
            "image/png": "[encoded data removed]",
            "text/plain": [
              "<Figure size 432x288 with 1 Axes>"
            ]
          },
          "metadata": {
            "tags": [],
            "needs_background": "light"
          }
        }
      ]
    },
    {
      "cell_type": "code",
      "metadata": {
        "id": "H2PJQsK1J_kn"
      },
      "source": [
        "df_solution_sig_06 = run_models(alpha_sig_06)"
      ],
      "id": "H2PJQsK1J_kn",
      "execution_count": 269,
      "outputs": []
    },
    {
      "cell_type": "code",
      "metadata": {
        "colab": {
          "base_uri": "https://localhost:8080/",
          "height": 424
        },
        "id": "jolJ2ryTPCk0",
        "outputId": "cdb5e120-a652-4317-d909-698b08a37a19"
      },
      "source": [
        "df_solution_sig_06"
      ],
      "id": "jolJ2ryTPCk0",
      "execution_count": 270,
      "outputs": [
        {
          "output_type": "execute_result",
          "data": {
            "text/html": [
              "<div>\n",
              "<style scoped>\n",
              "    .dataframe tbody tr th:only-of-type {\n",
              "        vertical-align: middle;\n",
              "    }\n",
              "\n",
              "    .dataframe tbody tr th {\n",
              "        vertical-align: top;\n",
              "    }\n",
              "\n",
              "    .dataframe thead th {\n",
              "        text-align: right;\n",
              "    }\n",
              "</style>\n",
              "<table border=\"1\" class=\"dataframe\">\n",
              "  <thead>\n",
              "    <tr style=\"text-align: right;\">\n",
              "      <th></th>\n",
              "      <th>iter</th>\n",
              "      <th>alpha</th>\n",
              "      <th>status</th>\n",
              "      <th>x1</th>\n",
              "      <th>x2</th>\n",
              "      <th>x3</th>\n",
              "      <th>x4</th>\n",
              "      <th>obj_value</th>\n",
              "      <th>f1</th>\n",
              "      <th>f2</th>\n",
              "    </tr>\n",
              "  </thead>\n",
              "  <tbody>\n",
              "    <tr>\n",
              "      <th>0</th>\n",
              "      <td>0</td>\n",
              "      <td>9.357623e-14</td>\n",
              "      <td>Optimal</td>\n",
              "      <td>557.0</td>\n",
              "      <td>8610.0</td>\n",
              "      <td>1143.0</td>\n",
              "      <td>0.0</td>\n",
              "      <td>-3636.808787</td>\n",
              "      <td>-7721.50136</td>\n",
              "      <td>3636.808787</td>\n",
              "    </tr>\n",
              "    <tr>\n",
              "      <th>1</th>\n",
              "      <td>1</td>\n",
              "      <td>9.936863e-14</td>\n",
              "      <td>Optimal</td>\n",
              "      <td>557.0</td>\n",
              "      <td>8610.0</td>\n",
              "      <td>1143.0</td>\n",
              "      <td>0.0</td>\n",
              "      <td>-3636.808787</td>\n",
              "      <td>-7721.50136</td>\n",
              "      <td>3636.808787</td>\n",
              "    </tr>\n",
              "    <tr>\n",
              "      <th>2</th>\n",
              "      <td>2</td>\n",
              "      <td>1.055196e-13</td>\n",
              "      <td>Optimal</td>\n",
              "      <td>557.0</td>\n",
              "      <td>8610.0</td>\n",
              "      <td>1143.0</td>\n",
              "      <td>0.0</td>\n",
              "      <td>-3636.808787</td>\n",
              "      <td>-7721.50136</td>\n",
              "      <td>3636.808787</td>\n",
              "    </tr>\n",
              "    <tr>\n",
              "      <th>3</th>\n",
              "      <td>3</td>\n",
              "      <td>1.120513e-13</td>\n",
              "      <td>Optimal</td>\n",
              "      <td>557.0</td>\n",
              "      <td>8610.0</td>\n",
              "      <td>1143.0</td>\n",
              "      <td>0.0</td>\n",
              "      <td>-3636.808787</td>\n",
              "      <td>-7721.50136</td>\n",
              "      <td>3636.808787</td>\n",
              "    </tr>\n",
              "    <tr>\n",
              "      <th>4</th>\n",
              "      <td>4</td>\n",
              "      <td>1.189873e-13</td>\n",
              "      <td>Optimal</td>\n",
              "      <td>557.0</td>\n",
              "      <td>8610.0</td>\n",
              "      <td>1143.0</td>\n",
              "      <td>0.0</td>\n",
              "      <td>-3636.808787</td>\n",
              "      <td>-7721.50136</td>\n",
              "      <td>3636.808787</td>\n",
              "    </tr>\n",
              "    <tr>\n",
              "      <th>...</th>\n",
              "      <td>...</td>\n",
              "      <td>...</td>\n",
              "      <td>...</td>\n",
              "      <td>...</td>\n",
              "      <td>...</td>\n",
              "      <td>...</td>\n",
              "      <td>...</td>\n",
              "      <td>...</td>\n",
              "      <td>...</td>\n",
              "      <td>...</td>\n",
              "    </tr>\n",
              "    <tr>\n",
              "      <th>995</th>\n",
              "      <td>995</td>\n",
              "      <td>1.000000e+00</td>\n",
              "      <td>Optimal</td>\n",
              "      <td>557.0</td>\n",
              "      <td>8610.0</td>\n",
              "      <td>1143.0</td>\n",
              "      <td>0.0</td>\n",
              "      <td>-7721.501360</td>\n",
              "      <td>-7721.50136</td>\n",
              "      <td>3636.808787</td>\n",
              "    </tr>\n",
              "    <tr>\n",
              "      <th>996</th>\n",
              "      <td>996</td>\n",
              "      <td>1.000000e+00</td>\n",
              "      <td>Optimal</td>\n",
              "      <td>557.0</td>\n",
              "      <td>8610.0</td>\n",
              "      <td>1143.0</td>\n",
              "      <td>0.0</td>\n",
              "      <td>-7721.501360</td>\n",
              "      <td>-7721.50136</td>\n",
              "      <td>3636.808787</td>\n",
              "    </tr>\n",
              "    <tr>\n",
              "      <th>997</th>\n",
              "      <td>997</td>\n",
              "      <td>1.000000e+00</td>\n",
              "      <td>Optimal</td>\n",
              "      <td>557.0</td>\n",
              "      <td>8610.0</td>\n",
              "      <td>1143.0</td>\n",
              "      <td>0.0</td>\n",
              "      <td>-7721.501360</td>\n",
              "      <td>-7721.50136</td>\n",
              "      <td>3636.808787</td>\n",
              "    </tr>\n",
              "    <tr>\n",
              "      <th>998</th>\n",
              "      <td>998</td>\n",
              "      <td>1.000000e+00</td>\n",
              "      <td>Optimal</td>\n",
              "      <td>557.0</td>\n",
              "      <td>8610.0</td>\n",
              "      <td>1143.0</td>\n",
              "      <td>0.0</td>\n",
              "      <td>-7721.501360</td>\n",
              "      <td>-7721.50136</td>\n",
              "      <td>3636.808787</td>\n",
              "    </tr>\n",
              "    <tr>\n",
              "      <th>999</th>\n",
              "      <td>999</td>\n",
              "      <td>1.000000e+00</td>\n",
              "      <td>Optimal</td>\n",
              "      <td>557.0</td>\n",
              "      <td>8610.0</td>\n",
              "      <td>1143.0</td>\n",
              "      <td>0.0</td>\n",
              "      <td>-7721.501360</td>\n",
              "      <td>-7721.50136</td>\n",
              "      <td>3636.808787</td>\n",
              "    </tr>\n",
              "  </tbody>\n",
              "</table>\n",
              "<p>1000 rows × 10 columns</p>\n",
              "</div>"
            ],
            "text/plain": [
              "     iter         alpha   status  ...    obj_value          f1           f2\n",
              "0       0  9.357623e-14  Optimal  ... -3636.808787 -7721.50136  3636.808787\n",
              "1       1  9.936863e-14  Optimal  ... -3636.808787 -7721.50136  3636.808787\n",
              "2       2  1.055196e-13  Optimal  ... -3636.808787 -7721.50136  3636.808787\n",
              "3       3  1.120513e-13  Optimal  ... -3636.808787 -7721.50136  3636.808787\n",
              "4       4  1.189873e-13  Optimal  ... -3636.808787 -7721.50136  3636.808787\n",
              "..    ...           ...      ...  ...          ...         ...          ...\n",
              "995   995  1.000000e+00  Optimal  ... -7721.501360 -7721.50136  3636.808787\n",
              "996   996  1.000000e+00  Optimal  ... -7721.501360 -7721.50136  3636.808787\n",
              "997   997  1.000000e+00  Optimal  ... -7721.501360 -7721.50136  3636.808787\n",
              "998   998  1.000000e+00  Optimal  ... -7721.501360 -7721.50136  3636.808787\n",
              "999   999  1.000000e+00  Optimal  ... -7721.501360 -7721.50136  3636.808787\n",
              "\n",
              "[1000 rows x 10 columns]"
            ]
          },
          "metadata": {
            "tags": []
          },
          "execution_count": 270
        }
      ]
    },
    {
      "cell_type": "code",
      "metadata": {
        "colab": {
          "base_uri": "https://localhost:8080/",
          "height": 299
        },
        "id": "2sdLYsQGOdl0",
        "outputId": "e0f13f18-148f-441a-a7ee-36ec4b94d3d2"
      },
      "source": [
        "df_solution_sig_06.plot.scatter(x='f1', y='f2')"
      ],
      "id": "2sdLYsQGOdl0",
      "execution_count": 137,
      "outputs": [
        {
          "output_type": "execute_result",
          "data": {
            "text/plain": [
              "<matplotlib.axes._subplots.AxesSubplot at 0x7f874461fdd0>"
            ]
          },
          "metadata": {
            "tags": []
          },
          "execution_count": 137
        },
        {
          "output_type": "display_data",
          "data": {
            "image/png": "[encoded data removed]",
            "text/plain": [
              "<Figure size 432x288 with 1 Axes>"
            ]
          },
          "metadata": {
            "tags": [],
            "needs_background": "light"
          }
        }
      ]
    }
  ]
}