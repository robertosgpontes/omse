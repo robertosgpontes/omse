{
  "nbformat": 4,
  "nbformat_minor": 5,
  "metadata": {
    "kernelspec": {
      "display_name": "Python 3",
      "language": "python",
      "name": "python3"
    },
    "language_info": {
      "codemirror_mode": {
        "name": "ipython",
        "version": 3
      },
      "file_extension": ".py",
      "mimetype": "text/x-python",
      "name": "python",
      "nbconvert_exporter": "python",
      "pygments_lexer": "ipython3",
      "version": "3.8.10"
    },
    "colab": {
      "name": "main.ipynb",
      "provenance": [],
      "toc_visible": true,
      "include_colab_link": true
    }
  },
  "cells": [
    {
      "cell_type": "markdown",
      "metadata": {
        "id": "view-in-github",
        "colab_type": "text"
      },
      "source": [
        "<a href=\"https://colab.research.google.com/github/robertosgpontes/osem/blob/main/main.ipynb\" target=\"_parent\"><img src=\"https://colab.research.google.com/assets/colab-badge.svg\" alt=\"Open In Colab\"/></a>"
      ]
    },
    {
      "cell_type": "markdown",
      "metadata": {
        "id": "SwfdVvoBgXnR"
      },
      "source": [
        "## Formulação Geral do Problema\n",
        "\n",
        "O problema apresentado pode ser formulado através de uma\n",
        "\n",
        "\\begin{equation}\n",
        "\t\\max  \\sum_{i=1}^{n}{[A_{i}^1-(A_{i}^2-A_{i}^3)]X_i} = \\max \\sum_{i=1}^{n}{C_{i}^1X_i}\n",
        "\\end{equation}\n",
        "e\n",
        "\\begin{equation}\n",
        "\\min \\sum_{i=1}^{n}{C_{i}^2X_i}\n",
        "\\end{equation}\n",
        "\n",
        "\n",
        "Sujeito a\n",
        "\\begin{equation}\n",
        "x_1 \\leq b_1\n",
        "\\end{equation}\n",
        "\\begin{equation}\n",
        "x_2 \\leq b_2\n",
        "\\end{equation}\n",
        "\\begin{equation}\n",
        "x_3 \\leq b_3\n",
        "\\end{equation}\n",
        "\\begin{equation}\n",
        "x_1 + x_3 \\leq b_4\n",
        "\\end{equation}\n",
        "\\begin{equation}\n",
        "x_1 + x_2 + x_3 + x_4 = b_5\n",
        "\\end{equation}\n",
        "\\begin{equation}\n",
        "x_1 \\geq b_6\n",
        "\\end{equation}\n",
        "\\begin{equation}\n",
        "x_2 \\geq b_7\n",
        "\\end{equation}\n",
        "\\begin{equation}\n",
        "x_1, x_2, x_3, x_4 \\geq 0\n",
        "\\end{equation}\n"
      ],
      "id": "SwfdVvoBgXnR"
    },
    {
      "cell_type": "markdown",
      "metadata": {
        "id": "O3ieye0TUg-q"
      },
      "source": [
        "# Methodology\n",
        "\n",
        "https://www.supplychaindataanalytics.com/multi-objective-linear-optimization-with-pulp-in-python/\n",
        "\n",
        "https://pythonhealthcare.org/tag/pareto-front/\n",
        "\n"
      ],
      "id": "O3ieye0TUg-q"
    },
    {
      "cell_type": "markdown",
      "metadata": {
        "id": "MTEiywG7TKzI"
      },
      "source": [
        "### Approach 1: Solution with Hierarchical Methodology\n",
        "\n",
        "Maximizing for one objective, then adding it as a constraint and solving for the other objective"
      ],
      "id": "MTEiywG7TKzI"
    },
    {
      "cell_type": "markdown",
      "metadata": {
        "id": "ICk-oqY2TMAu"
      },
      "source": [
        "#### 1.1. First Step\n",
        "\n",
        "\\begin{equation}\n",
        "S_1 = \\max \\sum_{i=1}^{n}{C_{i}^1X_i}\n",
        "\\end{equation}\n",
        "\n",
        "Sujeito a\n",
        "\\begin{equation}\n",
        "x_1 \\leq b_1\n",
        "\\end{equation}\n",
        "\\begin{equation}\n",
        "x_2 \\leq b_2\n",
        "\\end{equation}\n",
        "\\begin{equation}\n",
        "x_3 \\leq b_3\n",
        "\\end{equation}\n",
        "\\begin{equation}\n",
        "x_1 + x_3 \\leq b_4\n",
        "\\end{equation}\n",
        "\\begin{equation}\n",
        "x_1 + x_2 + x_3 + x_4 = b_5\n",
        "\\end{equation}\n",
        "\\begin{equation}\n",
        "x_1 \\geq b_6\n",
        "\\end{equation}\n",
        "\\begin{equation}\n",
        "x_2 \\geq b_7\n",
        "\\end{equation}\n",
        "\\begin{equation}\n",
        "x_1, x_2, x_3, x_4 \\geq 0\n",
        "\\end{equation}"
      ],
      "id": "ICk-oqY2TMAu"
    },
    {
      "cell_type": "markdown",
      "metadata": {
        "id": "pt2FqgzrTSjB"
      },
      "source": [
        "#### 1.2. Second Step\n",
        "\n",
        "\n",
        "\\begin{equation}\n",
        "\\min \\sum_{i=1}^{n}{C_{i}^2X_i}\n",
        "\\end{equation}\n",
        "Sujeito a\n",
        "\\begin{equation}\n",
        "x_1 \\leq b_1\n",
        "\\end{equation}\n",
        "\\begin{equation}\n",
        "x_2 \\leq b_2\n",
        "\\end{equation}\n",
        "\\begin{equation}\n",
        "x_3 \\leq b_3\n",
        "\\end{equation}\n",
        "\\begin{equation}\n",
        "x_1 + x_3 \\leq b_4\n",
        "\\end{equation}\n",
        "\\begin{equation}\n",
        "x_1 + x_2 + x_3 + x_4 = b_5\n",
        "\\end{equation}\n",
        "\\begin{equation}\n",
        "x_1 \\geq b_6\n",
        "\\end{equation}\n",
        "\\begin{equation}\n",
        "x_2 \\geq b_7\n",
        "\\end{equation}\n",
        "\\begin{equation}\n",
        "\\max \\sum_{i=1}^{n}{C_{i}^1X_i} \\geq S_1\n",
        "\\end{equation}\n",
        "\\begin{equation}\n",
        "x_1, x_2, x_3, x_4 \\geq 0\n",
        "\\end{equation}\n"
      ],
      "id": "pt2FqgzrTSjB"
    },
    {
      "cell_type": "markdown",
      "metadata": {
        "id": "GUWOxpl4Uyb8"
      },
      "source": [
        "## Approach 2: Solution with ...\n",
        "\n",
        "\\begin{equation}\n",
        "\t\\max  \\alpha\\sum_{i=1}^{n}{C_{i}^1X_i} - (1-\\alpha)\\sum_{i=1}^{n}{C_{i}^2X_i}\n",
        "\\end{equation}\n",
        "\n",
        "Sujeito a\n",
        "\\begin{equation}\n",
        "x_1 \\leq b_1\n",
        "\\end{equation}\n",
        "\\begin{equation}\n",
        "x_2 \\leq b_2\n",
        "\\end{equation}\n",
        "\\begin{equation}\n",
        "x_3 \\leq b_3\n",
        "\\end{equation}\n",
        "\\begin{equation}\n",
        "x_1 + x_3 \\leq b_4\n",
        "\\end{equation}\n",
        "\\begin{equation}\n",
        "x_1 + x_2 + x_3 + x_4 = b_5\n",
        "\\end{equation}\n",
        "\\begin{equation}\n",
        "x_1 \\geq b_6\n",
        "\\end{equation}\n",
        "\\begin{equation}\n",
        "x_2 \\geq b_7\n",
        "\\end{equation}\n",
        "\\begin{equation}\n",
        "x_1, x_2, x_3, x_4 \\geq 0\n",
        "\\end{equation}"
      ],
      "id": "GUWOxpl4Uyb8"
    },
    {
      "cell_type": "markdown",
      "metadata": {
        "id": "tHrKFoBocp3L"
      },
      "source": [
        "# General Definitions"
      ],
      "id": "tHrKFoBocp3L"
    },
    {
      "cell_type": "markdown",
      "metadata": {
        "id": "hV6ZcjFpc2Wm"
      },
      "source": [
        "## Language"
      ],
      "id": "hV6ZcjFpc2Wm"
    },
    {
      "cell_type": "code",
      "metadata": {
        "colab": {
          "base_uri": "https://localhost:8080/",
          "height": 276
        },
        "id": "CqmQ7bFqgZCE",
        "collapsed": true,
        "outputId": "d4b1d508-5420-4231-b611-ce0030dc3e8c"
      },
      "source": [
        "% pip install pulp\n",
        "!rm /content/utils.py\n",
        "!wget https://raw.githubusercontent.com/robertosgpontes/osem/main/utils.py\n",
        "%run /content/utils.py"
      ],
      "id": "CqmQ7bFqgZCE",
      "execution_count": 61,
      "outputs": [
        {
          "output_type": "stream",
          "name": "stdout",
          "text": [
            "Requirement already satisfied: pulp in /usr/local/lib/python3.7/dist-packages (2.5.0)\n",
            "--2021-09-14 15:39:48--  https://raw.githubusercontent.com/robertosgpontes/osem/main/utils.py\n",
            "Resolving raw.githubusercontent.com (raw.githubusercontent.com)... 185.199.108.133, 185.199.109.133, 185.199.110.133, ...\n",
            "Connecting to raw.githubusercontent.com (raw.githubusercontent.com)|185.199.108.133|:443... connected.\n",
            "HTTP request sent, awaiting response... 200 OK\n",
            "Length: 3335 (3.3K) [text/plain]\n",
            "Saving to: ‘utils.py’\n",
            "\n",
            "utils.py            100%[===================>]   3.26K  --.-KB/s    in 0s      \n",
            "\n",
            "2021-09-14 15:39:48 (32.1 MB/s) - ‘utils.py’ saved [3335/3335]\n",
            "\n"
          ]
        },
        {
          "output_type": "display_data",
          "data": {
            "text/plain": [
              "<Figure size 432x288 with 0 Axes>"
            ]
          },
          "metadata": {}
        }
      ]
    },
    {
      "cell_type": "code",
      "metadata": {
        "id": "c8680221-9de1-4566-8831-1e860e611979"
      },
      "source": [
        "# Python libraries used to solve the problem Linear Programing\n",
        "import pulp\n",
        "import numpy as np\n",
        "import pandas as pd\n",
        "from matplotlib import pyplot as plt"
      ],
      "id": "c8680221-9de1-4566-8831-1e860e611979",
      "execution_count": 62,
      "outputs": []
    },
    {
      "cell_type": "markdown",
      "metadata": {
        "id": "GtijB4JmdNl4"
      },
      "source": [
        "## Problem Solution"
      ],
      "id": "GtijB4JmdNl4"
    },
    {
      "cell_type": "code",
      "metadata": {
        "id": "awb3FUwOH-xY"
      },
      "source": [
        "NUM_ITER = 1000"
      ],
      "id": "awb3FUwOH-xY",
      "execution_count": 63,
      "outputs": []
    },
    {
      "cell_type": "code",
      "metadata": {
        "id": "RjVesUhJMr-W"
      },
      "source": [
        "DataStandardization = lambda C: DSPerLine(Standardization, C)"
      ],
      "id": "RjVesUhJMr-W",
      "execution_count": 64,
      "outputs": []
    },
    {
      "cell_type": "markdown",
      "metadata": {
        "id": "TXhrMf-_JPNi"
      },
      "source": [
        "### Alpha Variations"
      ],
      "id": "TXhrMf-_JPNi"
    },
    {
      "cell_type": "code",
      "metadata": {
        "id": "khjEb99kIMZp"
      },
      "source": [
        "alpha_lin = np.linspace(0, 1, NUM_ITER)"
      ],
      "id": "khjEb99kIMZp",
      "execution_count": 65,
      "outputs": []
    },
    {
      "cell_type": "code",
      "metadata": {
        "colab": {
          "base_uri": "https://localhost:8080/",
          "height": 283
        },
        "id": "f3PYxvTkIcO3",
        "outputId": "febced52-d97a-44d8-a18d-4a5494633112"
      },
      "source": [
        "plt.plot(np.linspace(0, NUM_ITER, NUM_ITER), alpha_lin)"
      ],
      "id": "f3PYxvTkIcO3",
      "execution_count": 66,
      "outputs": [
        {
          "output_type": "execute_result",
          "data": {
            "text/plain": [
              "[<matplotlib.lines.Line2D at 0x7f046c378790>]"
            ]
          },
          "metadata": {},
          "execution_count": 66
        },
        {
          "output_type": "display_data",
          "data": {
            "image/png": "[encoded data removed]",
            "text/plain": [
              "<Figure size 432x288 with 1 Axes>"
            ]
          },
          "metadata": {
            "needs_background": "light"
          }
        }
      ]
    },
    {
      "cell_type": "code",
      "metadata": {
        "id": "O7a7LtV9IN2D"
      },
      "source": [
        "alpha_sig_004 = sig(-0.004, NUM_ITER)"
      ],
      "id": "O7a7LtV9IN2D",
      "execution_count": 67,
      "outputs": []
    },
    {
      "cell_type": "code",
      "metadata": {
        "colab": {
          "base_uri": "https://localhost:8080/",
          "height": 283
        },
        "id": "8KTsV3wiIes5",
        "outputId": "19f84a3c-1970-490b-9158-0cd5031a34d9"
      },
      "source": [
        "plt.plot(np.linspace(0, NUM_ITER, NUM_ITER), alpha_sig_004)"
      ],
      "id": "8KTsV3wiIes5",
      "execution_count": 68,
      "outputs": [
        {
          "output_type": "execute_result",
          "data": {
            "text/plain": [
              "[<matplotlib.lines.Line2D at 0x7f046c2e4210>]"
            ]
          },
          "metadata": {},
          "execution_count": 68
        },
        {
          "output_type": "display_data",
          "data": {
            "image/png": "[encoded data removed]",
            "text/plain": [
              "<Figure size 432x288 with 1 Axes>"
            ]
          },
          "metadata": {
            "needs_background": "light"
          }
        }
      ]
    },
    {
      "cell_type": "code",
      "metadata": {
        "id": "fqgKKzd5IJAQ"
      },
      "source": [
        "alpha_sig_06 = sig(-0.06, NUM_ITER)"
      ],
      "id": "fqgKKzd5IJAQ",
      "execution_count": 69,
      "outputs": []
    },
    {
      "cell_type": "code",
      "metadata": {
        "colab": {
          "base_uri": "https://localhost:8080/",
          "height": 283
        },
        "id": "GKG7h-M0IkRD",
        "outputId": "d0bf236d-a7e1-4bef-ab96-08b185b14473"
      },
      "source": [
        "plt.plot(np.linspace(0, NUM_ITER, NUM_ITER), alpha_sig_06)"
      ],
      "id": "GKG7h-M0IkRD",
      "execution_count": 70,
      "outputs": [
        {
          "output_type": "execute_result",
          "data": {
            "text/plain": [
              "[<matplotlib.lines.Line2D at 0x7f046c24f2d0>]"
            ]
          },
          "metadata": {},
          "execution_count": 70
        },
        {
          "output_type": "display_data",
          "data": {
            "image/png": "[encoded data removed]",
            "text/plain": [
              "<Figure size 432x288 with 1 Axes>"
            ]
          },
          "metadata": {
            "needs_background": "light"
          }
        }
      ]
    },
    {
      "cell_type": "markdown",
      "metadata": {
        "id": "IO5KWRQqVI56"
      },
      "source": [
        "# Solution"
      ],
      "id": "IO5KWRQqVI56"
    },
    {
      "cell_type": "markdown",
      "metadata": {
        "id": "q8AKIfxtRwu_"
      },
      "source": [
        "##Paper 1 (P1): Optimizing the Management of Soil Erosion\n",
        "\n",
        "Nikkami, Davood & Elektorowicz, Maria & MEHUYS, GUY. (2002). Optimizing the Management of Soil Erosion. Water Quality Research Journal in Canada. 37. 10.2166/wqrj.2002.038. "
      ],
      "id": "q8AKIfxtRwu_"
    },
    {
      "cell_type": "markdown",
      "metadata": {
        "id": "2HTfv_nodwDN"
      },
      "source": [
        "### Model Parameter"
      ],
      "id": "2HTfv_nodwDN"
    },
    {
      "cell_type": "code",
      "metadata": {
        "id": "aJbTEtDOfofb"
      },
      "source": [
        "# Variáveis do modelo\n",
        "\n",
        "Cini = np.array([[10.54394,  0.0469 ,  0.59679,  0.02194],\n",
        "              [1.41, 4.99, 2.41, 6.24]])\n",
        "\n",
        "A = np.array([  [1, 0, 0, 0],\n",
        "                [0, 0, 1, 0],\n",
        "                [0, 0, 0, 1],\n",
        "                [1, 0, 1, 0],\n",
        "                [1, 1, 1, 1],\n",
        "                [1, 0, 0, 0],\n",
        "                [0, 1, 0, 0]])\n",
        "\n",
        "b = np.array([[557],[1143],[1577],[1700],[10310],[160],[6990]])"
      ],
      "id": "aJbTEtDOfofb",
      "execution_count": 71,
      "outputs": []
    },
    {
      "cell_type": "markdown",
      "metadata": {
        "id": "HjiahxEMQm6z"
      },
      "source": [
        "### Solution\n"
      ],
      "id": "HjiahxEMQm6z"
    },
    {
      "cell_type": "markdown",
      "metadata": {
        "id": "Jol5aqu5eK1F"
      },
      "source": [
        "#### Approach 1"
      ],
      "id": "Jol5aqu5eK1F"
    },
    {
      "cell_type": "code",
      "metadata": {
        "id": "_CLaQnRmKwiH"
      },
      "source": [
        "C = Cini"
      ],
      "id": "_CLaQnRmKwiH",
      "execution_count": 72,
      "outputs": []
    },
    {
      "cell_type": "markdown",
      "metadata": {
        "id": "4mB_c4qce2Kj"
      },
      "source": [
        "##### Step 1"
      ],
      "id": "4mB_c4qce2Kj"
    },
    {
      "cell_type": "code",
      "metadata": {
        "id": "Ha1XAKg3gxaN"
      },
      "source": [
        "linearProblem = pulp.LpProblem(\"First_Objective_Max\",pulp.LpMaximize)\n",
        "\n",
        "X = create_x_variables()\n",
        "\n",
        "linearProblem += f(C[0], X)\n",
        "\n",
        "linearProblem = load_model(linearProblem, A, X, b)\n",
        "\n",
        "solution = linearProblem.solve()"
      ],
      "id": "Ha1XAKg3gxaN",
      "execution_count": 73,
      "outputs": []
    },
    {
      "cell_type": "code",
      "metadata": {
        "id": "r24fmiFWijwA",
        "colab": {
          "base_uri": "https://localhost:8080/"
        },
        "outputId": "73bc2b3c-0dc1-4dfb-cf93-90f543a2ecb0"
      },
      "source": [
        "print_solution(solution, linearProblem, X)"
      ],
      "id": "r24fmiFWijwA",
      "execution_count": 74,
      "outputs": [
        {
          "output_type": "stream",
          "name": "stdout",
          "text": [
            "\n",
            "Status = Optimal\n",
            "Value = 6958.9145499999995\n",
            "x1 = 557.0\n",
            "x2 = 8610.0\n",
            "x3 = 1143.0\n",
            "x4 = 0.0\n"
          ]
        }
      ]
    },
    {
      "cell_type": "code",
      "metadata": {
        "id": "mr84N1d6a5nK"
      },
      "source": [
        "f1_max = pulp.value(linearProblem.objective)"
      ],
      "id": "mr84N1d6a5nK",
      "execution_count": 75,
      "outputs": []
    },
    {
      "cell_type": "code",
      "metadata": {
        "id": "GUXvxZ177taR",
        "outputId": "7ddf5c96-b7b5-4fb5-e495-b3b530d57ea6",
        "colab": {
          "base_uri": "https://localhost:8080/"
        }
      },
      "source": [
        "print(linearProblem)"
      ],
      "id": "GUXvxZ177taR",
      "execution_count": 76,
      "outputs": [
        {
          "output_type": "stream",
          "name": "stdout",
          "text": [
            "First_Objective_Max:\n",
            "MAXIMIZE\n",
            "10.54394*x1 + 0.0469*x2 + 0.59679*x3 + 0.02194*x4 + 0.0\n",
            "SUBJECT TO\n",
            "_C1: x1 <= 557\n",
            "\n",
            "_C2: x3 <= 1143\n",
            "\n",
            "_C3: x4 <= 1577\n",
            "\n",
            "_C4: x1 + x3 <= 1700\n",
            "\n",
            "_C5: x1 + x2 + x3 + x4 = 10310\n",
            "\n",
            "_C6: x1 >= 160\n",
            "\n",
            "_C7: x2 >= 6990\n",
            "\n",
            "VARIABLES\n",
            "x1 Continuous\n",
            "x2 Continuous\n",
            "x3 Continuous\n",
            "x4 Continuous\n",
            "\n"
          ]
        }
      ]
    },
    {
      "cell_type": "markdown",
      "metadata": {
        "id": "pFsPCeMrQvVK"
      },
      "source": [
        "##### Step 2"
      ],
      "id": "pFsPCeMrQvVK"
    },
    {
      "cell_type": "code",
      "metadata": {
        "id": "8d262c1f-7998-445e-be74-d0bf4f2c37b8"
      },
      "source": [
        "linearProblem = pulp.LpProblem(\"Second_Objective_Min\",pulp.LpMinimize)\n",
        "\n",
        "X = create_x_variables()\n",
        "\n",
        "linearProblem += f(C[1], X)\n",
        "\n",
        "linearProblem = load_model(linearProblem, A, X, b)\n",
        "\n",
        "linearProblem += f(C[0], X) >= f1_max\n",
        "\n",
        "solution = linearProblem.solve()"
      ],
      "id": "8d262c1f-7998-445e-be74-d0bf4f2c37b8",
      "execution_count": 77,
      "outputs": []
    },
    {
      "cell_type": "code",
      "metadata": {
        "id": "oG7e_Wxv7rxU",
        "outputId": "c9266ea5-4891-4be2-91a3-35b910aaf3b8",
        "colab": {
          "base_uri": "https://localhost:8080/"
        }
      },
      "source": [
        "print(linearProblem)"
      ],
      "id": "oG7e_Wxv7rxU",
      "execution_count": 78,
      "outputs": [
        {
          "output_type": "stream",
          "name": "stdout",
          "text": [
            "Second_Objective_Min:\n",
            "MINIMIZE\n",
            "1.41*x1 + 4.99*x2 + 2.41*x3 + 6.24*x4 + 0.0\n",
            "SUBJECT TO\n",
            "_C1: x1 <= 557\n",
            "\n",
            "_C2: x3 <= 1143\n",
            "\n",
            "_C3: x4 <= 1577\n",
            "\n",
            "_C4: x1 + x3 <= 1700\n",
            "\n",
            "_C5: x1 + x2 + x3 + x4 = 10310\n",
            "\n",
            "_C6: x1 >= 160\n",
            "\n",
            "_C7: x2 >= 6990\n",
            "\n",
            "_C8: 10.54394 x1 + 0.0469 x2 + 0.59679 x3 + 0.02194 x4 >= 6958.91455\n",
            "\n",
            "VARIABLES\n",
            "x1 Continuous\n",
            "x2 Continuous\n",
            "x3 Continuous\n",
            "x4 Continuous\n",
            "\n"
          ]
        }
      ]
    },
    {
      "cell_type": "code",
      "metadata": {
        "id": "lgVS_xLviseC",
        "colab": {
          "base_uri": "https://localhost:8080/"
        },
        "outputId": "9732eee2-9d6a-4a5a-bac4-a388fc52bcbb"
      },
      "source": [
        "print_solution(solution, linearProblem, X)"
      ],
      "id": "lgVS_xLviseC",
      "execution_count": 79,
      "outputs": [
        {
          "output_type": "stream",
          "name": "stdout",
          "text": [
            "\n",
            "Status = Optimal\n",
            "Value = 46503.9\n",
            "x1 = 557.0\n",
            "x2 = 8610.0\n",
            "x3 = 1143.0\n",
            "x4 = 0.0\n"
          ]
        }
      ]
    },
    {
      "cell_type": "markdown",
      "metadata": {
        "id": "qiIr__kgQ1DJ"
      },
      "source": [
        "#### Approach 2"
      ],
      "id": "qiIr__kgQ1DJ"
    },
    {
      "cell_type": "code",
      "metadata": {
        "id": "RpP5hSAuK3Ma"
      },
      "source": [
        "C = DataStandardization(Cini)"
      ],
      "id": "RpP5hSAuK3Ma",
      "execution_count": 80,
      "outputs": []
    },
    {
      "cell_type": "code",
      "metadata": {
        "colab": {
          "base_uri": "https://localhost:8080/",
          "height": 54
        },
        "id": "0O9cnXB_N6iU",
        "outputId": "9902bbaa-b560-4b1a-e910-a48d50feeb97"
      },
      "source": [
        "display(C)"
      ],
      "id": "0O9cnXB_N6iU",
      "execution_count": 81,
      "outputs": [
        {
          "output_type": "display_data",
          "data": {
            "text/plain": [
              "array([[ 1.72976694, -0.61568567, -0.49281856, -0.62126271],\n",
              "       [-1.21449083,  0.6337035 , -0.69823543,  1.27902275]])"
            ]
          },
          "metadata": {}
        }
      ]
    },
    {
      "cell_type": "code",
      "metadata": {
        "id": "XS704S70FL2J"
      },
      "source": [
        "df_solution_lin = run_models(alpha_lin, C, A, b)"
      ],
      "id": "XS704S70FL2J",
      "execution_count": 82,
      "outputs": []
    },
    {
      "cell_type": "code",
      "metadata": {
        "colab": {
          "base_uri": "https://localhost:8080/",
          "height": 424
        },
        "id": "IWpsM8zUR1Ak",
        "outputId": "344ed573-5a2a-4b5e-cb53-1cf71f9148f8"
      },
      "source": [
        "df_solution_lin"
      ],
      "id": "IWpsM8zUR1Ak",
      "execution_count": 83,
      "outputs": [
        {
          "output_type": "execute_result",
          "data": {
            "text/html": [
              "<div>\n",
              "<style scoped>\n",
              "    .dataframe tbody tr th:only-of-type {\n",
              "        vertical-align: middle;\n",
              "    }\n",
              "\n",
              "    .dataframe tbody tr th {\n",
              "        vertical-align: top;\n",
              "    }\n",
              "\n",
              "    .dataframe thead th {\n",
              "        text-align: right;\n",
              "    }\n",
              "</style>\n",
              "<table border=\"1\" class=\"dataframe\">\n",
              "  <thead>\n",
              "    <tr style=\"text-align: right;\">\n",
              "      <th></th>\n",
              "      <th>iter</th>\n",
              "      <th>alpha</th>\n",
              "      <th>status</th>\n",
              "      <th>x1</th>\n",
              "      <th>x2</th>\n",
              "      <th>x3</th>\n",
              "      <th>x4</th>\n",
              "      <th>obj_value</th>\n",
              "      <th>f1</th>\n",
              "      <th>f2</th>\n",
              "    </tr>\n",
              "  </thead>\n",
              "  <tbody>\n",
              "    <tr>\n",
              "      <th>0</th>\n",
              "      <td>0</td>\n",
              "      <td>0.000000</td>\n",
              "      <td>Optimal</td>\n",
              "      <td>557.0</td>\n",
              "      <td>8610.0</td>\n",
              "      <td>1143.0</td>\n",
              "      <td>0.0</td>\n",
              "      <td>-3981.632669</td>\n",
              "      <td>-4900.865014</td>\n",
              "      <td>-3981.632669</td>\n",
              "    </tr>\n",
              "    <tr>\n",
              "      <th>1</th>\n",
              "      <td>1</td>\n",
              "      <td>0.001001</td>\n",
              "      <td>Optimal</td>\n",
              "      <td>557.0</td>\n",
              "      <td>8610.0</td>\n",
              "      <td>1143.0</td>\n",
              "      <td>0.0</td>\n",
              "      <td>-3982.552821</td>\n",
              "      <td>-4900.865014</td>\n",
              "      <td>-3981.632669</td>\n",
              "    </tr>\n",
              "    <tr>\n",
              "      <th>2</th>\n",
              "      <td>2</td>\n",
              "      <td>0.002002</td>\n",
              "      <td>Optimal</td>\n",
              "      <td>557.0</td>\n",
              "      <td>8610.0</td>\n",
              "      <td>1143.0</td>\n",
              "      <td>0.0</td>\n",
              "      <td>-3983.472974</td>\n",
              "      <td>-4900.865014</td>\n",
              "      <td>-3981.632669</td>\n",
              "    </tr>\n",
              "    <tr>\n",
              "      <th>3</th>\n",
              "      <td>3</td>\n",
              "      <td>0.003003</td>\n",
              "      <td>Optimal</td>\n",
              "      <td>557.0</td>\n",
              "      <td>8610.0</td>\n",
              "      <td>1143.0</td>\n",
              "      <td>0.0</td>\n",
              "      <td>-3984.393126</td>\n",
              "      <td>-4900.865014</td>\n",
              "      <td>-3981.632669</td>\n",
              "    </tr>\n",
              "    <tr>\n",
              "      <th>4</th>\n",
              "      <td>4</td>\n",
              "      <td>0.004004</td>\n",
              "      <td>Optimal</td>\n",
              "      <td>557.0</td>\n",
              "      <td>8610.0</td>\n",
              "      <td>1143.0</td>\n",
              "      <td>0.0</td>\n",
              "      <td>-3985.313279</td>\n",
              "      <td>-4900.865014</td>\n",
              "      <td>-3981.632669</td>\n",
              "    </tr>\n",
              "    <tr>\n",
              "      <th>...</th>\n",
              "      <td>...</td>\n",
              "      <td>...</td>\n",
              "      <td>...</td>\n",
              "      <td>...</td>\n",
              "      <td>...</td>\n",
              "      <td>...</td>\n",
              "      <td>...</td>\n",
              "      <td>...</td>\n",
              "      <td>...</td>\n",
              "      <td>...</td>\n",
              "    </tr>\n",
              "    <tr>\n",
              "      <th>995</th>\n",
              "      <td>995</td>\n",
              "      <td>0.995996</td>\n",
              "      <td>Optimal</td>\n",
              "      <td>557.0</td>\n",
              "      <td>8610.0</td>\n",
              "      <td>1143.0</td>\n",
              "      <td>0.0</td>\n",
              "      <td>-4897.184404</td>\n",
              "      <td>-4900.865014</td>\n",
              "      <td>-3981.632669</td>\n",
              "    </tr>\n",
              "    <tr>\n",
              "      <th>996</th>\n",
              "      <td>996</td>\n",
              "      <td>0.996997</td>\n",
              "      <td>Optimal</td>\n",
              "      <td>557.0</td>\n",
              "      <td>8610.0</td>\n",
              "      <td>1143.0</td>\n",
              "      <td>0.0</td>\n",
              "      <td>-4898.104557</td>\n",
              "      <td>-4900.865014</td>\n",
              "      <td>-3981.632669</td>\n",
              "    </tr>\n",
              "    <tr>\n",
              "      <th>997</th>\n",
              "      <td>997</td>\n",
              "      <td>0.997998</td>\n",
              "      <td>Optimal</td>\n",
              "      <td>557.0</td>\n",
              "      <td>8610.0</td>\n",
              "      <td>1143.0</td>\n",
              "      <td>0.0</td>\n",
              "      <td>-4899.024709</td>\n",
              "      <td>-4900.865014</td>\n",
              "      <td>-3981.632669</td>\n",
              "    </tr>\n",
              "    <tr>\n",
              "      <th>998</th>\n",
              "      <td>998</td>\n",
              "      <td>0.998999</td>\n",
              "      <td>Optimal</td>\n",
              "      <td>557.0</td>\n",
              "      <td>8610.0</td>\n",
              "      <td>1143.0</td>\n",
              "      <td>0.0</td>\n",
              "      <td>-4899.944862</td>\n",
              "      <td>-4900.865014</td>\n",
              "      <td>-3981.632669</td>\n",
              "    </tr>\n",
              "    <tr>\n",
              "      <th>999</th>\n",
              "      <td>999</td>\n",
              "      <td>1.000000</td>\n",
              "      <td>Optimal</td>\n",
              "      <td>557.0</td>\n",
              "      <td>8610.0</td>\n",
              "      <td>1143.0</td>\n",
              "      <td>0.0</td>\n",
              "      <td>-4900.865014</td>\n",
              "      <td>-4900.865014</td>\n",
              "      <td>-3981.632669</td>\n",
              "    </tr>\n",
              "  </tbody>\n",
              "</table>\n",
              "<p>1000 rows × 10 columns</p>\n",
              "</div>"
            ],
            "text/plain": [
              "     iter     alpha   status     x1  ...   x4    obj_value           f1           f2\n",
              "0       0  0.000000  Optimal  557.0  ...  0.0 -3981.632669 -4900.865014 -3981.632669\n",
              "1       1  0.001001  Optimal  557.0  ...  0.0 -3982.552821 -4900.865014 -3981.632669\n",
              "2       2  0.002002  Optimal  557.0  ...  0.0 -3983.472974 -4900.865014 -3981.632669\n",
              "3       3  0.003003  Optimal  557.0  ...  0.0 -3984.393126 -4900.865014 -3981.632669\n",
              "4       4  0.004004  Optimal  557.0  ...  0.0 -3985.313279 -4900.865014 -3981.632669\n",
              "..    ...       ...      ...    ...  ...  ...          ...          ...          ...\n",
              "995   995  0.995996  Optimal  557.0  ...  0.0 -4897.184404 -4900.865014 -3981.632669\n",
              "996   996  0.996997  Optimal  557.0  ...  0.0 -4898.104557 -4900.865014 -3981.632669\n",
              "997   997  0.997998  Optimal  557.0  ...  0.0 -4899.024709 -4900.865014 -3981.632669\n",
              "998   998  0.998999  Optimal  557.0  ...  0.0 -4899.944862 -4900.865014 -3981.632669\n",
              "999   999  1.000000  Optimal  557.0  ...  0.0 -4900.865014 -4900.865014 -3981.632669\n",
              "\n",
              "[1000 rows x 10 columns]"
            ]
          },
          "metadata": {},
          "execution_count": 83
        }
      ]
    },
    {
      "cell_type": "code",
      "metadata": {
        "id": "otq00yCQGhjL"
      },
      "source": [
        "df_solution_sig_004 = run_models(alpha_sig_004, C, A, b)"
      ],
      "id": "otq00yCQGhjL",
      "execution_count": 84,
      "outputs": []
    },
    {
      "cell_type": "code",
      "metadata": {
        "colab": {
          "base_uri": "https://localhost:8080/",
          "height": 424
        },
        "id": "mFi-X_ZjRrBt",
        "outputId": "55760349-8525-4a11-8e2a-5fea6c221154"
      },
      "source": [
        "df_solution_sig_004"
      ],
      "id": "mFi-X_ZjRrBt",
      "execution_count": 85,
      "outputs": [
        {
          "output_type": "execute_result",
          "data": {
            "text/html": [
              "<div>\n",
              "<style scoped>\n",
              "    .dataframe tbody tr th:only-of-type {\n",
              "        vertical-align: middle;\n",
              "    }\n",
              "\n",
              "    .dataframe tbody tr th {\n",
              "        vertical-align: top;\n",
              "    }\n",
              "\n",
              "    .dataframe thead th {\n",
              "        text-align: right;\n",
              "    }\n",
              "</style>\n",
              "<table border=\"1\" class=\"dataframe\">\n",
              "  <thead>\n",
              "    <tr style=\"text-align: right;\">\n",
              "      <th></th>\n",
              "      <th>iter</th>\n",
              "      <th>alpha</th>\n",
              "      <th>status</th>\n",
              "      <th>x1</th>\n",
              "      <th>x2</th>\n",
              "      <th>x3</th>\n",
              "      <th>x4</th>\n",
              "      <th>obj_value</th>\n",
              "      <th>f1</th>\n",
              "      <th>f2</th>\n",
              "    </tr>\n",
              "  </thead>\n",
              "  <tbody>\n",
              "    <tr>\n",
              "      <th>0</th>\n",
              "      <td>0</td>\n",
              "      <td>0.119203</td>\n",
              "      <td>Optimal</td>\n",
              "      <td>557.0</td>\n",
              "      <td>8610.0</td>\n",
              "      <td>1143.0</td>\n",
              "      <td>0.0</td>\n",
              "      <td>-4091.207850</td>\n",
              "      <td>-4900.865014</td>\n",
              "      <td>-3981.632669</td>\n",
              "    </tr>\n",
              "    <tr>\n",
              "      <th>1</th>\n",
              "      <td>1</td>\n",
              "      <td>0.119624</td>\n",
              "      <td>Optimal</td>\n",
              "      <td>557.0</td>\n",
              "      <td>8610.0</td>\n",
              "      <td>1143.0</td>\n",
              "      <td>0.0</td>\n",
              "      <td>-4091.594880</td>\n",
              "      <td>-4900.865014</td>\n",
              "      <td>-3981.632669</td>\n",
              "    </tr>\n",
              "    <tr>\n",
              "      <th>2</th>\n",
              "      <td>2</td>\n",
              "      <td>0.120046</td>\n",
              "      <td>Optimal</td>\n",
              "      <td>557.0</td>\n",
              "      <td>8610.0</td>\n",
              "      <td>1143.0</td>\n",
              "      <td>0.0</td>\n",
              "      <td>-4091.983091</td>\n",
              "      <td>-4900.865014</td>\n",
              "      <td>-3981.632669</td>\n",
              "    </tr>\n",
              "    <tr>\n",
              "      <th>3</th>\n",
              "      <td>3</td>\n",
              "      <td>0.120470</td>\n",
              "      <td>Optimal</td>\n",
              "      <td>557.0</td>\n",
              "      <td>8610.0</td>\n",
              "      <td>1143.0</td>\n",
              "      <td>0.0</td>\n",
              "      <td>-4092.372485</td>\n",
              "      <td>-4900.865014</td>\n",
              "      <td>-3981.632669</td>\n",
              "    </tr>\n",
              "    <tr>\n",
              "      <th>4</th>\n",
              "      <td>4</td>\n",
              "      <td>0.120895</td>\n",
              "      <td>Optimal</td>\n",
              "      <td>557.0</td>\n",
              "      <td>8610.0</td>\n",
              "      <td>1143.0</td>\n",
              "      <td>0.0</td>\n",
              "      <td>-4092.763064</td>\n",
              "      <td>-4900.865014</td>\n",
              "      <td>-3981.632669</td>\n",
              "    </tr>\n",
              "    <tr>\n",
              "      <th>...</th>\n",
              "      <td>...</td>\n",
              "      <td>...</td>\n",
              "      <td>...</td>\n",
              "      <td>...</td>\n",
              "      <td>...</td>\n",
              "      <td>...</td>\n",
              "      <td>...</td>\n",
              "      <td>...</td>\n",
              "      <td>...</td>\n",
              "      <td>...</td>\n",
              "    </tr>\n",
              "    <tr>\n",
              "      <th>995</th>\n",
              "      <td>995</td>\n",
              "      <td>0.879105</td>\n",
              "      <td>Optimal</td>\n",
              "      <td>557.0</td>\n",
              "      <td>8610.0</td>\n",
              "      <td>1143.0</td>\n",
              "      <td>0.0</td>\n",
              "      <td>-4789.734619</td>\n",
              "      <td>-4900.865014</td>\n",
              "      <td>-3981.632669</td>\n",
              "    </tr>\n",
              "    <tr>\n",
              "      <th>996</th>\n",
              "      <td>996</td>\n",
              "      <td>0.879530</td>\n",
              "      <td>Optimal</td>\n",
              "      <td>557.0</td>\n",
              "      <td>8610.0</td>\n",
              "      <td>1143.0</td>\n",
              "      <td>0.0</td>\n",
              "      <td>-4790.125198</td>\n",
              "      <td>-4900.865014</td>\n",
              "      <td>-3981.632669</td>\n",
              "    </tr>\n",
              "    <tr>\n",
              "      <th>997</th>\n",
              "      <td>997</td>\n",
              "      <td>0.879954</td>\n",
              "      <td>Optimal</td>\n",
              "      <td>557.0</td>\n",
              "      <td>8610.0</td>\n",
              "      <td>1143.0</td>\n",
              "      <td>0.0</td>\n",
              "      <td>-4790.514592</td>\n",
              "      <td>-4900.865014</td>\n",
              "      <td>-3981.632669</td>\n",
              "    </tr>\n",
              "    <tr>\n",
              "      <th>998</th>\n",
              "      <td>998</td>\n",
              "      <td>0.880376</td>\n",
              "      <td>Optimal</td>\n",
              "      <td>557.0</td>\n",
              "      <td>8610.0</td>\n",
              "      <td>1143.0</td>\n",
              "      <td>0.0</td>\n",
              "      <td>-4790.902803</td>\n",
              "      <td>-4900.865014</td>\n",
              "      <td>-3981.632669</td>\n",
              "    </tr>\n",
              "    <tr>\n",
              "      <th>999</th>\n",
              "      <td>999</td>\n",
              "      <td>0.880797</td>\n",
              "      <td>Optimal</td>\n",
              "      <td>557.0</td>\n",
              "      <td>8610.0</td>\n",
              "      <td>1143.0</td>\n",
              "      <td>0.0</td>\n",
              "      <td>-4791.289833</td>\n",
              "      <td>-4900.865014</td>\n",
              "      <td>-3981.632669</td>\n",
              "    </tr>\n",
              "  </tbody>\n",
              "</table>\n",
              "<p>1000 rows × 10 columns</p>\n",
              "</div>"
            ],
            "text/plain": [
              "     iter     alpha   status     x1  ...   x4    obj_value           f1           f2\n",
              "0       0  0.119203  Optimal  557.0  ...  0.0 -4091.207850 -4900.865014 -3981.632669\n",
              "1       1  0.119624  Optimal  557.0  ...  0.0 -4091.594880 -4900.865014 -3981.632669\n",
              "2       2  0.120046  Optimal  557.0  ...  0.0 -4091.983091 -4900.865014 -3981.632669\n",
              "3       3  0.120470  Optimal  557.0  ...  0.0 -4092.372485 -4900.865014 -3981.632669\n",
              "4       4  0.120895  Optimal  557.0  ...  0.0 -4092.763064 -4900.865014 -3981.632669\n",
              "..    ...       ...      ...    ...  ...  ...          ...          ...          ...\n",
              "995   995  0.879105  Optimal  557.0  ...  0.0 -4789.734619 -4900.865014 -3981.632669\n",
              "996   996  0.879530  Optimal  557.0  ...  0.0 -4790.125198 -4900.865014 -3981.632669\n",
              "997   997  0.879954  Optimal  557.0  ...  0.0 -4790.514592 -4900.865014 -3981.632669\n",
              "998   998  0.880376  Optimal  557.0  ...  0.0 -4790.902803 -4900.865014 -3981.632669\n",
              "999   999  0.880797  Optimal  557.0  ...  0.0 -4791.289833 -4900.865014 -3981.632669\n",
              "\n",
              "[1000 rows x 10 columns]"
            ]
          },
          "metadata": {},
          "execution_count": 85
        }
      ]
    },
    {
      "cell_type": "code",
      "metadata": {
        "id": "H2PJQsK1J_kn"
      },
      "source": [
        "df_solution_sig_06 = run_models(alpha_sig_06, C, A, b)"
      ],
      "id": "H2PJQsK1J_kn",
      "execution_count": 86,
      "outputs": []
    },
    {
      "cell_type": "code",
      "metadata": {
        "colab": {
          "base_uri": "https://localhost:8080/",
          "height": 424
        },
        "id": "jolJ2ryTPCk0",
        "outputId": "45547b01-1888-4109-decd-e9741c7b2e93"
      },
      "source": [
        "df_solution_sig_06"
      ],
      "id": "jolJ2ryTPCk0",
      "execution_count": 87,
      "outputs": [
        {
          "output_type": "execute_result",
          "data": {
            "text/html": [
              "<div>\n",
              "<style scoped>\n",
              "    .dataframe tbody tr th:only-of-type {\n",
              "        vertical-align: middle;\n",
              "    }\n",
              "\n",
              "    .dataframe tbody tr th {\n",
              "        vertical-align: top;\n",
              "    }\n",
              "\n",
              "    .dataframe thead th {\n",
              "        text-align: right;\n",
              "    }\n",
              "</style>\n",
              "<table border=\"1\" class=\"dataframe\">\n",
              "  <thead>\n",
              "    <tr style=\"text-align: right;\">\n",
              "      <th></th>\n",
              "      <th>iter</th>\n",
              "      <th>alpha</th>\n",
              "      <th>status</th>\n",
              "      <th>x1</th>\n",
              "      <th>x2</th>\n",
              "      <th>x3</th>\n",
              "      <th>x4</th>\n",
              "      <th>obj_value</th>\n",
              "      <th>f1</th>\n",
              "      <th>f2</th>\n",
              "    </tr>\n",
              "  </thead>\n",
              "  <tbody>\n",
              "    <tr>\n",
              "      <th>0</th>\n",
              "      <td>0</td>\n",
              "      <td>9.357623e-14</td>\n",
              "      <td>Optimal</td>\n",
              "      <td>557.0</td>\n",
              "      <td>8610.0</td>\n",
              "      <td>1143.0</td>\n",
              "      <td>0.0</td>\n",
              "      <td>-3981.632669</td>\n",
              "      <td>-4900.865014</td>\n",
              "      <td>-3981.632669</td>\n",
              "    </tr>\n",
              "    <tr>\n",
              "      <th>1</th>\n",
              "      <td>1</td>\n",
              "      <td>9.936863e-14</td>\n",
              "      <td>Optimal</td>\n",
              "      <td>557.0</td>\n",
              "      <td>8610.0</td>\n",
              "      <td>1143.0</td>\n",
              "      <td>0.0</td>\n",
              "      <td>-3981.632669</td>\n",
              "      <td>-4900.865014</td>\n",
              "      <td>-3981.632669</td>\n",
              "    </tr>\n",
              "    <tr>\n",
              "      <th>2</th>\n",
              "      <td>2</td>\n",
              "      <td>1.055196e-13</td>\n",
              "      <td>Optimal</td>\n",
              "      <td>557.0</td>\n",
              "      <td>8610.0</td>\n",
              "      <td>1143.0</td>\n",
              "      <td>0.0</td>\n",
              "      <td>-3981.632669</td>\n",
              "      <td>-4900.865014</td>\n",
              "      <td>-3981.632669</td>\n",
              "    </tr>\n",
              "    <tr>\n",
              "      <th>3</th>\n",
              "      <td>3</td>\n",
              "      <td>1.120513e-13</td>\n",
              "      <td>Optimal</td>\n",
              "      <td>557.0</td>\n",
              "      <td>8610.0</td>\n",
              "      <td>1143.0</td>\n",
              "      <td>0.0</td>\n",
              "      <td>-3981.632669</td>\n",
              "      <td>-4900.865014</td>\n",
              "      <td>-3981.632669</td>\n",
              "    </tr>\n",
              "    <tr>\n",
              "      <th>4</th>\n",
              "      <td>4</td>\n",
              "      <td>1.189873e-13</td>\n",
              "      <td>Optimal</td>\n",
              "      <td>557.0</td>\n",
              "      <td>8610.0</td>\n",
              "      <td>1143.0</td>\n",
              "      <td>0.0</td>\n",
              "      <td>-3981.632669</td>\n",
              "      <td>-4900.865014</td>\n",
              "      <td>-3981.632669</td>\n",
              "    </tr>\n",
              "    <tr>\n",
              "      <th>...</th>\n",
              "      <td>...</td>\n",
              "      <td>...</td>\n",
              "      <td>...</td>\n",
              "      <td>...</td>\n",
              "      <td>...</td>\n",
              "      <td>...</td>\n",
              "      <td>...</td>\n",
              "      <td>...</td>\n",
              "      <td>...</td>\n",
              "      <td>...</td>\n",
              "    </tr>\n",
              "    <tr>\n",
              "      <th>995</th>\n",
              "      <td>995</td>\n",
              "      <td>1.000000e+00</td>\n",
              "      <td>Optimal</td>\n",
              "      <td>557.0</td>\n",
              "      <td>8610.0</td>\n",
              "      <td>1143.0</td>\n",
              "      <td>0.0</td>\n",
              "      <td>-4900.865014</td>\n",
              "      <td>-4900.865014</td>\n",
              "      <td>-3981.632669</td>\n",
              "    </tr>\n",
              "    <tr>\n",
              "      <th>996</th>\n",
              "      <td>996</td>\n",
              "      <td>1.000000e+00</td>\n",
              "      <td>Optimal</td>\n",
              "      <td>557.0</td>\n",
              "      <td>8610.0</td>\n",
              "      <td>1143.0</td>\n",
              "      <td>0.0</td>\n",
              "      <td>-4900.865014</td>\n",
              "      <td>-4900.865014</td>\n",
              "      <td>-3981.632669</td>\n",
              "    </tr>\n",
              "    <tr>\n",
              "      <th>997</th>\n",
              "      <td>997</td>\n",
              "      <td>1.000000e+00</td>\n",
              "      <td>Optimal</td>\n",
              "      <td>557.0</td>\n",
              "      <td>8610.0</td>\n",
              "      <td>1143.0</td>\n",
              "      <td>0.0</td>\n",
              "      <td>-4900.865014</td>\n",
              "      <td>-4900.865014</td>\n",
              "      <td>-3981.632669</td>\n",
              "    </tr>\n",
              "    <tr>\n",
              "      <th>998</th>\n",
              "      <td>998</td>\n",
              "      <td>1.000000e+00</td>\n",
              "      <td>Optimal</td>\n",
              "      <td>557.0</td>\n",
              "      <td>8610.0</td>\n",
              "      <td>1143.0</td>\n",
              "      <td>0.0</td>\n",
              "      <td>-4900.865014</td>\n",
              "      <td>-4900.865014</td>\n",
              "      <td>-3981.632669</td>\n",
              "    </tr>\n",
              "    <tr>\n",
              "      <th>999</th>\n",
              "      <td>999</td>\n",
              "      <td>1.000000e+00</td>\n",
              "      <td>Optimal</td>\n",
              "      <td>557.0</td>\n",
              "      <td>8610.0</td>\n",
              "      <td>1143.0</td>\n",
              "      <td>0.0</td>\n",
              "      <td>-4900.865014</td>\n",
              "      <td>-4900.865014</td>\n",
              "      <td>-3981.632669</td>\n",
              "    </tr>\n",
              "  </tbody>\n",
              "</table>\n",
              "<p>1000 rows × 10 columns</p>\n",
              "</div>"
            ],
            "text/plain": [
              "     iter         alpha   status  ...    obj_value           f1           f2\n",
              "0       0  9.357623e-14  Optimal  ... -3981.632669 -4900.865014 -3981.632669\n",
              "1       1  9.936863e-14  Optimal  ... -3981.632669 -4900.865014 -3981.632669\n",
              "2       2  1.055196e-13  Optimal  ... -3981.632669 -4900.865014 -3981.632669\n",
              "3       3  1.120513e-13  Optimal  ... -3981.632669 -4900.865014 -3981.632669\n",
              "4       4  1.189873e-13  Optimal  ... -3981.632669 -4900.865014 -3981.632669\n",
              "..    ...           ...      ...  ...          ...          ...          ...\n",
              "995   995  1.000000e+00  Optimal  ... -4900.865014 -4900.865014 -3981.632669\n",
              "996   996  1.000000e+00  Optimal  ... -4900.865014 -4900.865014 -3981.632669\n",
              "997   997  1.000000e+00  Optimal  ... -4900.865014 -4900.865014 -3981.632669\n",
              "998   998  1.000000e+00  Optimal  ... -4900.865014 -4900.865014 -3981.632669\n",
              "999   999  1.000000e+00  Optimal  ... -4900.865014 -4900.865014 -3981.632669\n",
              "\n",
              "[1000 rows x 10 columns]"
            ]
          },
          "metadata": {},
          "execution_count": 87
        }
      ]
    },
    {
      "cell_type": "code",
      "metadata": {
        "colab": {
          "base_uri": "https://localhost:8080/",
          "height": 297
        },
        "id": "2sdLYsQGOdl0",
        "outputId": "c55f087b-17c0-48fd-cde9-02e5f3c4da9d"
      },
      "source": [
        "df_solution_sig_06.plot.scatter(x='f1', y='f2')"
      ],
      "id": "2sdLYsQGOdl0",
      "execution_count": 88,
      "outputs": [
        {
          "output_type": "execute_result",
          "data": {
            "text/plain": [
              "<matplotlib.axes._subplots.AxesSubplot at 0x7f046cb7f510>"
            ]
          },
          "metadata": {},
          "execution_count": 88
        },
        {
          "output_type": "display_data",
          "data": {
            "image/png": "[encoded data removed]",
            "text/plain": [
              "<Figure size 432x288 with 1 Axes>"
            ]
          },
          "metadata": {
            "needs_background": "light"
          }
        }
      ]
    },
    {
      "cell_type": "markdown",
      "metadata": {
        "id": "GPcu7obqL5pn"
      },
      "source": [
        "##Paper 2 (P2): Land Use Scenarios and Optimization in a Watershed.\n",
        "\n",
        "D. Nikkami, M. Shabani and H. Ahmadi, 2009. Land Use Scenarios and Optimization in a Watershed. Journal of Applied Sciences, 9: 287-295. DOI: 10.3923/jas.2009.287.295"
      ],
      "id": "GPcu7obqL5pn"
    },
    {
      "cell_type": "markdown",
      "metadata": {
        "id": "-y1G7BjMMgEr"
      },
      "source": [
        "### Model Parameter"
      ],
      "id": "-y1G7BjMMgEr"
    },
    {
      "cell_type": "code",
      "metadata": {
        "id": "iwj1v2KaJn1U"
      },
      "source": [
        "# Variáveis do modelo\n",
        "\n",
        "Cini = np.array([[21.452,  0.101 ,  4.56,  1.013],\n",
        "              [8.77, 10.47, 12.57, 10.81]])\n",
        "\n",
        "A = np.array([  [1, 0, 0, 0],\n",
        "                [0, 0, 1, 0],\n",
        "                [0, 0, 0, 1],\n",
        "                [1, 0, 1, 0],\n",
        "                [1, 1, 1, 1],\n",
        "                [1, 0, 0, 0],\n",
        "                [0, 1, 0, 0]])\n",
        "\n",
        "b = np.array([[2115],[237],[207],[2352],[13032],[561],[10550]])"
      ],
      "id": "iwj1v2KaJn1U",
      "execution_count": 89,
      "outputs": []
    },
    {
      "cell_type": "code",
      "metadata": {
        "id": "qqT32nimMpyr"
      },
      "source": [
        ""
      ],
      "id": "qqT32nimMpyr",
      "execution_count": 89,
      "outputs": []
    },
    {
      "cell_type": "markdown",
      "metadata": {
        "id": "ZURta3uzMqSx"
      },
      "source": [
        "### Solution\n"
      ],
      "id": "ZURta3uzMqSx"
    },
    {
      "cell_type": "markdown",
      "metadata": {
        "id": "i0TB1F_WMqSz"
      },
      "source": [
        "#### Approach 1"
      ],
      "id": "i0TB1F_WMqSz"
    },
    {
      "cell_type": "code",
      "metadata": {
        "id": "ILOwHbYaLYme"
      },
      "source": [
        "C = Cini"
      ],
      "id": "ILOwHbYaLYme",
      "execution_count": 90,
      "outputs": []
    },
    {
      "cell_type": "markdown",
      "metadata": {
        "id": "BCq7xpWcMqS1"
      },
      "source": [
        "##### Step 1"
      ],
      "id": "BCq7xpWcMqS1"
    },
    {
      "cell_type": "code",
      "metadata": {
        "id": "RiyGfY3eMqS3"
      },
      "source": [
        "linearProblem = pulp.LpProblem(\"First_Objective_Max\",pulp.LpMaximize)\n",
        "\n",
        "X = create_x_variables()\n",
        "\n",
        "linearProblem += f(C[0], X)\n",
        "\n",
        "linearProblem = load_model(linearProblem, A, X, b)\n",
        "\n",
        "solution = linearProblem.solve()"
      ],
      "id": "RiyGfY3eMqS3",
      "execution_count": 91,
      "outputs": []
    },
    {
      "cell_type": "code",
      "metadata": {
        "colab": {
          "base_uri": "https://localhost:8080/"
        },
        "id": "r0Kt14BgMqS5",
        "outputId": "52ff58e6-3cf5-4fc1-eaa3-8839e5dfb10a"
      },
      "source": [
        "print_solution(solution, linearProblem, X)"
      ],
      "id": "r0Kt14BgMqS5",
      "execution_count": 92,
      "outputs": [
        {
          "output_type": "stream",
          "name": "stdout",
          "text": [
            "\n",
            "Status = Optimal\n",
            "Value = 47648.94000000001\n",
            "x1 = 2115.0\n",
            "x2 = 10550.0\n",
            "x3 = 237.0\n",
            "x4 = 130.0\n"
          ]
        }
      ]
    },
    {
      "cell_type": "code",
      "metadata": {
        "id": "6VMyq_3dMqS7"
      },
      "source": [
        "f1_max = pulp.value(linearProblem.objective)"
      ],
      "id": "6VMyq_3dMqS7",
      "execution_count": 93,
      "outputs": []
    },
    {
      "cell_type": "markdown",
      "metadata": {
        "id": "iUrjbv8UMqS-"
      },
      "source": [
        "##### Step 2"
      ],
      "id": "iUrjbv8UMqS-"
    },
    {
      "cell_type": "code",
      "metadata": {
        "id": "xfkKb8HLMqTC"
      },
      "source": [
        "linearProblem = pulp.LpProblem(\"Second_Objective_Min\",pulp.LpMinimize)\n",
        "\n",
        "X = create_x_variables()\n",
        "\n",
        "linearProblem += f(C[1], X)\n",
        "\n",
        "linearProblem = load_model(linearProblem, A, X, b)\n",
        "\n",
        "linearProblem += f(C[0], X) >= f1_max\n",
        "\n",
        "solution = linearProblem.solve()"
      ],
      "id": "xfkKb8HLMqTC",
      "execution_count": 94,
      "outputs": []
    },
    {
      "cell_type": "code",
      "metadata": {
        "colab": {
          "base_uri": "https://localhost:8080/"
        },
        "id": "nca68wQ2MqTE",
        "outputId": "c126ec00-f08e-4775-f8b4-475da6a25498"
      },
      "source": [
        "print_solution(solution, linearProblem, X)"
      ],
      "id": "nca68wQ2MqTE",
      "execution_count": 95,
      "outputs": [
        {
          "output_type": "stream",
          "name": "stdout",
          "text": [
            "\n",
            "Status = Optimal\n",
            "Value = 133391.44\n",
            "x1 = 2115.0\n",
            "x2 = 10550.0\n",
            "x3 = 237.0\n",
            "x4 = 130.0\n"
          ]
        }
      ]
    },
    {
      "cell_type": "markdown",
      "metadata": {
        "id": "pqvCE16DMqTH"
      },
      "source": [
        "#### Approach 2"
      ],
      "id": "pqvCE16DMqTH"
    },
    {
      "cell_type": "code",
      "metadata": {
        "id": "Vs4LKEseLVdk"
      },
      "source": [
        "C = DataStandardization(Cini)"
      ],
      "id": "Vs4LKEseLVdk",
      "execution_count": 96,
      "outputs": []
    },
    {
      "cell_type": "code",
      "metadata": {
        "colab": {
          "base_uri": "https://localhost:8080/",
          "height": 54
        },
        "id": "vfHYYv6yN5KN",
        "outputId": "bc1fa610-76a6-4a24-93cf-65ee2affacaf"
      },
      "source": [
        "display(C)"
      ],
      "id": "vfHYYv6yN5KN",
      "execution_count": 97,
      "outputs": [
        {
          "output_type": "display_data",
          "data": {
            "text/plain": [
              "array([[ 1.69949799, -0.77389975, -0.25734875, -0.66824949],\n",
              "       [-1.39737973, -0.13714337,  1.4196192 ,  0.1149039 ]])"
            ]
          },
          "metadata": {}
        }
      ]
    },
    {
      "cell_type": "code",
      "metadata": {
        "id": "S2MU40wTMqTP"
      },
      "source": [
        "df_solution_lin = run_models(alpha_lin, C, A, b)"
      ],
      "id": "S2MU40wTMqTP",
      "execution_count": 98,
      "outputs": []
    },
    {
      "cell_type": "code",
      "metadata": {
        "colab": {
          "base_uri": "https://localhost:8080/",
          "height": 424
        },
        "id": "jk7saxf0MqTQ",
        "outputId": "f69a1393-3e1b-45a9-977d-ce95c46a2e19"
      },
      "source": [
        "df_solution_lin"
      ],
      "id": "jk7saxf0MqTQ",
      "execution_count": 99,
      "outputs": [
        {
          "output_type": "execute_result",
          "data": {
            "text/html": [
              "<div>\n",
              "<style scoped>\n",
              "    .dataframe tbody tr th:only-of-type {\n",
              "        vertical-align: middle;\n",
              "    }\n",
              "\n",
              "    .dataframe tbody tr th {\n",
              "        vertical-align: top;\n",
              "    }\n",
              "\n",
              "    .dataframe thead th {\n",
              "        text-align: right;\n",
              "    }\n",
              "</style>\n",
              "<table border=\"1\" class=\"dataframe\">\n",
              "  <thead>\n",
              "    <tr style=\"text-align: right;\">\n",
              "      <th></th>\n",
              "      <th>iter</th>\n",
              "      <th>alpha</th>\n",
              "      <th>status</th>\n",
              "      <th>x1</th>\n",
              "      <th>x2</th>\n",
              "      <th>x3</th>\n",
              "      <th>x4</th>\n",
              "      <th>obj_value</th>\n",
              "      <th>f1</th>\n",
              "      <th>f2</th>\n",
              "    </tr>\n",
              "  </thead>\n",
              "  <tbody>\n",
              "    <tr>\n",
              "      <th>0</th>\n",
              "      <td>0</td>\n",
              "      <td>0.000000</td>\n",
              "      <td>Optimal</td>\n",
              "      <td>2115.0</td>\n",
              "      <td>10917.0</td>\n",
              "      <td>0.0</td>\n",
              "      <td>0.0</td>\n",
              "      <td>4452.652297</td>\n",
              "      <td>-4854.225349</td>\n",
              "      <td>4452.652297</td>\n",
              "    </tr>\n",
              "    <tr>\n",
              "      <th>1</th>\n",
              "      <td>1</td>\n",
              "      <td>0.001001</td>\n",
              "      <td>Optimal</td>\n",
              "      <td>2115.0</td>\n",
              "      <td>10917.0</td>\n",
              "      <td>0.0</td>\n",
              "      <td>0.0</td>\n",
              "      <td>4443.336103</td>\n",
              "      <td>-4854.225349</td>\n",
              "      <td>4452.652297</td>\n",
              "    </tr>\n",
              "    <tr>\n",
              "      <th>2</th>\n",
              "      <td>2</td>\n",
              "      <td>0.002002</td>\n",
              "      <td>Optimal</td>\n",
              "      <td>2115.0</td>\n",
              "      <td>10917.0</td>\n",
              "      <td>0.0</td>\n",
              "      <td>0.0</td>\n",
              "      <td>4434.019909</td>\n",
              "      <td>-4854.225349</td>\n",
              "      <td>4452.652297</td>\n",
              "    </tr>\n",
              "    <tr>\n",
              "      <th>3</th>\n",
              "      <td>3</td>\n",
              "      <td>0.003003</td>\n",
              "      <td>Optimal</td>\n",
              "      <td>2115.0</td>\n",
              "      <td>10917.0</td>\n",
              "      <td>0.0</td>\n",
              "      <td>0.0</td>\n",
              "      <td>4424.703715</td>\n",
              "      <td>-4854.225349</td>\n",
              "      <td>4452.652297</td>\n",
              "    </tr>\n",
              "    <tr>\n",
              "      <th>4</th>\n",
              "      <td>4</td>\n",
              "      <td>0.004004</td>\n",
              "      <td>Optimal</td>\n",
              "      <td>2115.0</td>\n",
              "      <td>10917.0</td>\n",
              "      <td>0.0</td>\n",
              "      <td>0.0</td>\n",
              "      <td>4415.387521</td>\n",
              "      <td>-4854.225349</td>\n",
              "      <td>4452.652297</td>\n",
              "    </tr>\n",
              "    <tr>\n",
              "      <th>...</th>\n",
              "      <td>...</td>\n",
              "      <td>...</td>\n",
              "      <td>...</td>\n",
              "      <td>...</td>\n",
              "      <td>...</td>\n",
              "      <td>...</td>\n",
              "      <td>...</td>\n",
              "      <td>...</td>\n",
              "      <td>...</td>\n",
              "      <td>...</td>\n",
              "    </tr>\n",
              "    <tr>\n",
              "      <th>995</th>\n",
              "      <td>995</td>\n",
              "      <td>0.995996</td>\n",
              "      <td>Optimal</td>\n",
              "      <td>2115.0</td>\n",
              "      <td>10550.0</td>\n",
              "      <td>237.0</td>\n",
              "      <td>130.0</td>\n",
              "      <td>-4682.957109</td>\n",
              "      <td>-4718.068226</td>\n",
              "      <td>4050.933423</td>\n",
              "    </tr>\n",
              "    <tr>\n",
              "      <th>996</th>\n",
              "      <td>996</td>\n",
              "      <td>0.996997</td>\n",
              "      <td>Optimal</td>\n",
              "      <td>2115.0</td>\n",
              "      <td>10550.0</td>\n",
              "      <td>237.0</td>\n",
              "      <td>130.0</td>\n",
              "      <td>-4691.734888</td>\n",
              "      <td>-4718.068226</td>\n",
              "      <td>4050.933423</td>\n",
              "    </tr>\n",
              "    <tr>\n",
              "      <th>997</th>\n",
              "      <td>997</td>\n",
              "      <td>0.997998</td>\n",
              "      <td>Optimal</td>\n",
              "      <td>2115.0</td>\n",
              "      <td>10550.0</td>\n",
              "      <td>237.0</td>\n",
              "      <td>130.0</td>\n",
              "      <td>-4700.512667</td>\n",
              "      <td>-4718.068226</td>\n",
              "      <td>4050.933423</td>\n",
              "    </tr>\n",
              "    <tr>\n",
              "      <th>998</th>\n",
              "      <td>998</td>\n",
              "      <td>0.998999</td>\n",
              "      <td>Optimal</td>\n",
              "      <td>2115.0</td>\n",
              "      <td>10550.0</td>\n",
              "      <td>237.0</td>\n",
              "      <td>130.0</td>\n",
              "      <td>-4709.290447</td>\n",
              "      <td>-4718.068226</td>\n",
              "      <td>4050.933423</td>\n",
              "    </tr>\n",
              "    <tr>\n",
              "      <th>999</th>\n",
              "      <td>999</td>\n",
              "      <td>1.000000</td>\n",
              "      <td>Optimal</td>\n",
              "      <td>2115.0</td>\n",
              "      <td>10550.0</td>\n",
              "      <td>237.0</td>\n",
              "      <td>130.0</td>\n",
              "      <td>-4718.068226</td>\n",
              "      <td>-4718.068226</td>\n",
              "      <td>4050.933423</td>\n",
              "    </tr>\n",
              "  </tbody>\n",
              "</table>\n",
              "<p>1000 rows × 10 columns</p>\n",
              "</div>"
            ],
            "text/plain": [
              "     iter     alpha   status  ...    obj_value           f1           f2\n",
              "0       0  0.000000  Optimal  ...  4452.652297 -4854.225349  4452.652297\n",
              "1       1  0.001001  Optimal  ...  4443.336103 -4854.225349  4452.652297\n",
              "2       2  0.002002  Optimal  ...  4434.019909 -4854.225349  4452.652297\n",
              "3       3  0.003003  Optimal  ...  4424.703715 -4854.225349  4452.652297\n",
              "4       4  0.004004  Optimal  ...  4415.387521 -4854.225349  4452.652297\n",
              "..    ...       ...      ...  ...          ...          ...          ...\n",
              "995   995  0.995996  Optimal  ... -4682.957109 -4718.068226  4050.933423\n",
              "996   996  0.996997  Optimal  ... -4691.734888 -4718.068226  4050.933423\n",
              "997   997  0.997998  Optimal  ... -4700.512667 -4718.068226  4050.933423\n",
              "998   998  0.998999  Optimal  ... -4709.290447 -4718.068226  4050.933423\n",
              "999   999  1.000000  Optimal  ... -4718.068226 -4718.068226  4050.933423\n",
              "\n",
              "[1000 rows x 10 columns]"
            ]
          },
          "metadata": {},
          "execution_count": 99
        }
      ]
    },
    {
      "cell_type": "code",
      "metadata": {
        "id": "HXWuwYL8MqTV"
      },
      "source": [
        "df_solution_sig_004 = run_models(alpha_sig_004, C, A, b)"
      ],
      "id": "HXWuwYL8MqTV",
      "execution_count": 100,
      "outputs": []
    },
    {
      "cell_type": "code",
      "metadata": {
        "colab": {
          "base_uri": "https://localhost:8080/",
          "height": 424
        },
        "id": "XVkI4uPcMqTW",
        "outputId": "ab0b41ce-d618-4bef-89d2-23285da3eca8"
      },
      "source": [
        "df_solution_sig_004"
      ],
      "id": "XVkI4uPcMqTW",
      "execution_count": 101,
      "outputs": [
        {
          "output_type": "execute_result",
          "data": {
            "text/html": [
              "<div>\n",
              "<style scoped>\n",
              "    .dataframe tbody tr th:only-of-type {\n",
              "        vertical-align: middle;\n",
              "    }\n",
              "\n",
              "    .dataframe tbody tr th {\n",
              "        vertical-align: top;\n",
              "    }\n",
              "\n",
              "    .dataframe thead th {\n",
              "        text-align: right;\n",
              "    }\n",
              "</style>\n",
              "<table border=\"1\" class=\"dataframe\">\n",
              "  <thead>\n",
              "    <tr style=\"text-align: right;\">\n",
              "      <th></th>\n",
              "      <th>iter</th>\n",
              "      <th>alpha</th>\n",
              "      <th>status</th>\n",
              "      <th>x1</th>\n",
              "      <th>x2</th>\n",
              "      <th>x3</th>\n",
              "      <th>x4</th>\n",
              "      <th>obj_value</th>\n",
              "      <th>f1</th>\n",
              "      <th>f2</th>\n",
              "    </tr>\n",
              "  </thead>\n",
              "  <tbody>\n",
              "    <tr>\n",
              "      <th>0</th>\n",
              "      <td>0</td>\n",
              "      <td>0.119203</td>\n",
              "      <td>Optimal</td>\n",
              "      <td>2115.0</td>\n",
              "      <td>10917.0</td>\n",
              "      <td>0.0</td>\n",
              "      <td>0.0</td>\n",
              "      <td>3343.245286</td>\n",
              "      <td>-4854.225349</td>\n",
              "      <td>4452.652297</td>\n",
              "    </tr>\n",
              "    <tr>\n",
              "      <th>1</th>\n",
              "      <td>1</td>\n",
              "      <td>0.119624</td>\n",
              "      <td>Optimal</td>\n",
              "      <td>2115.0</td>\n",
              "      <td>10917.0</td>\n",
              "      <td>0.0</td>\n",
              "      <td>0.0</td>\n",
              "      <td>3339.326755</td>\n",
              "      <td>-4854.225349</td>\n",
              "      <td>4452.652297</td>\n",
              "    </tr>\n",
              "    <tr>\n",
              "      <th>2</th>\n",
              "      <td>2</td>\n",
              "      <td>0.120046</td>\n",
              "      <td>Optimal</td>\n",
              "      <td>2115.0</td>\n",
              "      <td>10917.0</td>\n",
              "      <td>0.0</td>\n",
              "      <td>0.0</td>\n",
              "      <td>3335.396269</td>\n",
              "      <td>-4854.225349</td>\n",
              "      <td>4452.652297</td>\n",
              "    </tr>\n",
              "    <tr>\n",
              "      <th>3</th>\n",
              "      <td>3</td>\n",
              "      <td>0.120470</td>\n",
              "      <td>Optimal</td>\n",
              "      <td>2115.0</td>\n",
              "      <td>10917.0</td>\n",
              "      <td>0.0</td>\n",
              "      <td>0.0</td>\n",
              "      <td>3331.453805</td>\n",
              "      <td>-4854.225349</td>\n",
              "      <td>4452.652297</td>\n",
              "    </tr>\n",
              "    <tr>\n",
              "      <th>4</th>\n",
              "      <td>4</td>\n",
              "      <td>0.120895</td>\n",
              "      <td>Optimal</td>\n",
              "      <td>2115.0</td>\n",
              "      <td>10917.0</td>\n",
              "      <td>0.0</td>\n",
              "      <td>0.0</td>\n",
              "      <td>3327.499341</td>\n",
              "      <td>-4854.225349</td>\n",
              "      <td>4452.652297</td>\n",
              "    </tr>\n",
              "    <tr>\n",
              "      <th>...</th>\n",
              "      <td>...</td>\n",
              "      <td>...</td>\n",
              "      <td>...</td>\n",
              "      <td>...</td>\n",
              "      <td>...</td>\n",
              "      <td>...</td>\n",
              "      <td>...</td>\n",
              "      <td>...</td>\n",
              "      <td>...</td>\n",
              "      <td>...</td>\n",
              "    </tr>\n",
              "    <tr>\n",
              "      <th>995</th>\n",
              "      <td>995</td>\n",
              "      <td>0.879105</td>\n",
              "      <td>Optimal</td>\n",
              "      <td>2115.0</td>\n",
              "      <td>10550.0</td>\n",
              "      <td>237.0</td>\n",
              "      <td>130.0</td>\n",
              "      <td>-3657.941673</td>\n",
              "      <td>-4718.068226</td>\n",
              "      <td>4050.933423</td>\n",
              "    </tr>\n",
              "    <tr>\n",
              "      <th>996</th>\n",
              "      <td>996</td>\n",
              "      <td>0.879530</td>\n",
              "      <td>Optimal</td>\n",
              "      <td>2115.0</td>\n",
              "      <td>10550.0</td>\n",
              "      <td>237.0</td>\n",
              "      <td>130.0</td>\n",
              "      <td>-3661.667595</td>\n",
              "      <td>-4718.068226</td>\n",
              "      <td>4050.933423</td>\n",
              "    </tr>\n",
              "    <tr>\n",
              "      <th>997</th>\n",
              "      <td>997</td>\n",
              "      <td>0.879954</td>\n",
              "      <td>Optimal</td>\n",
              "      <td>2115.0</td>\n",
              "      <td>10550.0</td>\n",
              "      <td>237.0</td>\n",
              "      <td>130.0</td>\n",
              "      <td>-3665.382210</td>\n",
              "      <td>-4718.068226</td>\n",
              "      <td>4050.933423</td>\n",
              "    </tr>\n",
              "    <tr>\n",
              "      <th>998</th>\n",
              "      <td>998</td>\n",
              "      <td>0.880376</td>\n",
              "      <td>Optimal</td>\n",
              "      <td>2115.0</td>\n",
              "      <td>10550.0</td>\n",
              "      <td>237.0</td>\n",
              "      <td>130.0</td>\n",
              "      <td>-3669.085540</td>\n",
              "      <td>-4718.068226</td>\n",
              "      <td>4050.933423</td>\n",
              "    </tr>\n",
              "    <tr>\n",
              "      <th>999</th>\n",
              "      <td>999</td>\n",
              "      <td>0.880797</td>\n",
              "      <td>Optimal</td>\n",
              "      <td>2115.0</td>\n",
              "      <td>10550.0</td>\n",
              "      <td>237.0</td>\n",
              "      <td>130.0</td>\n",
              "      <td>-3672.777607</td>\n",
              "      <td>-4718.068226</td>\n",
              "      <td>4050.933423</td>\n",
              "    </tr>\n",
              "  </tbody>\n",
              "</table>\n",
              "<p>1000 rows × 10 columns</p>\n",
              "</div>"
            ],
            "text/plain": [
              "     iter     alpha   status  ...    obj_value           f1           f2\n",
              "0       0  0.119203  Optimal  ...  3343.245286 -4854.225349  4452.652297\n",
              "1       1  0.119624  Optimal  ...  3339.326755 -4854.225349  4452.652297\n",
              "2       2  0.120046  Optimal  ...  3335.396269 -4854.225349  4452.652297\n",
              "3       3  0.120470  Optimal  ...  3331.453805 -4854.225349  4452.652297\n",
              "4       4  0.120895  Optimal  ...  3327.499341 -4854.225349  4452.652297\n",
              "..    ...       ...      ...  ...          ...          ...          ...\n",
              "995   995  0.879105  Optimal  ... -3657.941673 -4718.068226  4050.933423\n",
              "996   996  0.879530  Optimal  ... -3661.667595 -4718.068226  4050.933423\n",
              "997   997  0.879954  Optimal  ... -3665.382210 -4718.068226  4050.933423\n",
              "998   998  0.880376  Optimal  ... -3669.085540 -4718.068226  4050.933423\n",
              "999   999  0.880797  Optimal  ... -3672.777607 -4718.068226  4050.933423\n",
              "\n",
              "[1000 rows x 10 columns]"
            ]
          },
          "metadata": {},
          "execution_count": 101
        }
      ]
    },
    {
      "cell_type": "code",
      "metadata": {
        "id": "JquYQS3XMqTc"
      },
      "source": [
        "df_solution_sig_06 = run_models(alpha_sig_06, C, A, b)"
      ],
      "id": "JquYQS3XMqTc",
      "execution_count": 102,
      "outputs": []
    },
    {
      "cell_type": "code",
      "metadata": {
        "colab": {
          "base_uri": "https://localhost:8080/",
          "height": 424
        },
        "id": "G42Kxf1CMqTd",
        "outputId": "4060f52e-da46-4b66-f8d6-f7c1add87d5d"
      },
      "source": [
        "df_solution_sig_06"
      ],
      "id": "G42Kxf1CMqTd",
      "execution_count": 103,
      "outputs": [
        {
          "output_type": "execute_result",
          "data": {
            "text/html": [
              "<div>\n",
              "<style scoped>\n",
              "    .dataframe tbody tr th:only-of-type {\n",
              "        vertical-align: middle;\n",
              "    }\n",
              "\n",
              "    .dataframe tbody tr th {\n",
              "        vertical-align: top;\n",
              "    }\n",
              "\n",
              "    .dataframe thead th {\n",
              "        text-align: right;\n",
              "    }\n",
              "</style>\n",
              "<table border=\"1\" class=\"dataframe\">\n",
              "  <thead>\n",
              "    <tr style=\"text-align: right;\">\n",
              "      <th></th>\n",
              "      <th>iter</th>\n",
              "      <th>alpha</th>\n",
              "      <th>status</th>\n",
              "      <th>x1</th>\n",
              "      <th>x2</th>\n",
              "      <th>x3</th>\n",
              "      <th>x4</th>\n",
              "      <th>obj_value</th>\n",
              "      <th>f1</th>\n",
              "      <th>f2</th>\n",
              "    </tr>\n",
              "  </thead>\n",
              "  <tbody>\n",
              "    <tr>\n",
              "      <th>0</th>\n",
              "      <td>0</td>\n",
              "      <td>9.357623e-14</td>\n",
              "      <td>Optimal</td>\n",
              "      <td>2115.0</td>\n",
              "      <td>10917.0</td>\n",
              "      <td>0.0</td>\n",
              "      <td>0.0</td>\n",
              "      <td>4452.652297</td>\n",
              "      <td>-4854.225349</td>\n",
              "      <td>4452.652297</td>\n",
              "    </tr>\n",
              "    <tr>\n",
              "      <th>1</th>\n",
              "      <td>1</td>\n",
              "      <td>9.936863e-14</td>\n",
              "      <td>Optimal</td>\n",
              "      <td>2115.0</td>\n",
              "      <td>10917.0</td>\n",
              "      <td>0.0</td>\n",
              "      <td>0.0</td>\n",
              "      <td>4452.652297</td>\n",
              "      <td>-4854.225349</td>\n",
              "      <td>4452.652297</td>\n",
              "    </tr>\n",
              "    <tr>\n",
              "      <th>2</th>\n",
              "      <td>2</td>\n",
              "      <td>1.055196e-13</td>\n",
              "      <td>Optimal</td>\n",
              "      <td>2115.0</td>\n",
              "      <td>10917.0</td>\n",
              "      <td>0.0</td>\n",
              "      <td>0.0</td>\n",
              "      <td>4452.652297</td>\n",
              "      <td>-4854.225349</td>\n",
              "      <td>4452.652297</td>\n",
              "    </tr>\n",
              "    <tr>\n",
              "      <th>3</th>\n",
              "      <td>3</td>\n",
              "      <td>1.120513e-13</td>\n",
              "      <td>Optimal</td>\n",
              "      <td>2115.0</td>\n",
              "      <td>10917.0</td>\n",
              "      <td>0.0</td>\n",
              "      <td>0.0</td>\n",
              "      <td>4452.652297</td>\n",
              "      <td>-4854.225349</td>\n",
              "      <td>4452.652297</td>\n",
              "    </tr>\n",
              "    <tr>\n",
              "      <th>4</th>\n",
              "      <td>4</td>\n",
              "      <td>1.189873e-13</td>\n",
              "      <td>Optimal</td>\n",
              "      <td>2115.0</td>\n",
              "      <td>10917.0</td>\n",
              "      <td>0.0</td>\n",
              "      <td>0.0</td>\n",
              "      <td>4452.652297</td>\n",
              "      <td>-4854.225349</td>\n",
              "      <td>4452.652297</td>\n",
              "    </tr>\n",
              "    <tr>\n",
              "      <th>...</th>\n",
              "      <td>...</td>\n",
              "      <td>...</td>\n",
              "      <td>...</td>\n",
              "      <td>...</td>\n",
              "      <td>...</td>\n",
              "      <td>...</td>\n",
              "      <td>...</td>\n",
              "      <td>...</td>\n",
              "      <td>...</td>\n",
              "      <td>...</td>\n",
              "    </tr>\n",
              "    <tr>\n",
              "      <th>995</th>\n",
              "      <td>995</td>\n",
              "      <td>1.000000e+00</td>\n",
              "      <td>Optimal</td>\n",
              "      <td>2115.0</td>\n",
              "      <td>10550.0</td>\n",
              "      <td>237.0</td>\n",
              "      <td>130.0</td>\n",
              "      <td>-4718.068226</td>\n",
              "      <td>-4718.068226</td>\n",
              "      <td>4050.933423</td>\n",
              "    </tr>\n",
              "    <tr>\n",
              "      <th>996</th>\n",
              "      <td>996</td>\n",
              "      <td>1.000000e+00</td>\n",
              "      <td>Optimal</td>\n",
              "      <td>2115.0</td>\n",
              "      <td>10550.0</td>\n",
              "      <td>237.0</td>\n",
              "      <td>130.0</td>\n",
              "      <td>-4718.068226</td>\n",
              "      <td>-4718.068226</td>\n",
              "      <td>4050.933423</td>\n",
              "    </tr>\n",
              "    <tr>\n",
              "      <th>997</th>\n",
              "      <td>997</td>\n",
              "      <td>1.000000e+00</td>\n",
              "      <td>Optimal</td>\n",
              "      <td>2115.0</td>\n",
              "      <td>10550.0</td>\n",
              "      <td>237.0</td>\n",
              "      <td>130.0</td>\n",
              "      <td>-4718.068226</td>\n",
              "      <td>-4718.068226</td>\n",
              "      <td>4050.933423</td>\n",
              "    </tr>\n",
              "    <tr>\n",
              "      <th>998</th>\n",
              "      <td>998</td>\n",
              "      <td>1.000000e+00</td>\n",
              "      <td>Optimal</td>\n",
              "      <td>2115.0</td>\n",
              "      <td>10550.0</td>\n",
              "      <td>237.0</td>\n",
              "      <td>130.0</td>\n",
              "      <td>-4718.068226</td>\n",
              "      <td>-4718.068226</td>\n",
              "      <td>4050.933423</td>\n",
              "    </tr>\n",
              "    <tr>\n",
              "      <th>999</th>\n",
              "      <td>999</td>\n",
              "      <td>1.000000e+00</td>\n",
              "      <td>Optimal</td>\n",
              "      <td>2115.0</td>\n",
              "      <td>10550.0</td>\n",
              "      <td>237.0</td>\n",
              "      <td>130.0</td>\n",
              "      <td>-4718.068226</td>\n",
              "      <td>-4718.068226</td>\n",
              "      <td>4050.933423</td>\n",
              "    </tr>\n",
              "  </tbody>\n",
              "</table>\n",
              "<p>1000 rows × 10 columns</p>\n",
              "</div>"
            ],
            "text/plain": [
              "     iter         alpha   status  ...    obj_value           f1           f2\n",
              "0       0  9.357623e-14  Optimal  ...  4452.652297 -4854.225349  4452.652297\n",
              "1       1  9.936863e-14  Optimal  ...  4452.652297 -4854.225349  4452.652297\n",
              "2       2  1.055196e-13  Optimal  ...  4452.652297 -4854.225349  4452.652297\n",
              "3       3  1.120513e-13  Optimal  ...  4452.652297 -4854.225349  4452.652297\n",
              "4       4  1.189873e-13  Optimal  ...  4452.652297 -4854.225349  4452.652297\n",
              "..    ...           ...      ...  ...          ...          ...          ...\n",
              "995   995  1.000000e+00  Optimal  ... -4718.068226 -4718.068226  4050.933423\n",
              "996   996  1.000000e+00  Optimal  ... -4718.068226 -4718.068226  4050.933423\n",
              "997   997  1.000000e+00  Optimal  ... -4718.068226 -4718.068226  4050.933423\n",
              "998   998  1.000000e+00  Optimal  ... -4718.068226 -4718.068226  4050.933423\n",
              "999   999  1.000000e+00  Optimal  ... -4718.068226 -4718.068226  4050.933423\n",
              "\n",
              "[1000 rows x 10 columns]"
            ]
          },
          "metadata": {},
          "execution_count": 103
        }
      ]
    },
    {
      "cell_type": "code",
      "metadata": {
        "colab": {
          "base_uri": "https://localhost:8080/",
          "height": 297
        },
        "id": "Jkn6mksVMqTe",
        "outputId": "e87aa472-a3ac-4e41-d3a1-4070291dd2bb"
      },
      "source": [
        "df_solution_lin.plot.scatter(x='f1', y='f2')"
      ],
      "id": "Jkn6mksVMqTe",
      "execution_count": 104,
      "outputs": [
        {
          "output_type": "execute_result",
          "data": {
            "text/plain": [
              "<matplotlib.axes._subplots.AxesSubplot at 0x7f046c20e4d0>"
            ]
          },
          "metadata": {},
          "execution_count": 104
        },
        {
          "output_type": "display_data",
          "data": {
            "image/png": "[encoded data removed]",
            "text/plain": [
              "<Figure size 432x288 with 1 Axes>"
            ]
          },
          "metadata": {
            "needs_background": "light"
          }
        }
      ]
    },
    {
      "cell_type": "markdown",
      "metadata": {
        "id": "rFL4lszNQROv"
      },
      "source": [
        "##Paper 3 (P3): Land use optimization in watershed scale\n",
        "\n",
        "Sadeghi, Seyed Hamidreza & Jalili, Khalil & Nikkami, Davood. (2009). Land use optimization in watershed scale. Land Use Policy. 26. 186-193. 10.1016/j.landusepol.2008.02.007. "
      ],
      "id": "rFL4lszNQROv"
    },
    {
      "cell_type": "markdown",
      "metadata": {
        "id": "w3p0EAXjQROz"
      },
      "source": [
        "### Model Parameter"
      ],
      "id": "w3p0EAXjQROz"
    },
    {
      "cell_type": "code",
      "metadata": {
        "id": "8kLl8ziCQRO1"
      },
      "source": [
        "# Variáveis do modelo\n",
        "\n",
        "Cini = np.array([[8.5042,  0.1562 ,  4.8758,  0.3215],\n",
        "              [7.389, 8.144, 7.389, 21.112]])\n",
        "\n",
        "A = np.array([  [1, 0, 0, 0],\n",
        "                [0, 0, 1, 0],\n",
        "                [0, 0, 0, 1],\n",
        "                [1, 0, 1, 0],\n",
        "                [1, 1, 1, 1],\n",
        "                [1, 0, 0, 0],\n",
        "                [0, 1, 0, 0]])\n",
        "\n",
        "b = np.array([[518.81],[4044.64],[1464.37],[4663.37],[9041.83],[38.32],[4001.27]])"
      ],
      "id": "8kLl8ziCQRO1",
      "execution_count": 105,
      "outputs": []
    },
    {
      "cell_type": "markdown",
      "metadata": {
        "id": "NIUEk7Z9QRO7"
      },
      "source": [
        "### Solution\n"
      ],
      "id": "NIUEk7Z9QRO7"
    },
    {
      "cell_type": "markdown",
      "metadata": {
        "id": "c6s6DrHFQRO9"
      },
      "source": [
        "#### Approach 1"
      ],
      "id": "c6s6DrHFQRO9"
    },
    {
      "cell_type": "code",
      "metadata": {
        "id": "TxvFbcqQLdkt"
      },
      "source": [
        "C = Cini"
      ],
      "id": "TxvFbcqQLdkt",
      "execution_count": 106,
      "outputs": []
    },
    {
      "cell_type": "markdown",
      "metadata": {
        "id": "DAc02klcQRO_"
      },
      "source": [
        "##### Step 1"
      ],
      "id": "DAc02klcQRO_"
    },
    {
      "cell_type": "code",
      "metadata": {
        "id": "9gSWT3FqQRPB"
      },
      "source": [
        "linearProblem = pulp.LpProblem(\"First_Objective_Max\",pulp.LpMaximize)\n",
        "\n",
        "X = create_x_variables()\n",
        "\n",
        "linearProblem += f(C[0], X)\n",
        "\n",
        "linearProblem = load_model_2(linearProblem, A, X, b)\n",
        "\n",
        "solution = linearProblem.solve()"
      ],
      "id": "9gSWT3FqQRPB",
      "execution_count": 107,
      "outputs": []
    },
    {
      "cell_type": "code",
      "metadata": {
        "colab": {
          "base_uri": "https://localhost:8080/"
        },
        "id": "FHyAZ6qNQRPE",
        "outputId": "c21d665d-51fa-46de-b01d-f9b9b6fe8b32"
      },
      "source": [
        "print_solution(solution, linearProblem, X)"
      ],
      "id": "FHyAZ6qNQRPE",
      "execution_count": 108,
      "outputs": [
        {
          "output_type": "stream",
          "name": "stdout",
          "text": [
            "\n",
            "Status = Optimal\n",
            "Value = 24911.308953\n",
            "x1 = 518.81\n",
            "x2 = 4001.27\n",
            "x3 = 4044.64\n",
            "x4 = 477.11\n"
          ]
        }
      ]
    },
    {
      "cell_type": "code",
      "metadata": {
        "id": "tieBPca6QRPK"
      },
      "source": [
        "f1_max = pulp.value(linearProblem.objective)"
      ],
      "id": "tieBPca6QRPK",
      "execution_count": 109,
      "outputs": []
    },
    {
      "cell_type": "markdown",
      "metadata": {
        "id": "7WkPPRJtQRPL"
      },
      "source": [
        "##### Step 2"
      ],
      "id": "7WkPPRJtQRPL"
    },
    {
      "cell_type": "code",
      "metadata": {
        "id": "e2LD9TGxQRPO"
      },
      "source": [
        "linearProblem = pulp.LpProblem(\"Second_Objective_Min\",pulp.LpMinimize)\n",
        "\n",
        "X = create_x_variables()\n",
        "\n",
        "linearProblem += f(C[1], X)\n",
        "\n",
        "linearProblem = load_model_2(linearProblem, A, X, b)\n",
        "\n",
        "linearProblem += f(C[0], X) >= f1_max\n",
        "\n",
        "solution = linearProblem.solve()"
      ],
      "id": "e2LD9TGxQRPO",
      "execution_count": 110,
      "outputs": []
    },
    {
      "cell_type": "code",
      "metadata": {
        "colab": {
          "base_uri": "https://localhost:8080/"
        },
        "id": "R3FhChOfQRPQ",
        "outputId": "1f9dac55-981f-43de-bc8c-95c5a8d81149"
      },
      "source": [
        "print_solution(solution, linearProblem, X)"
      ],
      "id": "R3FhChOfQRPQ",
      "execution_count": 111,
      "outputs": [
        {
          "output_type": "stream",
          "name": "stdout",
          "text": [
            "\n",
            "Status = Optimal\n",
            "Value = 76378.42125\n",
            "x1 = 518.81\n",
            "x2 = 4001.27\n",
            "x3 = 4044.64\n",
            "x4 = 477.11\n"
          ]
        }
      ]
    },
    {
      "cell_type": "markdown",
      "metadata": {
        "id": "hq91OgElQRPS"
      },
      "source": [
        "#### Approach 2"
      ],
      "id": "hq91OgElQRPS"
    },
    {
      "cell_type": "code",
      "metadata": {
        "id": "gmD1tXYpLhfo"
      },
      "source": [
        "C = DataStandardization(Cini)"
      ],
      "id": "gmD1tXYpLhfo",
      "execution_count": 112,
      "outputs": []
    },
    {
      "cell_type": "code",
      "metadata": {
        "colab": {
          "base_uri": "https://localhost:8080/",
          "height": 54
        },
        "id": "u0hCprcPL11Z",
        "outputId": "ce3f01b2-0e44-4493-dbd6-073e9c7ddbf2"
      },
      "source": [
        "display(C)"
      ],
      "id": "u0hCprcPL11Z",
      "execution_count": 113,
      "outputs": [
        {
          "output_type": "display_data",
          "data": {
            "text/plain": [
              "array([[ 1.4516308 , -0.95288407,  0.40652518, -0.90527191],\n",
              "       [-0.61962927, -0.49037935, -0.61962927,  1.72963789]])"
            ]
          },
          "metadata": {}
        }
      ]
    },
    {
      "cell_type": "code",
      "metadata": {
        "id": "2YIStffpQRPY"
      },
      "source": [
        "df_solution_lin = run_models_2(alpha_lin, C, A, b)"
      ],
      "id": "2YIStffpQRPY",
      "execution_count": 114,
      "outputs": []
    },
    {
      "cell_type": "code",
      "metadata": {
        "colab": {
          "base_uri": "https://localhost:8080/",
          "height": 424
        },
        "id": "PWg-neVwQRPZ",
        "outputId": "f3e7de27-cb2c-4c19-91f4-fedaa335ef8e"
      },
      "source": [
        "df_solution_lin"
      ],
      "id": "PWg-neVwQRPZ",
      "execution_count": 115,
      "outputs": [
        {
          "output_type": "execute_result",
          "data": {
            "text/html": [
              "<div>\n",
              "<style scoped>\n",
              "    .dataframe tbody tr th:only-of-type {\n",
              "        vertical-align: middle;\n",
              "    }\n",
              "\n",
              "    .dataframe tbody tr th {\n",
              "        vertical-align: top;\n",
              "    }\n",
              "\n",
              "    .dataframe thead th {\n",
              "        text-align: right;\n",
              "    }\n",
              "</style>\n",
              "<table border=\"1\" class=\"dataframe\">\n",
              "  <thead>\n",
              "    <tr style=\"text-align: right;\">\n",
              "      <th></th>\n",
              "      <th>iter</th>\n",
              "      <th>alpha</th>\n",
              "      <th>status</th>\n",
              "      <th>x1</th>\n",
              "      <th>x2</th>\n",
              "      <th>x3</th>\n",
              "      <th>x4</th>\n",
              "      <th>obj_value</th>\n",
              "      <th>f1</th>\n",
              "      <th>f2</th>\n",
              "    </tr>\n",
              "  </thead>\n",
              "  <tbody>\n",
              "    <tr>\n",
              "      <th>0</th>\n",
              "      <td>0</td>\n",
              "      <td>0.000000</td>\n",
              "      <td>Optimal</td>\n",
              "      <td>518.81</td>\n",
              "      <td>4478.38</td>\n",
              "      <td>4044.64</td>\n",
              "      <td>0.0</td>\n",
              "      <td>5023.752258</td>\n",
              "      <td>-1870.008394</td>\n",
              "      <td>5023.752258</td>\n",
              "    </tr>\n",
              "    <tr>\n",
              "      <th>1</th>\n",
              "      <td>1</td>\n",
              "      <td>0.001001</td>\n",
              "      <td>Optimal</td>\n",
              "      <td>518.81</td>\n",
              "      <td>4478.38</td>\n",
              "      <td>4044.64</td>\n",
              "      <td>0.0</td>\n",
              "      <td>5016.851597</td>\n",
              "      <td>-1870.008394</td>\n",
              "      <td>5023.752258</td>\n",
              "    </tr>\n",
              "    <tr>\n",
              "      <th>2</th>\n",
              "      <td>2</td>\n",
              "      <td>0.002002</td>\n",
              "      <td>Optimal</td>\n",
              "      <td>518.81</td>\n",
              "      <td>4478.38</td>\n",
              "      <td>4044.64</td>\n",
              "      <td>0.0</td>\n",
              "      <td>5009.950936</td>\n",
              "      <td>-1870.008394</td>\n",
              "      <td>5023.752258</td>\n",
              "    </tr>\n",
              "    <tr>\n",
              "      <th>3</th>\n",
              "      <td>3</td>\n",
              "      <td>0.003003</td>\n",
              "      <td>Optimal</td>\n",
              "      <td>518.81</td>\n",
              "      <td>4478.38</td>\n",
              "      <td>4044.64</td>\n",
              "      <td>0.0</td>\n",
              "      <td>5003.050274</td>\n",
              "      <td>-1870.008394</td>\n",
              "      <td>5023.752258</td>\n",
              "    </tr>\n",
              "    <tr>\n",
              "      <th>4</th>\n",
              "      <td>4</td>\n",
              "      <td>0.004004</td>\n",
              "      <td>Optimal</td>\n",
              "      <td>518.81</td>\n",
              "      <td>4478.38</td>\n",
              "      <td>4044.64</td>\n",
              "      <td>0.0</td>\n",
              "      <td>4996.149613</td>\n",
              "      <td>-1870.008394</td>\n",
              "      <td>5023.752258</td>\n",
              "    </tr>\n",
              "    <tr>\n",
              "      <th>...</th>\n",
              "      <td>...</td>\n",
              "      <td>...</td>\n",
              "      <td>...</td>\n",
              "      <td>...</td>\n",
              "      <td>...</td>\n",
              "      <td>...</td>\n",
              "      <td>...</td>\n",
              "      <td>...</td>\n",
              "      <td>...</td>\n",
              "      <td>...</td>\n",
              "    </tr>\n",
              "    <tr>\n",
              "      <th>995</th>\n",
              "      <td>995</td>\n",
              "      <td>0.995996</td>\n",
              "      <td>Optimal</td>\n",
              "      <td>518.81</td>\n",
              "      <td>4001.27</td>\n",
              "      <td>4044.64</td>\n",
              "      <td>0.0</td>\n",
              "      <td>-1390.532368</td>\n",
              "      <td>-1415.377875</td>\n",
              "      <td>4789.787368</td>\n",
              "    </tr>\n",
              "    <tr>\n",
              "      <th>996</th>\n",
              "      <td>996</td>\n",
              "      <td>0.996997</td>\n",
              "      <td>Optimal</td>\n",
              "      <td>518.81</td>\n",
              "      <td>4001.27</td>\n",
              "      <td>4044.64</td>\n",
              "      <td>0.0</td>\n",
              "      <td>-1396.743745</td>\n",
              "      <td>-1415.377875</td>\n",
              "      <td>4789.787368</td>\n",
              "    </tr>\n",
              "    <tr>\n",
              "      <th>997</th>\n",
              "      <td>997</td>\n",
              "      <td>0.997998</td>\n",
              "      <td>Optimal</td>\n",
              "      <td>518.81</td>\n",
              "      <td>4001.27</td>\n",
              "      <td>4044.64</td>\n",
              "      <td>0.0</td>\n",
              "      <td>-1402.955121</td>\n",
              "      <td>-1415.377875</td>\n",
              "      <td>4789.787368</td>\n",
              "    </tr>\n",
              "    <tr>\n",
              "      <th>998</th>\n",
              "      <td>998</td>\n",
              "      <td>0.998999</td>\n",
              "      <td>Optimal</td>\n",
              "      <td>518.81</td>\n",
              "      <td>4001.27</td>\n",
              "      <td>4044.64</td>\n",
              "      <td>0.0</td>\n",
              "      <td>-1409.166498</td>\n",
              "      <td>-1415.377875</td>\n",
              "      <td>4789.787368</td>\n",
              "    </tr>\n",
              "    <tr>\n",
              "      <th>999</th>\n",
              "      <td>999</td>\n",
              "      <td>1.000000</td>\n",
              "      <td>Optimal</td>\n",
              "      <td>518.81</td>\n",
              "      <td>4001.27</td>\n",
              "      <td>4044.64</td>\n",
              "      <td>0.0</td>\n",
              "      <td>-1415.377875</td>\n",
              "      <td>-1415.377875</td>\n",
              "      <td>4789.787368</td>\n",
              "    </tr>\n",
              "  </tbody>\n",
              "</table>\n",
              "<p>1000 rows × 10 columns</p>\n",
              "</div>"
            ],
            "text/plain": [
              "     iter     alpha   status  ...    obj_value           f1           f2\n",
              "0       0  0.000000  Optimal  ...  5023.752258 -1870.008394  5023.752258\n",
              "1       1  0.001001  Optimal  ...  5016.851597 -1870.008394  5023.752258\n",
              "2       2  0.002002  Optimal  ...  5009.950936 -1870.008394  5023.752258\n",
              "3       3  0.003003  Optimal  ...  5003.050274 -1870.008394  5023.752258\n",
              "4       4  0.004004  Optimal  ...  4996.149613 -1870.008394  5023.752258\n",
              "..    ...       ...      ...  ...          ...          ...          ...\n",
              "995   995  0.995996  Optimal  ... -1390.532368 -1415.377875  4789.787368\n",
              "996   996  0.996997  Optimal  ... -1396.743745 -1415.377875  4789.787368\n",
              "997   997  0.997998  Optimal  ... -1402.955121 -1415.377875  4789.787368\n",
              "998   998  0.998999  Optimal  ... -1409.166498 -1415.377875  4789.787368\n",
              "999   999  1.000000  Optimal  ... -1415.377875 -1415.377875  4789.787368\n",
              "\n",
              "[1000 rows x 10 columns]"
            ]
          },
          "metadata": {},
          "execution_count": 115
        }
      ]
    },
    {
      "cell_type": "code",
      "metadata": {
        "id": "dt36V2k_QRPe"
      },
      "source": [
        "df_solution_sig_004 = run_models_2(alpha_sig_004, C, A, b)"
      ],
      "id": "dt36V2k_QRPe",
      "execution_count": 116,
      "outputs": []
    },
    {
      "cell_type": "code",
      "metadata": {
        "colab": {
          "base_uri": "https://localhost:8080/",
          "height": 424
        },
        "id": "TTHs6HozQRPf",
        "outputId": "08b41b31-bf10-4ec7-d24c-b88c36db798a"
      },
      "source": [
        "df_solution_sig_004"
      ],
      "id": "TTHs6HozQRPf",
      "execution_count": 117,
      "outputs": [
        {
          "output_type": "execute_result",
          "data": {
            "text/html": [
              "<div>\n",
              "<style scoped>\n",
              "    .dataframe tbody tr th:only-of-type {\n",
              "        vertical-align: middle;\n",
              "    }\n",
              "\n",
              "    .dataframe tbody tr th {\n",
              "        vertical-align: top;\n",
              "    }\n",
              "\n",
              "    .dataframe thead th {\n",
              "        text-align: right;\n",
              "    }\n",
              "</style>\n",
              "<table border=\"1\" class=\"dataframe\">\n",
              "  <thead>\n",
              "    <tr style=\"text-align: right;\">\n",
              "      <th></th>\n",
              "      <th>iter</th>\n",
              "      <th>alpha</th>\n",
              "      <th>status</th>\n",
              "      <th>x1</th>\n",
              "      <th>x2</th>\n",
              "      <th>x3</th>\n",
              "      <th>x4</th>\n",
              "      <th>obj_value</th>\n",
              "      <th>f1</th>\n",
              "      <th>f2</th>\n",
              "    </tr>\n",
              "  </thead>\n",
              "  <tbody>\n",
              "    <tr>\n",
              "      <th>0</th>\n",
              "      <td>0</td>\n",
              "      <td>0.119203</td>\n",
              "      <td>Optimal</td>\n",
              "      <td>518.81</td>\n",
              "      <td>4478.38</td>\n",
              "      <td>4044.64</td>\n",
              "      <td>0.0</td>\n",
              "      <td>4201.995845</td>\n",
              "      <td>-1870.008394</td>\n",
              "      <td>5023.752258</td>\n",
              "    </tr>\n",
              "    <tr>\n",
              "      <th>1</th>\n",
              "      <td>1</td>\n",
              "      <td>0.119624</td>\n",
              "      <td>Optimal</td>\n",
              "      <td>518.81</td>\n",
              "      <td>4478.38</td>\n",
              "      <td>4044.64</td>\n",
              "      <td>0.0</td>\n",
              "      <td>4199.093322</td>\n",
              "      <td>-1870.008394</td>\n",
              "      <td>5023.752258</td>\n",
              "    </tr>\n",
              "    <tr>\n",
              "      <th>2</th>\n",
              "      <td>2</td>\n",
              "      <td>0.120046</td>\n",
              "      <td>Optimal</td>\n",
              "      <td>518.81</td>\n",
              "      <td>4478.38</td>\n",
              "      <td>4044.64</td>\n",
              "      <td>0.0</td>\n",
              "      <td>4196.181945</td>\n",
              "      <td>-1870.008394</td>\n",
              "      <td>5023.752258</td>\n",
              "    </tr>\n",
              "    <tr>\n",
              "      <th>3</th>\n",
              "      <td>3</td>\n",
              "      <td>0.120470</td>\n",
              "      <td>Optimal</td>\n",
              "      <td>518.81</td>\n",
              "      <td>4478.38</td>\n",
              "      <td>4044.64</td>\n",
              "      <td>0.0</td>\n",
              "      <td>4193.261696</td>\n",
              "      <td>-1870.008394</td>\n",
              "      <td>5023.752258</td>\n",
              "    </tr>\n",
              "    <tr>\n",
              "      <th>4</th>\n",
              "      <td>4</td>\n",
              "      <td>0.120895</td>\n",
              "      <td>Optimal</td>\n",
              "      <td>518.81</td>\n",
              "      <td>4478.38</td>\n",
              "      <td>4044.64</td>\n",
              "      <td>0.0</td>\n",
              "      <td>4190.332559</td>\n",
              "      <td>-1870.008394</td>\n",
              "      <td>5023.752258</td>\n",
              "    </tr>\n",
              "    <tr>\n",
              "      <th>...</th>\n",
              "      <td>...</td>\n",
              "      <td>...</td>\n",
              "      <td>...</td>\n",
              "      <td>...</td>\n",
              "      <td>...</td>\n",
              "      <td>...</td>\n",
              "      <td>...</td>\n",
              "      <td>...</td>\n",
              "      <td>...</td>\n",
              "      <td>...</td>\n",
              "    </tr>\n",
              "    <tr>\n",
              "      <th>995</th>\n",
              "      <td>995</td>\n",
              "      <td>0.879105</td>\n",
              "      <td>Optimal</td>\n",
              "      <td>518.81</td>\n",
              "      <td>4001.27</td>\n",
              "      <td>4044.64</td>\n",
              "      <td>0.0</td>\n",
              "      <td>-665.205768</td>\n",
              "      <td>-1415.377875</td>\n",
              "      <td>4789.787368</td>\n",
              "    </tr>\n",
              "    <tr>\n",
              "      <th>996</th>\n",
              "      <td>996</td>\n",
              "      <td>0.879530</td>\n",
              "      <td>Optimal</td>\n",
              "      <td>518.81</td>\n",
              "      <td>4001.27</td>\n",
              "      <td>4044.64</td>\n",
              "      <td>0.0</td>\n",
              "      <td>-667.842324</td>\n",
              "      <td>-1415.377875</td>\n",
              "      <td>4789.787368</td>\n",
              "    </tr>\n",
              "    <tr>\n",
              "      <th>997</th>\n",
              "      <td>997</td>\n",
              "      <td>0.879954</td>\n",
              "      <td>Optimal</td>\n",
              "      <td>518.81</td>\n",
              "      <td>4001.27</td>\n",
              "      <td>4044.64</td>\n",
              "      <td>0.0</td>\n",
              "      <td>-670.470878</td>\n",
              "      <td>-1415.377875</td>\n",
              "      <td>4789.787368</td>\n",
              "    </tr>\n",
              "    <tr>\n",
              "      <th>998</th>\n",
              "      <td>998</td>\n",
              "      <td>0.880376</td>\n",
              "      <td>Optimal</td>\n",
              "      <td>518.81</td>\n",
              "      <td>4001.27</td>\n",
              "      <td>4044.64</td>\n",
              "      <td>0.0</td>\n",
              "      <td>-673.091447</td>\n",
              "      <td>-1415.377875</td>\n",
              "      <td>4789.787368</td>\n",
              "    </tr>\n",
              "    <tr>\n",
              "      <th>999</th>\n",
              "      <td>999</td>\n",
              "      <td>0.880797</td>\n",
              "      <td>Optimal</td>\n",
              "      <td>518.81</td>\n",
              "      <td>4001.27</td>\n",
              "      <td>4044.64</td>\n",
              "      <td>0.0</td>\n",
              "      <td>-675.704046</td>\n",
              "      <td>-1415.377875</td>\n",
              "      <td>4789.787368</td>\n",
              "    </tr>\n",
              "  </tbody>\n",
              "</table>\n",
              "<p>1000 rows × 10 columns</p>\n",
              "</div>"
            ],
            "text/plain": [
              "     iter     alpha   status  ...    obj_value           f1           f2\n",
              "0       0  0.119203  Optimal  ...  4201.995845 -1870.008394  5023.752258\n",
              "1       1  0.119624  Optimal  ...  4199.093322 -1870.008394  5023.752258\n",
              "2       2  0.120046  Optimal  ...  4196.181945 -1870.008394  5023.752258\n",
              "3       3  0.120470  Optimal  ...  4193.261696 -1870.008394  5023.752258\n",
              "4       4  0.120895  Optimal  ...  4190.332559 -1870.008394  5023.752258\n",
              "..    ...       ...      ...  ...          ...          ...          ...\n",
              "995   995  0.879105  Optimal  ...  -665.205768 -1415.377875  4789.787368\n",
              "996   996  0.879530  Optimal  ...  -667.842324 -1415.377875  4789.787368\n",
              "997   997  0.879954  Optimal  ...  -670.470878 -1415.377875  4789.787368\n",
              "998   998  0.880376  Optimal  ...  -673.091447 -1415.377875  4789.787368\n",
              "999   999  0.880797  Optimal  ...  -675.704046 -1415.377875  4789.787368\n",
              "\n",
              "[1000 rows x 10 columns]"
            ]
          },
          "metadata": {},
          "execution_count": 117
        }
      ]
    },
    {
      "cell_type": "code",
      "metadata": {
        "id": "dfWUJ41jQRPk"
      },
      "source": [
        "df_solution_sig_06 = run_models_2(alpha_sig_06, C, A, b)"
      ],
      "id": "dfWUJ41jQRPk",
      "execution_count": 118,
      "outputs": []
    },
    {
      "cell_type": "code",
      "metadata": {
        "colab": {
          "base_uri": "https://localhost:8080/",
          "height": 424
        },
        "id": "nuvstGPYQRPn",
        "outputId": "8d0f808a-12cd-4539-ad1b-f485ed621b3c"
      },
      "source": [
        "df_solution_sig_06"
      ],
      "id": "nuvstGPYQRPn",
      "execution_count": 119,
      "outputs": [
        {
          "output_type": "execute_result",
          "data": {
            "text/html": [
              "<div>\n",
              "<style scoped>\n",
              "    .dataframe tbody tr th:only-of-type {\n",
              "        vertical-align: middle;\n",
              "    }\n",
              "\n",
              "    .dataframe tbody tr th {\n",
              "        vertical-align: top;\n",
              "    }\n",
              "\n",
              "    .dataframe thead th {\n",
              "        text-align: right;\n",
              "    }\n",
              "</style>\n",
              "<table border=\"1\" class=\"dataframe\">\n",
              "  <thead>\n",
              "    <tr style=\"text-align: right;\">\n",
              "      <th></th>\n",
              "      <th>iter</th>\n",
              "      <th>alpha</th>\n",
              "      <th>status</th>\n",
              "      <th>x1</th>\n",
              "      <th>x2</th>\n",
              "      <th>x3</th>\n",
              "      <th>x4</th>\n",
              "      <th>obj_value</th>\n",
              "      <th>f1</th>\n",
              "      <th>f2</th>\n",
              "    </tr>\n",
              "  </thead>\n",
              "  <tbody>\n",
              "    <tr>\n",
              "      <th>0</th>\n",
              "      <td>0</td>\n",
              "      <td>9.357623e-14</td>\n",
              "      <td>Optimal</td>\n",
              "      <td>518.81</td>\n",
              "      <td>4478.38</td>\n",
              "      <td>4044.64</td>\n",
              "      <td>0.0</td>\n",
              "      <td>5023.752258</td>\n",
              "      <td>-1870.008394</td>\n",
              "      <td>5023.752258</td>\n",
              "    </tr>\n",
              "    <tr>\n",
              "      <th>1</th>\n",
              "      <td>1</td>\n",
              "      <td>9.936863e-14</td>\n",
              "      <td>Optimal</td>\n",
              "      <td>518.81</td>\n",
              "      <td>4478.38</td>\n",
              "      <td>4044.64</td>\n",
              "      <td>0.0</td>\n",
              "      <td>5023.752258</td>\n",
              "      <td>-1870.008394</td>\n",
              "      <td>5023.752258</td>\n",
              "    </tr>\n",
              "    <tr>\n",
              "      <th>2</th>\n",
              "      <td>2</td>\n",
              "      <td>1.055196e-13</td>\n",
              "      <td>Optimal</td>\n",
              "      <td>518.81</td>\n",
              "      <td>4478.38</td>\n",
              "      <td>4044.64</td>\n",
              "      <td>0.0</td>\n",
              "      <td>5023.752258</td>\n",
              "      <td>-1870.008394</td>\n",
              "      <td>5023.752258</td>\n",
              "    </tr>\n",
              "    <tr>\n",
              "      <th>3</th>\n",
              "      <td>3</td>\n",
              "      <td>1.120513e-13</td>\n",
              "      <td>Optimal</td>\n",
              "      <td>518.81</td>\n",
              "      <td>4478.38</td>\n",
              "      <td>4044.64</td>\n",
              "      <td>0.0</td>\n",
              "      <td>5023.752258</td>\n",
              "      <td>-1870.008394</td>\n",
              "      <td>5023.752258</td>\n",
              "    </tr>\n",
              "    <tr>\n",
              "      <th>4</th>\n",
              "      <td>4</td>\n",
              "      <td>1.189873e-13</td>\n",
              "      <td>Optimal</td>\n",
              "      <td>518.81</td>\n",
              "      <td>4478.38</td>\n",
              "      <td>4044.64</td>\n",
              "      <td>0.0</td>\n",
              "      <td>5023.752258</td>\n",
              "      <td>-1870.008394</td>\n",
              "      <td>5023.752258</td>\n",
              "    </tr>\n",
              "    <tr>\n",
              "      <th>...</th>\n",
              "      <td>...</td>\n",
              "      <td>...</td>\n",
              "      <td>...</td>\n",
              "      <td>...</td>\n",
              "      <td>...</td>\n",
              "      <td>...</td>\n",
              "      <td>...</td>\n",
              "      <td>...</td>\n",
              "      <td>...</td>\n",
              "      <td>...</td>\n",
              "    </tr>\n",
              "    <tr>\n",
              "      <th>995</th>\n",
              "      <td>995</td>\n",
              "      <td>1.000000e+00</td>\n",
              "      <td>Optimal</td>\n",
              "      <td>518.81</td>\n",
              "      <td>4001.27</td>\n",
              "      <td>4044.64</td>\n",
              "      <td>0.0</td>\n",
              "      <td>-1415.377875</td>\n",
              "      <td>-1415.377875</td>\n",
              "      <td>4789.787368</td>\n",
              "    </tr>\n",
              "    <tr>\n",
              "      <th>996</th>\n",
              "      <td>996</td>\n",
              "      <td>1.000000e+00</td>\n",
              "      <td>Optimal</td>\n",
              "      <td>518.81</td>\n",
              "      <td>4001.27</td>\n",
              "      <td>4044.64</td>\n",
              "      <td>0.0</td>\n",
              "      <td>-1415.377875</td>\n",
              "      <td>-1415.377875</td>\n",
              "      <td>4789.787368</td>\n",
              "    </tr>\n",
              "    <tr>\n",
              "      <th>997</th>\n",
              "      <td>997</td>\n",
              "      <td>1.000000e+00</td>\n",
              "      <td>Optimal</td>\n",
              "      <td>518.81</td>\n",
              "      <td>4001.27</td>\n",
              "      <td>4044.64</td>\n",
              "      <td>0.0</td>\n",
              "      <td>-1415.377875</td>\n",
              "      <td>-1415.377875</td>\n",
              "      <td>4789.787368</td>\n",
              "    </tr>\n",
              "    <tr>\n",
              "      <th>998</th>\n",
              "      <td>998</td>\n",
              "      <td>1.000000e+00</td>\n",
              "      <td>Optimal</td>\n",
              "      <td>518.81</td>\n",
              "      <td>4001.27</td>\n",
              "      <td>4044.64</td>\n",
              "      <td>0.0</td>\n",
              "      <td>-1415.377875</td>\n",
              "      <td>-1415.377875</td>\n",
              "      <td>4789.787368</td>\n",
              "    </tr>\n",
              "    <tr>\n",
              "      <th>999</th>\n",
              "      <td>999</td>\n",
              "      <td>1.000000e+00</td>\n",
              "      <td>Optimal</td>\n",
              "      <td>518.81</td>\n",
              "      <td>4001.27</td>\n",
              "      <td>4044.64</td>\n",
              "      <td>0.0</td>\n",
              "      <td>-1415.377875</td>\n",
              "      <td>-1415.377875</td>\n",
              "      <td>4789.787368</td>\n",
              "    </tr>\n",
              "  </tbody>\n",
              "</table>\n",
              "<p>1000 rows × 10 columns</p>\n",
              "</div>"
            ],
            "text/plain": [
              "     iter         alpha   status  ...    obj_value           f1           f2\n",
              "0       0  9.357623e-14  Optimal  ...  5023.752258 -1870.008394  5023.752258\n",
              "1       1  9.936863e-14  Optimal  ...  5023.752258 -1870.008394  5023.752258\n",
              "2       2  1.055196e-13  Optimal  ...  5023.752258 -1870.008394  5023.752258\n",
              "3       3  1.120513e-13  Optimal  ...  5023.752258 -1870.008394  5023.752258\n",
              "4       4  1.189873e-13  Optimal  ...  5023.752258 -1870.008394  5023.752258\n",
              "..    ...           ...      ...  ...          ...          ...          ...\n",
              "995   995  1.000000e+00  Optimal  ... -1415.377875 -1415.377875  4789.787368\n",
              "996   996  1.000000e+00  Optimal  ... -1415.377875 -1415.377875  4789.787368\n",
              "997   997  1.000000e+00  Optimal  ... -1415.377875 -1415.377875  4789.787368\n",
              "998   998  1.000000e+00  Optimal  ... -1415.377875 -1415.377875  4789.787368\n",
              "999   999  1.000000e+00  Optimal  ... -1415.377875 -1415.377875  4789.787368\n",
              "\n",
              "[1000 rows x 10 columns]"
            ]
          },
          "metadata": {},
          "execution_count": 119
        }
      ]
    },
    {
      "cell_type": "code",
      "metadata": {
        "colab": {
          "base_uri": "https://localhost:8080/",
          "height": 297
        },
        "id": "9-rQPmAdQRPo",
        "outputId": "35e09a46-f98b-40cf-87de-3161e84554ba"
      },
      "source": [
        "df_solution_lin.plot.scatter(x='f1', y='f2')"
      ],
      "id": "9-rQPmAdQRPo",
      "execution_count": 120,
      "outputs": [
        {
          "output_type": "execute_result",
          "data": {
            "text/plain": [
              "<matplotlib.axes._subplots.AxesSubplot at 0x7f046c15b510>"
            ]
          },
          "metadata": {},
          "execution_count": 120
        },
        {
          "output_type": "display_data",
          "data": {
            "image/png": "[encoded data removed]",
            "text/plain": [
              "<Figure size 432x288 with 1 Axes>"
            ]
          },
          "metadata": {
            "needs_background": "light"
          }
        }
      ]
    }
  ]
}