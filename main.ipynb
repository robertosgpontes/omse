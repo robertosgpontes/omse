{
 "cells": [
  {
   "source": [],
   "cell_type": "markdown",
   "metadata": {}
  },
  {
   "cell_type": "code",
   "execution_count": null,
   "id": "c8680221-9de1-4566-8831-1e860e611979",
   "metadata": {},
   "outputs": [],
   "source": [
    "# Python libraries used to solve the problem Linear Programing\n",
    "import pulp\n",
    "import numpy as np"
   ]
  },
  {
   "cell_type": "code",
   "execution_count": null,
   "metadata": {},
   "outputs": [],
   "source": [
    "# Variáveis do modelo\n",
    "\n",
    "A1 = np.array([11.444, 0.047, 1.523, 0.095])\n",
    "A2 = np.array([0.899, 0.0, 0.926, 0.073]) \n",
    "A3 = np.array([0.00106, 0.00010, 0.00021, 0.00006])\n",
    "C = np.array([1.41, 4.99, 2.41, 6.24])\n",
    "A = np.array([  [1, 0, 0, 0],\n",
    "                [0, 0, 1, 0],\n",
    "                [0, 0, 0, 1],\n",
    "                [1, 0, 1, 0],\n",
    "                [1, 1, 1, 1],\n",
    "                [1, 0, 0, 0],\n",
    "                [0, 1, 0, 0]])\n",
    "\n",
    "b = np.array([[557],[1143],[1577],[1700],[10310],[160],[6990]])"
   ]
  },
  {
   "cell_type": "code",
   "execution_count": null,
   "metadata": {},
   "outputs": [],
   "source": [
    "def create_x_variables():\n",
    "    x1 = pulp.LpVariable(\"x1\",lowBound = 0) \n",
    "    x2 = pulp.LpVariable(\"x2\",lowBound = 0)\n",
    "    x3 = pulp.LpVariable(\"x3\",lowBound = 0) \n",
    "    x4 = pulp.LpVariable(\"x4\",lowBound = 0) \n",
    "    return np.array([[x1], [x2], [x3], [x4]]) "
   ]
  },
  {
   "cell_type": "code",
   "execution_count": null,
   "metadata": {},
   "outputs": [],
   "source": [
    "def load_model(lpm, A, X, b):\n",
    "    Ax = A.dot(X)\n",
    "\n",
    "    for i in range(0,4):\n",
    "        lpm += Ax[i,0] <= b[i,0]\n",
    "\n",
    "    lpm += Ax[4,0] == b[4,0]\n",
    "\n",
    "    for i in range(5,7):\n",
    "        lpm += Ax[i,0] >= b[i,0]\n",
    "\n",
    "    return lpm"
   ]
  },
  {
   "cell_type": "code",
   "execution_count": null,
   "id": "8d262c1f-7998-445e-be74-d0bf4f2c37b8",
   "metadata": {},
   "outputs": [],
   "source": [
    "linearProblem = pulp.LpProblem(\"First_Objective_Max\",pulp.LpMaximize)\n",
    "\n",
    "X = create_x_variables()\n",
    "\n",
    "f1 = (A1 - (A2 + A3))*X.T\n",
    "\n",
    "linearProblem += f1.sum()\n",
    "\n",
    "linearProblem = load_model(linearProblem, A, X, b)\n",
    "\n",
    "solution = linearProblem.solve()\n",
    "\n",
    "linearProblem.writeLP('modelStep1.lp')\n",
    "\n",
    "f1_max = pulp.value(linearProblem.objective)\n",
    "\n",
    "print(\"#1 - \" + str(pulp.LpStatus[solution])+\" ; max value = \"+str(pulp.value(linearProblem.objective))+\n",
    "      \" ; x1_opt = \"+str(pulp.value(x1))+\n",
    "      \" ; x2_opt = \"+str(pulp.value(x2))+\n",
    "      \" ; x3_opt = \"+str(pulp.value(x3))+\n",
    "      \" ; x4_opt = \"+str(pulp.value(x4)))\n",
    "\n",
    "\n",
    "linearProblem2 = pulp.LpProblem(\"Second_Objective_Min\",pulp.LpMaximize)\n",
    "\n",
    "X = create_x_variables()\n",
    "\n",
    "linearProblem2 += C.dot(X)[0]\n",
    "\n",
    "linearProblem2 = load_model(linearProblem2, A, X, b)\n",
    "\n",
    "linearProblem2 += f1.sum() >= f1_max\n",
    "\n",
    "linearProblem2.writeLP('modelStep2.lp')\n",
    "solution2 = linearProblem2.solve()\n",
    "\n",
    "print(str(pulp.LpStatus[solution2])+\" ; max value = \"+str(pulp.value(linearProblem2.objective))+\n",
    "      \" ; x1_opt = \"+str(pulp.value(x1))+\n",
    "      \" ; x2_opt = \"+str(pulp.value(x2))+\n",
    "      \" ; x3_opt = \"+str(pulp.value(x3))+\n",
    "      \" ; x4_opt = \"+str(pulp.value(x4)))"
   ]
  }
 ],
 "metadata": {
  "kernelspec": {
   "display_name": "Python 3",
   "language": "python",
   "name": "python3"
  },
  "language_info": {
   "codemirror_mode": {
    "name": "ipython",
    "version": 3
   },
   "file_extension": ".py",
   "mimetype": "text/x-python",
   "name": "python",
   "nbconvert_exporter": "python",
   "pygments_lexer": "ipython3",
   "version": "3.8.10"
  }
 },
 "nbformat": 4,
 "nbformat_minor": 5
}